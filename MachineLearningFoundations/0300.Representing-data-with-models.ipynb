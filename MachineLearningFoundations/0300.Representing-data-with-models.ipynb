{
 "cells": [
  {
   "cell_type": "code",
   "execution_count": 3,
   "metadata": {},
   "outputs": [
    {
     "output_type": "stream",
     "name": "stderr",
     "text": [
      "\u001b[32m\u001b[1m Activating\u001b[22m\u001b[39m environment at `~/.julia/packages/JuliaAcademyData/1to3l/courses/Foundations of machine learning/Project.toml`\n"
     ]
    }
   ],
   "source": [
    "# import Pkg; Pkg.add(Pkg.PackageSpec(url=\"https://github.com/JuliaComputing/JuliaAcademyData.jl\"))\n",
    "using JuliaAcademyData; activate(\"Foundations of machine learning\")"
   ]
  },
  {
   "cell_type": "markdown",
   "metadata": {},
   "source": [
    "# Representing data in a computer\n",
    "\n",
    "The core of data science and machine learning is **data**: we are interested in extracting knowledge from data.\n",
    "\n",
    "But how exactly do computers represent data? Let's find out exactly what an \"artificial intelligence\" has at its disposal to learn from."
   ]
  },
  {
   "cell_type": "markdown",
   "metadata": {},
   "source": [
    "## Data is represented as arrays\n",
    "\n",
    "Let's take a look at some fruit. Using the `Images.jl` library, we can load in some images:"
   ]
  },
  {
   "cell_type": "code",
   "execution_count": 5,
   "metadata": {},
   "outputs": [
    {
     "output_type": "execute_result",
     "data": {
      "text/plain": [
       "100×100 Array{RGB{N0f8},2} with eltype RGB{Normed{UInt8,8}}:\n",
       " RGB{N0f8}(0.996,1.0,0.984)    …  RGB{N0f8}(1.0,1.0,1.0)\n",
       " RGB{N0f8}(0.984,1.0,0.988)       RGB{N0f8}(1.0,1.0,1.0)\n",
       " RGB{N0f8}(0.973,1.0,0.988)       RGB{N0f8}(1.0,1.0,1.0)\n",
       " RGB{N0f8}(0.965,1.0,0.992)       RGB{N0f8}(1.0,1.0,1.0)\n",
       " RGB{N0f8}(0.965,1.0,1.0)         RGB{N0f8}(1.0,1.0,1.0)\n",
       " RGB{N0f8}(0.973,1.0,1.0)      …  RGB{N0f8}(1.0,1.0,1.0)\n",
       " RGB{N0f8}(0.992,0.996,1.0)       RGB{N0f8}(1.0,1.0,1.0)\n",
       " RGB{N0f8}(1.0,0.992,1.0)         RGB{N0f8}(1.0,1.0,1.0)\n",
       " RGB{N0f8}(1.0,0.98,1.0)          RGB{N0f8}(1.0,1.0,1.0)\n",
       " RGB{N0f8}(1.0,0.984,1.0)         RGB{N0f8}(1.0,1.0,1.0)\n",
       " RGB{N0f8}(1.0,0.988,1.0)      …  RGB{N0f8}(1.0,1.0,1.0)\n",
       " RGB{N0f8}(1.0,0.996,1.0)         RGB{N0f8}(1.0,1.0,1.0)\n",
       " RGB{N0f8}(1.0,1.0,1.0)           RGB{N0f8}(1.0,1.0,1.0)\n",
       " ⋮                             ⋱  \n",
       " RGB{N0f8}(0.992,1.0,0.988)       RGB{N0f8}(1.0,1.0,1.0)\n",
       " RGB{N0f8}(0.984,1.0,0.988)       RGB{N0f8}(1.0,1.0,1.0)\n",
       " RGB{N0f8}(0.992,1.0,0.996)    …  RGB{N0f8}(1.0,1.0,1.0)\n",
       " RGB{N0f8}(0.996,1.0,1.0)         RGB{N0f8}(1.0,1.0,1.0)\n",
       " RGB{N0f8}(0.996,0.996,0.996)     RGB{N0f8}(1.0,1.0,1.0)\n",
       " RGB{N0f8}(1.0,0.992,0.996)       RGB{N0f8}(1.0,1.0,1.0)\n",
       " RGB{N0f8}(1.0,0.992,0.996)       RGB{N0f8}(1.0,1.0,1.0)\n",
       " RGB{N0f8}(1.0,0.992,0.996)    …  RGB{N0f8}(1.0,1.0,1.0)\n",
       " RGB{N0f8}(1.0,1.0,1.0)           RGB{N0f8}(1.0,1.0,1.0)\n",
       " RGB{N0f8}(1.0,1.0,1.0)           RGB{N0f8}(1.0,1.0,1.0)\n",
       " RGB{N0f8}(1.0,1.0,1.0)           RGB{N0f8}(1.0,1.0,1.0)\n",
       " RGB{N0f8}(1.0,1.0,1.0)           RGB{N0f8}(1.0,1.0,1.0)"
      ],
      "image/png": "[encoded data removed]"
     },
     "metadata": {},
     "execution_count": 5
    }
   ],
   "source": [
    "using Images\n",
    "\n",
    "apple = load(datapath(\"data/10_100.jpg\"))"
   ]
  },
  {
   "cell_type": "code",
   "execution_count": 6,
   "metadata": {},
   "outputs": [
    {
     "output_type": "execute_result",
     "data": {
      "text/plain": [
       "100×100 Array{RGB{N0f8},2} with eltype RGB{Normed{UInt8,8}}:\n",
       " RGB{N0f8}(1.0,1.0,1.0)  RGB{N0f8}(1.0,1.0,1.0)  …  RGB{N0f8}(1.0,1.0,1.0)\n",
       " RGB{N0f8}(1.0,1.0,1.0)  RGB{N0f8}(1.0,1.0,1.0)     RGB{N0f8}(1.0,1.0,1.0)\n",
       " RGB{N0f8}(1.0,1.0,1.0)  RGB{N0f8}(1.0,1.0,1.0)     RGB{N0f8}(1.0,1.0,1.0)\n",
       " RGB{N0f8}(1.0,1.0,1.0)  RGB{N0f8}(1.0,1.0,1.0)     RGB{N0f8}(1.0,1.0,1.0)\n",
       " RGB{N0f8}(1.0,1.0,1.0)  RGB{N0f8}(1.0,1.0,1.0)     RGB{N0f8}(1.0,1.0,1.0)\n",
       " RGB{N0f8}(1.0,1.0,1.0)  RGB{N0f8}(1.0,1.0,1.0)  …  RGB{N0f8}(1.0,1.0,1.0)\n",
       " RGB{N0f8}(1.0,1.0,1.0)  RGB{N0f8}(1.0,1.0,1.0)     RGB{N0f8}(1.0,1.0,1.0)\n",
       " RGB{N0f8}(1.0,1.0,1.0)  RGB{N0f8}(1.0,1.0,1.0)     RGB{N0f8}(1.0,1.0,1.0)\n",
       " RGB{N0f8}(1.0,1.0,1.0)  RGB{N0f8}(1.0,1.0,1.0)     RGB{N0f8}(1.0,1.0,1.0)\n",
       " RGB{N0f8}(1.0,1.0,1.0)  RGB{N0f8}(1.0,1.0,1.0)     RGB{N0f8}(1.0,1.0,1.0)\n",
       " RGB{N0f8}(1.0,1.0,1.0)  RGB{N0f8}(1.0,1.0,1.0)  …  RGB{N0f8}(1.0,1.0,1.0)\n",
       " RGB{N0f8}(1.0,1.0,1.0)  RGB{N0f8}(1.0,1.0,1.0)     RGB{N0f8}(1.0,1.0,1.0)\n",
       " RGB{N0f8}(1.0,1.0,1.0)  RGB{N0f8}(1.0,1.0,1.0)     RGB{N0f8}(1.0,1.0,1.0)\n",
       " ⋮                                               ⋱  \n",
       " RGB{N0f8}(1.0,1.0,1.0)  RGB{N0f8}(1.0,1.0,1.0)     RGB{N0f8}(1.0,1.0,1.0)\n",
       " RGB{N0f8}(1.0,1.0,1.0)  RGB{N0f8}(1.0,1.0,1.0)     RGB{N0f8}(1.0,1.0,1.0)\n",
       " RGB{N0f8}(1.0,1.0,1.0)  RGB{N0f8}(1.0,1.0,1.0)  …  RGB{N0f8}(1.0,1.0,1.0)\n",
       " RGB{N0f8}(1.0,1.0,1.0)  RGB{N0f8}(1.0,1.0,1.0)     RGB{N0f8}(1.0,1.0,1.0)\n",
       " RGB{N0f8}(1.0,1.0,1.0)  RGB{N0f8}(1.0,1.0,1.0)     RGB{N0f8}(1.0,1.0,1.0)\n",
       " RGB{N0f8}(1.0,1.0,1.0)  RGB{N0f8}(1.0,1.0,1.0)     RGB{N0f8}(1.0,1.0,1.0)\n",
       " RGB{N0f8}(1.0,1.0,1.0)  RGB{N0f8}(1.0,1.0,1.0)     RGB{N0f8}(1.0,1.0,1.0)\n",
       " RGB{N0f8}(1.0,1.0,1.0)  RGB{N0f8}(1.0,1.0,1.0)  …  RGB{N0f8}(1.0,1.0,1.0)\n",
       " RGB{N0f8}(1.0,1.0,1.0)  RGB{N0f8}(1.0,1.0,1.0)     RGB{N0f8}(1.0,1.0,1.0)\n",
       " RGB{N0f8}(1.0,1.0,1.0)  RGB{N0f8}(1.0,1.0,1.0)     RGB{N0f8}(1.0,1.0,1.0)\n",
       " RGB{N0f8}(1.0,1.0,1.0)  RGB{N0f8}(1.0,1.0,1.0)     RGB{N0f8}(1.0,1.0,1.0)\n",
       " RGB{N0f8}(1.0,1.0,1.0)  RGB{N0f8}(1.0,1.0,1.0)     RGB{N0f8}(1.0,1.0,1.0)"
      ],
      "image/png": "[encoded data removed]"
     },
     "metadata": {},
     "execution_count": 6
    }
   ],
   "source": [
    "banana = load(datapath(\"data/104_100.jpg\"))"
   ]
  },
  {
   "cell_type": "markdown",
   "metadata": {},
   "source": [
    "Here we have images of apples and bananas. We would eventually like to build a program that can automatically distinguish between the two. However, the computer doesn't \"see\" an apple or a banana; instead, it just sees numbers.\n",
    "\n",
    "An image is encoded in something called an **array**, which is like a container that has boxes or slots for individual pieces of data:\n",
    "\n",
    "An array is a bunch of numbers in connected boxes; the figure above shows a 1-dimensional array. Our images are instead 2-dimensional arrays, or matrices, of numbers, arranged something like this:"
   ]
  },
  {
   "cell_type": "markdown",
   "metadata": {},
   "source": [
    "<img src=\"https://raw.githubusercontent.com/JuliaComputing/JuliaAcademyData.jl/master/courses/Foundations%20of%20machine%20learning/data/array2d.png\" alt=\"attachment:array2d.png\" width=\"500\"/>"
   ]
  },
  {
   "cell_type": "markdown",
   "metadata": {},
   "source": [
    "For example, `apple` is an image, consisting of a 100x100 array of numbers:"
   ]
  },
  {
   "cell_type": "code",
   "execution_count": 5,
   "metadata": {},
   "outputs": [
    {
     "data": {
      "text/plain": [
       "Array{RGB{Normed{UInt8,8}},2}"
      ]
     },
     "execution_count": 5,
     "metadata": {},
     "output_type": "execute_result"
    }
   ],
   "source": [
    "typeof(apple)"
   ]
  },
  {
   "cell_type": "code",
   "execution_count": 6,
   "metadata": {},
   "outputs": [
    {
     "data": {
      "text/plain": [
       "(100, 100)"
      ]
     },
     "execution_count": 6,
     "metadata": {},
     "output_type": "execute_result"
    }
   ],
   "source": [
    "size(apple)"
   ]
  },
  {
   "cell_type": "code",
   "execution_count": 7,
   "metadata": {},
   "outputs": [
    {
     "data": {
      "text/plain": [
       "2×3 Array{Int64,2}:\n",
       " 1  2  3\n",
       " 4  5  6"
      ]
     },
     "execution_count": 7,
     "metadata": {},
     "output_type": "execute_result"
    }
   ],
   "source": [
    "a = [ 1 2 3;4 5 6]"
   ]
  },
  {
   "cell_type": "code",
   "execution_count": 8,
   "metadata": {},
   "outputs": [
    {
     "data": {
      "text/plain": [
       "Array{Int64,2}"
      ]
     },
     "execution_count": 8,
     "metadata": {},
     "output_type": "execute_result"
    }
   ],
   "source": [
    "typeof(a)"
   ]
  },
  {
   "cell_type": "code",
   "execution_count": 9,
   "metadata": {},
   "outputs": [
    {
     "data": {
      "text/plain": [
       "(2, 3)"
      ]
     },
     "execution_count": 9,
     "metadata": {},
     "output_type": "execute_result"
    }
   ],
   "source": [
    "size(a)"
   ]
  },
  {
   "cell_type": "markdown",
   "metadata": {},
   "source": [
    "We can grab the datum stored in the box at row `i` and column `j` by *indexing* using square brackets: `[i, j]`. For example, let's get the pixel (piece of the image) in box $(40, 60)$, i.e. in the 40th row and 60th column of the image:"
   ]
  },
  {
   "cell_type": "code",
   "execution_count": 10,
   "metadata": {},
   "outputs": [
    {
     "data": {
      "image/png": "[encoded data removed]",
      "text/plain": [
       "100×100 Array{RGB{N0f8},2} with eltype RGB{Normed{UInt8,8}}:\n",
       " RGB{N0f8}(0.996,1.0,0.984)    …  RGB{N0f8}(1.0,1.0,1.0)\n",
       " RGB{N0f8}(0.984,1.0,0.988)       RGB{N0f8}(1.0,1.0,1.0)\n",
       " RGB{N0f8}(0.973,1.0,0.988)       RGB{N0f8}(1.0,1.0,1.0)\n",
       " RGB{N0f8}(0.965,1.0,0.992)       RGB{N0f8}(1.0,1.0,1.0)\n",
       " RGB{N0f8}(0.965,1.0,1.0)         RGB{N0f8}(1.0,1.0,1.0)\n",
       " RGB{N0f8}(0.973,1.0,1.0)      …  RGB{N0f8}(1.0,1.0,1.0)\n",
       " RGB{N0f8}(0.992,0.996,1.0)       RGB{N0f8}(1.0,1.0,1.0)\n",
       " RGB{N0f8}(1.0,0.992,1.0)         RGB{N0f8}(1.0,1.0,1.0)\n",
       " RGB{N0f8}(1.0,0.98,1.0)          RGB{N0f8}(1.0,1.0,1.0)\n",
       " RGB{N0f8}(1.0,0.984,1.0)         RGB{N0f8}(1.0,1.0,1.0)\n",
       " RGB{N0f8}(1.0,0.988,1.0)      …  RGB{N0f8}(1.0,1.0,1.0)\n",
       " RGB{N0f8}(1.0,0.996,1.0)         RGB{N0f8}(1.0,1.0,1.0)\n",
       " RGB{N0f8}(1.0,1.0,1.0)           RGB{N0f8}(1.0,1.0,1.0)\n",
       " ⋮                             ⋱  \n",
       " RGB{N0f8}(0.992,1.0,0.988)       RGB{N0f8}(1.0,1.0,1.0)\n",
       " RGB{N0f8}(0.984,1.0,0.988)       RGB{N0f8}(1.0,1.0,1.0)\n",
       " RGB{N0f8}(0.992,1.0,0.996)    …  RGB{N0f8}(1.0,1.0,1.0)\n",
       " RGB{N0f8}(0.996,1.0,1.0)         RGB{N0f8}(1.0,1.0,1.0)\n",
       " RGB{N0f8}(0.996,0.996,0.996)     RGB{N0f8}(1.0,1.0,1.0)\n",
       " RGB{N0f8}(1.0,0.992,0.996)       RGB{N0f8}(1.0,1.0,1.0)\n",
       " RGB{N0f8}(1.0,0.992,0.996)       RGB{N0f8}(1.0,1.0,1.0)\n",
       " RGB{N0f8}(1.0,0.992,0.996)    …  RGB{N0f8}(1.0,1.0,1.0)\n",
       " RGB{N0f8}(1.0,1.0,1.0)           RGB{N0f8}(1.0,1.0,1.0)\n",
       " RGB{N0f8}(1.0,1.0,1.0)           RGB{N0f8}(1.0,1.0,1.0)\n",
       " RGB{N0f8}(1.0,1.0,1.0)           RGB{N0f8}(1.0,1.0,1.0)\n",
       " RGB{N0f8}(1.0,1.0,1.0)           RGB{N0f8}(1.0,1.0,1.0)"
      ]
     },
     "execution_count": 10,
     "metadata": {},
     "output_type": "execute_result"
    }
   ],
   "source": [
    "apple"
   ]
  },
  {
   "cell_type": "code",
   "execution_count": 11,
   "metadata": {},
   "outputs": [
    {
     "name": "stdout",
     "output_type": "stream",
     "text": [
      "RGB{Normed{UInt8,8}}\n",
      "  r: Normed{UInt8,8}\n",
      "    i: UInt8 0x85\n",
      "  g: Normed{UInt8,8}\n",
      "    i: UInt8 0x19\n",
      "  b: Normed{UInt8,8}\n",
      "    i: UInt8 0x0f\n"
     ]
    }
   ],
   "source": [
    "dump(apple[40, 60])"
   ]
  },
  {
   "cell_type": "code",
   "execution_count": 13,
   "metadata": {},
   "outputs": [
    {
     "data": {
      "image/png": "[encoded data removed]",
      "text/plain": [
       "3×3 Array{RGB{N0f8},2} with eltype RGB{Normed{UInt8,8}}:\n",
       " RGB{N0f8}(0.639,0.129,0.122)  …  RGB{N0f8}(0.631,0.133,0.11)\n",
       " RGB{N0f8}(0.651,0.133,0.118)     RGB{N0f8}(0.655,0.149,0.129)\n",
       " RGB{N0f8}(0.659,0.141,0.125)     RGB{N0f8}(0.675,0.157,0.141)"
      ]
     },
     "execution_count": 13,
     "metadata": {},
     "output_type": "execute_result"
    }
   ],
   "source": [
    "apple[18:20,29:31]"
   ]
  },
  {
   "cell_type": "markdown",
   "metadata": {},
   "source": [
    "We see that Julia displays a coloured box! Julia, via the `Colors.jl` package, is clever enough to display colours in a way that is useful to us humans!\n",
    "\n",
    "So, in fact, an image is a 2D array, in which each element of the array is an object (a collection of numbers) describing a coloured pixel."
   ]
  },
  {
   "cell_type": "markdown",
   "metadata": {},
   "source": [
    "## Colors as numbers\n",
    "\n",
    "How, then, are these colors actually stored? Computers store colors in RGB format, that is they store a value between 0 and 1 for each of three \"channels\": red, green, and blue. Here, 0 means none of that color and 1 means the brightest form of that color. The overall color is a combination of those three colors.\n",
    "\n",
    "For example, we can pull out the `red` value using the function `red` applied to the color. Since internally the actual value is stored in a special format, we choose to convert it to a standard floating-point number using the `Float64` function:"
   ]
  },
  {
   "cell_type": "code",
   "execution_count": 14,
   "metadata": {},
   "outputs": [
    {
     "data": {
      "text/plain": [
       "0.5215686274509804"
      ]
     },
     "execution_count": 14,
     "metadata": {},
     "output_type": "execute_result"
    }
   ],
   "source": [
    "Float64(red(apple[40, 60]))"
   ]
  },
  {
   "cell_type": "code",
   "execution_count": 8,
   "metadata": {},
   "outputs": [],
   "source": [
    "using Statistics"
   ]
  },
  {
   "cell_type": "code",
   "execution_count": 18,
   "metadata": {},
   "outputs": [
    {
     "data": {
      "text/plain": [
       "3×2 Array{Float32,2}:\n",
       " 0.570278  0.903998\n",
       " 0.338118  0.880692\n",
       " 0.322406  0.799643"
      ]
     },
     "execution_count": 18,
     "metadata": {},
     "output_type": "execute_result"
    }
   ],
   "source": [
    "[ mean(float.(c.(img))) for c = [red,green,blue], img = [apple,banana] ]"
   ]
  },
  {
   "cell_type": "code",
   "execution_count": 19,
   "metadata": {},
   "outputs": [
    {
     "name": "stderr",
     "output_type": "stream",
     "text": [
      "┌ Info: Precompiling Plots [91a5bcdd-55d7-5caf-9e0b-520d859cae80]\n",
      "└ @ Base loading.jl:1278\n"
     ]
    },
    {
     "data": {
      "image/svg+xml": [
       "<?xml version=\"1.0\" encoding=\"utf-8\"?>\n",
       "<svg xmlns=\"http://www.w3.org/2000/svg\" xmlns:xlink=\"http://www.w3.org/1999/xlink\" width=\"600\" height=\"400\" viewBox=\"0 0 2400 1600\">\n",
       "<defs>\n",
       "  <clipPath id=\"clip0300\">\n",
       "    <rect x=\"0\" y=\"0\" width=\"2400\" height=\"1600\"/>\n",
       "  </clipPath>\n",
       "</defs>\n",
       "<path clip-path=\"url(#clip0300)\" d=\"\n",
       "M0 1600 L2400 1600 L2400 0 L0 0  Z\n",
       "  \" fill=\"#ffffff\" fill-rule=\"evenodd\" fill-opacity=\"1\"/>\n",
       "<defs>\n",
       "  <clipPath id=\"clip0301\">\n",
       "    <rect x=\"480\" y=\"0\" width=\"1681\" height=\"1600\"/>\n",
       "  </clipPath>\n",
       "</defs>\n",
       "<path clip-path=\"url(#clip0300)\" d=\"\n",
       "M140.517 1487.47 L2352.76 1487.47 L2352.76 47.2441 L140.517 47.2441  Z\n",
       "  \" fill=\"#ffffff\" fill-rule=\"evenodd\" fill-opacity=\"1\"/>\n",
       "<defs>\n",
       "  <clipPath id=\"clip0302\">\n",
       "    <rect x=\"140\" y=\"47\" width=\"2213\" height=\"1441\"/>\n",
       "  </clipPath>\n",
       "</defs>\n",
       "<polyline clip-path=\"url(#clip0302)\" style=\"stroke:#000000; stroke-width:2; stroke-opacity:0.1; fill:none\" points=\"\n",
       "  262.194,1487.47 262.194,47.2441 \n",
       "  \"/>\n",
       "<polyline clip-path=\"url(#clip0302)\" style=\"stroke:#000000; stroke-width:2; stroke-opacity:0.1; fill:none\" points=\"\n",
       "  730.976,1487.47 730.976,47.2441 \n",
       "  \"/>\n",
       "<polyline clip-path=\"url(#clip0302)\" style=\"stroke:#000000; stroke-width:2; stroke-opacity:0.1; fill:none\" points=\"\n",
       "  1199.76,1487.47 1199.76,47.2441 \n",
       "  \"/>\n",
       "<polyline clip-path=\"url(#clip0302)\" style=\"stroke:#000000; stroke-width:2; stroke-opacity:0.1; fill:none\" points=\"\n",
       "  1668.54,1487.47 1668.54,47.2441 \n",
       "  \"/>\n",
       "<polyline clip-path=\"url(#clip0302)\" style=\"stroke:#000000; stroke-width:2; stroke-opacity:0.1; fill:none\" points=\"\n",
       "  2137.32,1487.47 2137.32,47.2441 \n",
       "  \"/>\n",
       "<polyline clip-path=\"url(#clip0302)\" style=\"stroke:#000000; stroke-width:2; stroke-opacity:0.1; fill:none\" points=\"\n",
       "  140.517,1446.71 2352.76,1446.71 \n",
       "  \"/>\n",
       "<polyline clip-path=\"url(#clip0302)\" style=\"stroke:#000000; stroke-width:2; stroke-opacity:0.1; fill:none\" points=\"\n",
       "  140.517,1244.1 2352.76,1244.1 \n",
       "  \"/>\n",
       "<polyline clip-path=\"url(#clip0302)\" style=\"stroke:#000000; stroke-width:2; stroke-opacity:0.1; fill:none\" points=\"\n",
       "  140.517,1041.49 2352.76,1041.49 \n",
       "  \"/>\n",
       "<polyline clip-path=\"url(#clip0302)\" style=\"stroke:#000000; stroke-width:2; stroke-opacity:0.1; fill:none\" points=\"\n",
       "  140.517,838.881 2352.76,838.881 \n",
       "  \"/>\n",
       "<polyline clip-path=\"url(#clip0302)\" style=\"stroke:#000000; stroke-width:2; stroke-opacity:0.1; fill:none\" points=\"\n",
       "  140.517,636.27 2352.76,636.27 \n",
       "  \"/>\n",
       "<polyline clip-path=\"url(#clip0302)\" style=\"stroke:#000000; stroke-width:2; stroke-opacity:0.1; fill:none\" points=\"\n",
       "  140.517,433.659 2352.76,433.659 \n",
       "  \"/>\n",
       "<polyline clip-path=\"url(#clip0302)\" style=\"stroke:#000000; stroke-width:2; stroke-opacity:0.1; fill:none\" points=\"\n",
       "  140.517,231.049 2352.76,231.049 \n",
       "  \"/>\n",
       "<polyline clip-path=\"url(#clip0300)\" style=\"stroke:#000000; stroke-width:4; stroke-opacity:1; fill:none\" points=\"\n",
       "  140.517,1487.47 2352.76,1487.47 \n",
       "  \"/>\n",
       "<polyline clip-path=\"url(#clip0300)\" style=\"stroke:#000000; stroke-width:4; stroke-opacity:1; fill:none\" points=\"\n",
       "  140.517,1487.47 140.517,47.2441 \n",
       "  \"/>\n",
       "<polyline clip-path=\"url(#clip0300)\" style=\"stroke:#000000; stroke-width:4; stroke-opacity:1; fill:none\" points=\"\n",
       "  262.194,1487.47 262.194,1470.19 \n",
       "  \"/>\n",
       "<polyline clip-path=\"url(#clip0300)\" style=\"stroke:#000000; stroke-width:4; stroke-opacity:1; fill:none\" points=\"\n",
       "  730.976,1487.47 730.976,1470.19 \n",
       "  \"/>\n",
       "<polyline clip-path=\"url(#clip0300)\" style=\"stroke:#000000; stroke-width:4; stroke-opacity:1; fill:none\" points=\"\n",
       "  1199.76,1487.47 1199.76,1470.19 \n",
       "  \"/>\n",
       "<polyline clip-path=\"url(#clip0300)\" style=\"stroke:#000000; stroke-width:4; stroke-opacity:1; fill:none\" points=\"\n",
       "  1668.54,1487.47 1668.54,1470.19 \n",
       "  \"/>\n",
       "<polyline clip-path=\"url(#clip0300)\" style=\"stroke:#000000; stroke-width:4; stroke-opacity:1; fill:none\" points=\"\n",
       "  2137.32,1487.47 2137.32,1470.19 \n",
       "  \"/>\n",
       "<polyline clip-path=\"url(#clip0300)\" style=\"stroke:#000000; stroke-width:4; stroke-opacity:1; fill:none\" points=\"\n",
       "  140.517,1446.71 167.064,1446.71 \n",
       "  \"/>\n",
       "<polyline clip-path=\"url(#clip0300)\" style=\"stroke:#000000; stroke-width:4; stroke-opacity:1; fill:none\" points=\"\n",
       "  140.517,1244.1 167.064,1244.1 \n",
       "  \"/>\n",
       "<polyline clip-path=\"url(#clip0300)\" style=\"stroke:#000000; stroke-width:4; stroke-opacity:1; fill:none\" points=\"\n",
       "  140.517,1041.49 167.064,1041.49 \n",
       "  \"/>\n",
       "<polyline clip-path=\"url(#clip0300)\" style=\"stroke:#000000; stroke-width:4; stroke-opacity:1; fill:none\" points=\"\n",
       "  140.517,838.881 167.064,838.881 \n",
       "  \"/>\n",
       "<polyline clip-path=\"url(#clip0300)\" style=\"stroke:#000000; stroke-width:4; stroke-opacity:1; fill:none\" points=\"\n",
       "  140.517,636.27 167.064,636.27 \n",
       "  \"/>\n",
       "<polyline clip-path=\"url(#clip0300)\" style=\"stroke:#000000; stroke-width:4; stroke-opacity:1; fill:none\" points=\"\n",
       "  140.517,433.659 167.064,433.659 \n",
       "  \"/>\n",
       "<polyline clip-path=\"url(#clip0300)\" style=\"stroke:#000000; stroke-width:4; stroke-opacity:1; fill:none\" points=\"\n",
       "  140.517,231.049 167.064,231.049 \n",
       "  \"/>\n",
       "<g clip-path=\"url(#clip0300)\">\n",
       "<text style=\"fill:#000000; fill-opacity:1; font-family:Arial,Helvetica Neue,Helvetica,sans-serif; font-size:48px; text-anchor:middle;\" transform=\"rotate(0, 262.194, 1541.47)\" x=\"262.194\" y=\"1541.47\">0.00</text>\n",
       "</g>\n",
       "<g clip-path=\"url(#clip0300)\">\n",
       "<text style=\"fill:#000000; fill-opacity:1; font-family:Arial,Helvetica Neue,Helvetica,sans-serif; font-size:48px; text-anchor:middle;\" transform=\"rotate(0, 730.976, 1541.47)\" x=\"730.976\" y=\"1541.47\">0.25</text>\n",
       "</g>\n",
       "<g clip-path=\"url(#clip0300)\">\n",
       "<text style=\"fill:#000000; fill-opacity:1; font-family:Arial,Helvetica Neue,Helvetica,sans-serif; font-size:48px; text-anchor:middle;\" transform=\"rotate(0, 1199.76, 1541.47)\" x=\"1199.76\" y=\"1541.47\">0.50</text>\n",
       "</g>\n",
       "<g clip-path=\"url(#clip0300)\">\n",
       "<text style=\"fill:#000000; fill-opacity:1; font-family:Arial,Helvetica Neue,Helvetica,sans-serif; font-size:48px; text-anchor:middle;\" transform=\"rotate(0, 1668.54, 1541.47)\" x=\"1668.54\" y=\"1541.47\">0.75</text>\n",
       "</g>\n",
       "<g clip-path=\"url(#clip0300)\">\n",
       "<text style=\"fill:#000000; fill-opacity:1; font-family:Arial,Helvetica Neue,Helvetica,sans-serif; font-size:48px; text-anchor:middle;\" transform=\"rotate(0, 2137.32, 1541.47)\" x=\"2137.32\" y=\"1541.47\">1.00</text>\n",
       "</g>\n",
       "<g clip-path=\"url(#clip0300)\">\n",
       "<text style=\"fill:#000000; fill-opacity:1; font-family:Arial,Helvetica Neue,Helvetica,sans-serif; font-size:48px; text-anchor:end;\" transform=\"rotate(0, 116.517, 1464.21)\" x=\"116.517\" y=\"1464.21\">0</text>\n",
       "</g>\n",
       "<g clip-path=\"url(#clip0300)\">\n",
       "<text style=\"fill:#000000; fill-opacity:1; font-family:Arial,Helvetica Neue,Helvetica,sans-serif; font-size:48px; text-anchor:end;\" transform=\"rotate(0, 116.517, 1261.6)\" x=\"116.517\" y=\"1261.6\">2</text>\n",
       "</g>\n",
       "<g clip-path=\"url(#clip0300)\">\n",
       "<text style=\"fill:#000000; fill-opacity:1; font-family:Arial,Helvetica Neue,Helvetica,sans-serif; font-size:48px; text-anchor:end;\" transform=\"rotate(0, 116.517, 1058.99)\" x=\"116.517\" y=\"1058.99\">4</text>\n",
       "</g>\n",
       "<g clip-path=\"url(#clip0300)\">\n",
       "<text style=\"fill:#000000; fill-opacity:1; font-family:Arial,Helvetica Neue,Helvetica,sans-serif; font-size:48px; text-anchor:end;\" transform=\"rotate(0, 116.517, 856.381)\" x=\"116.517\" y=\"856.381\">6</text>\n",
       "</g>\n",
       "<g clip-path=\"url(#clip0300)\">\n",
       "<text style=\"fill:#000000; fill-opacity:1; font-family:Arial,Helvetica Neue,Helvetica,sans-serif; font-size:48px; text-anchor:end;\" transform=\"rotate(0, 116.517, 653.77)\" x=\"116.517\" y=\"653.77\">8</text>\n",
       "</g>\n",
       "<g clip-path=\"url(#clip0300)\">\n",
       "<text style=\"fill:#000000; fill-opacity:1; font-family:Arial,Helvetica Neue,Helvetica,sans-serif; font-size:48px; text-anchor:end;\" transform=\"rotate(0, 116.517, 451.159)\" x=\"116.517\" y=\"451.159\">10</text>\n",
       "</g>\n",
       "<g clip-path=\"url(#clip0300)\">\n",
       "<text style=\"fill:#000000; fill-opacity:1; font-family:Arial,Helvetica Neue,Helvetica,sans-serif; font-size:48px; text-anchor:end;\" transform=\"rotate(0, 116.517, 248.549)\" x=\"116.517\" y=\"248.549\">12</text>\n",
       "</g>\n",
       "<path clip-path=\"url(#clip0302)\" d=\"\n",
       "M262.194 940.389 L262.194 1446.71 L355.95 1446.71 L355.95 940.389 L262.194 940.389 L262.194 940.389  Z\n",
       "  \" fill=\"#ff0000\" fill-rule=\"evenodd\" fill-opacity=\"1\"/>\n",
       "<polyline clip-path=\"url(#clip0302)\" style=\"stroke:#000000; stroke-width:4; stroke-opacity:1; fill:none\" points=\"\n",
       "  262.194,940.389 262.194,1446.71 355.95,1446.71 355.95,940.389 262.194,940.389 \n",
       "  \"/>\n",
       "<path clip-path=\"url(#clip0302)\" d=\"\n",
       "M355.95 1063.58 L355.95 1446.71 L449.707 1446.71 L449.707 1063.58 L355.95 1063.58 L355.95 1063.58  Z\n",
       "  \" fill=\"#ff0000\" fill-rule=\"evenodd\" fill-opacity=\"1\"/>\n",
       "<polyline clip-path=\"url(#clip0302)\" style=\"stroke:#000000; stroke-width:4; stroke-opacity:1; fill:none\" points=\"\n",
       "  355.95,1063.58 355.95,1446.71 449.707,1446.71 449.707,1063.58 355.95,1063.58 \n",
       "  \"/>\n",
       "<path clip-path=\"url(#clip0302)\" d=\"\n",
       "M449.707 1226.68 L449.707 1446.71 L543.463 1446.71 L543.463 1226.68 L449.707 1226.68 L449.707 1226.68  Z\n",
       "  \" fill=\"#ff0000\" fill-rule=\"evenodd\" fill-opacity=\"1\"/>\n",
       "<polyline clip-path=\"url(#clip0302)\" style=\"stroke:#000000; stroke-width:4; stroke-opacity:1; fill:none\" points=\"\n",
       "  449.707,1226.68 449.707,1446.71 543.463,1446.71 543.463,1226.68 449.707,1226.68 \n",
       "  \"/>\n",
       "<path clip-path=\"url(#clip0302)\" d=\"\n",
       "M543.463 1318.26 L543.463 1446.71 L637.22 1446.71 L637.22 1318.26 L543.463 1318.26 L543.463 1318.26  Z\n",
       "  \" fill=\"#ff0000\" fill-rule=\"evenodd\" fill-opacity=\"1\"/>\n",
       "<polyline clip-path=\"url(#clip0302)\" style=\"stroke:#000000; stroke-width:4; stroke-opacity:1; fill:none\" points=\"\n",
       "  543.463,1318.26 543.463,1446.71 637.22,1446.71 637.22,1318.26 543.463,1318.26 \n",
       "  \"/>\n",
       "<path clip-path=\"url(#clip0302)\" d=\"\n",
       "M637.22 1356.75 L637.22 1446.71 L730.976 1446.71 L730.976 1356.75 L637.22 1356.75 L637.22 1356.75  Z\n",
       "  \" fill=\"#ff0000\" fill-rule=\"evenodd\" fill-opacity=\"1\"/>\n",
       "<polyline clip-path=\"url(#clip0302)\" style=\"stroke:#000000; stroke-width:4; stroke-opacity:1; fill:none\" points=\"\n",
       "  637.22,1356.75 637.22,1446.71 730.976,1446.71 730.976,1356.75 637.22,1356.75 \n",
       "  \"/>\n",
       "<path clip-path=\"url(#clip0302)\" d=\"\n",
       "M730.976 1388.36 L730.976 1446.71 L824.732 1446.71 L824.732 1388.36 L730.976 1388.36 L730.976 1388.36  Z\n",
       "  \" fill=\"#ff0000\" fill-rule=\"evenodd\" fill-opacity=\"1\"/>\n",
       "<polyline clip-path=\"url(#clip0302)\" style=\"stroke:#000000; stroke-width:4; stroke-opacity:1; fill:none\" points=\"\n",
       "  730.976,1388.36 730.976,1446.71 824.732,1446.71 824.732,1388.36 730.976,1388.36 \n",
       "  \"/>\n",
       "<path clip-path=\"url(#clip0302)\" d=\"\n",
       "M824.732 1408.01 L824.732 1446.71 L918.489 1446.71 L918.489 1408.01 L824.732 1408.01 L824.732 1408.01  Z\n",
       "  \" fill=\"#ff0000\" fill-rule=\"evenodd\" fill-opacity=\"1\"/>\n",
       "<polyline clip-path=\"url(#clip0302)\" style=\"stroke:#000000; stroke-width:4; stroke-opacity:1; fill:none\" points=\"\n",
       "  824.732,1408.01 824.732,1446.71 918.489,1446.71 918.489,1408.01 824.732,1408.01 \n",
       "  \"/>\n",
       "<path clip-path=\"url(#clip0302)\" d=\"\n",
       "M918.489 1424.43 L918.489 1446.71 L1012.25 1446.71 L1012.25 1424.43 L918.489 1424.43 L918.489 1424.43  Z\n",
       "  \" fill=\"#ff0000\" fill-rule=\"evenodd\" fill-opacity=\"1\"/>\n",
       "<polyline clip-path=\"url(#clip0302)\" style=\"stroke:#000000; stroke-width:4; stroke-opacity:1; fill:none\" points=\"\n",
       "  918.489,1424.43 918.489,1446.71 1012.25,1446.71 1012.25,1424.43 918.489,1424.43 \n",
       "  \"/>\n",
       "<path clip-path=\"url(#clip0302)\" d=\"\n",
       "M1012.25 1430.91 L1012.25 1446.71 L1106 1446.71 L1106 1430.91 L1012.25 1430.91 L1012.25 1430.91  Z\n",
       "  \" fill=\"#ff0000\" fill-rule=\"evenodd\" fill-opacity=\"1\"/>\n",
       "<polyline clip-path=\"url(#clip0302)\" style=\"stroke:#000000; stroke-width:4; stroke-opacity:1; fill:none\" points=\"\n",
       "  1012.25,1430.91 1012.25,1446.71 1106,1446.71 1106,1430.91 1012.25,1430.91 \n",
       "  \"/>\n",
       "<path clip-path=\"url(#clip0302)\" d=\"\n",
       "M1106 1432.53 L1106 1446.71 L1199.76 1446.71 L1199.76 1432.53 L1106 1432.53 L1106 1432.53  Z\n",
       "  \" fill=\"#ff0000\" fill-rule=\"evenodd\" fill-opacity=\"1\"/>\n",
       "<polyline clip-path=\"url(#clip0302)\" style=\"stroke:#000000; stroke-width:4; stroke-opacity:1; fill:none\" points=\"\n",
       "  1106,1432.53 1106,1446.71 1199.76,1446.71 1199.76,1432.53 1106,1432.53 \n",
       "  \"/>\n",
       "<path clip-path=\"url(#clip0302)\" d=\"\n",
       "M1199.76 1433.54 L1199.76 1446.71 L1293.51 1446.71 L1293.51 1433.54 L1199.76 1433.54 L1199.76 1433.54  Z\n",
       "  \" fill=\"#ff0000\" fill-rule=\"evenodd\" fill-opacity=\"1\"/>\n",
       "<polyline clip-path=\"url(#clip0302)\" style=\"stroke:#000000; stroke-width:4; stroke-opacity:1; fill:none\" points=\"\n",
       "  1199.76,1433.54 1199.76,1446.71 1293.51,1446.71 1293.51,1433.54 1199.76,1433.54 \n",
       "  \"/>\n",
       "<path clip-path=\"url(#clip0302)\" d=\"\n",
       "M1293.51 1434.15 L1293.51 1446.71 L1387.27 1446.71 L1387.27 1434.15 L1293.51 1434.15 L1293.51 1434.15  Z\n",
       "  \" fill=\"#ff0000\" fill-rule=\"evenodd\" fill-opacity=\"1\"/>\n",
       "<polyline clip-path=\"url(#clip0302)\" style=\"stroke:#000000; stroke-width:4; stroke-opacity:1; fill:none\" points=\"\n",
       "  1293.51,1434.15 1293.51,1446.71 1387.27,1446.71 1387.27,1434.15 1293.51,1434.15 \n",
       "  \"/>\n",
       "<path clip-path=\"url(#clip0302)\" d=\"\n",
       "M1387.27 1433.95 L1387.27 1446.71 L1481.03 1446.71 L1481.03 1433.95 L1387.27 1433.95 L1387.27 1433.95  Z\n",
       "  \" fill=\"#ff0000\" fill-rule=\"evenodd\" fill-opacity=\"1\"/>\n",
       "<polyline clip-path=\"url(#clip0302)\" style=\"stroke:#000000; stroke-width:4; stroke-opacity:1; fill:none\" points=\"\n",
       "  1387.27,1433.95 1387.27,1446.71 1481.03,1446.71 1481.03,1433.95 1387.27,1433.95 \n",
       "  \"/>\n",
       "<path clip-path=\"url(#clip0302)\" d=\"\n",
       "M1481.03 1441.65 L1481.03 1446.71 L1574.78 1446.71 L1574.78 1441.65 L1481.03 1441.65 L1481.03 1441.65  Z\n",
       "  \" fill=\"#ff0000\" fill-rule=\"evenodd\" fill-opacity=\"1\"/>\n",
       "<polyline clip-path=\"url(#clip0302)\" style=\"stroke:#000000; stroke-width:4; stroke-opacity:1; fill:none\" points=\"\n",
       "  1481.03,1441.65 1481.03,1446.71 1574.78,1446.71 1574.78,1441.65 1481.03,1441.65 \n",
       "  \"/>\n",
       "<path clip-path=\"url(#clip0302)\" d=\"\n",
       "M1574.78 1442.26 L1574.78 1446.71 L1668.54 1446.71 L1668.54 1442.26 L1574.78 1442.26 L1574.78 1442.26  Z\n",
       "  \" fill=\"#ff0000\" fill-rule=\"evenodd\" fill-opacity=\"1\"/>\n",
       "<polyline clip-path=\"url(#clip0302)\" style=\"stroke:#000000; stroke-width:4; stroke-opacity:1; fill:none\" points=\"\n",
       "  1574.78,1442.26 1574.78,1446.71 1668.54,1446.71 1668.54,1442.26 1574.78,1442.26 \n",
       "  \"/>\n",
       "<path clip-path=\"url(#clip0302)\" d=\"\n",
       "M1668.54 1442.05 L1668.54 1446.71 L1762.3 1446.71 L1762.3 1442.05 L1668.54 1442.05 L1668.54 1442.05  Z\n",
       "  \" fill=\"#ff0000\" fill-rule=\"evenodd\" fill-opacity=\"1\"/>\n",
       "<polyline clip-path=\"url(#clip0302)\" style=\"stroke:#000000; stroke-width:4; stroke-opacity:1; fill:none\" points=\"\n",
       "  1668.54,1442.05 1668.54,1446.71 1762.3,1446.71 1762.3,1442.05 1668.54,1442.05 \n",
       "  \"/>\n",
       "<path clip-path=\"url(#clip0302)\" d=\"\n",
       "M1762.3 1438.61 L1762.3 1446.71 L1856.05 1446.71 L1856.05 1438.61 L1762.3 1438.61 L1762.3 1438.61  Z\n",
       "  \" fill=\"#ff0000\" fill-rule=\"evenodd\" fill-opacity=\"1\"/>\n",
       "<polyline clip-path=\"url(#clip0302)\" style=\"stroke:#000000; stroke-width:4; stroke-opacity:1; fill:none\" points=\"\n",
       "  1762.3,1438.61 1762.3,1446.71 1856.05,1446.71 1856.05,1438.61 1762.3,1438.61 \n",
       "  \"/>\n",
       "<path clip-path=\"url(#clip0302)\" d=\"\n",
       "M1856.05 1437.6 L1856.05 1446.71 L1949.81 1446.71 L1949.81 1437.6 L1856.05 1437.6 L1856.05 1437.6  Z\n",
       "  \" fill=\"#ff0000\" fill-rule=\"evenodd\" fill-opacity=\"1\"/>\n",
       "<polyline clip-path=\"url(#clip0302)\" style=\"stroke:#000000; stroke-width:4; stroke-opacity:1; fill:none\" points=\"\n",
       "  1856.05,1437.6 1856.05,1446.71 1949.81,1446.71 1949.81,1437.6 1856.05,1437.6 \n",
       "  \"/>\n",
       "<path clip-path=\"url(#clip0302)\" d=\"\n",
       "M1949.81 1441.85 L1949.81 1446.71 L2043.57 1446.71 L2043.57 1441.85 L1949.81 1441.85 L1949.81 1441.85  Z\n",
       "  \" fill=\"#ff0000\" fill-rule=\"evenodd\" fill-opacity=\"1\"/>\n",
       "<polyline clip-path=\"url(#clip0302)\" style=\"stroke:#000000; stroke-width:4; stroke-opacity:1; fill:none\" points=\"\n",
       "  1949.81,1441.85 1949.81,1446.71 2043.57,1446.71 2043.57,1441.85 1949.81,1441.85 \n",
       "  \"/>\n",
       "<path clip-path=\"url(#clip0302)\" d=\"\n",
       "M2043.57 1271.66 L2043.57 1446.71 L2137.32 1446.71 L2137.32 1271.66 L2043.57 1271.66 L2043.57 1271.66  Z\n",
       "  \" fill=\"#ff0000\" fill-rule=\"evenodd\" fill-opacity=\"1\"/>\n",
       "<polyline clip-path=\"url(#clip0302)\" style=\"stroke:#000000; stroke-width:4; stroke-opacity:1; fill:none\" points=\"\n",
       "  2043.57,1271.66 2043.57,1446.71 2137.32,1446.71 2137.32,1271.66 2043.57,1271.66 \n",
       "  \"/>\n",
       "<path clip-path=\"url(#clip0302)\" d=\"\n",
       "M2137.32 1147.66 L2137.32 1446.71 L2231.08 1446.71 L2231.08 1147.66 L2137.32 1147.66 L2137.32 1147.66  Z\n",
       "  \" fill=\"#ff0000\" fill-rule=\"evenodd\" fill-opacity=\"1\"/>\n",
       "<polyline clip-path=\"url(#clip0302)\" style=\"stroke:#000000; stroke-width:4; stroke-opacity:1; fill:none\" points=\"\n",
       "  2137.32,1147.66 2137.32,1446.71 2231.08,1446.71 2231.08,1147.66 2137.32,1147.66 \n",
       "  \"/>\n",
       "<path clip-path=\"url(#clip0302)\" d=\"\n",
       "M449.707 1446.51 L449.707 1446.71 L543.463 1446.71 L543.463 1446.51 L449.707 1446.51 L449.707 1446.51  Z\n",
       "  \" fill=\"#ffff00\" fill-rule=\"evenodd\" fill-opacity=\"1\"/>\n",
       "<polyline clip-path=\"url(#clip0302)\" style=\"stroke:#000000; stroke-width:4; stroke-opacity:1; fill:none\" points=\"\n",
       "  449.707,1446.51 449.707,1446.71 543.463,1446.71 543.463,1446.51 449.707,1446.51 \n",
       "  \"/>\n",
       "<path clip-path=\"url(#clip0302)\" d=\"\n",
       "M543.463 1445.9 L543.463 1446.71 L637.22 1446.71 L637.22 1445.9 L543.463 1445.9 L543.463 1445.9  Z\n",
       "  \" fill=\"#ffff00\" fill-rule=\"evenodd\" fill-opacity=\"1\"/>\n",
       "<polyline clip-path=\"url(#clip0302)\" style=\"stroke:#000000; stroke-width:4; stroke-opacity:1; fill:none\" points=\"\n",
       "  543.463,1445.9 543.463,1446.71 637.22,1446.71 637.22,1445.9 543.463,1445.9 \n",
       "  \"/>\n",
       "<path clip-path=\"url(#clip0302)\" d=\"\n",
       "M637.22 1444.69 L637.22 1446.71 L730.976 1446.71 L730.976 1444.69 L637.22 1444.69 L637.22 1444.69  Z\n",
       "  \" fill=\"#ffff00\" fill-rule=\"evenodd\" fill-opacity=\"1\"/>\n",
       "<polyline clip-path=\"url(#clip0302)\" style=\"stroke:#000000; stroke-width:4; stroke-opacity:1; fill:none\" points=\"\n",
       "  637.22,1444.69 637.22,1446.71 730.976,1446.71 730.976,1444.69 637.22,1444.69 \n",
       "  \"/>\n",
       "<path clip-path=\"url(#clip0302)\" d=\"\n",
       "M730.976 1435.98 L730.976 1446.71 L824.732 1446.71 L824.732 1435.98 L730.976 1435.98 L730.976 1435.98  Z\n",
       "  \" fill=\"#ffff00\" fill-rule=\"evenodd\" fill-opacity=\"1\"/>\n",
       "<polyline clip-path=\"url(#clip0302)\" style=\"stroke:#000000; stroke-width:4; stroke-opacity:1; fill:none\" points=\"\n",
       "  730.976,1435.98 730.976,1446.71 824.732,1446.71 824.732,1435.98 730.976,1435.98 \n",
       "  \"/>\n",
       "<path clip-path=\"url(#clip0302)\" d=\"\n",
       "M824.732 1425.84 L824.732 1446.71 L918.489 1446.71 L918.489 1425.84 L824.732 1425.84 L824.732 1425.84  Z\n",
       "  \" fill=\"#ffff00\" fill-rule=\"evenodd\" fill-opacity=\"1\"/>\n",
       "<polyline clip-path=\"url(#clip0302)\" style=\"stroke:#000000; stroke-width:4; stroke-opacity:1; fill:none\" points=\"\n",
       "  824.732,1425.84 824.732,1446.71 918.489,1446.71 918.489,1425.84 824.732,1425.84 \n",
       "  \"/>\n",
       "<path clip-path=\"url(#clip0302)\" d=\"\n",
       "M918.489 1423.01 L918.489 1446.71 L1012.25 1446.71 L1012.25 1423.01 L918.489 1423.01 L918.489 1423.01  Z\n",
       "  \" fill=\"#ffff00\" fill-rule=\"evenodd\" fill-opacity=\"1\"/>\n",
       "<polyline clip-path=\"url(#clip0302)\" style=\"stroke:#000000; stroke-width:4; stroke-opacity:1; fill:none\" points=\"\n",
       "  918.489,1423.01 918.489,1446.71 1012.25,1446.71 1012.25,1423.01 918.489,1423.01 \n",
       "  \"/>\n",
       "<path clip-path=\"url(#clip0302)\" d=\"\n",
       "M1012.25 1406.39 L1012.25 1446.71 L1106 1446.71 L1106 1406.39 L1012.25 1406.39 L1012.25 1406.39  Z\n",
       "  \" fill=\"#ffff00\" fill-rule=\"evenodd\" fill-opacity=\"1\"/>\n",
       "<polyline clip-path=\"url(#clip0302)\" style=\"stroke:#000000; stroke-width:4; stroke-opacity:1; fill:none\" points=\"\n",
       "  1012.25,1406.39 1012.25,1446.71 1106,1446.71 1106,1406.39 1012.25,1406.39 \n",
       "  \"/>\n",
       "<path clip-path=\"url(#clip0302)\" d=\"\n",
       "M1106 1376.81 L1106 1446.71 L1199.76 1446.71 L1199.76 1376.81 L1106 1376.81 L1106 1376.81  Z\n",
       "  \" fill=\"#ffff00\" fill-rule=\"evenodd\" fill-opacity=\"1\"/>\n",
       "<polyline clip-path=\"url(#clip0302)\" style=\"stroke:#000000; stroke-width:4; stroke-opacity:1; fill:none\" points=\"\n",
       "  1106,1376.81 1106,1446.71 1199.76,1446.71 1199.76,1376.81 1106,1376.81 \n",
       "  \"/>\n",
       "<path clip-path=\"url(#clip0302)\" d=\"\n",
       "M1199.76 1299.01 L1199.76 1446.71 L1293.51 1446.71 L1293.51 1299.01 L1199.76 1299.01 L1199.76 1299.01  Z\n",
       "  \" fill=\"#ffff00\" fill-rule=\"evenodd\" fill-opacity=\"1\"/>\n",
       "<polyline clip-path=\"url(#clip0302)\" style=\"stroke:#000000; stroke-width:4; stroke-opacity:1; fill:none\" points=\"\n",
       "  1199.76,1299.01 1199.76,1446.71 1293.51,1446.71 1293.51,1299.01 1199.76,1299.01 \n",
       "  \"/>\n",
       "<path clip-path=\"url(#clip0302)\" d=\"\n",
       "M1293.51 1306.3 L1293.51 1446.71 L1387.27 1446.71 L1387.27 1306.3 L1293.51 1306.3 L1293.51 1306.3  Z\n",
       "  \" fill=\"#ffff00\" fill-rule=\"evenodd\" fill-opacity=\"1\"/>\n",
       "<polyline clip-path=\"url(#clip0302)\" style=\"stroke:#000000; stroke-width:4; stroke-opacity:1; fill:none\" points=\"\n",
       "  1293.51,1306.3 1293.51,1446.71 1387.27,1446.71 1387.27,1306.3 1293.51,1306.3 \n",
       "  \"/>\n",
       "<path clip-path=\"url(#clip0302)\" d=\"\n",
       "M1387.27 1438.2 L1387.27 1446.71 L1481.03 1446.71 L1481.03 1438.2 L1387.27 1438.2 L1387.27 1438.2  Z\n",
       "  \" fill=\"#ffff00\" fill-rule=\"evenodd\" fill-opacity=\"1\"/>\n",
       "<polyline clip-path=\"url(#clip0302)\" style=\"stroke:#000000; stroke-width:4; stroke-opacity:1; fill:none\" points=\"\n",
       "  1387.27,1438.2 1387.27,1446.71 1481.03,1446.71 1481.03,1438.2 1387.27,1438.2 \n",
       "  \"/>\n",
       "<path clip-path=\"url(#clip0302)\" d=\"\n",
       "M1481.03 1438.81 L1481.03 1446.71 L1574.78 1446.71 L1574.78 1438.81 L1481.03 1438.81 L1481.03 1438.81  Z\n",
       "  \" fill=\"#ffff00\" fill-rule=\"evenodd\" fill-opacity=\"1\"/>\n",
       "<polyline clip-path=\"url(#clip0302)\" style=\"stroke:#000000; stroke-width:4; stroke-opacity:1; fill:none\" points=\"\n",
       "  1481.03,1438.81 1481.03,1446.71 1574.78,1446.71 1574.78,1438.81 1481.03,1438.81 \n",
       "  \"/>\n",
       "<path clip-path=\"url(#clip0302)\" d=\"\n",
       "M1574.78 1440.03 L1574.78 1446.71 L1668.54 1446.71 L1668.54 1440.03 L1574.78 1440.03 L1574.78 1440.03  Z\n",
       "  \" fill=\"#ffff00\" fill-rule=\"evenodd\" fill-opacity=\"1\"/>\n",
       "<polyline clip-path=\"url(#clip0302)\" style=\"stroke:#000000; stroke-width:4; stroke-opacity:1; fill:none\" points=\"\n",
       "  1574.78,1440.03 1574.78,1446.71 1668.54,1446.71 1668.54,1440.03 1574.78,1440.03 \n",
       "  \"/>\n",
       "<path clip-path=\"url(#clip0302)\" d=\"\n",
       "M1668.54 1437.8 L1668.54 1446.71 L1762.3 1446.71 L1762.3 1437.8 L1668.54 1437.8 L1668.54 1437.8  Z\n",
       "  \" fill=\"#ffff00\" fill-rule=\"evenodd\" fill-opacity=\"1\"/>\n",
       "<polyline clip-path=\"url(#clip0302)\" style=\"stroke:#000000; stroke-width:4; stroke-opacity:1; fill:none\" points=\"\n",
       "  1668.54,1437.8 1668.54,1446.71 1762.3,1446.71 1762.3,1437.8 1668.54,1437.8 \n",
       "  \"/>\n",
       "<path clip-path=\"url(#clip0302)\" d=\"\n",
       "M1762.3 1442.26 L1762.3 1446.71 L1856.05 1446.71 L1856.05 1442.26 L1762.3 1442.26 L1762.3 1442.26  Z\n",
       "  \" fill=\"#ffff00\" fill-rule=\"evenodd\" fill-opacity=\"1\"/>\n",
       "<polyline clip-path=\"url(#clip0302)\" style=\"stroke:#000000; stroke-width:4; stroke-opacity:1; fill:none\" points=\"\n",
       "  1762.3,1442.26 1762.3,1446.71 1856.05,1446.71 1856.05,1442.26 1762.3,1442.26 \n",
       "  \"/>\n",
       "<path clip-path=\"url(#clip0302)\" d=\"\n",
       "M1856.05 1439.01 L1856.05 1446.71 L1949.81 1446.71 L1949.81 1439.01 L1856.05 1439.01 L1856.05 1439.01  Z\n",
       "  \" fill=\"#ffff00\" fill-rule=\"evenodd\" fill-opacity=\"1\"/>\n",
       "<polyline clip-path=\"url(#clip0302)\" style=\"stroke:#000000; stroke-width:4; stroke-opacity:1; fill:none\" points=\"\n",
       "  1856.05,1439.01 1856.05,1446.71 1949.81,1446.71 1949.81,1439.01 1856.05,1439.01 \n",
       "  \"/>\n",
       "<path clip-path=\"url(#clip0302)\" d=\"\n",
       "M1949.81 1440.03 L1949.81 1446.71 L2043.57 1446.71 L2043.57 1440.03 L1949.81 1440.03 L1949.81 1440.03  Z\n",
       "  \" fill=\"#ffff00\" fill-rule=\"evenodd\" fill-opacity=\"1\"/>\n",
       "<polyline clip-path=\"url(#clip0302)\" style=\"stroke:#000000; stroke-width:4; stroke-opacity:1; fill:none\" points=\"\n",
       "  1949.81,1440.03 1949.81,1446.71 2043.57,1446.71 2043.57,1440.03 1949.81,1440.03 \n",
       "  \"/>\n",
       "<path clip-path=\"url(#clip0302)\" d=\"\n",
       "M2043.57 1286.85 L2043.57 1446.71 L2137.32 1446.71 L2137.32 1286.85 L2043.57 1286.85 L2043.57 1286.85  Z\n",
       "  \" fill=\"#ffff00\" fill-rule=\"evenodd\" fill-opacity=\"1\"/>\n",
       "<polyline clip-path=\"url(#clip0302)\" style=\"stroke:#000000; stroke-width:4; stroke-opacity:1; fill:none\" points=\"\n",
       "  2043.57,1286.85 2043.57,1446.71 2137.32,1446.71 2137.32,1286.85 2043.57,1286.85 \n",
       "  \"/>\n",
       "<path clip-path=\"url(#clip0302)\" d=\"\n",
       "M2137.32 88.0053 L2137.32 1446.71 L2231.08 1446.71 L2231.08 88.0053 L2137.32 88.0053 L2137.32 88.0053  Z\n",
       "  \" fill=\"#ffff00\" fill-rule=\"evenodd\" fill-opacity=\"1\"/>\n",
       "<polyline clip-path=\"url(#clip0302)\" style=\"stroke:#000000; stroke-width:4; stroke-opacity:1; fill:none\" points=\"\n",
       "  2137.32,88.0053 2137.32,1446.71 2231.08,1446.71 2231.08,88.0053 2137.32,88.0053 \n",
       "  \"/>\n",
       "<path clip-path=\"url(#clip0300)\" d=\"\n",
       "M1880.18 312.204 L2280.76 312.204 L2280.76 130.764 L1880.18 130.764  Z\n",
       "  \" fill=\"#ffffff\" fill-rule=\"evenodd\" fill-opacity=\"1\"/>\n",
       "<polyline clip-path=\"url(#clip0300)\" style=\"stroke:#000000; stroke-width:4; stroke-opacity:1; fill:none\" points=\"\n",
       "  1880.18,312.204 2280.76,312.204 2280.76,130.764 1880.18,130.764 1880.18,312.204 \n",
       "  \"/>\n",
       "<path clip-path=\"url(#clip0300)\" d=\"\n",
       "M1904.18 215.436 L2048.18 215.436 L2048.18 167.052 L1904.18 167.052 L1904.18 215.436  Z\n",
       "  \" fill=\"#ff0000\" fill-rule=\"evenodd\" fill-opacity=\"1\"/>\n",
       "<polyline clip-path=\"url(#clip0300)\" style=\"stroke:#000000; stroke-width:4; stroke-opacity:1; fill:none\" points=\"\n",
       "  1904.18,215.436 2048.18,215.436 2048.18,167.052 1904.18,167.052 1904.18,215.436 \n",
       "  \"/>\n",
       "<g clip-path=\"url(#clip0300)\">\n",
       "<text style=\"fill:#000000; fill-opacity:1; font-family:Arial,Helvetica Neue,Helvetica,sans-serif; font-size:48px; text-anchor:start;\" transform=\"rotate(0, 2072.18, 208.744)\" x=\"2072.18\" y=\"208.744\">apple</text>\n",
       "</g>\n",
       "<path clip-path=\"url(#clip0300)\" d=\"\n",
       "M1904.18 275.916 L2048.18 275.916 L2048.18 227.532 L1904.18 227.532 L1904.18 275.916  Z\n",
       "  \" fill=\"#ffff00\" fill-rule=\"evenodd\" fill-opacity=\"1\"/>\n",
       "<polyline clip-path=\"url(#clip0300)\" style=\"stroke:#000000; stroke-width:4; stroke-opacity:1; fill:none\" points=\"\n",
       "  1904.18,275.916 2048.18,275.916 2048.18,227.532 1904.18,227.532 1904.18,275.916 \n",
       "  \"/>\n",
       "<g clip-path=\"url(#clip0300)\">\n",
       "<text style=\"fill:#000000; fill-opacity:1; font-family:Arial,Helvetica Neue,Helvetica,sans-serif; font-size:48px; text-anchor:start;\" transform=\"rotate(0, 2072.18, 269.224)\" x=\"2072.18\" y=\"269.224\">banana</text>\n",
       "</g>\n",
       "</svg>\n"
      ]
     },
     "execution_count": 19,
     "metadata": {},
     "output_type": "execute_result"
    }
   ],
   "source": [
    "using Plots\n",
    "histogram(float.(green.(apple[:])),color=\"red\",label=\"apple\", normalize=true, nbins=25)\n",
    "histogram!(float.(green.(banana[:])),color=\"yellow\",label=\"banana\",normalize=true, nbins=25)"
   ]
  },
  {
   "cell_type": "code",
   "execution_count": 20,
   "metadata": {},
   "outputs": [
    {
     "data": {
      "image/png": "[encoded data removed]",
      "text/plain": [
       "100×100 Array{RGB{N0f8},2} with eltype RGB{Normed{UInt8,8}}:\n",
       " RGB{N0f8}(0.996,1.0,0.984)    …  RGB{N0f8}(1.0,1.0,1.0)\n",
       " RGB{N0f8}(0.984,1.0,0.988)       RGB{N0f8}(1.0,1.0,1.0)\n",
       " RGB{N0f8}(0.973,1.0,0.988)       RGB{N0f8}(1.0,1.0,1.0)\n",
       " RGB{N0f8}(0.965,1.0,0.992)       RGB{N0f8}(1.0,1.0,1.0)\n",
       " RGB{N0f8}(0.965,1.0,1.0)         RGB{N0f8}(1.0,1.0,1.0)\n",
       " RGB{N0f8}(0.973,1.0,1.0)      …  RGB{N0f8}(1.0,1.0,1.0)\n",
       " RGB{N0f8}(0.992,0.996,1.0)       RGB{N0f8}(1.0,1.0,1.0)\n",
       " RGB{N0f8}(1.0,0.992,1.0)         RGB{N0f8}(1.0,1.0,1.0)\n",
       " RGB{N0f8}(1.0,0.98,1.0)          RGB{N0f8}(1.0,1.0,1.0)\n",
       " RGB{N0f8}(1.0,0.984,1.0)         RGB{N0f8}(1.0,1.0,1.0)\n",
       " RGB{N0f8}(1.0,0.988,1.0)      …  RGB{N0f8}(1.0,1.0,1.0)\n",
       " RGB{N0f8}(1.0,0.996,1.0)         RGB{N0f8}(1.0,1.0,1.0)\n",
       " RGB{N0f8}(1.0,1.0,1.0)           RGB{N0f8}(1.0,1.0,1.0)\n",
       " ⋮                             ⋱  \n",
       " RGB{N0f8}(0.992,1.0,0.988)       RGB{N0f8}(1.0,1.0,1.0)\n",
       " RGB{N0f8}(0.984,1.0,0.988)       RGB{N0f8}(1.0,1.0,1.0)\n",
       " RGB{N0f8}(0.992,1.0,0.996)    …  RGB{N0f8}(1.0,1.0,1.0)\n",
       " RGB{N0f8}(0.996,1.0,1.0)         RGB{N0f8}(1.0,1.0,1.0)\n",
       " RGB{N0f8}(0.996,0.996,0.996)     RGB{N0f8}(1.0,1.0,1.0)\n",
       " RGB{N0f8}(1.0,0.992,0.996)       RGB{N0f8}(1.0,1.0,1.0)\n",
       " RGB{N0f8}(1.0,0.992,0.996)       RGB{N0f8}(1.0,1.0,1.0)\n",
       " RGB{N0f8}(1.0,0.992,0.996)    …  RGB{N0f8}(1.0,1.0,1.0)\n",
       " RGB{N0f8}(1.0,1.0,1.0)           RGB{N0f8}(1.0,1.0,1.0)\n",
       " RGB{N0f8}(1.0,1.0,1.0)           RGB{N0f8}(1.0,1.0,1.0)\n",
       " RGB{N0f8}(1.0,1.0,1.0)           RGB{N0f8}(1.0,1.0,1.0)\n",
       " RGB{N0f8}(1.0,1.0,1.0)           RGB{N0f8}(1.0,1.0,1.0)"
      ]
     },
     "execution_count": 20,
     "metadata": {},
     "output_type": "execute_result"
    }
   ],
   "source": [
    "apple"
   ]
  },
  {
   "cell_type": "code",
   "execution_count": 21,
   "metadata": {},
   "outputs": [
    {
     "data": {
      "text/plain": [
       "0.61960787f0"
      ]
     },
     "execution_count": 21,
     "metadata": {},
     "output_type": "execute_result"
    }
   ],
   "source": [
    "float(red(banana[50,20]))"
   ]
  },
  {
   "cell_type": "code",
   "execution_count": 22,
   "metadata": {},
   "outputs": [
    {
     "data": {
      "image/svg+xml": [
       "<?xml version=\"1.0\" encoding=\"UTF-8\"?>\n",
       "<!DOCTYPE svg PUBLIC \"-//W3C//DTD SVG 1.1//EN\"\n",
       " \"http://www.w3.org/Graphics/SVG/1.1/DTD/svg11.dtd\">\n",
       "<svg xmlns=\"http://www.w3.org/2000/svg\" version=\"1.1\"\n",
       "     width=\"25mm\" height=\"25mm\" viewBox=\"0 0 1 1\">\n",
       "    <rect width=\"1\" height=\"1\" fill=\"#9E831C\" stroke=\"none\"/>\n",
       "</svg>\n"
      ],
      "text/plain": [
       "RGB{N0f8}(0.62,0.514,0.11)"
      ]
     },
     "execution_count": 22,
     "metadata": {},
     "output_type": "execute_result"
    }
   ],
   "source": [
    "banana[50,20]"
   ]
  },
  {
   "cell_type": "code",
   "execution_count": 23,
   "metadata": {},
   "outputs": [
    {
     "name": "stdout",
     "output_type": "stream",
     "text": [
      "The RGB values are (0.5215686274509804, 0.09803921568627451, 0.058823529411764705)"
     ]
    }
   ],
   "source": [
    "pixel = apple[40, 60]\n",
    "\n",
    "red_value   = Float64( red(pixel) )\n",
    "green_value = Float64( green(pixel) )\n",
    "blue_value  = Float64( blue(pixel) )\n",
    "\n",
    "print(\"The RGB values are ($red_value, $green_value, $blue_value)\")"
   ]
  },
  {
   "cell_type": "markdown",
   "metadata": {},
   "source": [
    "Since the red value is high while the others are low, this means that at pixel `(40, 60)`, the picture of the apple is very red. If we do the same at one of the corners of the picture, we get the following:"
   ]
  },
  {
   "cell_type": "code",
   "execution_count": 24,
   "metadata": {},
   "outputs": [
    {
     "name": "stdout",
     "output_type": "stream",
     "text": [
      "The RGB values are (0.996078431372549, 1.0, 0.984313725490196)"
     ]
    }
   ],
   "source": [
    "pixel = apple[1, 1]\n",
    "\n",
    "red_value   = Float64( red(pixel) )\n",
    "green_value = Float64( green(pixel) )\n",
    "blue_value  = Float64( blue(pixel) )\n",
    "\n",
    "print(\"The RGB values are ($red_value, $green_value, $blue_value)\")"
   ]
  },
  {
   "cell_type": "code",
   "execution_count": 25,
   "metadata": {},
   "outputs": [
    {
     "data": {
      "image/png": "[encoded data removed]",
      "text/plain": [
       "100×100 Array{RGB{N0f8},2} with eltype RGB{Normed{UInt8,8}}:\n",
       " RGB{N0f8}(0.996,1.0,0.984)    …  RGB{N0f8}(1.0,1.0,1.0)\n",
       " RGB{N0f8}(0.984,1.0,0.988)       RGB{N0f8}(1.0,1.0,1.0)\n",
       " RGB{N0f8}(0.973,1.0,0.988)       RGB{N0f8}(1.0,1.0,1.0)\n",
       " RGB{N0f8}(0.965,1.0,0.992)       RGB{N0f8}(1.0,1.0,1.0)\n",
       " RGB{N0f8}(0.965,1.0,1.0)         RGB{N0f8}(1.0,1.0,1.0)\n",
       " RGB{N0f8}(0.973,1.0,1.0)      …  RGB{N0f8}(1.0,1.0,1.0)\n",
       " RGB{N0f8}(0.992,0.996,1.0)       RGB{N0f8}(1.0,1.0,1.0)\n",
       " RGB{N0f8}(1.0,0.992,1.0)         RGB{N0f8}(1.0,1.0,1.0)\n",
       " RGB{N0f8}(1.0,0.98,1.0)          RGB{N0f8}(1.0,1.0,1.0)\n",
       " RGB{N0f8}(1.0,0.984,1.0)         RGB{N0f8}(1.0,1.0,1.0)\n",
       " RGB{N0f8}(1.0,0.988,1.0)      …  RGB{N0f8}(1.0,1.0,1.0)\n",
       " RGB{N0f8}(1.0,0.996,1.0)         RGB{N0f8}(1.0,1.0,1.0)\n",
       " RGB{N0f8}(1.0,1.0,1.0)           RGB{N0f8}(1.0,1.0,1.0)\n",
       " ⋮                             ⋱  \n",
       " RGB{N0f8}(0.992,1.0,0.988)       RGB{N0f8}(1.0,1.0,1.0)\n",
       " RGB{N0f8}(0.984,1.0,0.988)       RGB{N0f8}(1.0,1.0,1.0)\n",
       " RGB{N0f8}(0.992,1.0,0.996)    …  RGB{N0f8}(1.0,1.0,1.0)\n",
       " RGB{N0f8}(0.996,1.0,1.0)         RGB{N0f8}(1.0,1.0,1.0)\n",
       " RGB{N0f8}(0.996,0.996,0.996)     RGB{N0f8}(1.0,1.0,1.0)\n",
       " RGB{N0f8}(1.0,0.992,0.996)       RGB{N0f8}(1.0,1.0,1.0)\n",
       " RGB{N0f8}(1.0,0.992,0.996)       RGB{N0f8}(1.0,1.0,1.0)\n",
       " RGB{N0f8}(1.0,0.992,0.996)    …  RGB{N0f8}(1.0,1.0,1.0)\n",
       " RGB{N0f8}(1.0,1.0,1.0)           RGB{N0f8}(1.0,1.0,1.0)\n",
       " RGB{N0f8}(1.0,1.0,1.0)           RGB{N0f8}(1.0,1.0,1.0)\n",
       " RGB{N0f8}(1.0,1.0,1.0)           RGB{N0f8}(1.0,1.0,1.0)\n",
       " RGB{N0f8}(1.0,1.0,1.0)           RGB{N0f8}(1.0,1.0,1.0)"
      ]
     },
     "execution_count": 25,
     "metadata": {},
     "output_type": "execute_result"
    }
   ],
   "source": [
    "apple"
   ]
  },
  {
   "cell_type": "markdown",
   "metadata": {},
   "source": [
    "We see that every color is bright, which corresponds to white."
   ]
  },
  {
   "cell_type": "markdown",
   "metadata": {},
   "source": [
    "## Working on an image as a whole\n",
    "\n",
    "In Julia, to apply a function to the whole of an array, we place a `.` between the function name and the left parenthesis (`(`), so the following gives us the `red` value of every pixel in the image:"
   ]
  },
  {
   "cell_type": "code",
   "execution_count": 26,
   "metadata": {},
   "outputs": [
    {
     "data": {
      "text/plain": [
       "0.5702784313725491"
      ]
     },
     "execution_count": 26,
     "metadata": {},
     "output_type": "execute_result"
    }
   ],
   "source": [
    "redpartofapple = Float64.(red.(apple))\n",
    "mean(redpartofapple)"
   ]
  },
  {
   "cell_type": "code",
   "execution_count": 27,
   "metadata": {},
   "outputs": [],
   "source": [
    "using Plots"
   ]
  },
  {
   "cell_type": "code",
   "execution_count": 28,
   "metadata": {},
   "outputs": [
    {
     "data": {
      "text/plain": [
       "Plots.GRBackend()"
      ]
     },
     "execution_count": 28,
     "metadata": {},
     "output_type": "execute_result"
    }
   ],
   "source": [
    "gr()"
   ]
  },
  {
   "cell_type": "code",
   "execution_count": 29,
   "metadata": {},
   "outputs": [
    {
     "data": {
      "image/svg+xml": [
       "<?xml version=\"1.0\" encoding=\"utf-8\"?>\n",
       "<svg xmlns=\"http://www.w3.org/2000/svg\" xmlns:xlink=\"http://www.w3.org/1999/xlink\" width=\"600\" height=\"400\" viewBox=\"0 0 2400 1600\">\n",
       "<defs>\n",
       "  <clipPath id=\"clip0700\">\n",
       "    <rect x=\"0\" y=\"0\" width=\"2400\" height=\"1600\"/>\n",
       "  </clipPath>\n",
       "</defs>\n",
       "<path clip-path=\"url(#clip0700)\" d=\"\n",
       "M0 1600 L2400 1600 L2400 0 L0 0  Z\n",
       "  \" fill=\"#ffffff\" fill-rule=\"evenodd\" fill-opacity=\"1\"/>\n",
       "<defs>\n",
       "  <clipPath id=\"clip0701\">\n",
       "    <rect x=\"480\" y=\"0\" width=\"1681\" height=\"1600\"/>\n",
       "  </clipPath>\n",
       "</defs>\n",
       "<path clip-path=\"url(#clip0700)\" d=\"\n",
       "M194.041 1487.47 L2352.76 1487.47 L2352.76 47.2441 L194.041 47.2441  Z\n",
       "  \" fill=\"#ffffff\" fill-rule=\"evenodd\" fill-opacity=\"1\"/>\n",
       "<defs>\n",
       "  <clipPath id=\"clip0702\">\n",
       "    <rect x=\"194\" y=\"47\" width=\"2160\" height=\"1441\"/>\n",
       "  </clipPath>\n",
       "</defs>\n",
       "<polyline clip-path=\"url(#clip0702)\" style=\"stroke:#000000; stroke-width:2; stroke-opacity:0.1; fill:none\" points=\"\n",
       "  312.775,1487.47 312.775,47.2441 \n",
       "  \"/>\n",
       "<polyline clip-path=\"url(#clip0702)\" style=\"stroke:#000000; stroke-width:2; stroke-opacity:0.1; fill:none\" points=\"\n",
       "  770.215,1487.47 770.215,47.2441 \n",
       "  \"/>\n",
       "<polyline clip-path=\"url(#clip0702)\" style=\"stroke:#000000; stroke-width:2; stroke-opacity:0.1; fill:none\" points=\"\n",
       "  1227.65,1487.47 1227.65,47.2441 \n",
       "  \"/>\n",
       "<polyline clip-path=\"url(#clip0702)\" style=\"stroke:#000000; stroke-width:2; stroke-opacity:0.1; fill:none\" points=\"\n",
       "  1685.09,1487.47 1685.09,47.2441 \n",
       "  \"/>\n",
       "<polyline clip-path=\"url(#clip0702)\" style=\"stroke:#000000; stroke-width:2; stroke-opacity:0.1; fill:none\" points=\"\n",
       "  2142.53,1487.47 2142.53,47.2441 \n",
       "  \"/>\n",
       "<polyline clip-path=\"url(#clip0702)\" style=\"stroke:#000000; stroke-width:2; stroke-opacity:0.1; fill:none\" points=\"\n",
       "  194.041,1446.71 2352.76,1446.71 \n",
       "  \"/>\n",
       "<polyline clip-path=\"url(#clip0702)\" style=\"stroke:#000000; stroke-width:2; stroke-opacity:0.1; fill:none\" points=\"\n",
       "  194.041,1238.8 2352.76,1238.8 \n",
       "  \"/>\n",
       "<polyline clip-path=\"url(#clip0702)\" style=\"stroke:#000000; stroke-width:2; stroke-opacity:0.1; fill:none\" points=\"\n",
       "  194.041,1030.89 2352.76,1030.89 \n",
       "  \"/>\n",
       "<polyline clip-path=\"url(#clip0702)\" style=\"stroke:#000000; stroke-width:2; stroke-opacity:0.1; fill:none\" points=\"\n",
       "  194.041,822.976 2352.76,822.976 \n",
       "  \"/>\n",
       "<polyline clip-path=\"url(#clip0702)\" style=\"stroke:#000000; stroke-width:2; stroke-opacity:0.1; fill:none\" points=\"\n",
       "  194.041,615.064 2352.76,615.064 \n",
       "  \"/>\n",
       "<polyline clip-path=\"url(#clip0702)\" style=\"stroke:#000000; stroke-width:2; stroke-opacity:0.1; fill:none\" points=\"\n",
       "  194.041,407.151 2352.76,407.151 \n",
       "  \"/>\n",
       "<polyline clip-path=\"url(#clip0702)\" style=\"stroke:#000000; stroke-width:2; stroke-opacity:0.1; fill:none\" points=\"\n",
       "  194.041,199.239 2352.76,199.239 \n",
       "  \"/>\n",
       "<polyline clip-path=\"url(#clip0700)\" style=\"stroke:#000000; stroke-width:4; stroke-opacity:1; fill:none\" points=\"\n",
       "  194.041,1487.47 2352.76,1487.47 \n",
       "  \"/>\n",
       "<polyline clip-path=\"url(#clip0700)\" style=\"stroke:#000000; stroke-width:4; stroke-opacity:1; fill:none\" points=\"\n",
       "  194.041,1487.47 194.041,47.2441 \n",
       "  \"/>\n",
       "<polyline clip-path=\"url(#clip0700)\" style=\"stroke:#000000; stroke-width:4; stroke-opacity:1; fill:none\" points=\"\n",
       "  312.775,1487.47 312.775,1470.19 \n",
       "  \"/>\n",
       "<polyline clip-path=\"url(#clip0700)\" style=\"stroke:#000000; stroke-width:4; stroke-opacity:1; fill:none\" points=\"\n",
       "  770.215,1487.47 770.215,1470.19 \n",
       "  \"/>\n",
       "<polyline clip-path=\"url(#clip0700)\" style=\"stroke:#000000; stroke-width:4; stroke-opacity:1; fill:none\" points=\"\n",
       "  1227.65,1487.47 1227.65,1470.19 \n",
       "  \"/>\n",
       "<polyline clip-path=\"url(#clip0700)\" style=\"stroke:#000000; stroke-width:4; stroke-opacity:1; fill:none\" points=\"\n",
       "  1685.09,1487.47 1685.09,1470.19 \n",
       "  \"/>\n",
       "<polyline clip-path=\"url(#clip0700)\" style=\"stroke:#000000; stroke-width:4; stroke-opacity:1; fill:none\" points=\"\n",
       "  2142.53,1487.47 2142.53,1470.19 \n",
       "  \"/>\n",
       "<polyline clip-path=\"url(#clip0700)\" style=\"stroke:#000000; stroke-width:4; stroke-opacity:1; fill:none\" points=\"\n",
       "  194.041,1446.71 219.946,1446.71 \n",
       "  \"/>\n",
       "<polyline clip-path=\"url(#clip0700)\" style=\"stroke:#000000; stroke-width:4; stroke-opacity:1; fill:none\" points=\"\n",
       "  194.041,1238.8 219.946,1238.8 \n",
       "  \"/>\n",
       "<polyline clip-path=\"url(#clip0700)\" style=\"stroke:#000000; stroke-width:4; stroke-opacity:1; fill:none\" points=\"\n",
       "  194.041,1030.89 219.946,1030.89 \n",
       "  \"/>\n",
       "<polyline clip-path=\"url(#clip0700)\" style=\"stroke:#000000; stroke-width:4; stroke-opacity:1; fill:none\" points=\"\n",
       "  194.041,822.976 219.946,822.976 \n",
       "  \"/>\n",
       "<polyline clip-path=\"url(#clip0700)\" style=\"stroke:#000000; stroke-width:4; stroke-opacity:1; fill:none\" points=\"\n",
       "  194.041,615.064 219.946,615.064 \n",
       "  \"/>\n",
       "<polyline clip-path=\"url(#clip0700)\" style=\"stroke:#000000; stroke-width:4; stroke-opacity:1; fill:none\" points=\"\n",
       "  194.041,407.151 219.946,407.151 \n",
       "  \"/>\n",
       "<polyline clip-path=\"url(#clip0700)\" style=\"stroke:#000000; stroke-width:4; stroke-opacity:1; fill:none\" points=\"\n",
       "  194.041,199.239 219.946,199.239 \n",
       "  \"/>\n",
       "<g clip-path=\"url(#clip0700)\">\n",
       "<text style=\"fill:#000000; fill-opacity:1; font-family:Arial,Helvetica Neue,Helvetica,sans-serif; font-size:48px; text-anchor:middle;\" transform=\"rotate(0, 312.775, 1541.47)\" x=\"312.775\" y=\"1541.47\">0.00</text>\n",
       "</g>\n",
       "<g clip-path=\"url(#clip0700)\">\n",
       "<text style=\"fill:#000000; fill-opacity:1; font-family:Arial,Helvetica Neue,Helvetica,sans-serif; font-size:48px; text-anchor:middle;\" transform=\"rotate(0, 770.215, 1541.47)\" x=\"770.215\" y=\"1541.47\">0.25</text>\n",
       "</g>\n",
       "<g clip-path=\"url(#clip0700)\">\n",
       "<text style=\"fill:#000000; fill-opacity:1; font-family:Arial,Helvetica Neue,Helvetica,sans-serif; font-size:48px; text-anchor:middle;\" transform=\"rotate(0, 1227.65, 1541.47)\" x=\"1227.65\" y=\"1541.47\">0.50</text>\n",
       "</g>\n",
       "<g clip-path=\"url(#clip0700)\">\n",
       "<text style=\"fill:#000000; fill-opacity:1; font-family:Arial,Helvetica Neue,Helvetica,sans-serif; font-size:48px; text-anchor:middle;\" transform=\"rotate(0, 1685.09, 1541.47)\" x=\"1685.09\" y=\"1541.47\">0.75</text>\n",
       "</g>\n",
       "<g clip-path=\"url(#clip0700)\">\n",
       "<text style=\"fill:#000000; fill-opacity:1; font-family:Arial,Helvetica Neue,Helvetica,sans-serif; font-size:48px; text-anchor:middle;\" transform=\"rotate(0, 2142.53, 1541.47)\" x=\"2142.53\" y=\"1541.47\">1.00</text>\n",
       "</g>\n",
       "<g clip-path=\"url(#clip0700)\">\n",
       "<text style=\"fill:#000000; fill-opacity:1; font-family:Arial,Helvetica Neue,Helvetica,sans-serif; font-size:48px; text-anchor:end;\" transform=\"rotate(0, 170.041, 1464.21)\" x=\"170.041\" y=\"1464.21\">0</text>\n",
       "</g>\n",
       "<g clip-path=\"url(#clip0700)\">\n",
       "<text style=\"fill:#000000; fill-opacity:1; font-family:Arial,Helvetica Neue,Helvetica,sans-serif; font-size:48px; text-anchor:end;\" transform=\"rotate(0, 170.041, 1256.3)\" x=\"170.041\" y=\"1256.3\">200</text>\n",
       "</g>\n",
       "<g clip-path=\"url(#clip0700)\">\n",
       "<text style=\"fill:#000000; fill-opacity:1; font-family:Arial,Helvetica Neue,Helvetica,sans-serif; font-size:48px; text-anchor:end;\" transform=\"rotate(0, 170.041, 1048.39)\" x=\"170.041\" y=\"1048.39\">400</text>\n",
       "</g>\n",
       "<g clip-path=\"url(#clip0700)\">\n",
       "<text style=\"fill:#000000; fill-opacity:1; font-family:Arial,Helvetica Neue,Helvetica,sans-serif; font-size:48px; text-anchor:end;\" transform=\"rotate(0, 170.041, 840.476)\" x=\"170.041\" y=\"840.476\">600</text>\n",
       "</g>\n",
       "<g clip-path=\"url(#clip0700)\">\n",
       "<text style=\"fill:#000000; fill-opacity:1; font-family:Arial,Helvetica Neue,Helvetica,sans-serif; font-size:48px; text-anchor:end;\" transform=\"rotate(0, 170.041, 632.564)\" x=\"170.041\" y=\"632.564\">800</text>\n",
       "</g>\n",
       "<g clip-path=\"url(#clip0700)\">\n",
       "<text style=\"fill:#000000; fill-opacity:1; font-family:Arial,Helvetica Neue,Helvetica,sans-serif; font-size:48px; text-anchor:end;\" transform=\"rotate(0, 170.041, 424.651)\" x=\"170.041\" y=\"424.651\">1000</text>\n",
       "</g>\n",
       "<g clip-path=\"url(#clip0700)\">\n",
       "<text style=\"fill:#000000; fill-opacity:1; font-family:Arial,Helvetica Neue,Helvetica,sans-serif; font-size:48px; text-anchor:end;\" transform=\"rotate(0, 170.041, 216.739)\" x=\"170.041\" y=\"216.739\">1200</text>\n",
       "</g>\n",
       "<path clip-path=\"url(#clip0702)\" d=\"\n",
       "M312.775 1443.59 L312.775 1446.71 L404.263 1446.71 L404.263 1443.59 L312.775 1443.59 L312.775 1443.59  Z\n",
       "  \" fill=\"#ff0000\" fill-rule=\"evenodd\" fill-opacity=\"1\"/>\n",
       "<polyline clip-path=\"url(#clip0702)\" style=\"stroke:#000000; stroke-width:4; stroke-opacity:1; fill:none\" points=\"\n",
       "  312.775,1443.59 312.775,1446.71 404.263,1446.71 404.263,1443.59 312.775,1443.59 \n",
       "  \"/>\n",
       "<path clip-path=\"url(#clip0702)\" d=\"\n",
       "M404.263 926.932 L404.263 1446.71 L495.751 1446.71 L495.751 926.932 L404.263 926.932 L404.263 926.932  Z\n",
       "  \" fill=\"#ff0000\" fill-rule=\"evenodd\" fill-opacity=\"1\"/>\n",
       "<polyline clip-path=\"url(#clip0702)\" style=\"stroke:#000000; stroke-width:4; stroke-opacity:1; fill:none\" points=\"\n",
       "  404.263,926.932 404.263,1446.71 495.751,1446.71 495.751,926.932 404.263,926.932 \n",
       "  \"/>\n",
       "<path clip-path=\"url(#clip0702)\" d=\"\n",
       "M495.751 936.288 L495.751 1446.71 L587.239 1446.71 L587.239 936.288 L495.751 936.288 L495.751 936.288  Z\n",
       "  \" fill=\"#ff0000\" fill-rule=\"evenodd\" fill-opacity=\"1\"/>\n",
       "<polyline clip-path=\"url(#clip0702)\" style=\"stroke:#000000; stroke-width:4; stroke-opacity:1; fill:none\" points=\"\n",
       "  495.751,936.288 495.751,1446.71 587.239,1446.71 587.239,936.288 495.751,936.288 \n",
       "  \"/>\n",
       "<path clip-path=\"url(#clip0702)\" d=\"\n",
       "M587.239 1048.56 L587.239 1446.71 L678.727 1446.71 L678.727 1048.56 L587.239 1048.56 L587.239 1048.56  Z\n",
       "  \" fill=\"#ff0000\" fill-rule=\"evenodd\" fill-opacity=\"1\"/>\n",
       "<polyline clip-path=\"url(#clip0702)\" style=\"stroke:#000000; stroke-width:4; stroke-opacity:1; fill:none\" points=\"\n",
       "  587.239,1048.56 587.239,1446.71 678.727,1446.71 678.727,1048.56 587.239,1048.56 \n",
       "  \"/>\n",
       "<path clip-path=\"url(#clip0702)\" d=\"\n",
       "M678.727 1032.97 L678.727 1446.71 L770.215 1446.71 L770.215 1032.97 L678.727 1032.97 L678.727 1032.97  Z\n",
       "  \" fill=\"#ff0000\" fill-rule=\"evenodd\" fill-opacity=\"1\"/>\n",
       "<polyline clip-path=\"url(#clip0702)\" style=\"stroke:#000000; stroke-width:4; stroke-opacity:1; fill:none\" points=\"\n",
       "  678.727,1032.97 678.727,1446.71 770.215,1446.71 770.215,1032.97 678.727,1032.97 \n",
       "  \"/>\n",
       "<path clip-path=\"url(#clip0702)\" d=\"\n",
       "M770.215 1032.97 L770.215 1446.71 L861.703 1446.71 L861.703 1032.97 L770.215 1032.97 L770.215 1032.97  Z\n",
       "  \" fill=\"#ff0000\" fill-rule=\"evenodd\" fill-opacity=\"1\"/>\n",
       "<polyline clip-path=\"url(#clip0702)\" style=\"stroke:#000000; stroke-width:4; stroke-opacity:1; fill:none\" points=\"\n",
       "  770.215,1032.97 770.215,1446.71 861.703,1446.71 861.703,1032.97 770.215,1032.97 \n",
       "  \"/>\n",
       "<path clip-path=\"url(#clip0702)\" d=\"\n",
       "M861.703 997.622 L861.703 1446.71 L953.191 1446.71 L953.191 997.622 L861.703 997.622 L861.703 997.622  Z\n",
       "  \" fill=\"#ff0000\" fill-rule=\"evenodd\" fill-opacity=\"1\"/>\n",
       "<polyline clip-path=\"url(#clip0702)\" style=\"stroke:#000000; stroke-width:4; stroke-opacity:1; fill:none\" points=\"\n",
       "  861.703,997.622 861.703,1446.71 953.191,1446.71 953.191,997.622 861.703,997.622 \n",
       "  \"/>\n",
       "<path clip-path=\"url(#clip0702)\" d=\"\n",
       "M953.191 964.356 L953.191 1446.71 L1044.68 1446.71 L1044.68 964.356 L953.191 964.356 L953.191 964.356  Z\n",
       "  \" fill=\"#ff0000\" fill-rule=\"evenodd\" fill-opacity=\"1\"/>\n",
       "<polyline clip-path=\"url(#clip0702)\" style=\"stroke:#000000; stroke-width:4; stroke-opacity:1; fill:none\" points=\"\n",
       "  953.191,964.356 953.191,1446.71 1044.68,1446.71 1044.68,964.356 953.191,964.356 \n",
       "  \"/>\n",
       "<path clip-path=\"url(#clip0702)\" d=\"\n",
       "M1044.68 860.4 L1044.68 1446.71 L1136.17 1446.71 L1136.17 860.4 L1044.68 860.4 L1044.68 860.4  Z\n",
       "  \" fill=\"#ff0000\" fill-rule=\"evenodd\" fill-opacity=\"1\"/>\n",
       "<polyline clip-path=\"url(#clip0702)\" style=\"stroke:#000000; stroke-width:4; stroke-opacity:1; fill:none\" points=\"\n",
       "  1044.68,860.4 1044.68,1446.71 1136.17,1446.71 1136.17,860.4 1044.68,860.4 \n",
       "  \"/>\n",
       "<path clip-path=\"url(#clip0702)\" d=\"\n",
       "M1136.17 838.569 L1136.17 1446.71 L1227.65 1446.71 L1227.65 838.569 L1136.17 838.569 L1136.17 838.569  Z\n",
       "  \" fill=\"#ff0000\" fill-rule=\"evenodd\" fill-opacity=\"1\"/>\n",
       "<polyline clip-path=\"url(#clip0702)\" style=\"stroke:#000000; stroke-width:4; stroke-opacity:1; fill:none\" points=\"\n",
       "  1136.17,838.569 1136.17,1446.71 1227.65,1446.71 1227.65,838.569 1136.17,838.569 \n",
       "  \"/>\n",
       "<path clip-path=\"url(#clip0702)\" d=\"\n",
       "M1227.65 703.426 L1227.65 1446.71 L1319.14 1446.71 L1319.14 703.426 L1227.65 703.426 L1227.65 703.426  Z\n",
       "  \" fill=\"#ff0000\" fill-rule=\"evenodd\" fill-opacity=\"1\"/>\n",
       "<polyline clip-path=\"url(#clip0702)\" style=\"stroke:#000000; stroke-width:4; stroke-opacity:1; fill:none\" points=\"\n",
       "  1227.65,703.426 1227.65,1446.71 1319.14,1446.71 1319.14,703.426 1227.65,703.426 \n",
       "  \"/>\n",
       "<path clip-path=\"url(#clip0702)\" d=\"\n",
       "M1319.14 608.826 L1319.14 1446.71 L1410.63 1446.71 L1410.63 608.826 L1319.14 608.826 L1319.14 608.826  Z\n",
       "  \" fill=\"#ff0000\" fill-rule=\"evenodd\" fill-opacity=\"1\"/>\n",
       "<polyline clip-path=\"url(#clip0702)\" style=\"stroke:#000000; stroke-width:4; stroke-opacity:1; fill:none\" points=\"\n",
       "  1319.14,608.826 1319.14,1446.71 1410.63,1446.71 1410.63,608.826 1319.14,608.826 \n",
       "  \"/>\n",
       "<path clip-path=\"url(#clip0702)\" d=\"\n",
       "M1410.63 673.279 L1410.63 1446.71 L1502.12 1446.71 L1502.12 673.279 L1410.63 673.279 L1410.63 673.279  Z\n",
       "  \" fill=\"#ff0000\" fill-rule=\"evenodd\" fill-opacity=\"1\"/>\n",
       "<polyline clip-path=\"url(#clip0702)\" style=\"stroke:#000000; stroke-width:4; stroke-opacity:1; fill:none\" points=\"\n",
       "  1410.63,673.279 1410.63,1446.71 1502.12,1446.71 1502.12,673.279 1410.63,673.279 \n",
       "  \"/>\n",
       "<path clip-path=\"url(#clip0702)\" d=\"\n",
       "M1502.12 930.051 L1502.12 1446.71 L1593.61 1446.71 L1593.61 930.051 L1502.12 930.051 L1502.12 930.051  Z\n",
       "  \" fill=\"#ff0000\" fill-rule=\"evenodd\" fill-opacity=\"1\"/>\n",
       "<polyline clip-path=\"url(#clip0702)\" style=\"stroke:#000000; stroke-width:4; stroke-opacity:1; fill:none\" points=\"\n",
       "  1502.12,930.051 1502.12,1446.71 1593.61,1446.71 1593.61,930.051 1502.12,930.051 \n",
       "  \"/>\n",
       "<path clip-path=\"url(#clip0702)\" d=\"\n",
       "M1593.61 1149.4 L1593.61 1446.71 L1685.09 1446.71 L1685.09 1149.4 L1593.61 1149.4 L1593.61 1149.4  Z\n",
       "  \" fill=\"#ff0000\" fill-rule=\"evenodd\" fill-opacity=\"1\"/>\n",
       "<polyline clip-path=\"url(#clip0702)\" style=\"stroke:#000000; stroke-width:4; stroke-opacity:1; fill:none\" points=\"\n",
       "  1593.61,1149.4 1593.61,1446.71 1685.09,1446.71 1685.09,1149.4 1593.61,1149.4 \n",
       "  \"/>\n",
       "<path clip-path=\"url(#clip0702)\" d=\"\n",
       "M1685.09 1320.93 L1685.09 1446.71 L1776.58 1446.71 L1776.58 1320.93 L1685.09 1320.93 L1685.09 1320.93  Z\n",
       "  \" fill=\"#ff0000\" fill-rule=\"evenodd\" fill-opacity=\"1\"/>\n",
       "<polyline clip-path=\"url(#clip0702)\" style=\"stroke:#000000; stroke-width:4; stroke-opacity:1; fill:none\" points=\"\n",
       "  1685.09,1320.93 1685.09,1446.71 1776.58,1446.71 1776.58,1320.93 1685.09,1320.93 \n",
       "  \"/>\n",
       "<path clip-path=\"url(#clip0702)\" d=\"\n",
       "M1776.58 1356.27 L1776.58 1446.71 L1868.07 1446.71 L1868.07 1356.27 L1776.58 1356.27 L1776.58 1356.27  Z\n",
       "  \" fill=\"#ff0000\" fill-rule=\"evenodd\" fill-opacity=\"1\"/>\n",
       "<polyline clip-path=\"url(#clip0702)\" style=\"stroke:#000000; stroke-width:4; stroke-opacity:1; fill:none\" points=\"\n",
       "  1776.58,1356.27 1776.58,1446.71 1868.07,1446.71 1868.07,1356.27 1776.58,1356.27 \n",
       "  \"/>\n",
       "<path clip-path=\"url(#clip0702)\" d=\"\n",
       "M1868.07 1309.49 L1868.07 1446.71 L1959.56 1446.71 L1959.56 1309.49 L1868.07 1309.49 L1868.07 1309.49  Z\n",
       "  \" fill=\"#ff0000\" fill-rule=\"evenodd\" fill-opacity=\"1\"/>\n",
       "<polyline clip-path=\"url(#clip0702)\" style=\"stroke:#000000; stroke-width:4; stroke-opacity:1; fill:none\" points=\"\n",
       "  1868.07,1309.49 1868.07,1446.71 1959.56,1446.71 1959.56,1309.49 1868.07,1309.49 \n",
       "  \"/>\n",
       "<path clip-path=\"url(#clip0702)\" d=\"\n",
       "M1959.56 1396.81 L1959.56 1446.71 L2051.05 1446.71 L2051.05 1396.81 L1959.56 1396.81 L1959.56 1396.81  Z\n",
       "  \" fill=\"#ff0000\" fill-rule=\"evenodd\" fill-opacity=\"1\"/>\n",
       "<polyline clip-path=\"url(#clip0702)\" style=\"stroke:#000000; stroke-width:4; stroke-opacity:1; fill:none\" points=\"\n",
       "  1959.56,1396.81 1959.56,1446.71 2051.05,1446.71 2051.05,1396.81 1959.56,1396.81 \n",
       "  \"/>\n",
       "<path clip-path=\"url(#clip0702)\" d=\"\n",
       "M2051.05 366.608 L2051.05 1446.71 L2142.53 1446.71 L2142.53 366.608 L2051.05 366.608 L2051.05 366.608  Z\n",
       "  \" fill=\"#ff0000\" fill-rule=\"evenodd\" fill-opacity=\"1\"/>\n",
       "<polyline clip-path=\"url(#clip0702)\" style=\"stroke:#000000; stroke-width:4; stroke-opacity:1; fill:none\" points=\"\n",
       "  2051.05,366.608 2051.05,1446.71 2142.53,1446.71 2142.53,366.608 2051.05,366.608 \n",
       "  \"/>\n",
       "<path clip-path=\"url(#clip0702)\" d=\"\n",
       "M2142.53 88.0053 L2142.53 1446.71 L2234.02 1446.71 L2234.02 88.0053 L2142.53 88.0053 L2142.53 88.0053  Z\n",
       "  \" fill=\"#ff0000\" fill-rule=\"evenodd\" fill-opacity=\"1\"/>\n",
       "<polyline clip-path=\"url(#clip0702)\" style=\"stroke:#000000; stroke-width:4; stroke-opacity:1; fill:none\" points=\"\n",
       "  2142.53,88.0053 2142.53,1446.71 2234.02,1446.71 2234.02,88.0053 2142.53,88.0053 \n",
       "  \"/>\n",
       "<path clip-path=\"url(#clip0700)\" d=\"\n",
       "M1607.31 251.724 L2280.76 251.724 L2280.76 130.764 L1607.31 130.764  Z\n",
       "  \" fill=\"#ffffff\" fill-rule=\"evenodd\" fill-opacity=\"1\"/>\n",
       "<polyline clip-path=\"url(#clip0700)\" style=\"stroke:#000000; stroke-width:4; stroke-opacity:1; fill:none\" points=\"\n",
       "  1607.31,251.724 2280.76,251.724 2280.76,130.764 1607.31,130.764 1607.31,251.724 \n",
       "  \"/>\n",
       "<path clip-path=\"url(#clip0700)\" d=\"\n",
       "M1631.31 215.436 L1775.31 215.436 L1775.31 167.052 L1631.31 167.052 L1631.31 215.436  Z\n",
       "  \" fill=\"#ff0000\" fill-rule=\"evenodd\" fill-opacity=\"1\"/>\n",
       "<polyline clip-path=\"url(#clip0700)\" style=\"stroke:#000000; stroke-width:4; stroke-opacity:1; fill:none\" points=\"\n",
       "  1631.31,215.436 1775.31,215.436 1775.31,167.052 1631.31,167.052 1631.31,215.436 \n",
       "  \"/>\n",
       "<g clip-path=\"url(#clip0700)\">\n",
       "<text style=\"fill:#000000; fill-opacity:1; font-family:Arial,Helvetica Neue,Helvetica,sans-serif; font-size:48px; text-anchor:start;\" transform=\"rotate(0, 1799.31, 208.744)\" x=\"1799.31\" y=\"208.744\">redness in the apple</text>\n",
       "</g>\n",
       "</svg>\n"
      ]
     },
     "execution_count": 29,
     "metadata": {},
     "output_type": "execute_result"
    }
   ],
   "source": [
    "histogram(redpartofapple[:],color=:red,label=\"redness in the apple\")"
   ]
  },
  {
   "cell_type": "markdown",
   "metadata": {},
   "source": [
    "Note that we get a 2D array (matrix) back."
   ]
  },
  {
   "cell_type": "markdown",
   "metadata": {},
   "source": [
    "Julia's [mathematical standard library](https://docs.julialang.org/en/stable/stdlib/math/#Mathematics-1) has many mathematical functions built in. One of them is the `mean` function, which computes the average value. If we apply this to our apple:"
   ]
  },
  {
   "cell_type": "code",
   "execution_count": 30,
   "metadata": {},
   "outputs": [
    {
     "data": {
      "text/plain": [
       "0.5702784313725491"
      ]
     },
     "execution_count": 30,
     "metadata": {},
     "output_type": "execute_result"
    }
   ],
   "source": [
    "mean(Float64.(red.(apple)))"
   ]
  },
  {
   "cell_type": "markdown",
   "metadata": {},
   "source": [
    "we see that the value indicates that the average amount of red in the image is a value between the amount of red in the apple and the amount of red in the white background.\n",
    "\n",
    "*Somehow we need to teach a computer to use this information about a picture to recognize that there's an apple there!*"
   ]
  },
  {
   "cell_type": "markdown",
   "metadata": {},
   "source": [
    "## A quick riddle\n",
    "\n",
    "Here's a quick riddle. Let's check the average value of red in the image of the banana."
   ]
  },
  {
   "cell_type": "code",
   "execution_count": 31,
   "metadata": {},
   "outputs": [
    {
     "data": {
      "text/plain": [
       "0.9039976470588237"
      ]
     },
     "execution_count": 31,
     "metadata": {},
     "output_type": "execute_result"
    }
   ],
   "source": [
    "mean(Float64.(red.(banana)))"
   ]
  },
  {
   "cell_type": "markdown",
   "metadata": {},
   "source": [
    "Oh no, that's more red than our apple? This isn't a mistake and is actually true! Before you move onto the next exercise, examine the images of the apple and the banana very carefully and see if you can explain why this is expected."
   ]
  },
  {
   "cell_type": "markdown",
   "metadata": {},
   "source": [
    "#### Exercise 1\n",
    "\n",
    "What is the average value of blue in the banana?\n",
    "\n",
    "(To open a new box use <ESC>+b (b is for \"below\", what do you think a does?))"
   ]
  },
  {
   "cell_type": "markdown",
   "metadata": {},
   "source": [
    "#### Solution\n",
    "\n",
    "We can calculate the average value of blue in the banana via"
   ]
  },
  {
   "cell_type": "code",
   "execution_count": 9,
   "metadata": {},
   "outputs": [
    {
     "output_type": "execute_result",
     "data": {
      "text/plain": [
       "0.79964316f0"
      ]
     },
     "metadata": {},
     "execution_count": 9
    }
   ],
   "source": [
    "mean(float.(blue.(banana)))"
   ]
  },
  {
   "cell_type": "code",
   "execution_count": 10,
   "metadata": {},
   "outputs": [
    {
     "output_type": "execute_result",
     "data": {
      "text/plain": [
       "0.7996431372549019"
      ]
     },
     "metadata": {},
     "execution_count": 10
    }
   ],
   "source": [
    "mean(Float64.(blue.(banana)))"
   ]
  },
  {
   "cell_type": "markdown",
   "metadata": {},
   "source": [
    "The result is approximately `0.8`."
   ]
  },
  {
   "cell_type": "markdown",
   "metadata": {},
   "source": [
    "#### Exercise 2\n",
    "\n",
    "Does the banana have more blue or more green?"
   ]
  },
  {
   "cell_type": "markdown",
   "metadata": {},
   "source": [
    "#### Solution\n",
    "\n",
    "The average value of green in the banana is"
   ]
  },
  {
   "cell_type": "code",
   "execution_count": 11,
   "metadata": {},
   "outputs": [
    {
     "output_type": "execute_result",
     "data": {
      "text/plain": [
       "\"The banana has more green\""
      ]
     },
     "metadata": {},
     "execution_count": 11
    }
   ],
   "source": [
    "mean(Float64.(blue.(banana))) > mean(Float64.(green.(banana))) ? \n",
    "    \"The banana has more blue\" :\n",
    "    \"The banana has more green\""
   ]
  },
  {
   "cell_type": "code",
   "execution_count": null,
   "metadata": {},
   "outputs": [],
   "source": [
    "mean(Float64.(green.(banana)))"
   ]
  },
  {
   "cell_type": "markdown",
   "metadata": {},
   "source": [
    "which gives approximately `0.88`. The banana has more green on average."
   ]
  },
  {
   "cell_type": "markdown",
   "metadata": {},
   "source": [
    "# Modeling data 1\n",
    "\n",
    "Machine learning and data science is about modeling data. **Modeling** is the representation of an idea with some parameters and  a mathematical representation which we will encode in software. All machine learning methods are about training a computer to fit a model to some data. Even the fanciest neural networks are simply choices for models. In this notebook, we will begin to start building our first computational model of data."
   ]
  },
  {
   "cell_type": "markdown",
   "metadata": {},
   "source": [
    "## Modeling data is hard!\n",
    "\n",
    "Let's pick up where we left off in notebook 1 with fruit. We were left with a riddle: when we load images of apples and bananas,"
   ]
  },
  {
   "cell_type": "code",
   "execution_count": null,
   "metadata": {},
   "outputs": [],
   "source": [
    "# using Pkg; Pkg.add(\"Images\")\n",
    "using Images, Statistics\n",
    "\n",
    "apple = load(datafile(\"data/10_100.jpg\"))"
   ]
  },
  {
   "cell_type": "code",
   "execution_count": null,
   "metadata": {},
   "outputs": [],
   "source": [
    "banana = load(datafile(\"data/104_100.jpg\"))"
   ]
  },
  {
   "cell_type": "markdown",
   "metadata": {},
   "source": [
    "and then compare their average value for the color red, we end up with something that is perhaps surprising:"
   ]
  },
  {
   "cell_type": "code",
   "execution_count": 12,
   "metadata": {},
   "outputs": [
    {
     "output_type": "execute_result",
     "data": {
      "text/plain": [
       "\"The average value of red in the apple is 0.5702784313725491, while the average value of red in the banana is 0.9039976470588237.\""
      ]
     },
     "metadata": {},
     "execution_count": 12
    }
   ],
   "source": [
    "apple_red_amount = mean(Float64.(red.(apple)))\n",
    "banana_red_amount = mean(Float64.(red.(banana)));\n",
    "\n",
    "\"The average value of red in the apple is $apple_red_amount, \" *\n",
    "\"while the average value of red in the banana is $banana_red_amount.\""
   ]
  },
  {
   "cell_type": "markdown",
   "metadata": {},
   "source": [
    "We see that the banana's mean red value is higher than the apple's, even though the apple looks much redder. Can you guess why?\n",
    "\n",
    "There are actually two reasons. One of the reasons is the background: the image of the banana has a lot more white background than the apple, and that white background has a red value of 1! In our minds we ignore the background and say \"the banana is bright yellow, the apple is dark red\", but a computer just has a bundle of numbers and does not know where it should be looking.\n",
    "\n",
    "The other issue is that \"bright yellow\" isn't a color that exists in a computer. The computer has three colors: red, green, and blue. \"Bright yellow\" in a computer is a mixture of red and green, and it just so happens that to get this color yellow, it needs more red than the apple!"
   ]
  },
  {
   "cell_type": "code",
   "execution_count": 13,
   "metadata": {},
   "outputs": [
    {
     "output_type": "execute_result",
     "data": {
      "text/plain": [
       "\"The amount of red in the apple at (60, 60) is 0.44705882352941173, while the amount of red in the banana at (60, 60) is 0.6666666666666666.\""
      ]
     },
     "metadata": {},
     "execution_count": 13
    }
   ],
   "source": [
    "\"The amount of red in the apple at (60, 60) is $(Float64(red(apple[60, 60]))), \" *\n",
    "\"while the amount of red in the banana at (60, 60) is $(Float64(red(banana[60, 60]))).\""
   ]
  },
  {
   "cell_type": "code",
   "execution_count": 14,
   "metadata": {},
   "outputs": [
    {
     "output_type": "execute_result",
     "data": {
      "text/plain": [
       "RGB{N0f8}(0.447,0.047,0.027)"
      ],
      "image/svg+xml": "<?xml version=\"1.0\" encoding=\"UTF-8\"?>\n<!DOCTYPE svg PUBLIC \"-//W3C//DTD SVG 1.1//EN\"\n \"http://www.w3.org/Graphics/SVG/1.1/DTD/svg11.dtd\">\n<svg xmlns=\"http://www.w3.org/2000/svg\" version=\"1.1\"\n     width=\"25mm\" height=\"25mm\" viewBox=\"0 0 1 1\">\n    <rect width=\"1\" height=\"1\" fill=\"#720C07\" stroke=\"none\"/>\n</svg>\n"
     },
     "metadata": {},
     "execution_count": 14
    }
   ],
   "source": [
    "apple[60,60]"
   ]
  },
  {
   "cell_type": "code",
   "execution_count": 15,
   "metadata": {},
   "outputs": [
    {
     "output_type": "execute_result",
     "data": {
      "text/plain": [
       "RGB{N0f8}(0.667,0.592,0.09)"
      ],
      "image/svg+xml": "<?xml version=\"1.0\" encoding=\"UTF-8\"?>\n<!DOCTYPE svg PUBLIC \"-//W3C//DTD SVG 1.1//EN\"\n \"http://www.w3.org/Graphics/SVG/1.1/DTD/svg11.dtd\">\n<svg xmlns=\"http://www.w3.org/2000/svg\" version=\"1.1\"\n     width=\"25mm\" height=\"25mm\" viewBox=\"0 0 1 1\">\n    <rect width=\"1\" height=\"1\" fill=\"#AA9717\" stroke=\"none\"/>\n</svg>\n"
     },
     "metadata": {},
     "execution_count": 15
    }
   ],
   "source": [
    "banana[60,60]"
   ]
  },
  {
   "cell_type": "markdown",
   "metadata": {},
   "source": [
    "This is a clear example that modeling data is hard!"
   ]
  },
  {
   "cell_type": "markdown",
   "metadata": {},
   "source": [
    "### A note on string interpolation\n",
    "\n",
    "In the last two input cells, we *interpolated a string*. This means that when we write the string using quotation marks (`\"  \"`), we insert a placeholder for some **value** we want the string to include. When the string is evaluated, the value we want the string to include replaces the placeholder. For example, in the following string,\n",
    "\n",
    "```julia\n",
    "mystring = \"The average value of red in the apple is $apple_red_amount\"\n",
    "```\n",
    "\n",
    "`$apple_red_amount` is a placeholder for the value stored in the variable `apple_red_amount`. Julia knows that we want to use the value bound to the variable `apple_red_amount` and *not* the word \"apple_red_amount\" because of the dollar sign, `$`, that comes before `apple_red_amount`."
   ]
  },
  {
   "cell_type": "markdown",
   "metadata": {},
   "source": [
    "#### Exercise 1\n",
    "\n",
    "Execute the following code to see what the dollar sign does:\n",
    "\n",
    "```julia\n",
    "mypi = 3.14159\n",
    "println(\"I have a variable called mypi that has a value of $mypi.\")\n",
    "```"
   ]
  },
  {
   "cell_type": "markdown",
   "metadata": {},
   "source": [
    "#### Solution"
   ]
  },
  {
   "cell_type": "code",
   "execution_count": 16,
   "metadata": {},
   "outputs": [
    {
     "output_type": "stream",
     "name": "stdout",
     "text": [
      "I have a variable called mypi that has a value of 3.14159.\n"
     ]
    }
   ],
   "source": [
    "mypi = 3.14159\n",
    "println(\"I have a variable called mypi that has a value of $mypi.\")"
   ]
  },
  {
   "cell_type": "markdown",
   "metadata": {},
   "source": [
    "#### Exercise 2\n",
    "\n",
    "Alter and execute the code that creates `mystring` below\n",
    "\n",
    "```julia\n",
    "apple_blue_amount = mean(Float64.(blue.(apple)))\n",
    "mystring = \"The average amount of blue in the apple is apple_blue_amount\"\n",
    "```\n",
    "\n",
    "so that `println(mystring)` prints a string that reports the mean value of blue coloration in our image of an apple."
   ]
  },
  {
   "cell_type": "markdown",
   "metadata": {},
   "source": [
    "#### Solution"
   ]
  },
  {
   "cell_type": "code",
   "execution_count": 18,
   "metadata": {},
   "outputs": [
    {
     "output_type": "stream",
     "name": "stdout",
     "text": [
      "The average amount of blue in the apple is 0.32240588235294115\n"
     ]
    }
   ],
   "source": [
    "apple_blue_amount = mean(Float64.(blue.(apple)))\n",
    "mystring = \"The average amount of blue in the apple is $apple_blue_amount\"\n",
    "\n",
    "println(mystring)"
   ]
  },
  {
   "cell_type": "markdown",
   "metadata": {},
   "source": [
    "Add a `$` in front of `apple_blue_amount`:"
   ]
  },
  {
   "cell_type": "code",
   "execution_count": null,
   "metadata": {},
   "outputs": [],
   "source": [
    "apple_blue_amount = mean(Float64.(blue.(apple)))\n",
    "mystring = \"The average amount of blue in the apple is $apple_blue_amount.\""
   ]
  },
  {
   "cell_type": "markdown",
   "metadata": {},
   "source": [
    "## Take some time to think about the data\n",
    "\n",
    "Apples and bananas are very different, but how could we use the array of RGB values (which is how the images are represented in the computer, as we saw in notebook 1) to tell the difference between the two? Here are some quick ideas:\n",
    "\n",
    "- We could use the shape of the object in the image. But how can we encode ideas about shape from an array?\n",
    "- We could use the size of the object in the image. But how do we calculate that size?\n",
    "- We could use another color, or combinations of colors, from the image. Which colors?\n",
    "\n",
    "Let's go with the last route. The banana is yellow, which is a combination of red and green, while the apple is red. This means that the color that clearly differentiates between the two is not red, but green!"
   ]
  },
  {
   "cell_type": "code",
   "execution_count": 19,
   "metadata": {},
   "outputs": [
    {
     "output_type": "execute_result",
     "data": {
      "text/plain": [
       "\"The average value of green in the apple is 0.33811764705882347, while the average value of green in the banana is 0.8806921568627452.\""
      ]
     },
     "metadata": {},
     "execution_count": 19
    }
   ],
   "source": [
    "apple_green_amount = mean(Float64.(green.(apple)))\n",
    "banana_green_amount = mean(Float64.(green.(banana)));\n",
    "\n",
    "\"The average value of green in the apple is $apple_green_amount, \" *\n",
    "\"while the average value of green in the banana is $banana_green_amount.\""
   ]
  },
  {
   "cell_type": "markdown",
   "metadata": {},
   "source": [
    "The processes that we just went through are assigned fancy names: feature selection and data munging.\n",
    "\n",
    "**Feature selection** is the process of subsetting the data to a more relevant and informative set. We took the full image data and decided to select out the green channel.\n",
    "\n",
    "**Data munging** is transforming the data into a format more suitable for modeling. Here, instead of keeping the full green channel, we transformed it down to a single data point: the average amount of green."
   ]
  },
  {
   "cell_type": "markdown",
   "metadata": {},
   "source": [
    "## Building a model\n",
    "\n",
    "We want to model the connection between \"the average amount of green\" and \"is an apple or banana\".\n",
    "\n",
    "<img src=\"https://raw.githubusercontent.com/JuliaComputing/JuliaAcademyData.jl/master/courses/Foundations%20of%20machine%20learning/data/data_flow.png\" alt=\"Drawing\" style=\"width: 800px;\"/>\n",
    "\n",
    "This model is a mathematical function which takes in our data and spits out a number that we will interpret as \"is an apple\" or \"is a banana\".\n",
    "\n",
    "<img src=\"https://raw.githubusercontent.com/JuliaComputing/JuliaAcademyData.jl/master/courses/Foundations%20of%20machine%20learning/data/what_is_model.png\" alt=\"Drawing\" style=\"width: 500px;\"/>\n",
    "\n",
    "\n",
    "We will interpret the output of the function as \"is an apple\" if the output is close to 0, and \"is a banana\" if it's close to 1. Anything in the middle is something we are unsure about. Here we're using a mathematical function to perform a **classification**.\n",
    "\n",
    "Knowing how to declare and work with functions will allow us to model our data in the coming sections, so this is the subject of the next notebook!"
   ]
  }
 ],
 "metadata": {
  "kernelspec": {
   "display_name": "Julia 1.5.2",
   "language": "julia",
   "name": "julia-1.5"
  },
  "language_info": {
   "file_extension": ".jl",
   "mimetype": "application/julia",
   "name": "julia",
   "version": "1.5.2"
  }
 },
 "nbformat": 4,
 "nbformat_minor": 3
}