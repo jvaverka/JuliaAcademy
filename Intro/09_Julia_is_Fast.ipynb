{
 "cells": [
  {
   "cell_type": "markdown",
   "source": [
    "# Julia is fast\n",
    "\n",
    "Very often, benchmarks are used to compare languages.  These benchmarks can lead to long discussions, first as to exactly what is being benchmarked and secondly what explains the differences.  These simple questions can sometimes get more complicated than you at first might imagine.\n",
    "\n",
    "The purpose of this notebook is for you to see a simple benchmark for yourself.  One can read the notebook and see what happened on the author's Macbook Pro with a 4-core Intel Core I7, or run the notebook yourself.\n",
    "\n",
    "(This material began life as a wonderful lecture by Steven Johnson at MIT: https://github.com/stevengj/18S096/blob/master/lectures/lecture1/Boxes-and-registers.ipynb.)"
   ],
   "metadata": {}
  },
  {
   "cell_type": "markdown",
   "source": [
    "# Outline of this notebook\n",
    "\n",
    "- Define the sum function\n",
    "- Implementations & benchmarking of sum in...\n",
    "    - C (hand-written)\n",
    "    - C (hand-written with -ffast-math)\n",
    "    - python (built-in)\n",
    "    - python (numpy)\n",
    "    - python (hand-written)\n",
    "    - Julia (built-in)\n",
    "    - Julia (hand-written)\n",
    "    - Julia (hand-written with SIMD)\n",
    "- Summary of benchmarks"
   ],
   "metadata": {}
  },
  {
   "cell_type": "markdown",
   "source": [
    "# `sum`: An easy enough function to understand"
   ],
   "metadata": {}
  },
  {
   "cell_type": "markdown",
   "source": [
    "Consider the  **sum** function `sum(a)`, which computes\n",
    "$$\n",
    "\\mathrm{sum}(a) = \\sum_{i=1}^n a_i,\n",
    "$$\n",
    "where $n$ is the length of `a`."
   ],
   "metadata": {}
  },
  {
   "outputs": [
    {
     "output_type": "execute_result",
     "data": {
      "text/plain": [
       "10000000-element Array{Float64,1}:\n",
       " 0.8525952081831147\n",
       " 0.780436402731923\n",
       " 0.35088780786318874\n",
       " 0.30542533994579646\n",
       " 0.7156091462106562\n",
       " 0.018461370383384468\n",
       " 0.19103131654067806\n",
       " 0.2534765180900962\n",
       " 0.8659073722474666\n",
       " 0.6735554508817638\n",
       " 0.8750000619970622\n",
       " 0.7964696112065275\n",
       " 0.8191180679681243\n",
       " ⋮\n",
       " 0.6672386648062618\n",
       " 0.05225368129683394\n",
       " 0.468622803183651\n",
       " 0.3225457077133731\n",
       " 0.657240407430677\n",
       " 0.385338383469328\n",
       " 0.07003768350045392\n",
       " 0.547830916489753\n",
       " 0.33397105904771873\n",
       " 0.4113118910644311\n",
       " 0.5162523234574719\n",
       " 0.5018161081624564"
      ]
     },
     "metadata": {},
     "execution_count": 1
    }
   ],
   "cell_type": "code",
   "source": [
    "a = rand(10^7) # 1D vector of random numbers, uniform on [0,1)"
   ],
   "metadata": {},
   "execution_count": 1
  },
  {
   "outputs": [
    {
     "output_type": "execute_result",
     "data": {
      "text/plain": [
       "5.000528563285114e6"
      ]
     },
     "metadata": {},
     "execution_count": 2
    }
   ],
   "cell_type": "code",
   "source": [
    "sum(a)"
   ],
   "metadata": {},
   "execution_count": 2
  },
  {
   "cell_type": "markdown",
   "source": [
    "The expected result is 0.5 * 10^7, since the mean of each entry is 0.5"
   ],
   "metadata": {}
  },
  {
   "cell_type": "markdown",
   "source": [
    "# Benchmarking a few ways in a few languages"
   ],
   "metadata": {}
  },
  {
   "outputs": [
    {
     "output_type": "stream",
     "name": "stdout",
     "text": [
      "  0.005452 seconds (1 allocation: 16 bytes)\n"
     ]
    },
    {
     "output_type": "execute_result",
     "data": {
      "text/plain": [
       "5.000528563285114e6"
      ]
     },
     "metadata": {},
     "execution_count": 3
    }
   ],
   "cell_type": "code",
   "source": [
    "@time sum(a)"
   ],
   "metadata": {},
   "execution_count": 3
  },
  {
   "outputs": [
    {
     "output_type": "stream",
     "name": "stdout",
     "text": [
      "  0.005239 seconds (1 allocation: 16 bytes)\n"
     ]
    },
    {
     "output_type": "execute_result",
     "data": {
      "text/plain": [
       "5.000528563285114e6"
      ]
     },
     "metadata": {},
     "execution_count": 4
    }
   ],
   "cell_type": "code",
   "source": [
    "@time sum(a)"
   ],
   "metadata": {},
   "execution_count": 4
  },
  {
   "outputs": [
    {
     "output_type": "stream",
     "name": "stdout",
     "text": [
      "  0.005445 seconds (1 allocation: 16 bytes)\n"
     ]
    },
    {
     "output_type": "execute_result",
     "data": {
      "text/plain": [
       "5.000528563285114e6"
      ]
     },
     "metadata": {},
     "execution_count": 5
    }
   ],
   "cell_type": "code",
   "source": [
    "@time sum(a)"
   ],
   "metadata": {},
   "execution_count": 5
  },
  {
   "cell_type": "markdown",
   "source": [
    "The `@time` macro can yield noisy results, so it's not our best choice for benchmarking!\n",
    "\n",
    "Luckily, Julia has a `BenchmarkTools.jl` package to make benchmarking easy and accurate:"
   ],
   "metadata": {}
  },
  {
   "outputs": [],
   "cell_type": "code",
   "source": [
    "# using Pkg\n",
    "# Pkg.add(\"BenchmarkTools\")"
   ],
   "metadata": {},
   "execution_count": 6
  },
  {
   "outputs": [
    {
     "output_type": "stream",
     "name": "stderr",
     "text": [
      "┌ Info: Precompiling BenchmarkTools [6e4b80f9-dd63-53aa-95a3-0cdb28fa8baf]\n└ @ Base loading.jl:1278\n"
     ]
    }
   ],
   "cell_type": "code",
   "source": [
    "using BenchmarkTools"
   ],
   "metadata": {},
   "execution_count": 7
  },
  {
   "cell_type": "markdown",
   "source": [
    "#  1. The C language\n",
    "\n",
    "C is often considered the gold standard: difficult on the human, nice for the machine. Getting within a factor of 2 of C is often satisfying. Nonetheless, even within C, there are many kinds of optimizations possible that a naive C writer may or may not get the advantage of.\n",
    "\n",
    "The current author does not speak C, so he does not read the cell below, but is happy to know that you can put C code in a Julia session, compile it, and run it. Note that the `\"\"\"` wrap a multi-line string."
   ],
   "metadata": {}
  },
  {
   "outputs": [
    {
     "output_type": "execute_result",
     "data": {
      "text/plain": [
       "c_sum (generic function with 1 method)"
      ]
     },
     "metadata": {},
     "execution_count": 8
    }
   ],
   "cell_type": "code",
   "source": [
    "using Libdl\n",
    "C_code = \"\"\"\n",
    "#include <stddef.h>\n",
    "double c_sum(size_t n, double *X) {\n",
    "    double s = 0.0;\n",
    "    for (size_t i = 0; i < n; ++i) {\n",
    "        s += X[i];\n",
    "    }\n",
    "    return s;\n",
    "}\n",
    "\"\"\"\n",
    "\n",
    "const Clib = tempname()   # make a temporary file\n",
    "\n",
    "\n",
    "# compile to a shared library by piping C_code to gcc\n",
    "# (works only if you have gcc installed):\n",
    "\n",
    "open(`gcc -fPIC -O3 -msse3 -xc -shared -o $(Clib * \".\" * Libdl.dlext) -`, \"w\") do f\n",
    "    print(f, C_code)\n",
    "end\n",
    "\n",
    "# define a Julia function that calls the C function:\n",
    "c_sum(X::Array{Float64}) = ccall((\"c_sum\", Clib), Float64, (Csize_t, Ptr{Float64}), length(X), X)"
   ],
   "metadata": {},
   "execution_count": 8
  },
  {
   "outputs": [
    {
     "output_type": "execute_result",
     "data": {
      "text/plain": [
       "5.000528563285782e6"
      ]
     },
     "metadata": {},
     "execution_count": 9
    }
   ],
   "cell_type": "code",
   "source": [
    "c_sum(a)"
   ],
   "metadata": {},
   "execution_count": 9
  },
  {
   "outputs": [
    {
     "output_type": "execute_result",
     "data": {
      "text/plain": [
       "true"
      ]
     },
     "metadata": {},
     "execution_count": 10
    }
   ],
   "cell_type": "code",
   "source": [
    "c_sum(a) ≈ sum(a) # type \\approx and then <TAB> to get the ≈ symbolb"
   ],
   "metadata": {},
   "execution_count": 10
  },
  {
   "outputs": [
    {
     "output_type": "execute_result",
     "data": {
      "text/plain": [
       "6.677582859992981e-7"
      ]
     },
     "metadata": {},
     "execution_count": 11
    }
   ],
   "cell_type": "code",
   "source": [
    "c_sum(a) - sum(a)"
   ],
   "metadata": {},
   "execution_count": 11
  },
  {
   "outputs": [
    {
     "output_type": "execute_result",
     "data": {
      "text/plain": [
       "isapprox (generic function with 9 methods)"
      ]
     },
     "metadata": {},
     "execution_count": 12
    }
   ],
   "cell_type": "code",
   "source": [
    "≈  # alias for the `isapprox` function"
   ],
   "metadata": {},
   "execution_count": 12
  },
  {
   "outputs": [
    {
     "output_type": "stream",
     "name": "stdout",
     "text": [
      "search: \u001b[0m\u001b[1mi\u001b[22m\u001b[0m\u001b[1ms\u001b[22m\u001b[0m\u001b[1ma\u001b[22m\u001b[0m\u001b[1mp\u001b[22m\u001b[0m\u001b[1mp\u001b[22m\u001b[0m\u001b[1mr\u001b[22m\u001b[0m\u001b[1mo\u001b[22m\u001b[0m\u001b[1mx\u001b[22m\n\n"
     ]
    },
    {
     "output_type": "execute_result",
     "data": {
      "text/plain": [
       "\u001b[36m  isapprox(x, y; rtol::Real=atol>0 ? 0 : √eps, atol::Real=0, nans::Bool=false, norm::Function)\u001b[39m\n",
       "\n",
       "  Inexact equality comparison: \u001b[36mtrue\u001b[39m if \u001b[36mnorm(x-y) <= max(atol,\n",
       "  rtol*max(norm(x), norm(y)))\u001b[39m. The default \u001b[36matol\u001b[39m is zero and the default \u001b[36mrtol\u001b[39m\n",
       "  depends on the types of \u001b[36mx\u001b[39m and \u001b[36my\u001b[39m. The keyword argument \u001b[36mnans\u001b[39m determines\n",
       "  whether or not NaN values are considered equal (defaults to false).\n",
       "\n",
       "  For real or complex floating-point values, if an \u001b[36matol > 0\u001b[39m is not specified,\n",
       "  \u001b[36mrtol\u001b[39m defaults to the square root of \u001b[36meps\u001b[39m of the type of \u001b[36mx\u001b[39m or \u001b[36my\u001b[39m, whichever is\n",
       "  bigger (least precise). This corresponds to requiring equality of about half\n",
       "  of the significand digits. Otherwise, e.g. for integer arguments or if an\n",
       "  \u001b[36matol > 0\u001b[39m is supplied, \u001b[36mrtol\u001b[39m defaults to zero.\n",
       "\n",
       "  \u001b[36mx\u001b[39m and \u001b[36my\u001b[39m may also be arrays of numbers, in which case \u001b[36mnorm\u001b[39m defaults to the\n",
       "  usual \u001b[36mnorm\u001b[39m function in LinearAlgebra, but may be changed by passing a\n",
       "  \u001b[36mnorm::Function\u001b[39m keyword argument. (For numbers, \u001b[36mnorm\u001b[39m is the same thing as\n",
       "  \u001b[36mabs\u001b[39m.) When \u001b[36mx\u001b[39m and \u001b[36my\u001b[39m are arrays, if \u001b[36mnorm(x-y)\u001b[39m is not finite (i.e. \u001b[36m±Inf\u001b[39m or\n",
       "  \u001b[36mNaN\u001b[39m), the comparison falls back to checking whether all elements of \u001b[36mx\u001b[39m and \u001b[36my\u001b[39m\n",
       "  are approximately equal component-wise.\n",
       "\n",
       "  The binary operator \u001b[36m≈\u001b[39m is equivalent to \u001b[36misapprox\u001b[39m with the default arguments,\n",
       "  and \u001b[36mx ≉ y\u001b[39m is equivalent to \u001b[36m!isapprox(x,y)\u001b[39m.\n",
       "\n",
       "  Note that \u001b[36mx ≈ 0\u001b[39m (i.e., comparing to zero with the default tolerances) is\n",
       "  equivalent to \u001b[36mx == 0\u001b[39m since the default \u001b[36matol\u001b[39m is \u001b[36m0\u001b[39m. In such cases, you should\n",
       "  either supply an appropriate \u001b[36matol\u001b[39m (or use \u001b[36mnorm(x) ≤ atol\u001b[39m) or rearrange your\n",
       "  code (e.g. use \u001b[36mx ≈ y\u001b[39m rather than \u001b[36mx - y ≈ 0\u001b[39m). It is not possible to pick a\n",
       "  nonzero \u001b[36matol\u001b[39m automatically because it depends on the overall scaling (the\n",
       "  \"units\") of your problem: for example, in \u001b[36mx - y ≈ 0\u001b[39m, \u001b[36matol=1e-9\u001b[39m is an\n",
       "  absurdly small tolerance if \u001b[36mx\u001b[39m is the radius of the Earth\n",
       "  (https://en.wikipedia.org/wiki/Earth_radius) in meters, but an absurdly\n",
       "  large tolerance if \u001b[36mx\u001b[39m is the radius of a Hydrogen atom\n",
       "  (https://en.wikipedia.org/wiki/Bohr_radius) in meters.\n",
       "\n",
       "\u001b[1m  Examples\u001b[22m\n",
       "\u001b[1m  ≡≡≡≡≡≡≡≡≡≡\u001b[22m\n",
       "\n",
       "\u001b[36m  julia> 0.1 ≈ (0.1 - 1e-10)\u001b[39m\n",
       "\u001b[36m  true\u001b[39m\n",
       "\u001b[36m  \u001b[39m\n",
       "\u001b[36m  julia> isapprox(10, 11; atol = 2)\u001b[39m\n",
       "\u001b[36m  true\u001b[39m\n",
       "\u001b[36m  \u001b[39m\n",
       "\u001b[36m  julia> isapprox([10.0^9, 1.0], [10.0^9, 2.0])\u001b[39m\n",
       "\u001b[36m  true\u001b[39m\n",
       "\u001b[36m  \u001b[39m\n",
       "\u001b[36m  julia> 1e-10 ≈ 0\u001b[39m\n",
       "\u001b[36m  false\u001b[39m\n",
       "\u001b[36m  \u001b[39m\n",
       "\u001b[36m  julia> isapprox(1e-10, 0, atol=1e-8)\u001b[39m\n",
       "\u001b[36m  true\u001b[39m\n",
       "\n",
       "  ────────────────────────────────────────────────────────────────────────────\n",
       "\n",
       "\u001b[36m  isapprox(x; kwargs...) / ≈(x; kwargs...)\u001b[39m\n",
       "\n",
       "  Create a function that compares its argument to \u001b[36mx\u001b[39m using \u001b[36m≈\u001b[39m, i.e. a function\n",
       "  equivalent to \u001b[36my -> y ≈ x\u001b[39m.\n",
       "\n",
       "  The keyword arguments supported here are the same as those in the 2-argument\n",
       "  \u001b[36misapprox\u001b[39m."
      ],
      "text/markdown": "```\nisapprox(x, y; rtol::Real=atol>0 ? 0 : √eps, atol::Real=0, nans::Bool=false, norm::Function)\n```\n\nInexact equality comparison: `true` if `norm(x-y) <= max(atol, rtol*max(norm(x), norm(y)))`. The default `atol` is zero and the default `rtol` depends on the types of `x` and `y`. The keyword argument `nans` determines whether or not NaN values are considered equal (defaults to false).\n\nFor real or complex floating-point values, if an `atol > 0` is not specified, `rtol` defaults to the square root of [`eps`](@ref) of the type of `x` or `y`, whichever is bigger (least precise). This corresponds to requiring equality of about half of the significand digits. Otherwise, e.g. for integer arguments or if an `atol > 0` is supplied, `rtol` defaults to zero.\n\n`x` and `y` may also be arrays of numbers, in which case `norm` defaults to the usual `norm` function in LinearAlgebra, but may be changed by passing a `norm::Function` keyword argument. (For numbers, `norm` is the same thing as `abs`.) When `x` and `y` are arrays, if `norm(x-y)` is not finite (i.e. `±Inf` or `NaN`), the comparison falls back to checking whether all elements of `x` and `y` are approximately equal component-wise.\n\nThe binary operator `≈` is equivalent to `isapprox` with the default arguments, and `x ≉ y` is equivalent to `!isapprox(x,y)`.\n\nNote that `x ≈ 0` (i.e., comparing to zero with the default tolerances) is equivalent to `x == 0` since the default `atol` is `0`.  In such cases, you should either supply an appropriate `atol` (or use `norm(x) ≤ atol`) or rearrange your code (e.g. use `x ≈ y` rather than `x - y ≈ 0`).   It is not possible to pick a nonzero `atol` automatically because it depends on the overall scaling (the \"units\") of your problem: for example, in `x - y ≈ 0`, `atol=1e-9` is an absurdly small tolerance if `x` is the [radius of the Earth](https://en.wikipedia.org/wiki/Earth_radius) in meters, but an absurdly large tolerance if `x` is the [radius of a Hydrogen atom](https://en.wikipedia.org/wiki/Bohr_radius) in meters.\n\n# Examples\n\n```jldoctest\njulia> 0.1 ≈ (0.1 - 1e-10)\ntrue\n\njulia> isapprox(10, 11; atol = 2)\ntrue\n\njulia> isapprox([10.0^9, 1.0], [10.0^9, 2.0])\ntrue\n\njulia> 1e-10 ≈ 0\nfalse\n\njulia> isapprox(1e-10, 0, atol=1e-8)\ntrue\n```\n\n---\n\n```\nisapprox(x; kwargs...) / ≈(x; kwargs...)\n```\n\nCreate a function that compares its argument to `x` using `≈`, i.e. a function equivalent to `y -> y ≈ x`.\n\nThe keyword arguments supported here are the same as those in the 2-argument `isapprox`.\n",
      "text/latex": "\\begin{verbatim}\nisapprox(x, y; rtol::Real=atol>0 ? 0 : √eps, atol::Real=0, nans::Bool=false, norm::Function)\n\\end{verbatim}\nInexact equality comparison: \\texttt{true} if \\texttt{norm(x-y) <= max(atol, rtol*max(norm(x), norm(y)))}. The default \\texttt{atol} is zero and the default \\texttt{rtol} depends on the types of \\texttt{x} and \\texttt{y}. The keyword argument \\texttt{nans} determines whether or not NaN values are considered equal (defaults to false).\n\nFor real or complex floating-point values, if an \\texttt{atol > 0} is not specified, \\texttt{rtol} defaults to the square root of \\href{@ref}{\\texttt{eps}} of the type of \\texttt{x} or \\texttt{y}, whichever is bigger (least precise). This corresponds to requiring equality of about half of the significand digits. Otherwise, e.g. for integer arguments or if an \\texttt{atol > 0} is supplied, \\texttt{rtol} defaults to zero.\n\n\\texttt{x} and \\texttt{y} may also be arrays of numbers, in which case \\texttt{norm} defaults to the usual \\texttt{norm} function in LinearAlgebra, but may be changed by passing a \\texttt{norm::Function} keyword argument. (For numbers, \\texttt{norm} is the same thing as \\texttt{abs}.) When \\texttt{x} and \\texttt{y} are arrays, if \\texttt{norm(x-y)} is not finite (i.e. \\texttt{±Inf} or \\texttt{NaN}), the comparison falls back to checking whether all elements of \\texttt{x} and \\texttt{y} are approximately equal component-wise.\n\nThe binary operator \\texttt{≈} is equivalent to \\texttt{isapprox} with the default arguments, and \\texttt{x ≉ y} is equivalent to \\texttt{!isapprox(x,y)}.\n\nNote that \\texttt{x ≈ 0} (i.e., comparing to zero with the default tolerances) is equivalent to \\texttt{x == 0} since the default \\texttt{atol} is \\texttt{0}.  In such cases, you should either supply an appropriate \\texttt{atol} (or use \\texttt{norm(x) ≤ atol}) or rearrange your code (e.g. use \\texttt{x ≈ y} rather than \\texttt{x - y ≈ 0}).   It is not possible to pick a nonzero \\texttt{atol} automatically because it depends on the overall scaling (the \"units\") of your problem: for example, in \\texttt{x - y ≈ 0}, \\texttt{atol=1e-9} is an absurdly small tolerance if \\texttt{x} is the \\href{https://en.wikipedia.org/wiki/Earth_radius}{radius of the Earth} in meters, but an absurdly large tolerance if \\texttt{x} is the \\href{https://en.wikipedia.org/wiki/Bohr_radius}{radius of a Hydrogen atom} in meters.\n\n\\section{Examples}\n\\begin{verbatim}\njulia> 0.1 ≈ (0.1 - 1e-10)\ntrue\n\njulia> isapprox(10, 11; atol = 2)\ntrue\n\njulia> isapprox([10.0^9, 1.0], [10.0^9, 2.0])\ntrue\n\njulia> 1e-10 ≈ 0\nfalse\n\njulia> isapprox(1e-10, 0, atol=1e-8)\ntrue\n\\end{verbatim}\n\\rule{\\textwidth}{1pt}\n\\begin{verbatim}\nisapprox(x; kwargs...) / ≈(x; kwargs...)\n\\end{verbatim}\nCreate a function that compares its argument to \\texttt{x} using \\texttt{≈}, i.e. a function equivalent to \\texttt{y -> y ≈ x}.\n\nThe keyword arguments supported here are the same as those in the 2-argument \\texttt{isapprox}.\n\n"
     },
     "metadata": {},
     "execution_count": 13
    }
   ],
   "cell_type": "code",
   "source": [
    "?isapprox"
   ],
   "metadata": {},
   "execution_count": 13
  },
  {
   "cell_type": "markdown",
   "source": [
    "We can now benchmark the C code directly from Julia:"
   ],
   "metadata": {}
  },
  {
   "outputs": [
    {
     "output_type": "execute_result",
     "data": {
      "text/plain": [
       "BenchmarkTools.Trial: \n",
       "  memory estimate:  0 bytes\n",
       "  allocs estimate:  0\n",
       "  --------------\n",
       "  minimum time:     10.529 ms (0.00% GC)\n",
       "  median time:      11.982 ms (0.00% GC)\n",
       "  mean time:        12.027 ms (0.00% GC)\n",
       "  maximum time:     14.415 ms (0.00% GC)\n",
       "  --------------\n",
       "  samples:          416\n",
       "  evals/sample:     1"
      ]
     },
     "metadata": {},
     "execution_count": 14
    }
   ],
   "cell_type": "code",
   "source": [
    "c_bench = @benchmark c_sum($a)"
   ],
   "metadata": {},
   "execution_count": 14
  },
  {
   "outputs": [
    {
     "output_type": "stream",
     "name": "stdout",
     "text": [
      "C: Fastest time was 10.529325 msec\n"
     ]
    }
   ],
   "cell_type": "code",
   "source": [
    "println(\"C: Fastest time was $(minimum(c_bench.times) / 1e6) msec\")"
   ],
   "metadata": {},
   "execution_count": 15
  },
  {
   "outputs": [
    {
     "output_type": "execute_result",
     "data": {
      "text/plain": [
       "Dict{Any,Any} with 1 entry:\n",
       "  \"C\" => 10.5293"
      ]
     },
     "metadata": {},
     "execution_count": 16
    }
   ],
   "cell_type": "code",
   "source": [
    "d = Dict()  # a \"dictionary\", i.e. an associative array\n",
    "d[\"C\"] = minimum(c_bench.times) / 1e6  # in milliseconds\n",
    "d"
   ],
   "metadata": {},
   "execution_count": 16
  },
  {
   "outputs": [
    {
     "output_type": "stream",
     "name": "stderr",
     "text": [
      "┌ Info: Precompiling Plots [91a5bcdd-55d7-5caf-9e0b-520d859cae80]\n└ @ Base loading.jl:1278\n"
     ]
    },
    {
     "output_type": "execute_result",
     "data": {
      "text/plain": [
       "Plots.GRBackend()"
      ]
     },
     "metadata": {},
     "execution_count": 17
    }
   ],
   "cell_type": "code",
   "source": [
    "using Plots\n",
    "gr()"
   ],
   "metadata": {},
   "execution_count": 17
  },
  {
   "outputs": [
    {
     "output_type": "execute_result",
     "data": {
      "image/svg+xml": "<?xml version=\"1.0\" encoding=\"utf-8\"?>\n<svg xmlns=\"http://www.w3.org/2000/svg\" xmlns:xlink=\"http://www.w3.org/1999/xlink\" width=\"600\" height=\"400\" viewBox=\"0 0 2400 1600\">\n<defs>\n  <clipPath id=\"clip780\">\n    <rect x=\"0\" y=\"0\" width=\"2400\" height=\"1600\"/>\n  </clipPath>\n</defs>\n<path clip-path=\"url(#clip780)\" d=\"\nM0 1600 L2400 1600 L2400 0 L0 0  Z\n  \" fill=\"#ffffff\" fill-rule=\"evenodd\" fill-opacity=\"1\"/>\n<defs>\n  <clipPath id=\"clip781\">\n    <rect x=\"480\" y=\"0\" width=\"1681\" height=\"1600\"/>\n  </clipPath>\n</defs>\n<path clip-path=\"url(#clip780)\" d=\"\nM175.445 1423.18 L2352.76 1423.18 L2352.76 47.2441 L175.445 47.2441  Z\n  \" fill=\"#ffffff\" fill-rule=\"evenodd\" fill-opacity=\"1\"/>\n<defs>\n  <clipPath id=\"clip782\">\n    <rect x=\"175\" y=\"47\" width=\"2178\" height=\"1377\"/>\n  </clipPath>\n</defs>\n<polyline clip-path=\"url(#clip782)\" style=\"stroke:#000000; stroke-width:2; stroke-opacity:0.1; fill:none\" points=\"\n  380.016,1423.18 380.016,47.2441 \n  \"/>\n<polyline clip-path=\"url(#clip782)\" style=\"stroke:#000000; stroke-width:2; stroke-opacity:0.1; fill:none\" points=\"\n  887.166,1423.18 887.166,47.2441 \n  \"/>\n<polyline clip-path=\"url(#clip782)\" style=\"stroke:#000000; stroke-width:2; stroke-opacity:0.1; fill:none\" points=\"\n  1394.31,1423.18 1394.31,47.2441 \n  \"/>\n<polyline clip-path=\"url(#clip782)\" style=\"stroke:#000000; stroke-width:2; stroke-opacity:0.1; fill:none\" points=\"\n  1901.46,1423.18 1901.46,47.2441 \n  \"/>\n<polyline clip-path=\"url(#clip780)\" style=\"stroke:#000000; stroke-width:4; stroke-opacity:1; fill:none\" points=\"\n  175.445,1423.18 2352.76,1423.18 \n  \"/>\n<polyline clip-path=\"url(#clip780)\" style=\"stroke:#000000; stroke-width:4; stroke-opacity:1; fill:none\" points=\"\n  380.016,1423.18 380.016,1406.67 \n  \"/>\n<polyline clip-path=\"url(#clip780)\" style=\"stroke:#000000; stroke-width:4; stroke-opacity:1; fill:none\" points=\"\n  887.166,1423.18 887.166,1406.67 \n  \"/>\n<polyline clip-path=\"url(#clip780)\" style=\"stroke:#000000; stroke-width:4; stroke-opacity:1; fill:none\" points=\"\n  1394.31,1423.18 1394.31,1406.67 \n  \"/>\n<polyline clip-path=\"url(#clip780)\" style=\"stroke:#000000; stroke-width:4; stroke-opacity:1; fill:none\" points=\"\n  1901.46,1423.18 1901.46,1406.67 \n  \"/>\n<path clip-path=\"url(#clip780)\" d=\"M 0 0 M338.327 1479.92 L345.966 1479.92 L345.966 1453.55 L337.656 1455.22 L337.656 1450.96 L345.919 1449.29 L350.595 1449.29 L350.595 1479.92 L358.234 1479.92 L358.234 1483.85 L338.327 1483.85 L338.327 1479.92 Z\" fill=\"#000000\" fill-rule=\"evenodd\" fill-opacity=\"1\" /><path clip-path=\"url(#clip780)\" d=\"M 0 0 M373.304 1452.37 Q369.692 1452.37 367.864 1455.94 Q366.058 1459.48 366.058 1466.61 Q366.058 1473.71 367.864 1477.28 Q369.692 1480.82 373.304 1480.82 Q376.938 1480.82 378.743 1477.28 Q380.572 1473.71 380.572 1466.61 Q380.572 1459.48 378.743 1455.94 Q376.938 1452.37 373.304 1452.37 M373.304 1448.67 Q379.114 1448.67 382.169 1453.27 Q385.248 1457.86 385.248 1466.61 Q385.248 1475.33 382.169 1479.94 Q379.114 1484.52 373.304 1484.52 Q367.493 1484.52 364.415 1479.94 Q361.359 1475.33 361.359 1466.61 Q361.359 1457.86 364.415 1453.27 Q367.493 1448.67 373.304 1448.67 Z\" fill=\"#000000\" fill-rule=\"evenodd\" fill-opacity=\"1\" /><path clip-path=\"url(#clip780)\" d=\"M 0 0 M390.317 1477.97 L395.202 1477.97 L395.202 1483.85 L390.317 1483.85 L390.317 1477.97 Z\" fill=\"#000000\" fill-rule=\"evenodd\" fill-opacity=\"1\" /><path clip-path=\"url(#clip780)\" d=\"M 0 0 M410.85 1464.71 Q407.702 1464.71 405.85 1466.86 Q404.021 1469.01 404.021 1472.76 Q404.021 1476.49 405.85 1478.67 Q407.702 1480.82 410.85 1480.82 Q413.998 1480.82 415.826 1478.67 Q417.678 1476.49 417.678 1472.76 Q417.678 1469.01 415.826 1466.86 Q413.998 1464.71 410.85 1464.71 M420.132 1450.06 L420.132 1454.31 Q418.373 1453.48 416.567 1453.04 Q414.785 1452.6 413.026 1452.6 Q408.396 1452.6 405.942 1455.73 Q403.512 1458.85 403.164 1465.17 Q404.53 1463.16 406.59 1462.09 Q408.651 1461 411.127 1461 Q416.336 1461 419.345 1464.18 Q422.377 1467.32 422.377 1472.76 Q422.377 1478.09 419.229 1481.31 Q416.081 1484.52 410.85 1484.52 Q404.854 1484.52 401.683 1479.94 Q398.512 1475.33 398.512 1466.61 Q398.512 1458.41 402.401 1453.55 Q406.289 1448.67 412.84 1448.67 Q414.6 1448.67 416.382 1449.01 Q418.188 1449.36 420.132 1450.06 Z\" fill=\"#000000\" fill-rule=\"evenodd\" fill-opacity=\"1\" /><path clip-path=\"url(#clip780)\" d=\"M 0 0 M845.603 1479.92 L853.242 1479.92 L853.242 1453.55 L844.932 1455.22 L844.932 1450.96 L853.196 1449.29 L857.872 1449.29 L857.872 1479.92 L865.511 1479.92 L865.511 1483.85 L845.603 1483.85 L845.603 1479.92 Z\" fill=\"#000000\" fill-rule=\"evenodd\" fill-opacity=\"1\" /><path clip-path=\"url(#clip780)\" d=\"M 0 0 M880.58 1452.37 Q876.969 1452.37 875.14 1455.94 Q873.335 1459.48 873.335 1466.61 Q873.335 1473.71 875.14 1477.28 Q876.969 1480.82 880.58 1480.82 Q884.214 1480.82 886.02 1477.28 Q887.848 1473.71 887.848 1466.61 Q887.848 1459.48 886.02 1455.94 Q884.214 1452.37 880.58 1452.37 M880.58 1448.67 Q886.39 1448.67 889.446 1453.27 Q892.524 1457.86 892.524 1466.61 Q892.524 1475.33 889.446 1479.94 Q886.39 1484.52 880.58 1484.52 Q874.77 1484.52 871.691 1479.94 Q868.636 1475.33 868.636 1466.61 Q868.636 1457.86 871.691 1453.27 Q874.77 1448.67 880.58 1448.67 Z\" fill=\"#000000\" fill-rule=\"evenodd\" fill-opacity=\"1\" /><path clip-path=\"url(#clip780)\" d=\"M 0 0 M897.594 1477.97 L902.478 1477.97 L902.478 1483.85 L897.594 1483.85 L897.594 1477.97 Z\" fill=\"#000000\" fill-rule=\"evenodd\" fill-opacity=\"1\" /><path clip-path=\"url(#clip780)\" d=\"M 0 0 M917.547 1467.44 Q914.214 1467.44 912.293 1469.22 Q910.395 1471 910.395 1474.13 Q910.395 1477.25 912.293 1479.04 Q914.214 1480.82 917.547 1480.82 Q920.881 1480.82 922.802 1479.04 Q924.723 1477.23 924.723 1474.13 Q924.723 1471 922.802 1469.22 Q920.904 1467.44 917.547 1467.44 M912.871 1465.45 Q909.862 1464.71 908.172 1462.65 Q906.506 1460.59 906.506 1457.63 Q906.506 1453.48 909.446 1451.07 Q912.408 1448.67 917.547 1448.67 Q922.709 1448.67 925.649 1451.07 Q928.589 1453.48 928.589 1457.63 Q928.589 1460.59 926.899 1462.65 Q925.232 1464.71 922.246 1465.45 Q925.626 1466.24 927.501 1468.53 Q929.399 1470.82 929.399 1474.13 Q929.399 1479.15 926.32 1481.84 Q923.265 1484.52 917.547 1484.52 Q911.83 1484.52 908.751 1481.84 Q905.696 1479.15 905.696 1474.13 Q905.696 1470.82 907.594 1468.53 Q909.492 1466.24 912.871 1465.45 M911.158 1458.06 Q911.158 1460.75 912.825 1462.25 Q914.515 1463.76 917.547 1463.76 Q920.557 1463.76 922.246 1462.25 Q923.959 1460.75 923.959 1458.06 Q923.959 1455.38 922.246 1453.88 Q920.557 1452.37 917.547 1452.37 Q914.515 1452.37 912.825 1453.88 Q911.158 1455.38 911.158 1458.06 Z\" fill=\"#000000\" fill-rule=\"evenodd\" fill-opacity=\"1\" /><path clip-path=\"url(#clip780)\" d=\"M 0 0 M1353.32 1479.92 L1360.96 1479.92 L1360.96 1453.55 L1352.65 1455.22 L1352.65 1450.96 L1360.91 1449.29 L1365.59 1449.29 L1365.59 1479.92 L1373.23 1479.92 L1373.23 1483.85 L1353.32 1483.85 L1353.32 1479.92 Z\" fill=\"#000000\" fill-rule=\"evenodd\" fill-opacity=\"1\" /><path clip-path=\"url(#clip780)\" d=\"M 0 0 M1379.11 1479.92 L1386.75 1479.92 L1386.75 1453.55 L1378.44 1455.22 L1378.44 1450.96 L1386.7 1449.29 L1391.37 1449.29 L1391.37 1479.92 L1399.01 1479.92 L1399.01 1483.85 L1379.11 1483.85 L1379.11 1479.92 Z\" fill=\"#000000\" fill-rule=\"evenodd\" fill-opacity=\"1\" /><path clip-path=\"url(#clip780)\" d=\"M 0 0 M1404.08 1477.97 L1408.97 1477.97 L1408.97 1483.85 L1404.08 1483.85 L1404.08 1477.97 Z\" fill=\"#000000\" fill-rule=\"evenodd\" fill-opacity=\"1\" /><path clip-path=\"url(#clip780)\" d=\"M 0 0 M1424.04 1452.37 Q1420.43 1452.37 1418.6 1455.94 Q1416.79 1459.48 1416.79 1466.61 Q1416.79 1473.71 1418.6 1477.28 Q1420.43 1480.82 1424.04 1480.82 Q1427.67 1480.82 1429.48 1477.28 Q1431.31 1473.71 1431.31 1466.61 Q1431.31 1459.48 1429.48 1455.94 Q1427.67 1452.37 1424.04 1452.37 M1424.04 1448.67 Q1429.85 1448.67 1432.9 1453.27 Q1435.98 1457.86 1435.98 1466.61 Q1435.98 1475.33 1432.9 1479.94 Q1429.85 1484.52 1424.04 1484.52 Q1418.23 1484.52 1415.15 1479.94 Q1412.09 1475.33 1412.09 1466.61 Q1412.09 1457.86 1415.15 1453.27 Q1418.23 1448.67 1424.04 1448.67 Z\" fill=\"#000000\" fill-rule=\"evenodd\" fill-opacity=\"1\" /><path clip-path=\"url(#clip780)\" d=\"M 0 0 M1861.27 1479.92 L1868.91 1479.92 L1868.91 1453.55 L1860.6 1455.22 L1860.6 1450.96 L1868.86 1449.29 L1873.54 1449.29 L1873.54 1479.92 L1881.17 1479.92 L1881.17 1483.85 L1861.27 1483.85 L1861.27 1479.92 Z\" fill=\"#000000\" fill-rule=\"evenodd\" fill-opacity=\"1\" /><path clip-path=\"url(#clip780)\" d=\"M 0 0 M1887.05 1479.92 L1894.69 1479.92 L1894.69 1453.55 L1886.38 1455.22 L1886.38 1450.96 L1894.65 1449.29 L1899.32 1449.29 L1899.32 1479.92 L1906.96 1479.92 L1906.96 1483.85 L1887.05 1483.85 L1887.05 1479.92 Z\" fill=\"#000000\" fill-rule=\"evenodd\" fill-opacity=\"1\" /><path clip-path=\"url(#clip780)\" d=\"M 0 0 M1912.03 1477.97 L1916.92 1477.97 L1916.92 1483.85 L1912.03 1483.85 L1912.03 1477.97 Z\" fill=\"#000000\" fill-rule=\"evenodd\" fill-opacity=\"1\" /><path clip-path=\"url(#clip780)\" d=\"M 0 0 M1926.01 1479.92 L1942.33 1479.92 L1942.33 1483.85 L1920.39 1483.85 L1920.39 1479.92 Q1923.05 1477.16 1927.63 1472.53 Q1932.24 1467.88 1933.42 1466.54 Q1935.66 1464.01 1936.54 1462.28 Q1937.45 1460.52 1937.45 1458.83 Q1937.45 1456.07 1935.5 1454.34 Q1933.58 1452.6 1930.48 1452.6 Q1928.28 1452.6 1925.83 1453.37 Q1923.4 1454.13 1920.62 1455.68 L1920.62 1450.96 Q1923.44 1449.82 1925.9 1449.25 Q1928.35 1448.67 1930.39 1448.67 Q1935.76 1448.67 1938.95 1451.35 Q1942.15 1454.04 1942.15 1458.53 Q1942.15 1460.66 1941.34 1462.58 Q1940.55 1464.48 1938.44 1467.07 Q1937.86 1467.74 1934.76 1470.96 Q1931.66 1474.15 1926.01 1479.92 Z\" fill=\"#000000\" fill-rule=\"evenodd\" fill-opacity=\"1\" /><path clip-path=\"url(#clip780)\" d=\"M 0 0 M1123.29 1527.24 Q1125.49 1523.29 1128.54 1521.41 Q1131.6 1519.54 1135.74 1519.54 Q1141.31 1519.54 1144.33 1523.45 Q1147.35 1527.33 1147.35 1534.53 L1147.35 1556.04 L1141.47 1556.04 L1141.47 1534.72 Q1141.47 1529.59 1139.65 1527.11 Q1137.84 1524.63 1134.11 1524.63 Q1129.56 1524.63 1126.92 1527.65 Q1124.28 1530.68 1124.28 1535.9 L1124.28 1556.04 L1118.39 1556.04 L1118.39 1534.72 Q1118.39 1529.56 1116.58 1527.11 Q1114.76 1524.63 1110.97 1524.63 Q1106.49 1524.63 1103.84 1527.68 Q1101.2 1530.71 1101.2 1535.9 L1101.2 1556.04 L1095.31 1556.04 L1095.31 1520.4 L1101.2 1520.4 L1101.2 1525.93 Q1103.21 1522.66 1106.01 1521.1 Q1108.81 1519.54 1112.66 1519.54 Q1116.54 1519.54 1119.25 1521.51 Q1121.99 1523.48 1123.29 1527.24 Z\" fill=\"#000000\" fill-rule=\"evenodd\" fill-opacity=\"1\" /><path clip-path=\"url(#clip780)\" d=\"M 0 0 M1153.5 1520.4 L1159.35 1520.4 L1159.35 1556.04 L1153.5 1556.04 L1153.5 1520.4 M1153.5 1506.52 L1159.35 1506.52 L1159.35 1513.93 L1153.5 1513.93 L1153.5 1506.52 Z\" fill=\"#000000\" fill-rule=\"evenodd\" fill-opacity=\"1\" /><path clip-path=\"url(#clip780)\" d=\"M 0 0 M1165.5 1506.52 L1171.35 1506.52 L1171.35 1556.04 L1165.5 1556.04 L1165.5 1506.52 Z\" fill=\"#000000\" fill-rule=\"evenodd\" fill-opacity=\"1\" /><path clip-path=\"url(#clip780)\" d=\"M 0 0 M1177.5 1506.52 L1183.35 1506.52 L1183.35 1556.04 L1177.5 1556.04 L1177.5 1506.52 Z\" fill=\"#000000\" fill-rule=\"evenodd\" fill-opacity=\"1\" /><path clip-path=\"url(#clip780)\" d=\"M 0 0 M1189.49 1520.4 L1195.35 1520.4 L1195.35 1556.04 L1189.49 1556.04 L1189.49 1520.4 M1189.49 1506.52 L1195.35 1506.52 L1195.35 1513.93 L1189.49 1513.93 L1189.49 1506.52 Z\" fill=\"#000000\" fill-rule=\"evenodd\" fill-opacity=\"1\" /><path clip-path=\"url(#clip780)\" d=\"M 0 0 M1224.22 1521.45 L1224.22 1526.98 Q1221.74 1525.71 1219.06 1525.07 Q1216.39 1524.44 1213.53 1524.44 Q1209.16 1524.44 1206.97 1525.77 Q1204.8 1527.11 1204.8 1529.79 Q1204.8 1531.82 1206.36 1533 Q1207.92 1534.15 1212.63 1535.2 L1214.64 1535.64 Q1220.88 1536.98 1223.49 1539.43 Q1226.13 1541.85 1226.13 1546.21 Q1226.13 1551.17 1222.18 1554.07 Q1218.27 1556.97 1211.39 1556.97 Q1208.53 1556.97 1205.41 1556.39 Q1202.32 1555.85 1198.88 1554.74 L1198.88 1548.69 Q1202.13 1550.38 1205.28 1551.24 Q1208.43 1552.07 1211.52 1552.07 Q1215.66 1552.07 1217.89 1550.66 Q1220.11 1549.23 1220.11 1546.65 Q1220.11 1544.27 1218.49 1542.99 Q1216.9 1541.72 1211.46 1540.54 L1209.42 1540.07 Q1203.98 1538.92 1201.56 1536.56 Q1199.14 1534.18 1199.14 1530.04 Q1199.14 1525.01 1202.7 1522.27 Q1206.27 1519.54 1212.82 1519.54 Q1216.07 1519.54 1218.94 1520.01 Q1221.8 1520.49 1224.22 1521.45 Z\" fill=\"#000000\" fill-rule=\"evenodd\" fill-opacity=\"1\" /><path clip-path=\"url(#clip780)\" d=\"M 0 0 M1262.76 1536.76 L1262.76 1539.62 L1235.84 1539.62 Q1236.22 1545.67 1239.47 1548.85 Q1242.74 1552 1248.57 1552 Q1251.94 1552 1255.09 1551.17 Q1258.28 1550.35 1261.4 1548.69 L1261.4 1554.23 Q1258.24 1555.57 1254.93 1556.27 Q1251.62 1556.97 1248.22 1556.97 Q1239.69 1556.97 1234.69 1552 Q1229.73 1547.04 1229.73 1538.57 Q1229.73 1529.82 1234.44 1524.69 Q1239.18 1519.54 1247.2 1519.54 Q1254.39 1519.54 1258.56 1524.18 Q1262.76 1528.8 1262.76 1536.76 M1256.91 1535.04 Q1256.84 1530.23 1254.2 1527.37 Q1251.59 1524.5 1247.26 1524.5 Q1242.36 1524.5 1239.4 1527.27 Q1236.47 1530.04 1236.03 1535.07 L1256.91 1535.04 Z\" fill=\"#000000\" fill-rule=\"evenodd\" fill-opacity=\"1\" /><path clip-path=\"url(#clip780)\" d=\"M 0 0 M1294.56 1521.76 L1294.56 1527.24 Q1292.08 1525.87 1289.56 1525.2 Q1287.08 1524.5 1284.53 1524.5 Q1278.84 1524.5 1275.69 1528.13 Q1272.54 1531.73 1272.54 1538.25 Q1272.54 1544.78 1275.69 1548.4 Q1278.84 1552 1284.53 1552 Q1287.08 1552 1289.56 1551.33 Q1292.08 1550.63 1294.56 1549.26 L1294.56 1554.68 Q1292.11 1555.82 1289.47 1556.39 Q1286.86 1556.97 1283.9 1556.97 Q1275.85 1556.97 1271.1 1551.91 Q1266.36 1546.85 1266.36 1538.25 Q1266.36 1529.53 1271.13 1524.53 Q1275.94 1519.54 1284.28 1519.54 Q1286.99 1519.54 1289.56 1520.11 Q1292.14 1520.65 1294.56 1521.76 Z\" fill=\"#000000\" fill-rule=\"evenodd\" fill-opacity=\"1\" /><path clip-path=\"url(#clip780)\" d=\"M 0 0 M1314.52 1524.5 Q1309.81 1524.5 1307.07 1528.19 Q1304.33 1531.85 1304.33 1538.25 Q1304.33 1544.65 1307.04 1548.34 Q1309.77 1552 1314.52 1552 Q1319.2 1552 1321.93 1548.31 Q1324.67 1544.62 1324.67 1538.25 Q1324.67 1531.92 1321.93 1528.23 Q1319.2 1524.5 1314.52 1524.5 M1314.52 1519.54 Q1322.16 1519.54 1326.52 1524.5 Q1330.88 1529.47 1330.88 1538.25 Q1330.88 1547 1326.52 1552 Q1322.16 1556.97 1314.52 1556.97 Q1306.85 1556.97 1302.49 1552 Q1298.16 1547 1298.16 1538.25 Q1298.16 1529.47 1302.49 1524.5 Q1306.85 1519.54 1314.52 1519.54 Z\" fill=\"#000000\" fill-rule=\"evenodd\" fill-opacity=\"1\" /><path clip-path=\"url(#clip780)\" d=\"M 0 0 M1366.65 1534.53 L1366.65 1556.04 L1360.8 1556.04 L1360.8 1534.72 Q1360.8 1529.66 1358.82 1527.14 Q1356.85 1524.63 1352.9 1524.63 Q1348.16 1524.63 1345.42 1527.65 Q1342.69 1530.68 1342.69 1535.9 L1342.69 1556.04 L1336.8 1556.04 L1336.8 1520.4 L1342.69 1520.4 L1342.69 1525.93 Q1344.79 1522.72 1347.62 1521.13 Q1350.48 1519.54 1354.21 1519.54 Q1360.35 1519.54 1363.5 1523.36 Q1366.65 1527.14 1366.65 1534.53 Z\" fill=\"#000000\" fill-rule=\"evenodd\" fill-opacity=\"1\" /><path clip-path=\"url(#clip780)\" d=\"M 0 0 M1396.25 1525.81 L1396.25 1506.52 L1402.11 1506.52 L1402.11 1556.04 L1396.25 1556.04 L1396.25 1550.7 Q1394.41 1553.88 1391.57 1555.44 Q1388.77 1556.97 1384.83 1556.97 Q1378.36 1556.97 1374.29 1551.81 Q1370.25 1546.65 1370.25 1538.25 Q1370.25 1529.85 1374.29 1524.69 Q1378.36 1519.54 1384.83 1519.54 Q1388.77 1519.54 1391.57 1521.1 Q1394.41 1522.62 1396.25 1525.81 M1376.3 1538.25 Q1376.3 1544.71 1378.94 1548.4 Q1381.61 1552.07 1386.26 1552.07 Q1390.91 1552.07 1393.58 1548.4 Q1396.25 1544.71 1396.25 1538.25 Q1396.25 1531.79 1393.58 1528.13 Q1390.91 1524.44 1386.26 1524.44 Q1381.61 1524.44 1378.94 1528.13 Q1376.3 1531.79 1376.3 1538.25 Z\" fill=\"#000000\" fill-rule=\"evenodd\" fill-opacity=\"1\" /><path clip-path=\"url(#clip780)\" d=\"M 0 0 M1430.98 1521.45 L1430.98 1526.98 Q1428.49 1525.71 1425.82 1525.07 Q1423.15 1524.44 1420.28 1524.44 Q1415.92 1524.44 1413.73 1525.77 Q1411.56 1527.11 1411.56 1529.79 Q1411.56 1531.82 1413.12 1533 Q1414.68 1534.15 1419.39 1535.2 L1421.4 1535.64 Q1427.64 1536.98 1430.25 1539.43 Q1432.89 1541.85 1432.89 1546.21 Q1432.89 1551.17 1428.94 1554.07 Q1425.03 1556.97 1418.15 1556.97 Q1415.29 1556.97 1412.17 1556.39 Q1409.08 1555.85 1405.64 1554.74 L1405.64 1548.69 Q1408.89 1550.38 1412.04 1551.24 Q1415.19 1552.07 1418.28 1552.07 Q1422.42 1552.07 1424.64 1550.66 Q1426.87 1549.23 1426.87 1546.65 Q1426.87 1544.27 1425.25 1542.99 Q1423.66 1541.72 1418.21 1540.54 L1416.18 1540.07 Q1410.73 1538.92 1408.32 1536.56 Q1405.9 1534.18 1405.9 1530.04 Q1405.9 1525.01 1409.46 1522.27 Q1413.03 1519.54 1419.58 1519.54 Q1422.83 1519.54 1425.69 1520.01 Q1428.56 1520.49 1430.98 1521.45 Z\" fill=\"#000000\" fill-rule=\"evenodd\" fill-opacity=\"1\" /><polyline clip-path=\"url(#clip782)\" style=\"stroke:#000000; stroke-width:2; stroke-opacity:0.1; fill:none\" points=\"\n  175.445,1384.24 2352.76,1384.24 \n  \"/>\n<polyline clip-path=\"url(#clip782)\" style=\"stroke:#000000; stroke-width:2; stroke-opacity:0.1; fill:none\" points=\"\n  175.445,1013.37 2352.76,1013.37 \n  \"/>\n<polyline clip-path=\"url(#clip782)\" style=\"stroke:#000000; stroke-width:2; stroke-opacity:0.1; fill:none\" points=\"\n  175.445,642.494 2352.76,642.494 \n  \"/>\n<polyline clip-path=\"url(#clip782)\" style=\"stroke:#000000; stroke-width:2; stroke-opacity:0.1; fill:none\" points=\"\n  175.445,271.622 2352.76,271.622 \n  \"/>\n<polyline clip-path=\"url(#clip780)\" style=\"stroke:#000000; stroke-width:4; stroke-opacity:1; fill:none\" points=\"\n  175.445,1423.18 175.445,47.2441 \n  \"/>\n<polyline clip-path=\"url(#clip780)\" style=\"stroke:#000000; stroke-width:4; stroke-opacity:1; fill:none\" points=\"\n  175.445,1384.24 201.573,1384.24 \n  \"/>\n<polyline clip-path=\"url(#clip780)\" style=\"stroke:#000000; stroke-width:4; stroke-opacity:1; fill:none\" points=\"\n  175.445,1013.37 201.573,1013.37 \n  \"/>\n<polyline clip-path=\"url(#clip780)\" style=\"stroke:#000000; stroke-width:4; stroke-opacity:1; fill:none\" points=\"\n  175.445,642.494 201.573,642.494 \n  \"/>\n<polyline clip-path=\"url(#clip780)\" style=\"stroke:#000000; stroke-width:4; stroke-opacity:1; fill:none\" points=\"\n  175.445,271.622 201.573,271.622 \n  \"/>\n<path clip-path=\"url(#clip780)\" d=\"M 0 0 M127.501 1370.04 Q123.89 1370.04 122.061 1373.6 Q120.255 1377.14 120.255 1384.27 Q120.255 1391.38 122.061 1394.94 Q123.89 1398.49 127.501 1398.49 Q131.135 1398.49 132.941 1394.94 Q134.769 1391.38 134.769 1384.27 Q134.769 1377.14 132.941 1373.6 Q131.135 1370.04 127.501 1370.04 M127.501 1366.33 Q133.311 1366.33 136.367 1370.94 Q139.445 1375.52 139.445 1384.27 Q139.445 1393 136.367 1397.61 Q133.311 1402.19 127.501 1402.19 Q121.691 1402.19 118.612 1397.61 Q115.556 1393 115.556 1384.27 Q115.556 1375.52 118.612 1370.94 Q121.691 1366.33 127.501 1366.33 Z\" fill=\"#000000\" fill-rule=\"evenodd\" fill-opacity=\"1\" /><path clip-path=\"url(#clip780)\" d=\"M 0 0 M123.126 1026.71 L139.445 1026.71 L139.445 1030.65 L117.501 1030.65 L117.501 1026.71 Q120.163 1023.96 124.746 1019.33 Q129.353 1014.67 130.533 1013.33 Q132.779 1010.81 133.658 1009.07 Q134.561 1007.31 134.561 1005.62 Q134.561 1002.87 132.617 1001.13 Q130.695 999.396 127.593 999.396 Q125.394 999.396 122.941 1000.16 Q120.51 1000.92 117.732 1002.47 L117.732 997.753 Q120.556 996.619 123.01 996.04 Q125.464 995.461 127.501 995.461 Q132.871 995.461 136.066 998.146 Q139.26 1000.83 139.26 1005.32 Q139.26 1007.45 138.45 1009.37 Q137.663 1011.27 135.556 1013.86 Q134.978 1014.54 131.876 1017.75 Q128.774 1020.95 123.126 1026.71 Z\" fill=\"#000000\" fill-rule=\"evenodd\" fill-opacity=\"1\" /><path clip-path=\"url(#clip780)\" d=\"M 0 0 M129.862 629.288 L118.056 647.737 L129.862 647.737 L129.862 629.288 M128.635 625.214 L134.515 625.214 L134.515 647.737 L139.445 647.737 L139.445 651.626 L134.515 651.626 L134.515 659.774 L129.862 659.774 L129.862 651.626 L114.26 651.626 L114.26 647.112 L128.635 625.214 Z\" fill=\"#000000\" fill-rule=\"evenodd\" fill-opacity=\"1\" /><path clip-path=\"url(#clip780)\" d=\"M 0 0 M127.917 269.758 Q124.769 269.758 122.918 271.911 Q121.089 274.064 121.089 277.814 Q121.089 281.541 122.918 283.717 Q124.769 285.869 127.917 285.869 Q131.066 285.869 132.894 283.717 Q134.746 281.541 134.746 277.814 Q134.746 274.064 132.894 271.911 Q131.066 269.758 127.917 269.758 M137.2 255.106 L137.2 259.365 Q135.441 258.532 133.635 258.092 Q131.853 257.652 130.093 257.652 Q125.464 257.652 123.01 260.777 Q120.58 263.902 120.232 270.221 Q121.598 268.207 123.658 267.143 Q125.718 266.055 128.195 266.055 Q133.404 266.055 136.413 269.226 Q139.445 272.374 139.445 277.814 Q139.445 283.138 136.297 286.355 Q133.149 289.573 127.917 289.573 Q121.922 289.573 118.751 284.99 Q115.58 280.383 115.58 271.656 Q115.58 263.462 119.468 258.601 Q123.357 253.717 129.908 253.717 Q131.667 253.717 133.45 254.064 Q135.255 254.411 137.2 255.106 Z\" fill=\"#000000\" fill-rule=\"evenodd\" fill-opacity=\"1\" /><path clip-path=\"url(#clip780)\" d=\"M 0 0 M53.7248 786.854 L59.1993 786.854 Q57.8307 789.336 57.1623 791.851 Q56.4621 794.333 56.4621 796.88 Q56.4621 802.577 60.0905 805.728 Q63.6872 808.879 70.212 808.879 Q76.7369 808.879 80.3653 805.728 Q83.9619 802.577 83.9619 796.88 Q83.9619 794.333 83.2935 791.851 Q82.5933 789.336 81.2247 786.854 L86.6355 786.854 Q87.7814 789.305 88.3543 791.946 Q88.9272 794.556 88.9272 797.516 Q88.9272 805.569 83.8664 810.311 Q78.8057 815.054 70.212 815.054 Q61.491 815.054 56.4939 810.28 Q51.4968 805.473 51.4968 797.134 Q51.4968 794.429 52.0697 791.851 Q52.6108 789.273 53.7248 786.854 Z\" fill=\"#000000\" fill-rule=\"evenodd\" fill-opacity=\"1\" /><path clip-path=\"url(#clip780)\" d=\"M 0 0 M56.4621 766.897 Q56.4621 771.608 60.1542 774.345 Q63.8145 777.082 70.212 777.082 Q76.6095 777.082 80.3017 774.377 Q83.9619 771.64 83.9619 766.897 Q83.9619 762.218 80.2698 759.481 Q76.5777 756.744 70.212 756.744 Q63.8781 756.744 60.186 759.481 Q56.4621 762.218 56.4621 766.897 M51.4968 766.897 Q51.4968 759.258 56.4621 754.898 Q61.4273 750.537 70.212 750.537 Q78.9649 750.537 83.9619 754.898 Q88.9272 759.258 88.9272 766.897 Q88.9272 774.568 83.9619 778.928 Q78.9649 783.257 70.212 783.257 Q61.4273 783.257 56.4621 778.928 Q51.4968 774.568 51.4968 766.897 Z\" fill=\"#000000\" fill-rule=\"evenodd\" fill-opacity=\"1\" /><path clip-path=\"url(#clip780)\" d=\"M 0 0 M73.9359 744.999 L52.3562 744.999 L52.3562 739.143 L73.7131 739.143 Q78.7739 739.143 81.3202 737.169 Q83.8346 735.196 83.8346 731.249 Q83.8346 726.507 80.8109 723.77 Q77.7872 721.001 72.5673 721.001 L52.3562 721.001 L52.3562 715.144 L88.0042 715.144 L88.0042 721.001 L82.5296 721.001 Q85.7762 723.133 87.3676 725.966 Q88.9272 728.767 88.9272 732.491 Q88.9272 738.634 85.1078 741.816 Q81.2883 744.999 73.9359 744.999 M51.4968 730.263 L51.4968 730.263 Z\" fill=\"#000000\" fill-rule=\"evenodd\" fill-opacity=\"1\" /><path clip-path=\"url(#clip780)\" d=\"M 0 0 M66.4881 679.369 L88.0042 679.369 L88.0042 685.225 L66.679 685.225 Q61.6183 685.225 59.1038 687.199 Q56.5894 689.172 56.5894 693.119 Q56.5894 697.861 59.6131 700.598 Q62.6368 703.336 67.8567 703.336 L88.0042 703.336 L88.0042 709.224 L52.3562 709.224 L52.3562 703.336 L57.8944 703.336 Q54.6797 701.235 53.0883 698.402 Q51.4968 695.538 51.4968 691.814 Q51.4968 685.671 55.3163 682.52 Q59.1038 679.369 66.4881 679.369 Z\" fill=\"#000000\" fill-rule=\"evenodd\" fill-opacity=\"1\" /><path clip-path=\"url(#clip780)\" d=\"M 0 0 M42.2347 667.433 L52.3562 667.433 L52.3562 655.37 L56.9077 655.37 L56.9077 667.433 L76.2594 667.433 Q80.6199 667.433 81.8613 666.255 Q83.1026 665.046 83.1026 661.386 L83.1026 655.37 L88.0042 655.37 L88.0042 661.386 Q88.0042 668.165 85.4897 670.743 Q82.9434 673.321 76.2594 673.321 L56.9077 673.321 L56.9077 677.618 L52.3562 677.618 L52.3562 673.321 L42.2347 673.321 L42.2347 667.433 Z\" fill=\"#000000\" fill-rule=\"evenodd\" fill-opacity=\"1\" /><path clip-path=\"url(#clip782)\" d=\"\nM177.157 1198.8 L177.157 1384.24 L202.514 1384.24 L202.514 1198.8 L177.157 1198.8 L177.157 1198.8  Z\n  \" fill=\"#009af9\" fill-rule=\"evenodd\" fill-opacity=\"1\"/>\n<polyline clip-path=\"url(#clip782)\" style=\"stroke:#000000; stroke-width:4; stroke-opacity:1; fill:none\" points=\"\n  177.157,1198.8 177.157,1384.24 202.514,1384.24 202.514,1198.8 177.157,1198.8 \n  \"/>\n<path clip-path=\"url(#clip782)\" d=\"\nM202.514 1384.24 L202.514 1384.24 L227.872 1384.24 L227.872 1384.24 L202.514 1384.24 L202.514 1384.24  Z\n  \" fill=\"#009af9\" fill-rule=\"evenodd\" fill-opacity=\"1\"/>\n<polyline clip-path=\"url(#clip782)\" style=\"stroke:#000000; stroke-width:4; stroke-opacity:1; fill:none\" points=\"\n  202.514,1384.24 202.514,1384.24 227.872,1384.24 202.514,1384.24 \n  \"/>\n<path clip-path=\"url(#clip782)\" d=\"\nM227.872 1384.24 L227.872 1384.24 L253.229 1384.24 L253.229 1384.24 L227.872 1384.24 L227.872 1384.24  Z\n  \" fill=\"#009af9\" fill-rule=\"evenodd\" fill-opacity=\"1\"/>\n<polyline clip-path=\"url(#clip782)\" style=\"stroke:#000000; stroke-width:4; stroke-opacity:1; fill:none\" points=\"\n  227.872,1384.24 227.872,1384.24 253.229,1384.24 227.872,1384.24 \n  \"/>\n<path clip-path=\"url(#clip782)\" d=\"\nM253.229 1384.24 L253.229 1384.24 L278.587 1384.24 L278.587 1384.24 L253.229 1384.24 L253.229 1384.24  Z\n  \" fill=\"#009af9\" fill-rule=\"evenodd\" fill-opacity=\"1\"/>\n<polyline clip-path=\"url(#clip782)\" style=\"stroke:#000000; stroke-width:4; stroke-opacity:1; fill:none\" points=\"\n  253.229,1384.24 253.229,1384.24 278.587,1384.24 253.229,1384.24 \n  \"/>\n<path clip-path=\"url(#clip782)\" d=\"\nM278.587 1384.24 L278.587 1384.24 L303.944 1384.24 L303.944 1384.24 L278.587 1384.24 L278.587 1384.24  Z\n  \" fill=\"#009af9\" fill-rule=\"evenodd\" fill-opacity=\"1\"/>\n<polyline clip-path=\"url(#clip782)\" style=\"stroke:#000000; stroke-width:4; stroke-opacity:1; fill:none\" points=\"\n  278.587,1384.24 278.587,1384.24 303.944,1384.24 278.587,1384.24 \n  \"/>\n<path clip-path=\"url(#clip782)\" d=\"\nM303.944 1013.37 L303.944 1384.24 L329.302 1384.24 L329.302 1013.37 L303.944 1013.37 L303.944 1013.37  Z\n  \" fill=\"#009af9\" fill-rule=\"evenodd\" fill-opacity=\"1\"/>\n<polyline clip-path=\"url(#clip782)\" style=\"stroke:#000000; stroke-width:4; stroke-opacity:1; fill:none\" points=\"\n  303.944,1013.37 303.944,1384.24 329.302,1384.24 329.302,1013.37 303.944,1013.37 \n  \"/>\n<path clip-path=\"url(#clip782)\" d=\"\nM329.302 1013.37 L329.302 1384.24 L354.659 1384.24 L354.659 1013.37 L329.302 1013.37 L329.302 1013.37  Z\n  \" fill=\"#009af9\" fill-rule=\"evenodd\" fill-opacity=\"1\"/>\n<polyline clip-path=\"url(#clip782)\" style=\"stroke:#000000; stroke-width:4; stroke-opacity:1; fill:none\" points=\"\n  329.302,1013.37 329.302,1384.24 354.659,1384.24 354.659,1013.37 329.302,1013.37 \n  \"/>\n<path clip-path=\"url(#clip782)\" d=\"\nM354.659 1384.24 L354.659 1384.24 L380.016 1384.24 L380.016 1384.24 L354.659 1384.24 L354.659 1384.24  Z\n  \" fill=\"#009af9\" fill-rule=\"evenodd\" fill-opacity=\"1\"/>\n<polyline clip-path=\"url(#clip782)\" style=\"stroke:#000000; stroke-width:4; stroke-opacity:1; fill:none\" points=\"\n  354.659,1384.24 354.659,1384.24 380.016,1384.24 354.659,1384.24 \n  \"/>\n<path clip-path=\"url(#clip782)\" d=\"\nM380.016 1384.24 L380.016 1384.24 L405.374 1384.24 L405.374 1384.24 L380.016 1384.24 L380.016 1384.24  Z\n  \" fill=\"#009af9\" fill-rule=\"evenodd\" fill-opacity=\"1\"/>\n<polyline clip-path=\"url(#clip782)\" style=\"stroke:#000000; stroke-width:4; stroke-opacity:1; fill:none\" points=\"\n  380.016,1384.24 380.016,1384.24 405.374,1384.24 380.016,1384.24 \n  \"/>\n<path clip-path=\"url(#clip782)\" d=\"\nM405.374 1384.24 L405.374 1384.24 L430.731 1384.24 L430.731 1384.24 L405.374 1384.24 L405.374 1384.24  Z\n  \" fill=\"#009af9\" fill-rule=\"evenodd\" fill-opacity=\"1\"/>\n<polyline clip-path=\"url(#clip782)\" style=\"stroke:#000000; stroke-width:4; stroke-opacity:1; fill:none\" points=\"\n  405.374,1384.24 405.374,1384.24 430.731,1384.24 405.374,1384.24 \n  \"/>\n<path clip-path=\"url(#clip782)\" d=\"\nM430.731 1384.24 L430.731 1384.24 L456.089 1384.24 L456.089 1384.24 L430.731 1384.24 L430.731 1384.24  Z\n  \" fill=\"#009af9\" fill-rule=\"evenodd\" fill-opacity=\"1\"/>\n<polyline clip-path=\"url(#clip782)\" style=\"stroke:#000000; stroke-width:4; stroke-opacity:1; fill:none\" points=\"\n  430.731,1384.24 430.731,1384.24 456.089,1384.24 430.731,1384.24 \n  \"/>\n<path clip-path=\"url(#clip782)\" d=\"\nM456.089 1013.37 L456.089 1384.24 L481.446 1384.24 L481.446 1013.37 L456.089 1013.37 L456.089 1013.37  Z\n  \" fill=\"#009af9\" fill-rule=\"evenodd\" fill-opacity=\"1\"/>\n<polyline clip-path=\"url(#clip782)\" style=\"stroke:#000000; stroke-width:4; stroke-opacity:1; fill:none\" points=\"\n  456.089,1013.37 456.089,1384.24 481.446,1384.24 481.446,1013.37 456.089,1013.37 \n  \"/>\n<path clip-path=\"url(#clip782)\" d=\"\nM481.446 1384.24 L481.446 1384.24 L506.804 1384.24 L506.804 1384.24 L481.446 1384.24 L481.446 1384.24  Z\n  \" fill=\"#009af9\" fill-rule=\"evenodd\" fill-opacity=\"1\"/>\n<polyline clip-path=\"url(#clip782)\" style=\"stroke:#000000; stroke-width:4; stroke-opacity:1; fill:none\" points=\"\n  481.446,1384.24 481.446,1384.24 506.804,1384.24 481.446,1384.24 \n  \"/>\n<path clip-path=\"url(#clip782)\" d=\"\nM506.804 1198.8 L506.804 1384.24 L532.161 1384.24 L532.161 1198.8 L506.804 1198.8 L506.804 1198.8  Z\n  \" fill=\"#009af9\" fill-rule=\"evenodd\" fill-opacity=\"1\"/>\n<polyline clip-path=\"url(#clip782)\" style=\"stroke:#000000; stroke-width:4; stroke-opacity:1; fill:none\" points=\"\n  506.804,1198.8 506.804,1384.24 532.161,1384.24 532.161,1198.8 506.804,1198.8 \n  \"/>\n<path clip-path=\"url(#clip782)\" d=\"\nM532.161 1013.37 L532.161 1384.24 L557.519 1384.24 L557.519 1013.37 L532.161 1013.37 L532.161 1013.37  Z\n  \" fill=\"#009af9\" fill-rule=\"evenodd\" fill-opacity=\"1\"/>\n<polyline clip-path=\"url(#clip782)\" style=\"stroke:#000000; stroke-width:4; stroke-opacity:1; fill:none\" points=\"\n  532.161,1013.37 532.161,1384.24 557.519,1384.24 557.519,1013.37 532.161,1013.37 \n  \"/>\n<path clip-path=\"url(#clip782)\" d=\"\nM557.519 1198.8 L557.519 1384.24 L582.876 1384.24 L582.876 1198.8 L557.519 1198.8 L557.519 1198.8  Z\n  \" fill=\"#009af9\" fill-rule=\"evenodd\" fill-opacity=\"1\"/>\n<polyline clip-path=\"url(#clip782)\" style=\"stroke:#000000; stroke-width:4; stroke-opacity:1; fill:none\" points=\"\n  557.519,1198.8 557.519,1384.24 582.876,1384.24 582.876,1198.8 557.519,1198.8 \n  \"/>\n<path clip-path=\"url(#clip782)\" d=\"\nM582.876 1384.24 L582.876 1384.24 L608.234 1384.24 L608.234 1384.24 L582.876 1384.24 L582.876 1384.24  Z\n  \" fill=\"#009af9\" fill-rule=\"evenodd\" fill-opacity=\"1\"/>\n<polyline clip-path=\"url(#clip782)\" style=\"stroke:#000000; stroke-width:4; stroke-opacity:1; fill:none\" points=\"\n  582.876,1384.24 582.876,1384.24 608.234,1384.24 582.876,1384.24 \n  \"/>\n<path clip-path=\"url(#clip782)\" d=\"\nM608.234 1384.24 L608.234 1384.24 L633.591 1384.24 L633.591 1384.24 L608.234 1384.24 L608.234 1384.24  Z\n  \" fill=\"#009af9\" fill-rule=\"evenodd\" fill-opacity=\"1\"/>\n<polyline clip-path=\"url(#clip782)\" style=\"stroke:#000000; stroke-width:4; stroke-opacity:1; fill:none\" points=\"\n  608.234,1384.24 608.234,1384.24 633.591,1384.24 608.234,1384.24 \n  \"/>\n<path clip-path=\"url(#clip782)\" d=\"\nM633.591 1198.8 L633.591 1384.24 L658.948 1384.24 L658.948 1198.8 L633.591 1198.8 L633.591 1198.8  Z\n  \" fill=\"#009af9\" fill-rule=\"evenodd\" fill-opacity=\"1\"/>\n<polyline clip-path=\"url(#clip782)\" style=\"stroke:#000000; stroke-width:4; stroke-opacity:1; fill:none\" points=\"\n  633.591,1198.8 633.591,1384.24 658.948,1384.24 658.948,1198.8 633.591,1198.8 \n  \"/>\n<path clip-path=\"url(#clip782)\" d=\"\nM658.948 1198.8 L658.948 1384.24 L684.306 1384.24 L684.306 1198.8 L658.948 1198.8 L658.948 1198.8  Z\n  \" fill=\"#009af9\" fill-rule=\"evenodd\" fill-opacity=\"1\"/>\n<polyline clip-path=\"url(#clip782)\" style=\"stroke:#000000; stroke-width:4; stroke-opacity:1; fill:none\" points=\"\n  658.948,1198.8 658.948,1384.24 684.306,1384.24 684.306,1198.8 658.948,1198.8 \n  \"/>\n<path clip-path=\"url(#clip782)\" d=\"\nM684.306 1198.8 L684.306 1384.24 L709.663 1384.24 L709.663 1198.8 L684.306 1198.8 L684.306 1198.8  Z\n  \" fill=\"#009af9\" fill-rule=\"evenodd\" fill-opacity=\"1\"/>\n<polyline clip-path=\"url(#clip782)\" style=\"stroke:#000000; stroke-width:4; stroke-opacity:1; fill:none\" points=\"\n  684.306,1198.8 684.306,1384.24 709.663,1384.24 709.663,1198.8 684.306,1198.8 \n  \"/>\n<path clip-path=\"url(#clip782)\" d=\"\nM709.663 1198.8 L709.663 1384.24 L735.021 1384.24 L735.021 1198.8 L709.663 1198.8 L709.663 1198.8  Z\n  \" fill=\"#009af9\" fill-rule=\"evenodd\" fill-opacity=\"1\"/>\n<polyline clip-path=\"url(#clip782)\" style=\"stroke:#000000; stroke-width:4; stroke-opacity:1; fill:none\" points=\"\n  709.663,1198.8 709.663,1384.24 735.021,1384.24 735.021,1198.8 709.663,1198.8 \n  \"/>\n<path clip-path=\"url(#clip782)\" d=\"\nM735.021 1013.37 L735.021 1384.24 L760.378 1384.24 L760.378 1013.37 L735.021 1013.37 L735.021 1013.37  Z\n  \" fill=\"#009af9\" fill-rule=\"evenodd\" fill-opacity=\"1\"/>\n<polyline clip-path=\"url(#clip782)\" style=\"stroke:#000000; stroke-width:4; stroke-opacity:1; fill:none\" points=\"\n  735.021,1013.37 735.021,1384.24 760.378,1384.24 760.378,1013.37 735.021,1013.37 \n  \"/>\n<path clip-path=\"url(#clip782)\" d=\"\nM760.378 1013.37 L760.378 1384.24 L785.736 1384.24 L785.736 1013.37 L760.378 1013.37 L760.378 1013.37  Z\n  \" fill=\"#009af9\" fill-rule=\"evenodd\" fill-opacity=\"1\"/>\n<polyline clip-path=\"url(#clip782)\" style=\"stroke:#000000; stroke-width:4; stroke-opacity:1; fill:none\" points=\"\n  760.378,1013.37 760.378,1384.24 785.736,1384.24 785.736,1013.37 760.378,1013.37 \n  \"/>\n<path clip-path=\"url(#clip782)\" d=\"\nM785.736 1198.8 L785.736 1384.24 L811.093 1384.24 L811.093 1198.8 L785.736 1198.8 L785.736 1198.8  Z\n  \" fill=\"#009af9\" fill-rule=\"evenodd\" fill-opacity=\"1\"/>\n<polyline clip-path=\"url(#clip782)\" style=\"stroke:#000000; stroke-width:4; stroke-opacity:1; fill:none\" points=\"\n  785.736,1198.8 785.736,1384.24 811.093,1384.24 811.093,1198.8 785.736,1198.8 \n  \"/>\n<path clip-path=\"url(#clip782)\" d=\"\nM811.093 1198.8 L811.093 1384.24 L836.451 1384.24 L836.451 1198.8 L811.093 1198.8 L811.093 1198.8  Z\n  \" fill=\"#009af9\" fill-rule=\"evenodd\" fill-opacity=\"1\"/>\n<polyline clip-path=\"url(#clip782)\" style=\"stroke:#000000; stroke-width:4; stroke-opacity:1; fill:none\" points=\"\n  811.093,1198.8 811.093,1384.24 836.451,1384.24 836.451,1198.8 811.093,1198.8 \n  \"/>\n<path clip-path=\"url(#clip782)\" d=\"\nM836.451 1013.37 L836.451 1384.24 L861.808 1384.24 L861.808 1013.37 L836.451 1013.37 L836.451 1013.37  Z\n  \" fill=\"#009af9\" fill-rule=\"evenodd\" fill-opacity=\"1\"/>\n<polyline clip-path=\"url(#clip782)\" style=\"stroke:#000000; stroke-width:4; stroke-opacity:1; fill:none\" points=\"\n  836.451,1013.37 836.451,1384.24 861.808,1384.24 861.808,1013.37 836.451,1013.37 \n  \"/>\n<path clip-path=\"url(#clip782)\" d=\"\nM861.808 827.93 L861.808 1384.24 L887.166 1384.24 L887.166 827.93 L861.808 827.93 L861.808 827.93  Z\n  \" fill=\"#009af9\" fill-rule=\"evenodd\" fill-opacity=\"1\"/>\n<polyline clip-path=\"url(#clip782)\" style=\"stroke:#000000; stroke-width:4; stroke-opacity:1; fill:none\" points=\"\n  861.808,827.93 861.808,1384.24 887.166,1384.24 887.166,827.93 861.808,827.93 \n  \"/>\n<path clip-path=\"url(#clip782)\" d=\"\nM887.166 1384.24 L887.166 1384.24 L912.523 1384.24 L912.523 1384.24 L887.166 1384.24 L887.166 1384.24  Z\n  \" fill=\"#009af9\" fill-rule=\"evenodd\" fill-opacity=\"1\"/>\n<polyline clip-path=\"url(#clip782)\" style=\"stroke:#000000; stroke-width:4; stroke-opacity:1; fill:none\" points=\"\n  887.166,1384.24 887.166,1384.24 912.523,1384.24 887.166,1384.24 \n  \"/>\n<path clip-path=\"url(#clip782)\" d=\"\nM912.523 1198.8 L912.523 1384.24 L937.88 1384.24 L937.88 1198.8 L912.523 1198.8 L912.523 1198.8  Z\n  \" fill=\"#009af9\" fill-rule=\"evenodd\" fill-opacity=\"1\"/>\n<polyline clip-path=\"url(#clip782)\" style=\"stroke:#000000; stroke-width:4; stroke-opacity:1; fill:none\" points=\"\n  912.523,1198.8 912.523,1384.24 937.88,1384.24 937.88,1198.8 912.523,1198.8 \n  \"/>\n<path clip-path=\"url(#clip782)\" d=\"\nM937.88 827.93 L937.88 1384.24 L963.238 1384.24 L963.238 827.93 L937.88 827.93 L937.88 827.93  Z\n  \" fill=\"#009af9\" fill-rule=\"evenodd\" fill-opacity=\"1\"/>\n<polyline clip-path=\"url(#clip782)\" style=\"stroke:#000000; stroke-width:4; stroke-opacity:1; fill:none\" points=\"\n  937.88,827.93 937.88,1384.24 963.238,1384.24 963.238,827.93 937.88,827.93 \n  \"/>\n<path clip-path=\"url(#clip782)\" d=\"\nM963.238 1198.8 L963.238 1384.24 L988.595 1384.24 L988.595 1198.8 L963.238 1198.8 L963.238 1198.8  Z\n  \" fill=\"#009af9\" fill-rule=\"evenodd\" fill-opacity=\"1\"/>\n<polyline clip-path=\"url(#clip782)\" style=\"stroke:#000000; stroke-width:4; stroke-opacity:1; fill:none\" points=\"\n  963.238,1198.8 963.238,1384.24 988.595,1384.24 988.595,1198.8 963.238,1198.8 \n  \"/>\n<path clip-path=\"url(#clip782)\" d=\"\nM988.595 827.93 L988.595 1384.24 L1013.95 1384.24 L1013.95 827.93 L988.595 827.93 L988.595 827.93  Z\n  \" fill=\"#009af9\" fill-rule=\"evenodd\" fill-opacity=\"1\"/>\n<polyline clip-path=\"url(#clip782)\" style=\"stroke:#000000; stroke-width:4; stroke-opacity:1; fill:none\" points=\"\n  988.595,827.93 988.595,1384.24 1013.95,1384.24 1013.95,827.93 988.595,827.93 \n  \"/>\n<path clip-path=\"url(#clip782)\" d=\"\nM1013.95 1384.24 L1013.95 1384.24 L1039.31 1384.24 L1039.31 1384.24 L1013.95 1384.24 L1013.95 1384.24  Z\n  \" fill=\"#009af9\" fill-rule=\"evenodd\" fill-opacity=\"1\"/>\n<polyline clip-path=\"url(#clip782)\" style=\"stroke:#000000; stroke-width:4; stroke-opacity:1; fill:none\" points=\"\n  1013.95,1384.24 1013.95,1384.24 1039.31,1384.24 1013.95,1384.24 \n  \"/>\n<path clip-path=\"url(#clip782)\" d=\"\nM1039.31 1013.37 L1039.31 1384.24 L1064.67 1384.24 L1064.67 1013.37 L1039.31 1013.37 L1039.31 1013.37  Z\n  \" fill=\"#009af9\" fill-rule=\"evenodd\" fill-opacity=\"1\"/>\n<polyline clip-path=\"url(#clip782)\" style=\"stroke:#000000; stroke-width:4; stroke-opacity:1; fill:none\" points=\"\n  1039.31,1013.37 1039.31,1384.24 1064.67,1384.24 1064.67,1013.37 1039.31,1013.37 \n  \"/>\n<path clip-path=\"url(#clip782)\" d=\"\nM1064.67 827.93 L1064.67 1384.24 L1090.03 1384.24 L1090.03 827.93 L1064.67 827.93 L1064.67 827.93  Z\n  \" fill=\"#009af9\" fill-rule=\"evenodd\" fill-opacity=\"1\"/>\n<polyline clip-path=\"url(#clip782)\" style=\"stroke:#000000; stroke-width:4; stroke-opacity:1; fill:none\" points=\"\n  1064.67,827.93 1064.67,1384.24 1090.03,1384.24 1090.03,827.93 1064.67,827.93 \n  \"/>\n<path clip-path=\"url(#clip782)\" d=\"\nM1090.03 1198.8 L1090.03 1384.24 L1115.38 1384.24 L1115.38 1198.8 L1090.03 1198.8 L1090.03 1198.8  Z\n  \" fill=\"#009af9\" fill-rule=\"evenodd\" fill-opacity=\"1\"/>\n<polyline clip-path=\"url(#clip782)\" style=\"stroke:#000000; stroke-width:4; stroke-opacity:1; fill:none\" points=\"\n  1090.03,1198.8 1090.03,1384.24 1115.38,1384.24 1115.38,1198.8 1090.03,1198.8 \n  \"/>\n<path clip-path=\"url(#clip782)\" d=\"\nM1115.38 1198.8 L1115.38 1384.24 L1140.74 1384.24 L1140.74 1198.8 L1115.38 1198.8 L1115.38 1198.8  Z\n  \" fill=\"#009af9\" fill-rule=\"evenodd\" fill-opacity=\"1\"/>\n<polyline clip-path=\"url(#clip782)\" style=\"stroke:#000000; stroke-width:4; stroke-opacity:1; fill:none\" points=\"\n  1115.38,1198.8 1115.38,1384.24 1140.74,1384.24 1140.74,1198.8 1115.38,1198.8 \n  \"/>\n<path clip-path=\"url(#clip782)\" d=\"\nM1140.74 1013.37 L1140.74 1384.24 L1166.1 1384.24 L1166.1 1013.37 L1140.74 1013.37 L1140.74 1013.37  Z\n  \" fill=\"#009af9\" fill-rule=\"evenodd\" fill-opacity=\"1\"/>\n<polyline clip-path=\"url(#clip782)\" style=\"stroke:#000000; stroke-width:4; stroke-opacity:1; fill:none\" points=\"\n  1140.74,1013.37 1140.74,1384.24 1166.1,1384.24 1166.1,1013.37 1140.74,1013.37 \n  \"/>\n<path clip-path=\"url(#clip782)\" d=\"\nM1166.1 1198.8 L1166.1 1384.24 L1191.46 1384.24 L1191.46 1198.8 L1166.1 1198.8 L1166.1 1198.8  Z\n  \" fill=\"#009af9\" fill-rule=\"evenodd\" fill-opacity=\"1\"/>\n<polyline clip-path=\"url(#clip782)\" style=\"stroke:#000000; stroke-width:4; stroke-opacity:1; fill:none\" points=\"\n  1166.1,1198.8 1166.1,1384.24 1191.46,1384.24 1191.46,1198.8 1166.1,1198.8 \n  \"/>\n<path clip-path=\"url(#clip782)\" d=\"\nM1191.46 1198.8 L1191.46 1384.24 L1216.81 1384.24 L1216.81 1198.8 L1191.46 1198.8 L1191.46 1198.8  Z\n  \" fill=\"#009af9\" fill-rule=\"evenodd\" fill-opacity=\"1\"/>\n<polyline clip-path=\"url(#clip782)\" style=\"stroke:#000000; stroke-width:4; stroke-opacity:1; fill:none\" points=\"\n  1191.46,1198.8 1191.46,1384.24 1216.81,1384.24 1216.81,1198.8 1191.46,1198.8 \n  \"/>\n<path clip-path=\"url(#clip782)\" d=\"\nM1216.81 1013.37 L1216.81 1384.24 L1242.17 1384.24 L1242.17 1013.37 L1216.81 1013.37 L1216.81 1013.37  Z\n  \" fill=\"#009af9\" fill-rule=\"evenodd\" fill-opacity=\"1\"/>\n<polyline clip-path=\"url(#clip782)\" style=\"stroke:#000000; stroke-width:4; stroke-opacity:1; fill:none\" points=\"\n  1216.81,1013.37 1216.81,1384.24 1242.17,1384.24 1242.17,1013.37 1216.81,1013.37 \n  \"/>\n<path clip-path=\"url(#clip782)\" d=\"\nM1242.17 1384.24 L1242.17 1384.24 L1267.53 1384.24 L1267.53 1384.24 L1242.17 1384.24 L1242.17 1384.24  Z\n  \" fill=\"#009af9\" fill-rule=\"evenodd\" fill-opacity=\"1\"/>\n<polyline clip-path=\"url(#clip782)\" style=\"stroke:#000000; stroke-width:4; stroke-opacity:1; fill:none\" points=\"\n  1242.17,1384.24 1242.17,1384.24 1267.53,1384.24 1242.17,1384.24 \n  \"/>\n<path clip-path=\"url(#clip782)\" d=\"\nM1267.53 1013.37 L1267.53 1384.24 L1292.88 1384.24 L1292.88 1013.37 L1267.53 1013.37 L1267.53 1013.37  Z\n  \" fill=\"#009af9\" fill-rule=\"evenodd\" fill-opacity=\"1\"/>\n<polyline clip-path=\"url(#clip782)\" style=\"stroke:#000000; stroke-width:4; stroke-opacity:1; fill:none\" points=\"\n  1267.53,1013.37 1267.53,1384.24 1292.88,1384.24 1292.88,1013.37 1267.53,1013.37 \n  \"/>\n<path clip-path=\"url(#clip782)\" d=\"\nM1292.88 1013.37 L1292.88 1384.24 L1318.24 1384.24 L1318.24 1013.37 L1292.88 1013.37 L1292.88 1013.37  Z\n  \" fill=\"#009af9\" fill-rule=\"evenodd\" fill-opacity=\"1\"/>\n<polyline clip-path=\"url(#clip782)\" style=\"stroke:#000000; stroke-width:4; stroke-opacity:1; fill:none\" points=\"\n  1292.88,1013.37 1292.88,1384.24 1318.24,1384.24 1318.24,1013.37 1292.88,1013.37 \n  \"/>\n<path clip-path=\"url(#clip782)\" d=\"\nM1318.24 1013.37 L1318.24 1384.24 L1343.6 1384.24 L1343.6 1013.37 L1318.24 1013.37 L1318.24 1013.37  Z\n  \" fill=\"#009af9\" fill-rule=\"evenodd\" fill-opacity=\"1\"/>\n<polyline clip-path=\"url(#clip782)\" style=\"stroke:#000000; stroke-width:4; stroke-opacity:1; fill:none\" points=\"\n  1318.24,1013.37 1318.24,1384.24 1343.6,1384.24 1343.6,1013.37 1318.24,1013.37 \n  \"/>\n<path clip-path=\"url(#clip782)\" d=\"\nM1343.6 642.494 L1343.6 1384.24 L1368.96 1384.24 L1368.96 642.494 L1343.6 642.494 L1343.6 642.494  Z\n  \" fill=\"#009af9\" fill-rule=\"evenodd\" fill-opacity=\"1\"/>\n<polyline clip-path=\"url(#clip782)\" style=\"stroke:#000000; stroke-width:4; stroke-opacity:1; fill:none\" points=\"\n  1343.6,642.494 1343.6,1384.24 1368.96,1384.24 1368.96,642.494 1343.6,642.494 \n  \"/>\n<path clip-path=\"url(#clip782)\" d=\"\nM1368.96 1013.37 L1368.96 1384.24 L1394.31 1384.24 L1394.31 1013.37 L1368.96 1013.37 L1368.96 1013.37  Z\n  \" fill=\"#009af9\" fill-rule=\"evenodd\" fill-opacity=\"1\"/>\n<polyline clip-path=\"url(#clip782)\" style=\"stroke:#000000; stroke-width:4; stroke-opacity:1; fill:none\" points=\"\n  1368.96,1013.37 1368.96,1384.24 1394.31,1384.24 1394.31,1013.37 1368.96,1013.37 \n  \"/>\n<path clip-path=\"url(#clip782)\" d=\"\nM1394.31 1013.37 L1394.31 1384.24 L1419.67 1384.24 L1419.67 1013.37 L1394.31 1013.37 L1394.31 1013.37  Z\n  \" fill=\"#009af9\" fill-rule=\"evenodd\" fill-opacity=\"1\"/>\n<polyline clip-path=\"url(#clip782)\" style=\"stroke:#000000; stroke-width:4; stroke-opacity:1; fill:none\" points=\"\n  1394.31,1013.37 1394.31,1384.24 1419.67,1384.24 1419.67,1013.37 1394.31,1013.37 \n  \"/>\n<path clip-path=\"url(#clip782)\" d=\"\nM1419.67 1013.37 L1419.67 1384.24 L1445.03 1384.24 L1445.03 1013.37 L1419.67 1013.37 L1419.67 1013.37  Z\n  \" fill=\"#009af9\" fill-rule=\"evenodd\" fill-opacity=\"1\"/>\n<polyline clip-path=\"url(#clip782)\" style=\"stroke:#000000; stroke-width:4; stroke-opacity:1; fill:none\" points=\"\n  1419.67,1013.37 1419.67,1384.24 1445.03,1384.24 1445.03,1013.37 1419.67,1013.37 \n  \"/>\n<path clip-path=\"url(#clip782)\" d=\"\nM1445.03 1013.37 L1445.03 1384.24 L1470.39 1384.24 L1470.39 1013.37 L1445.03 1013.37 L1445.03 1013.37  Z\n  \" fill=\"#009af9\" fill-rule=\"evenodd\" fill-opacity=\"1\"/>\n<polyline clip-path=\"url(#clip782)\" style=\"stroke:#000000; stroke-width:4; stroke-opacity:1; fill:none\" points=\"\n  1445.03,1013.37 1445.03,1384.24 1470.39,1384.24 1470.39,1013.37 1445.03,1013.37 \n  \"/>\n<path clip-path=\"url(#clip782)\" d=\"\nM1470.39 1013.37 L1470.39 1384.24 L1495.74 1384.24 L1495.74 1013.37 L1470.39 1013.37 L1470.39 1013.37  Z\n  \" fill=\"#009af9\" fill-rule=\"evenodd\" fill-opacity=\"1\"/>\n<polyline clip-path=\"url(#clip782)\" style=\"stroke:#000000; stroke-width:4; stroke-opacity:1; fill:none\" points=\"\n  1470.39,1013.37 1470.39,1384.24 1495.74,1384.24 1495.74,1013.37 1470.39,1013.37 \n  \"/>\n<path clip-path=\"url(#clip782)\" d=\"\nM1495.74 1013.37 L1495.74 1384.24 L1521.1 1384.24 L1521.1 1013.37 L1495.74 1013.37 L1495.74 1013.37  Z\n  \" fill=\"#009af9\" fill-rule=\"evenodd\" fill-opacity=\"1\"/>\n<polyline clip-path=\"url(#clip782)\" style=\"stroke:#000000; stroke-width:4; stroke-opacity:1; fill:none\" points=\"\n  1495.74,1013.37 1495.74,1384.24 1521.1,1384.24 1521.1,1013.37 1495.74,1013.37 \n  \"/>\n<path clip-path=\"url(#clip782)\" d=\"\nM1521.1 1013.37 L1521.1 1384.24 L1546.46 1384.24 L1546.46 1013.37 L1521.1 1013.37 L1521.1 1013.37  Z\n  \" fill=\"#009af9\" fill-rule=\"evenodd\" fill-opacity=\"1\"/>\n<polyline clip-path=\"url(#clip782)\" style=\"stroke:#000000; stroke-width:4; stroke-opacity:1; fill:none\" points=\"\n  1521.1,1013.37 1521.1,1384.24 1546.46,1384.24 1546.46,1013.37 1521.1,1013.37 \n  \"/>\n<path clip-path=\"url(#clip782)\" d=\"\nM1546.46 1198.8 L1546.46 1384.24 L1571.82 1384.24 L1571.82 1198.8 L1546.46 1198.8 L1546.46 1198.8  Z\n  \" fill=\"#009af9\" fill-rule=\"evenodd\" fill-opacity=\"1\"/>\n<polyline clip-path=\"url(#clip782)\" style=\"stroke:#000000; stroke-width:4; stroke-opacity:1; fill:none\" points=\"\n  1546.46,1198.8 1546.46,1384.24 1571.82,1384.24 1571.82,1198.8 1546.46,1198.8 \n  \"/>\n<path clip-path=\"url(#clip782)\" d=\"\nM1571.82 1384.24 L1571.82 1384.24 L1597.17 1384.24 L1597.17 1384.24 L1571.82 1384.24 L1571.82 1384.24  Z\n  \" fill=\"#009af9\" fill-rule=\"evenodd\" fill-opacity=\"1\"/>\n<polyline clip-path=\"url(#clip782)\" style=\"stroke:#000000; stroke-width:4; stroke-opacity:1; fill:none\" points=\"\n  1571.82,1384.24 1571.82,1384.24 1597.17,1384.24 1571.82,1384.24 \n  \"/>\n<path clip-path=\"url(#clip782)\" d=\"\nM1597.17 1384.24 L1597.17 1384.24 L1622.53 1384.24 L1622.53 1384.24 L1597.17 1384.24 L1597.17 1384.24  Z\n  \" fill=\"#009af9\" fill-rule=\"evenodd\" fill-opacity=\"1\"/>\n<polyline clip-path=\"url(#clip782)\" style=\"stroke:#000000; stroke-width:4; stroke-opacity:1; fill:none\" points=\"\n  1597.17,1384.24 1597.17,1384.24 1622.53,1384.24 1597.17,1384.24 \n  \"/>\n<path clip-path=\"url(#clip782)\" d=\"\nM1622.53 1384.24 L1622.53 1384.24 L1647.89 1384.24 L1647.89 1384.24 L1622.53 1384.24 L1622.53 1384.24  Z\n  \" fill=\"#009af9\" fill-rule=\"evenodd\" fill-opacity=\"1\"/>\n<polyline clip-path=\"url(#clip782)\" style=\"stroke:#000000; stroke-width:4; stroke-opacity:1; fill:none\" points=\"\n  1622.53,1384.24 1622.53,1384.24 1647.89,1384.24 1622.53,1384.24 \n  \"/>\n<path clip-path=\"url(#clip782)\" d=\"\nM1647.89 1384.24 L1647.89 1384.24 L1673.25 1384.24 L1673.25 1384.24 L1647.89 1384.24 L1647.89 1384.24  Z\n  \" fill=\"#009af9\" fill-rule=\"evenodd\" fill-opacity=\"1\"/>\n<polyline clip-path=\"url(#clip782)\" style=\"stroke:#000000; stroke-width:4; stroke-opacity:1; fill:none\" points=\"\n  1647.89,1384.24 1647.89,1384.24 1673.25,1384.24 1647.89,1384.24 \n  \"/>\n<path clip-path=\"url(#clip782)\" d=\"\nM1673.25 827.93 L1673.25 1384.24 L1698.6 1384.24 L1698.6 827.93 L1673.25 827.93 L1673.25 827.93  Z\n  \" fill=\"#009af9\" fill-rule=\"evenodd\" fill-opacity=\"1\"/>\n<polyline clip-path=\"url(#clip782)\" style=\"stroke:#000000; stroke-width:4; stroke-opacity:1; fill:none\" points=\"\n  1673.25,827.93 1673.25,1384.24 1698.6,1384.24 1698.6,827.93 1673.25,827.93 \n  \"/>\n<path clip-path=\"url(#clip782)\" d=\"\nM1698.6 1384.24 L1698.6 1384.24 L1723.96 1384.24 L1723.96 1384.24 L1698.6 1384.24 L1698.6 1384.24  Z\n  \" fill=\"#009af9\" fill-rule=\"evenodd\" fill-opacity=\"1\"/>\n<polyline clip-path=\"url(#clip782)\" style=\"stroke:#000000; stroke-width:4; stroke-opacity:1; fill:none\" points=\"\n  1698.6,1384.24 1698.6,1384.24 1723.96,1384.24 1698.6,1384.24 \n  \"/>\n<path clip-path=\"url(#clip782)\" d=\"\nM1723.96 1384.24 L1723.96 1384.24 L1749.32 1384.24 L1749.32 1384.24 L1723.96 1384.24 L1723.96 1384.24  Z\n  \" fill=\"#009af9\" fill-rule=\"evenodd\" fill-opacity=\"1\"/>\n<polyline clip-path=\"url(#clip782)\" style=\"stroke:#000000; stroke-width:4; stroke-opacity:1; fill:none\" points=\"\n  1723.96,1384.24 1723.96,1384.24 1749.32,1384.24 1723.96,1384.24 \n  \"/>\n<path clip-path=\"url(#clip782)\" d=\"\nM1749.32 1384.24 L1749.32 1384.24 L1774.68 1384.24 L1774.68 1384.24 L1749.32 1384.24 L1749.32 1384.24  Z\n  \" fill=\"#009af9\" fill-rule=\"evenodd\" fill-opacity=\"1\"/>\n<polyline clip-path=\"url(#clip782)\" style=\"stroke:#000000; stroke-width:4; stroke-opacity:1; fill:none\" points=\"\n  1749.32,1384.24 1749.32,1384.24 1774.68,1384.24 1749.32,1384.24 \n  \"/>\n<path clip-path=\"url(#clip782)\" d=\"\nM1774.68 1384.24 L1774.68 1384.24 L1800.03 1384.24 L1800.03 1384.24 L1774.68 1384.24 L1774.68 1384.24  Z\n  \" fill=\"#009af9\" fill-rule=\"evenodd\" fill-opacity=\"1\"/>\n<polyline clip-path=\"url(#clip782)\" style=\"stroke:#000000; stroke-width:4; stroke-opacity:1; fill:none\" points=\"\n  1774.68,1384.24 1774.68,1384.24 1800.03,1384.24 1774.68,1384.24 \n  \"/>\n<path clip-path=\"url(#clip782)\" d=\"\nM1800.03 827.93 L1800.03 1384.24 L1825.39 1384.24 L1825.39 827.93 L1800.03 827.93 L1800.03 827.93  Z\n  \" fill=\"#009af9\" fill-rule=\"evenodd\" fill-opacity=\"1\"/>\n<polyline clip-path=\"url(#clip782)\" style=\"stroke:#000000; stroke-width:4; stroke-opacity:1; fill:none\" points=\"\n  1800.03,827.93 1800.03,1384.24 1825.39,1384.24 1825.39,827.93 1800.03,827.93 \n  \"/>\n<path clip-path=\"url(#clip782)\" d=\"\nM1825.39 1013.37 L1825.39 1384.24 L1850.75 1384.24 L1850.75 1013.37 L1825.39 1013.37 L1825.39 1013.37  Z\n  \" fill=\"#009af9\" fill-rule=\"evenodd\" fill-opacity=\"1\"/>\n<polyline clip-path=\"url(#clip782)\" style=\"stroke:#000000; stroke-width:4; stroke-opacity:1; fill:none\" points=\"\n  1825.39,1013.37 1825.39,1384.24 1850.75,1384.24 1850.75,1013.37 1825.39,1013.37 \n  \"/>\n<path clip-path=\"url(#clip782)\" d=\"\nM1850.75 1384.24 L1850.75 1384.24 L1876.11 1384.24 L1876.11 1384.24 L1850.75 1384.24 L1850.75 1384.24  Z\n  \" fill=\"#009af9\" fill-rule=\"evenodd\" fill-opacity=\"1\"/>\n<polyline clip-path=\"url(#clip782)\" style=\"stroke:#000000; stroke-width:4; stroke-opacity:1; fill:none\" points=\"\n  1850.75,1384.24 1850.75,1384.24 1876.11,1384.24 1850.75,1384.24 \n  \"/>\n<path clip-path=\"url(#clip782)\" d=\"\nM1876.11 1198.8 L1876.11 1384.24 L1901.46 1384.24 L1901.46 1198.8 L1876.11 1198.8 L1876.11 1198.8  Z\n  \" fill=\"#009af9\" fill-rule=\"evenodd\" fill-opacity=\"1\"/>\n<polyline clip-path=\"url(#clip782)\" style=\"stroke:#000000; stroke-width:4; stroke-opacity:1; fill:none\" points=\"\n  1876.11,1198.8 1876.11,1384.24 1901.46,1384.24 1901.46,1198.8 1876.11,1198.8 \n  \"/>\n<path clip-path=\"url(#clip782)\" d=\"\nM1901.46 1384.24 L1901.46 1384.24 L1926.82 1384.24 L1926.82 1384.24 L1901.46 1384.24 L1901.46 1384.24  Z\n  \" fill=\"#009af9\" fill-rule=\"evenodd\" fill-opacity=\"1\"/>\n<polyline clip-path=\"url(#clip782)\" style=\"stroke:#000000; stroke-width:4; stroke-opacity:1; fill:none\" points=\"\n  1901.46,1384.24 1901.46,1384.24 1926.82,1384.24 1901.46,1384.24 \n  \"/>\n<path clip-path=\"url(#clip782)\" d=\"\nM1926.82 1013.37 L1926.82 1384.24 L1952.18 1384.24 L1952.18 1013.37 L1926.82 1013.37 L1926.82 1013.37  Z\n  \" fill=\"#009af9\" fill-rule=\"evenodd\" fill-opacity=\"1\"/>\n<polyline clip-path=\"url(#clip782)\" style=\"stroke:#000000; stroke-width:4; stroke-opacity:1; fill:none\" points=\"\n  1926.82,1013.37 1926.82,1384.24 1952.18,1384.24 1952.18,1013.37 1926.82,1013.37 \n  \"/>\n<path clip-path=\"url(#clip782)\" d=\"\nM1952.18 1013.37 L1952.18 1384.24 L1977.54 1384.24 L1977.54 1013.37 L1952.18 1013.37 L1952.18 1013.37  Z\n  \" fill=\"#009af9\" fill-rule=\"evenodd\" fill-opacity=\"1\"/>\n<polyline clip-path=\"url(#clip782)\" style=\"stroke:#000000; stroke-width:4; stroke-opacity:1; fill:none\" points=\"\n  1952.18,1013.37 1952.18,1384.24 1977.54,1384.24 1977.54,1013.37 1952.18,1013.37 \n  \"/>\n<path clip-path=\"url(#clip782)\" d=\"\nM1977.54 1198.8 L1977.54 1384.24 L2002.89 1384.24 L2002.89 1198.8 L1977.54 1198.8 L1977.54 1198.8  Z\n  \" fill=\"#009af9\" fill-rule=\"evenodd\" fill-opacity=\"1\"/>\n<polyline clip-path=\"url(#clip782)\" style=\"stroke:#000000; stroke-width:4; stroke-opacity:1; fill:none\" points=\"\n  1977.54,1198.8 1977.54,1384.24 2002.89,1384.24 2002.89,1198.8 1977.54,1198.8 \n  \"/>\n<path clip-path=\"url(#clip782)\" d=\"\nM2002.89 1198.8 L2002.89 1384.24 L2028.25 1384.24 L2028.25 1198.8 L2002.89 1198.8 L2002.89 1198.8  Z\n  \" fill=\"#009af9\" fill-rule=\"evenodd\" fill-opacity=\"1\"/>\n<polyline clip-path=\"url(#clip782)\" style=\"stroke:#000000; stroke-width:4; stroke-opacity:1; fill:none\" points=\"\n  2002.89,1198.8 2002.89,1384.24 2028.25,1384.24 2028.25,1198.8 2002.89,1198.8 \n  \"/>\n<path clip-path=\"url(#clip782)\" d=\"\nM2028.25 1198.8 L2028.25 1384.24 L2053.61 1384.24 L2053.61 1198.8 L2028.25 1198.8 L2028.25 1198.8  Z\n  \" fill=\"#009af9\" fill-rule=\"evenodd\" fill-opacity=\"1\"/>\n<polyline clip-path=\"url(#clip782)\" style=\"stroke:#000000; stroke-width:4; stroke-opacity:1; fill:none\" points=\"\n  2028.25,1198.8 2028.25,1384.24 2053.61,1384.24 2053.61,1198.8 2028.25,1198.8 \n  \"/>\n<path clip-path=\"url(#clip782)\" d=\"\nM2053.61 1013.37 L2053.61 1384.24 L2078.97 1384.24 L2078.97 1013.37 L2053.61 1013.37 L2053.61 1013.37  Z\n  \" fill=\"#009af9\" fill-rule=\"evenodd\" fill-opacity=\"1\"/>\n<polyline clip-path=\"url(#clip782)\" style=\"stroke:#000000; stroke-width:4; stroke-opacity:1; fill:none\" points=\"\n  2053.61,1013.37 2053.61,1384.24 2078.97,1384.24 2078.97,1013.37 2053.61,1013.37 \n  \"/>\n<path clip-path=\"url(#clip782)\" d=\"\nM2078.97 1384.24 L2078.97 1384.24 L2104.32 1384.24 L2104.32 1384.24 L2078.97 1384.24 L2078.97 1384.24  Z\n  \" fill=\"#009af9\" fill-rule=\"evenodd\" fill-opacity=\"1\"/>\n<polyline clip-path=\"url(#clip782)\" style=\"stroke:#000000; stroke-width:4; stroke-opacity:1; fill:none\" points=\"\n  2078.97,1384.24 2078.97,1384.24 2104.32,1384.24 2078.97,1384.24 \n  \"/>\n<path clip-path=\"url(#clip782)\" d=\"\nM2104.32 1384.24 L2104.32 1384.24 L2129.68 1384.24 L2129.68 1384.24 L2104.32 1384.24 L2104.32 1384.24  Z\n  \" fill=\"#009af9\" fill-rule=\"evenodd\" fill-opacity=\"1\"/>\n<polyline clip-path=\"url(#clip782)\" style=\"stroke:#000000; stroke-width:4; stroke-opacity:1; fill:none\" points=\"\n  2104.32,1384.24 2104.32,1384.24 2129.68,1384.24 2104.32,1384.24 \n  \"/>\n<path clip-path=\"url(#clip782)\" d=\"\nM2129.68 1384.24 L2129.68 1384.24 L2155.04 1384.24 L2155.04 1384.24 L2129.68 1384.24 L2129.68 1384.24  Z\n  \" fill=\"#009af9\" fill-rule=\"evenodd\" fill-opacity=\"1\"/>\n<polyline clip-path=\"url(#clip782)\" style=\"stroke:#000000; stroke-width:4; stroke-opacity:1; fill:none\" points=\"\n  2129.68,1384.24 2129.68,1384.24 2155.04,1384.24 2129.68,1384.24 \n  \"/>\n<path clip-path=\"url(#clip782)\" d=\"\nM2155.04 1198.8 L2155.04 1384.24 L2180.4 1384.24 L2180.4 1198.8 L2155.04 1198.8 L2155.04 1198.8  Z\n  \" fill=\"#009af9\" fill-rule=\"evenodd\" fill-opacity=\"1\"/>\n<polyline clip-path=\"url(#clip782)\" style=\"stroke:#000000; stroke-width:4; stroke-opacity:1; fill:none\" points=\"\n  2155.04,1198.8 2155.04,1384.24 2180.4,1384.24 2180.4,1198.8 2155.04,1198.8 \n  \"/>\n<path clip-path=\"url(#clip782)\" d=\"\nM2180.4 1198.8 L2180.4 1384.24 L2205.75 1384.24 L2205.75 1198.8 L2180.4 1198.8 L2180.4 1198.8  Z\n  \" fill=\"#009af9\" fill-rule=\"evenodd\" fill-opacity=\"1\"/>\n<polyline clip-path=\"url(#clip782)\" style=\"stroke:#000000; stroke-width:4; stroke-opacity:1; fill:none\" points=\"\n  2180.4,1198.8 2180.4,1384.24 2205.75,1384.24 2205.75,1198.8 2180.4,1198.8 \n  \"/>\n<path clip-path=\"url(#clip782)\" d=\"\nM2205.75 827.93 L2205.75 1384.24 L2231.11 1384.24 L2231.11 827.93 L2205.75 827.93 L2205.75 827.93  Z\n  \" fill=\"#009af9\" fill-rule=\"evenodd\" fill-opacity=\"1\"/>\n<polyline clip-path=\"url(#clip782)\" style=\"stroke:#000000; stroke-width:4; stroke-opacity:1; fill:none\" points=\"\n  2205.75,827.93 2205.75,1384.24 2231.11,1384.24 2231.11,827.93 2205.75,827.93 \n  \"/>\n<path clip-path=\"url(#clip782)\" d=\"\nM2231.11 1198.8 L2231.11 1384.24 L2256.47 1384.24 L2256.47 1198.8 L2231.11 1198.8 L2231.11 1198.8  Z\n  \" fill=\"#009af9\" fill-rule=\"evenodd\" fill-opacity=\"1\"/>\n<polyline clip-path=\"url(#clip782)\" style=\"stroke:#000000; stroke-width:4; stroke-opacity:1; fill:none\" points=\"\n  2231.11,1198.8 2231.11,1384.24 2256.47,1384.24 2256.47,1198.8 2231.11,1198.8 \n  \"/>\n<path clip-path=\"url(#clip782)\" d=\"\nM2256.47 1198.8 L2256.47 1384.24 L2281.83 1384.24 L2281.83 1198.8 L2256.47 1198.8 L2256.47 1198.8  Z\n  \" fill=\"#009af9\" fill-rule=\"evenodd\" fill-opacity=\"1\"/>\n<polyline clip-path=\"url(#clip782)\" style=\"stroke:#000000; stroke-width:4; stroke-opacity:1; fill:none\" points=\"\n  2256.47,1198.8 2256.47,1384.24 2281.83,1384.24 2281.83,1198.8 2256.47,1198.8 \n  \"/>\n<path clip-path=\"url(#clip782)\" d=\"\nM2281.83 1013.37 L2281.83 1384.24 L2307.18 1384.24 L2307.18 1013.37 L2281.83 1013.37 L2281.83 1013.37  Z\n  \" fill=\"#009af9\" fill-rule=\"evenodd\" fill-opacity=\"1\"/>\n<polyline clip-path=\"url(#clip782)\" style=\"stroke:#000000; stroke-width:4; stroke-opacity:1; fill:none\" points=\"\n  2281.83,1013.37 2281.83,1384.24 2307.18,1384.24 2307.18,1013.37 2281.83,1013.37 \n  \"/>\n<path clip-path=\"url(#clip782)\" d=\"\nM2307.18 1013.37 L2307.18 1384.24 L2332.54 1384.24 L2332.54 1013.37 L2307.18 1013.37 L2307.18 1013.37  Z\n  \" fill=\"#009af9\" fill-rule=\"evenodd\" fill-opacity=\"1\"/>\n<polyline clip-path=\"url(#clip782)\" style=\"stroke:#000000; stroke-width:4; stroke-opacity:1; fill:none\" points=\"\n  2307.18,1013.37 2307.18,1384.24 2332.54,1384.24 2332.54,1013.37 2307.18,1013.37 \n  \"/>\n<path clip-path=\"url(#clip782)\" d=\"\nM2332.54 1198.8 L2332.54 1384.24 L2357.9 1384.24 L2357.9 1198.8 L2332.54 1198.8 L2332.54 1198.8  Z\n  \" fill=\"#009af9\" fill-rule=\"evenodd\" fill-opacity=\"1\"/>\n<polyline clip-path=\"url(#clip782)\" style=\"stroke:#000000; stroke-width:4; stroke-opacity:1; fill:none\" points=\"\n  2332.54,1198.8 2332.54,1384.24 2357.9,1384.24 2357.9,1198.8 2332.54,1198.8 \n  \"/>\n<path clip-path=\"url(#clip782)\" d=\"\nM2357.9 1198.8 L2357.9 1384.24 L2383.26 1384.24 L2383.26 1198.8 L2357.9 1198.8 L2357.9 1198.8  Z\n  \" fill=\"#009af9\" fill-rule=\"evenodd\" fill-opacity=\"1\"/>\n<polyline clip-path=\"url(#clip782)\" style=\"stroke:#000000; stroke-width:4; stroke-opacity:1; fill:none\" points=\"\n  2357.9,1198.8 2357.9,1384.24 2383.26,1384.24 2383.26,1198.8 2357.9,1198.8 \n  \"/>\n<path clip-path=\"url(#clip782)\" d=\"\nM2383.26 1013.37 L2383.26 1384.24 L2408.61 1384.24 L2408.61 1013.37 L2383.26 1013.37 L2383.26 1013.37  Z\n  \" fill=\"#009af9\" fill-rule=\"evenodd\" fill-opacity=\"1\"/>\n<polyline clip-path=\"url(#clip782)\" style=\"stroke:#000000; stroke-width:4; stroke-opacity:1; fill:none\" points=\"\n  2383.26,1013.37 2383.26,1384.24 2408.61,1384.24 2408.61,1013.37 2383.26,1013.37 \n  \"/>\n<path clip-path=\"url(#clip782)\" d=\"\nM2408.61 1013.37 L2408.61 1384.24 L2433.97 1384.24 L2433.97 1013.37 L2408.61 1013.37 L2408.61 1013.37  Z\n  \" fill=\"#009af9\" fill-rule=\"evenodd\" fill-opacity=\"1\"/>\n<polyline clip-path=\"url(#clip782)\" style=\"stroke:#000000; stroke-width:4; stroke-opacity:1; fill:none\" points=\"\n  2408.61,1013.37 2408.61,1384.24 2433.97,1384.24 2433.97,1013.37 2408.61,1013.37 \n  \"/>\n<path clip-path=\"url(#clip782)\" d=\"\nM2433.97 1013.37 L2433.97 1384.24 L2459.33 1384.24 L2459.33 1013.37 L2433.97 1013.37 L2433.97 1013.37  Z\n  \" fill=\"#009af9\" fill-rule=\"evenodd\" fill-opacity=\"1\"/>\n<polyline clip-path=\"url(#clip782)\" style=\"stroke:#000000; stroke-width:4; stroke-opacity:1; fill:none\" points=\"\n  2433.97,1013.37 2433.97,1384.24 2459.33,1384.24 2459.33,1013.37 2433.97,1013.37 \n  \"/>\n<path clip-path=\"url(#clip782)\" d=\"\nM2459.33 1198.8 L2459.33 1384.24 L2484.69 1384.24 L2484.69 1198.8 L2459.33 1198.8 L2459.33 1198.8  Z\n  \" fill=\"#009af9\" fill-rule=\"evenodd\" fill-opacity=\"1\"/>\n<polyline clip-path=\"url(#clip782)\" style=\"stroke:#000000; stroke-width:4; stroke-opacity:1; fill:none\" points=\"\n  2459.33,1198.8 2459.33,1384.24 2484.69,1384.24 2484.69,1198.8 2459.33,1198.8 \n  \"/>\n<path clip-path=\"url(#clip782)\" d=\"\nM2484.69 1198.8 L2484.69 1384.24 L2510.04 1384.24 L2510.04 1198.8 L2484.69 1198.8 L2484.69 1198.8  Z\n  \" fill=\"#009af9\" fill-rule=\"evenodd\" fill-opacity=\"1\"/>\n<polyline clip-path=\"url(#clip782)\" style=\"stroke:#000000; stroke-width:4; stroke-opacity:1; fill:none\" points=\"\n  2484.69,1198.8 2484.69,1384.24 2510.04,1384.24 2510.04,1198.8 2484.69,1198.8 \n  \"/>\n<path clip-path=\"url(#clip782)\" d=\"\nM2510.04 1198.8 L2510.04 1384.24 L2535.4 1384.24 L2535.4 1198.8 L2510.04 1198.8 L2510.04 1198.8  Z\n  \" fill=\"#009af9\" fill-rule=\"evenodd\" fill-opacity=\"1\"/>\n<polyline clip-path=\"url(#clip782)\" style=\"stroke:#000000; stroke-width:4; stroke-opacity:1; fill:none\" points=\"\n  2510.04,1198.8 2510.04,1384.24 2535.4,1384.24 2535.4,1198.8 2510.04,1198.8 \n  \"/>\n<path clip-path=\"url(#clip782)\" d=\"\nM2535.4 1013.37 L2535.4 1384.24 L2560.76 1384.24 L2560.76 1013.37 L2535.4 1013.37 L2535.4 1013.37  Z\n  \" fill=\"#009af9\" fill-rule=\"evenodd\" fill-opacity=\"1\"/>\n<polyline clip-path=\"url(#clip782)\" style=\"stroke:#000000; stroke-width:4; stroke-opacity:1; fill:none\" points=\"\n  2535.4,1013.37 2535.4,1384.24 2560.76,1384.24 2560.76,1013.37 2535.4,1013.37 \n  \"/>\n<path clip-path=\"url(#clip782)\" d=\"\nM2560.76 1013.37 L2560.76 1384.24 L2586.12 1384.24 L2586.12 1013.37 L2560.76 1013.37 L2560.76 1013.37  Z\n  \" fill=\"#009af9\" fill-rule=\"evenodd\" fill-opacity=\"1\"/>\n<polyline clip-path=\"url(#clip782)\" style=\"stroke:#000000; stroke-width:4; stroke-opacity:1; fill:none\" points=\"\n  2560.76,1013.37 2560.76,1384.24 2586.12,1384.24 2586.12,1013.37 2560.76,1013.37 \n  \"/>\n<path clip-path=\"url(#clip782)\" d=\"\nM2586.12 1198.8 L2586.12 1384.24 L2611.47 1384.24 L2611.47 1198.8 L2586.12 1198.8 L2586.12 1198.8  Z\n  \" fill=\"#009af9\" fill-rule=\"evenodd\" fill-opacity=\"1\"/>\n<polyline clip-path=\"url(#clip782)\" style=\"stroke:#000000; stroke-width:4; stroke-opacity:1; fill:none\" points=\"\n  2586.12,1198.8 2586.12,1384.24 2611.47,1384.24 2611.47,1198.8 2586.12,1198.8 \n  \"/>\n<path clip-path=\"url(#clip782)\" d=\"\nM2611.47 1198.8 L2611.47 1384.24 L2636.83 1384.24 L2636.83 1198.8 L2611.47 1198.8 L2611.47 1198.8  Z\n  \" fill=\"#009af9\" fill-rule=\"evenodd\" fill-opacity=\"1\"/>\n<polyline clip-path=\"url(#clip782)\" style=\"stroke:#000000; stroke-width:4; stroke-opacity:1; fill:none\" points=\"\n  2611.47,1198.8 2611.47,1384.24 2636.83,1384.24 2636.83,1198.8 2611.47,1198.8 \n  \"/>\n<path clip-path=\"url(#clip782)\" d=\"\nM2636.83 642.494 L2636.83 1384.24 L2662.19 1384.24 L2662.19 642.494 L2636.83 642.494 L2636.83 642.494  Z\n  \" fill=\"#009af9\" fill-rule=\"evenodd\" fill-opacity=\"1\"/>\n<polyline clip-path=\"url(#clip782)\" style=\"stroke:#000000; stroke-width:4; stroke-opacity:1; fill:none\" points=\"\n  2636.83,642.494 2636.83,1384.24 2662.19,1384.24 2662.19,642.494 2636.83,642.494 \n  \"/>\n<path clip-path=\"url(#clip782)\" d=\"\nM2662.19 827.93 L2662.19 1384.24 L2687.54 1384.24 L2687.54 827.93 L2662.19 827.93 L2662.19 827.93  Z\n  \" fill=\"#009af9\" fill-rule=\"evenodd\" fill-opacity=\"1\"/>\n<polyline clip-path=\"url(#clip782)\" style=\"stroke:#000000; stroke-width:4; stroke-opacity:1; fill:none\" points=\"\n  2662.19,827.93 2662.19,1384.24 2687.54,1384.24 2687.54,827.93 2662.19,827.93 \n  \"/>\n<path clip-path=\"url(#clip782)\" d=\"\nM2687.54 1013.37 L2687.54 1384.24 L2712.9 1384.24 L2712.9 1013.37 L2687.54 1013.37 L2687.54 1013.37  Z\n  \" fill=\"#009af9\" fill-rule=\"evenodd\" fill-opacity=\"1\"/>\n<polyline clip-path=\"url(#clip782)\" style=\"stroke:#000000; stroke-width:4; stroke-opacity:1; fill:none\" points=\"\n  2687.54,1013.37 2687.54,1384.24 2712.9,1384.24 2712.9,1013.37 2687.54,1013.37 \n  \"/>\n<path clip-path=\"url(#clip782)\" d=\"\nM2712.9 642.494 L2712.9 1384.24 L2738.26 1384.24 L2738.26 642.494 L2712.9 642.494 L2712.9 642.494  Z\n  \" fill=\"#009af9\" fill-rule=\"evenodd\" fill-opacity=\"1\"/>\n<polyline clip-path=\"url(#clip782)\" style=\"stroke:#000000; stroke-width:4; stroke-opacity:1; fill:none\" points=\"\n  2712.9,642.494 2712.9,1384.24 2738.26,1384.24 2738.26,642.494 2712.9,642.494 \n  \"/>\n<path clip-path=\"url(#clip782)\" d=\"\nM2738.26 1198.8 L2738.26 1384.24 L2763.62 1384.24 L2763.62 1198.8 L2738.26 1198.8 L2738.26 1198.8  Z\n  \" fill=\"#009af9\" fill-rule=\"evenodd\" fill-opacity=\"1\"/>\n<polyline clip-path=\"url(#clip782)\" style=\"stroke:#000000; stroke-width:4; stroke-opacity:1; fill:none\" points=\"\n  2738.26,1198.8 2738.26,1384.24 2763.62,1384.24 2763.62,1198.8 2738.26,1198.8 \n  \"/>\n<path clip-path=\"url(#clip782)\" d=\"\nM2763.62 1198.8 L2763.62 1384.24 L2788.97 1384.24 L2788.97 1198.8 L2763.62 1198.8 L2763.62 1198.8  Z\n  \" fill=\"#009af9\" fill-rule=\"evenodd\" fill-opacity=\"1\"/>\n<polyline clip-path=\"url(#clip782)\" style=\"stroke:#000000; stroke-width:4; stroke-opacity:1; fill:none\" points=\"\n  2763.62,1198.8 2763.62,1384.24 2788.97,1384.24 2788.97,1198.8 2763.62,1198.8 \n  \"/>\n<path clip-path=\"url(#clip782)\" d=\"\nM2788.97 827.93 L2788.97 1384.24 L2814.33 1384.24 L2814.33 827.93 L2788.97 827.93 L2788.97 827.93  Z\n  \" fill=\"#009af9\" fill-rule=\"evenodd\" fill-opacity=\"1\"/>\n<polyline clip-path=\"url(#clip782)\" style=\"stroke:#000000; stroke-width:4; stroke-opacity:1; fill:none\" points=\"\n  2788.97,827.93 2788.97,1384.24 2814.33,1384.24 2814.33,827.93 2788.97,827.93 \n  \"/>\n<path clip-path=\"url(#clip782)\" d=\"\nM2814.33 642.494 L2814.33 1384.24 L2839.69 1384.24 L2839.69 642.494 L2814.33 642.494 L2814.33 642.494  Z\n  \" fill=\"#009af9\" fill-rule=\"evenodd\" fill-opacity=\"1\"/>\n<polyline clip-path=\"url(#clip782)\" style=\"stroke:#000000; stroke-width:4; stroke-opacity:1; fill:none\" points=\"\n  2814.33,642.494 2814.33,1384.24 2839.69,1384.24 2839.69,642.494 2814.33,642.494 \n  \"/>\n<path clip-path=\"url(#clip782)\" d=\"\nM2839.69 1198.8 L2839.69 1384.24 L2865.05 1384.24 L2865.05 1198.8 L2839.69 1198.8 L2839.69 1198.8  Z\n  \" fill=\"#009af9\" fill-rule=\"evenodd\" fill-opacity=\"1\"/>\n<polyline clip-path=\"url(#clip782)\" style=\"stroke:#000000; stroke-width:4; stroke-opacity:1; fill:none\" points=\"\n  2839.69,1198.8 2839.69,1384.24 2865.05,1384.24 2865.05,1198.8 2839.69,1198.8 \n  \"/>\n<path clip-path=\"url(#clip782)\" d=\"\nM2865.05 642.494 L2865.05 1384.24 L2890.4 1384.24 L2890.4 642.494 L2865.05 642.494 L2865.05 642.494  Z\n  \" fill=\"#009af9\" fill-rule=\"evenodd\" fill-opacity=\"1\"/>\n<polyline clip-path=\"url(#clip782)\" style=\"stroke:#000000; stroke-width:4; stroke-opacity:1; fill:none\" points=\"\n  2865.05,642.494 2865.05,1384.24 2890.4,1384.24 2890.4,642.494 2865.05,642.494 \n  \"/>\n<path clip-path=\"url(#clip782)\" d=\"\nM2890.4 1384.24 L2890.4 1384.24 L2915.76 1384.24 L2915.76 1384.24 L2890.4 1384.24 L2890.4 1384.24  Z\n  \" fill=\"#009af9\" fill-rule=\"evenodd\" fill-opacity=\"1\"/>\n<polyline clip-path=\"url(#clip782)\" style=\"stroke:#000000; stroke-width:4; stroke-opacity:1; fill:none\" points=\"\n  2890.4,1384.24 2890.4,1384.24 2915.76,1384.24 2890.4,1384.24 \n  \"/>\n<path clip-path=\"url(#clip782)\" d=\"\nM2915.76 642.494 L2915.76 1384.24 L2941.12 1384.24 L2941.12 642.494 L2915.76 642.494 L2915.76 642.494  Z\n  \" fill=\"#009af9\" fill-rule=\"evenodd\" fill-opacity=\"1\"/>\n<polyline clip-path=\"url(#clip782)\" style=\"stroke:#000000; stroke-width:4; stroke-opacity:1; fill:none\" points=\"\n  2915.76,642.494 2915.76,1384.24 2941.12,1384.24 2941.12,642.494 2915.76,642.494 \n  \"/>\n<path clip-path=\"url(#clip782)\" d=\"\nM2941.12 1013.37 L2941.12 1384.24 L2966.48 1384.24 L2966.48 1013.37 L2941.12 1013.37 L2941.12 1013.37  Z\n  \" fill=\"#009af9\" fill-rule=\"evenodd\" fill-opacity=\"1\"/>\n<polyline clip-path=\"url(#clip782)\" style=\"stroke:#000000; stroke-width:4; stroke-opacity:1; fill:none\" points=\"\n  2941.12,1013.37 2941.12,1384.24 2966.48,1384.24 2966.48,1013.37 2941.12,1013.37 \n  \"/>\n<path clip-path=\"url(#clip782)\" d=\"\nM2966.48 1384.24 L2966.48 1384.24 L2991.83 1384.24 L2991.83 1384.24 L2966.48 1384.24 L2966.48 1384.24  Z\n  \" fill=\"#009af9\" fill-rule=\"evenodd\" fill-opacity=\"1\"/>\n<polyline clip-path=\"url(#clip782)\" style=\"stroke:#000000; stroke-width:4; stroke-opacity:1; fill:none\" points=\"\n  2966.48,1384.24 2966.48,1384.24 2991.83,1384.24 2966.48,1384.24 \n  \"/>\n<path clip-path=\"url(#clip782)\" d=\"\nM2991.83 1384.24 L2991.83 1384.24 L3017.19 1384.24 L3017.19 1384.24 L2991.83 1384.24 L2991.83 1384.24  Z\n  \" fill=\"#009af9\" fill-rule=\"evenodd\" fill-opacity=\"1\"/>\n<polyline clip-path=\"url(#clip782)\" style=\"stroke:#000000; stroke-width:4; stroke-opacity:1; fill:none\" points=\"\n  2991.83,1384.24 2991.83,1384.24 3017.19,1384.24 2991.83,1384.24 \n  \"/>\n<path clip-path=\"url(#clip782)\" d=\"\nM3017.19 1013.37 L3017.19 1384.24 L3042.55 1384.24 L3042.55 1013.37 L3017.19 1013.37 L3017.19 1013.37  Z\n  \" fill=\"#009af9\" fill-rule=\"evenodd\" fill-opacity=\"1\"/>\n<polyline clip-path=\"url(#clip782)\" style=\"stroke:#000000; stroke-width:4; stroke-opacity:1; fill:none\" points=\"\n  3017.19,1013.37 3017.19,1384.24 3042.55,1384.24 3042.55,1013.37 3017.19,1013.37 \n  \"/>\n<path clip-path=\"url(#clip782)\" d=\"\nM3042.55 1198.8 L3042.55 1384.24 L3067.91 1384.24 L3067.91 1198.8 L3042.55 1198.8 L3042.55 1198.8  Z\n  \" fill=\"#009af9\" fill-rule=\"evenodd\" fill-opacity=\"1\"/>\n<polyline clip-path=\"url(#clip782)\" style=\"stroke:#000000; stroke-width:4; stroke-opacity:1; fill:none\" points=\"\n  3042.55,1198.8 3042.55,1384.24 3067.91,1384.24 3067.91,1198.8 3042.55,1198.8 \n  \"/>\n<path clip-path=\"url(#clip782)\" d=\"\nM3067.91 1198.8 L3067.91 1384.24 L3093.26 1384.24 L3093.26 1198.8 L3067.91 1198.8 L3067.91 1198.8  Z\n  \" fill=\"#009af9\" fill-rule=\"evenodd\" fill-opacity=\"1\"/>\n<polyline clip-path=\"url(#clip782)\" style=\"stroke:#000000; stroke-width:4; stroke-opacity:1; fill:none\" points=\"\n  3067.91,1198.8 3067.91,1384.24 3093.26,1384.24 3093.26,1198.8 3067.91,1198.8 \n  \"/>\n<path clip-path=\"url(#clip782)\" d=\"\nM3093.26 1198.8 L3093.26 1384.24 L3118.62 1384.24 L3118.62 1198.8 L3093.26 1198.8 L3093.26 1198.8  Z\n  \" fill=\"#009af9\" fill-rule=\"evenodd\" fill-opacity=\"1\"/>\n<polyline clip-path=\"url(#clip782)\" style=\"stroke:#000000; stroke-width:4; stroke-opacity:1; fill:none\" points=\"\n  3093.26,1198.8 3093.26,1384.24 3118.62,1384.24 3118.62,1198.8 3093.26,1198.8 \n  \"/>\n<path clip-path=\"url(#clip782)\" d=\"\nM3118.62 1013.37 L3118.62 1384.24 L3143.98 1384.24 L3143.98 1013.37 L3118.62 1013.37 L3118.62 1013.37  Z\n  \" fill=\"#009af9\" fill-rule=\"evenodd\" fill-opacity=\"1\"/>\n<polyline clip-path=\"url(#clip782)\" style=\"stroke:#000000; stroke-width:4; stroke-opacity:1; fill:none\" points=\"\n  3118.62,1013.37 3118.62,1384.24 3143.98,1384.24 3143.98,1013.37 3118.62,1013.37 \n  \"/>\n<path clip-path=\"url(#clip782)\" d=\"\nM3143.98 1013.37 L3143.98 1384.24 L3169.34 1384.24 L3169.34 1013.37 L3143.98 1013.37 L3143.98 1013.37  Z\n  \" fill=\"#009af9\" fill-rule=\"evenodd\" fill-opacity=\"1\"/>\n<polyline clip-path=\"url(#clip782)\" style=\"stroke:#000000; stroke-width:4; stroke-opacity:1; fill:none\" points=\"\n  3143.98,1013.37 3143.98,1384.24 3169.34,1384.24 3169.34,1013.37 3143.98,1013.37 \n  \"/>\n<path clip-path=\"url(#clip782)\" d=\"\nM3169.34 1198.8 L3169.34 1384.24 L3194.69 1384.24 L3194.69 1198.8 L3169.34 1198.8 L3169.34 1198.8  Z\n  \" fill=\"#009af9\" fill-rule=\"evenodd\" fill-opacity=\"1\"/>\n<polyline clip-path=\"url(#clip782)\" style=\"stroke:#000000; stroke-width:4; stroke-opacity:1; fill:none\" points=\"\n  3169.34,1198.8 3169.34,1384.24 3194.69,1384.24 3194.69,1198.8 3169.34,1198.8 \n  \"/>\n<path clip-path=\"url(#clip782)\" d=\"\nM3194.69 1013.37 L3194.69 1384.24 L3220.05 1384.24 L3220.05 1013.37 L3194.69 1013.37 L3194.69 1013.37  Z\n  \" fill=\"#009af9\" fill-rule=\"evenodd\" fill-opacity=\"1\"/>\n<polyline clip-path=\"url(#clip782)\" style=\"stroke:#000000; stroke-width:4; stroke-opacity:1; fill:none\" points=\"\n  3194.69,1013.37 3194.69,1384.24 3220.05,1384.24 3220.05,1013.37 3194.69,1013.37 \n  \"/>\n<path clip-path=\"url(#clip782)\" d=\"\nM3220.05 1013.37 L3220.05 1384.24 L3245.41 1384.24 L3245.41 1013.37 L3220.05 1013.37 L3220.05 1013.37  Z\n  \" fill=\"#009af9\" fill-rule=\"evenodd\" fill-opacity=\"1\"/>\n<polyline clip-path=\"url(#clip782)\" style=\"stroke:#000000; stroke-width:4; stroke-opacity:1; fill:none\" points=\"\n  3220.05,1013.37 3220.05,1384.24 3245.41,1384.24 3245.41,1013.37 3220.05,1013.37 \n  \"/>\n<path clip-path=\"url(#clip782)\" d=\"\nM3245.41 1384.24 L3245.41 1384.24 L3270.77 1384.24 L3270.77 1384.24 L3245.41 1384.24 L3245.41 1384.24  Z\n  \" fill=\"#009af9\" fill-rule=\"evenodd\" fill-opacity=\"1\"/>\n<polyline clip-path=\"url(#clip782)\" style=\"stroke:#000000; stroke-width:4; stroke-opacity:1; fill:none\" points=\"\n  3245.41,1384.24 3245.41,1384.24 3270.77,1384.24 3245.41,1384.24 \n  \"/>\n<path clip-path=\"url(#clip782)\" d=\"\nM3270.77 1013.37 L3270.77 1384.24 L3296.12 1384.24 L3296.12 1013.37 L3270.77 1013.37 L3270.77 1013.37  Z\n  \" fill=\"#009af9\" fill-rule=\"evenodd\" fill-opacity=\"1\"/>\n<polyline clip-path=\"url(#clip782)\" style=\"stroke:#000000; stroke-width:4; stroke-opacity:1; fill:none\" points=\"\n  3270.77,1013.37 3270.77,1384.24 3296.12,1384.24 3296.12,1013.37 3270.77,1013.37 \n  \"/>\n<path clip-path=\"url(#clip782)\" d=\"\nM3296.12 1013.37 L3296.12 1384.24 L3321.48 1384.24 L3321.48 1013.37 L3296.12 1013.37 L3296.12 1013.37  Z\n  \" fill=\"#009af9\" fill-rule=\"evenodd\" fill-opacity=\"1\"/>\n<polyline clip-path=\"url(#clip782)\" style=\"stroke:#000000; stroke-width:4; stroke-opacity:1; fill:none\" points=\"\n  3296.12,1013.37 3296.12,1384.24 3321.48,1384.24 3321.48,1013.37 3296.12,1013.37 \n  \"/>\n<path clip-path=\"url(#clip782)\" d=\"\nM3321.48 827.93 L3321.48 1384.24 L3346.84 1384.24 L3346.84 827.93 L3321.48 827.93 L3321.48 827.93  Z\n  \" fill=\"#009af9\" fill-rule=\"evenodd\" fill-opacity=\"1\"/>\n<polyline clip-path=\"url(#clip782)\" style=\"stroke:#000000; stroke-width:4; stroke-opacity:1; fill:none\" points=\"\n  3321.48,827.93 3321.48,1384.24 3346.84,1384.24 3346.84,827.93 3321.48,827.93 \n  \"/>\n<path clip-path=\"url(#clip782)\" d=\"\nM3346.84 1013.37 L3346.84 1384.24 L3372.2 1384.24 L3372.2 1013.37 L3346.84 1013.37 L3346.84 1013.37  Z\n  \" fill=\"#009af9\" fill-rule=\"evenodd\" fill-opacity=\"1\"/>\n<polyline clip-path=\"url(#clip782)\" style=\"stroke:#000000; stroke-width:4; stroke-opacity:1; fill:none\" points=\"\n  3346.84,1013.37 3346.84,1384.24 3372.2,1384.24 3372.2,1013.37 3346.84,1013.37 \n  \"/>\n<path clip-path=\"url(#clip782)\" d=\"\nM3372.2 1198.8 L3372.2 1384.24 L3397.55 1384.24 L3397.55 1198.8 L3372.2 1198.8 L3372.2 1198.8  Z\n  \" fill=\"#009af9\" fill-rule=\"evenodd\" fill-opacity=\"1\"/>\n<polyline clip-path=\"url(#clip782)\" style=\"stroke:#000000; stroke-width:4; stroke-opacity:1; fill:none\" points=\"\n  3372.2,1198.8 3372.2,1384.24 3397.55,1384.24 3397.55,1198.8 3372.2,1198.8 \n  \"/>\n<path clip-path=\"url(#clip782)\" d=\"\nM3397.55 827.93 L3397.55 1384.24 L3422.91 1384.24 L3422.91 827.93 L3397.55 827.93 L3397.55 827.93  Z\n  \" fill=\"#009af9\" fill-rule=\"evenodd\" fill-opacity=\"1\"/>\n<polyline clip-path=\"url(#clip782)\" style=\"stroke:#000000; stroke-width:4; stroke-opacity:1; fill:none\" points=\"\n  3397.55,827.93 3397.55,1384.24 3422.91,1384.24 3422.91,827.93 3397.55,827.93 \n  \"/>\n<path clip-path=\"url(#clip782)\" d=\"\nM3422.91 1013.37 L3422.91 1384.24 L3448.27 1384.24 L3448.27 1013.37 L3422.91 1013.37 L3422.91 1013.37  Z\n  \" fill=\"#009af9\" fill-rule=\"evenodd\" fill-opacity=\"1\"/>\n<polyline clip-path=\"url(#clip782)\" style=\"stroke:#000000; stroke-width:4; stroke-opacity:1; fill:none\" points=\"\n  3422.91,1013.37 3422.91,1384.24 3448.27,1384.24 3448.27,1013.37 3422.91,1013.37 \n  \"/>\n<path clip-path=\"url(#clip782)\" d=\"\nM3448.27 1198.8 L3448.27 1384.24 L3473.63 1384.24 L3473.63 1198.8 L3448.27 1198.8 L3448.27 1198.8  Z\n  \" fill=\"#009af9\" fill-rule=\"evenodd\" fill-opacity=\"1\"/>\n<polyline clip-path=\"url(#clip782)\" style=\"stroke:#000000; stroke-width:4; stroke-opacity:1; fill:none\" points=\"\n  3448.27,1198.8 3448.27,1384.24 3473.63,1384.24 3473.63,1198.8 3448.27,1198.8 \n  \"/>\n<path clip-path=\"url(#clip782)\" d=\"\nM3473.63 827.93 L3473.63 1384.24 L3498.98 1384.24 L3498.98 827.93 L3473.63 827.93 L3473.63 827.93  Z\n  \" fill=\"#009af9\" fill-rule=\"evenodd\" fill-opacity=\"1\"/>\n<polyline clip-path=\"url(#clip782)\" style=\"stroke:#000000; stroke-width:4; stroke-opacity:1; fill:none\" points=\"\n  3473.63,827.93 3473.63,1384.24 3498.98,1384.24 3498.98,827.93 3473.63,827.93 \n  \"/>\n<path clip-path=\"url(#clip782)\" d=\"\nM3498.98 827.93 L3498.98 1384.24 L3524.34 1384.24 L3524.34 827.93 L3498.98 827.93 L3498.98 827.93  Z\n  \" fill=\"#009af9\" fill-rule=\"evenodd\" fill-opacity=\"1\"/>\n<polyline clip-path=\"url(#clip782)\" style=\"stroke:#000000; stroke-width:4; stroke-opacity:1; fill:none\" points=\"\n  3498.98,827.93 3498.98,1384.24 3524.34,1384.24 3524.34,827.93 3498.98,827.93 \n  \"/>\n<path clip-path=\"url(#clip782)\" d=\"\nM3524.34 1384.24 L3524.34 1384.24 L3549.7 1384.24 L3549.7 1384.24 L3524.34 1384.24 L3524.34 1384.24  Z\n  \" fill=\"#009af9\" fill-rule=\"evenodd\" fill-opacity=\"1\"/>\n<polyline clip-path=\"url(#clip782)\" style=\"stroke:#000000; stroke-width:4; stroke-opacity:1; fill:none\" points=\"\n  3524.34,1384.24 3524.34,1384.24 3549.7,1384.24 3524.34,1384.24 \n  \"/>\n<path clip-path=\"url(#clip782)\" d=\"\nM3549.7 827.93 L3549.7 1384.24 L3575.06 1384.24 L3575.06 827.93 L3549.7 827.93 L3549.7 827.93  Z\n  \" fill=\"#009af9\" fill-rule=\"evenodd\" fill-opacity=\"1\"/>\n<polyline clip-path=\"url(#clip782)\" style=\"stroke:#000000; stroke-width:4; stroke-opacity:1; fill:none\" points=\"\n  3549.7,827.93 3549.7,1384.24 3575.06,1384.24 3575.06,827.93 3549.7,827.93 \n  \"/>\n<path clip-path=\"url(#clip782)\" d=\"\nM3575.06 1013.37 L3575.06 1384.24 L3600.41 1384.24 L3600.41 1013.37 L3575.06 1013.37 L3575.06 1013.37  Z\n  \" fill=\"#009af9\" fill-rule=\"evenodd\" fill-opacity=\"1\"/>\n<polyline clip-path=\"url(#clip782)\" style=\"stroke:#000000; stroke-width:4; stroke-opacity:1; fill:none\" points=\"\n  3575.06,1013.37 3575.06,1384.24 3600.41,1384.24 3600.41,1013.37 3575.06,1013.37 \n  \"/>\n<path clip-path=\"url(#clip782)\" d=\"\nM3600.41 1013.37 L3600.41 1384.24 L3625.77 1384.24 L3625.77 1013.37 L3600.41 1013.37 L3600.41 1013.37  Z\n  \" fill=\"#009af9\" fill-rule=\"evenodd\" fill-opacity=\"1\"/>\n<polyline clip-path=\"url(#clip782)\" style=\"stroke:#000000; stroke-width:4; stroke-opacity:1; fill:none\" points=\"\n  3600.41,1013.37 3600.41,1384.24 3625.77,1384.24 3625.77,1013.37 3600.41,1013.37 \n  \"/>\n<path clip-path=\"url(#clip782)\" d=\"\nM3625.77 1198.8 L3625.77 1384.24 L3651.13 1384.24 L3651.13 1198.8 L3625.77 1198.8 L3625.77 1198.8  Z\n  \" fill=\"#009af9\" fill-rule=\"evenodd\" fill-opacity=\"1\"/>\n<polyline clip-path=\"url(#clip782)\" style=\"stroke:#000000; stroke-width:4; stroke-opacity:1; fill:none\" points=\"\n  3625.77,1198.8 3625.77,1384.24 3651.13,1384.24 3651.13,1198.8 3625.77,1198.8 \n  \"/>\n<path clip-path=\"url(#clip782)\" d=\"\nM3651.13 1198.8 L3651.13 1384.24 L3676.49 1384.24 L3676.49 1198.8 L3651.13 1198.8 L3651.13 1198.8  Z\n  \" fill=\"#009af9\" fill-rule=\"evenodd\" fill-opacity=\"1\"/>\n<polyline clip-path=\"url(#clip782)\" style=\"stroke:#000000; stroke-width:4; stroke-opacity:1; fill:none\" points=\"\n  3651.13,1198.8 3651.13,1384.24 3676.49,1384.24 3676.49,1198.8 3651.13,1198.8 \n  \"/>\n<path clip-path=\"url(#clip782)\" d=\"\nM3676.49 1013.37 L3676.49 1384.24 L3701.84 1384.24 L3701.84 1013.37 L3676.49 1013.37 L3676.49 1013.37  Z\n  \" fill=\"#009af9\" fill-rule=\"evenodd\" fill-opacity=\"1\"/>\n<polyline clip-path=\"url(#clip782)\" style=\"stroke:#000000; stroke-width:4; stroke-opacity:1; fill:none\" points=\"\n  3676.49,1013.37 3676.49,1384.24 3701.84,1384.24 3701.84,1013.37 3676.49,1013.37 \n  \"/>\n<path clip-path=\"url(#clip782)\" d=\"\nM3701.84 1198.8 L3701.84 1384.24 L3727.2 1384.24 L3727.2 1198.8 L3701.84 1198.8 L3701.84 1198.8  Z\n  \" fill=\"#009af9\" fill-rule=\"evenodd\" fill-opacity=\"1\"/>\n<polyline clip-path=\"url(#clip782)\" style=\"stroke:#000000; stroke-width:4; stroke-opacity:1; fill:none\" points=\"\n  3701.84,1198.8 3701.84,1384.24 3727.2,1384.24 3727.2,1198.8 3701.84,1198.8 \n  \"/>\n<path clip-path=\"url(#clip782)\" d=\"\nM3727.2 1384.24 L3727.2 1384.24 L3752.56 1384.24 L3752.56 1384.24 L3727.2 1384.24 L3727.2 1384.24  Z\n  \" fill=\"#009af9\" fill-rule=\"evenodd\" fill-opacity=\"1\"/>\n<polyline clip-path=\"url(#clip782)\" style=\"stroke:#000000; stroke-width:4; stroke-opacity:1; fill:none\" points=\"\n  3727.2,1384.24 3727.2,1384.24 3752.56,1384.24 3727.2,1384.24 \n  \"/>\n<path clip-path=\"url(#clip782)\" d=\"\nM3752.56 1198.8 L3752.56 1384.24 L3777.92 1384.24 L3777.92 1198.8 L3752.56 1198.8 L3752.56 1198.8  Z\n  \" fill=\"#009af9\" fill-rule=\"evenodd\" fill-opacity=\"1\"/>\n<polyline clip-path=\"url(#clip782)\" style=\"stroke:#000000; stroke-width:4; stroke-opacity:1; fill:none\" points=\"\n  3752.56,1198.8 3752.56,1384.24 3777.92,1384.24 3777.92,1198.8 3752.56,1198.8 \n  \"/>\n<path clip-path=\"url(#clip782)\" d=\"\nM3777.92 1198.8 L3777.92 1384.24 L3803.27 1384.24 L3803.27 1198.8 L3777.92 1198.8 L3777.92 1198.8  Z\n  \" fill=\"#009af9\" fill-rule=\"evenodd\" fill-opacity=\"1\"/>\n<polyline clip-path=\"url(#clip782)\" style=\"stroke:#000000; stroke-width:4; stroke-opacity:1; fill:none\" points=\"\n  3777.92,1198.8 3777.92,1384.24 3803.27,1384.24 3803.27,1198.8 3777.92,1198.8 \n  \"/>\n<path clip-path=\"url(#clip782)\" d=\"\nM3803.27 827.93 L3803.27 1384.24 L3828.63 1384.24 L3828.63 827.93 L3803.27 827.93 L3803.27 827.93  Z\n  \" fill=\"#009af9\" fill-rule=\"evenodd\" fill-opacity=\"1\"/>\n<polyline clip-path=\"url(#clip782)\" style=\"stroke:#000000; stroke-width:4; stroke-opacity:1; fill:none\" points=\"\n  3803.27,827.93 3803.27,1384.24 3828.63,1384.24 3828.63,827.93 3803.27,827.93 \n  \"/>\n<path clip-path=\"url(#clip782)\" d=\"\nM3828.63 827.93 L3828.63 1384.24 L3853.99 1384.24 L3853.99 827.93 L3828.63 827.93 L3828.63 827.93  Z\n  \" fill=\"#009af9\" fill-rule=\"evenodd\" fill-opacity=\"1\"/>\n<polyline clip-path=\"url(#clip782)\" style=\"stroke:#000000; stroke-width:4; stroke-opacity:1; fill:none\" points=\"\n  3828.63,827.93 3828.63,1384.24 3853.99,1384.24 3853.99,827.93 3828.63,827.93 \n  \"/>\n<path clip-path=\"url(#clip782)\" d=\"\nM3853.99 1384.24 L3853.99 1384.24 L3879.35 1384.24 L3879.35 1384.24 L3853.99 1384.24 L3853.99 1384.24  Z\n  \" fill=\"#009af9\" fill-rule=\"evenodd\" fill-opacity=\"1\"/>\n<polyline clip-path=\"url(#clip782)\" style=\"stroke:#000000; stroke-width:4; stroke-opacity:1; fill:none\" points=\"\n  3853.99,1384.24 3853.99,1384.24 3879.35,1384.24 3853.99,1384.24 \n  \"/>\n<path clip-path=\"url(#clip782)\" d=\"\nM3879.35 827.93 L3879.35 1384.24 L3904.7 1384.24 L3904.7 827.93 L3879.35 827.93 L3879.35 827.93  Z\n  \" fill=\"#009af9\" fill-rule=\"evenodd\" fill-opacity=\"1\"/>\n<polyline clip-path=\"url(#clip782)\" style=\"stroke:#000000; stroke-width:4; stroke-opacity:1; fill:none\" points=\"\n  3879.35,827.93 3879.35,1384.24 3904.7,1384.24 3904.7,827.93 3879.35,827.93 \n  \"/>\n<path clip-path=\"url(#clip782)\" d=\"\nM3904.7 1198.8 L3904.7 1384.24 L3930.06 1384.24 L3930.06 1198.8 L3904.7 1198.8 L3904.7 1198.8  Z\n  \" fill=\"#009af9\" fill-rule=\"evenodd\" fill-opacity=\"1\"/>\n<polyline clip-path=\"url(#clip782)\" style=\"stroke:#000000; stroke-width:4; stroke-opacity:1; fill:none\" points=\"\n  3904.7,1198.8 3904.7,1384.24 3930.06,1384.24 3930.06,1198.8 3904.7,1198.8 \n  \"/>\n<path clip-path=\"url(#clip782)\" d=\"\nM3930.06 827.93 L3930.06 1384.24 L3955.42 1384.24 L3955.42 827.93 L3930.06 827.93 L3930.06 827.93  Z\n  \" fill=\"#009af9\" fill-rule=\"evenodd\" fill-opacity=\"1\"/>\n<polyline clip-path=\"url(#clip782)\" style=\"stroke:#000000; stroke-width:4; stroke-opacity:1; fill:none\" points=\"\n  3930.06,827.93 3930.06,1384.24 3955.42,1384.24 3955.42,827.93 3930.06,827.93 \n  \"/>\n<path clip-path=\"url(#clip782)\" d=\"\nM3955.42 1013.37 L3955.42 1384.24 L3980.78 1384.24 L3980.78 1013.37 L3955.42 1013.37 L3955.42 1013.37  Z\n  \" fill=\"#009af9\" fill-rule=\"evenodd\" fill-opacity=\"1\"/>\n<polyline clip-path=\"url(#clip782)\" style=\"stroke:#000000; stroke-width:4; stroke-opacity:1; fill:none\" points=\"\n  3955.42,1013.37 3955.42,1384.24 3980.78,1384.24 3980.78,1013.37 3955.42,1013.37 \n  \"/>\n<path clip-path=\"url(#clip782)\" d=\"\nM3980.78 1013.37 L3980.78 1384.24 L4006.13 1384.24 L4006.13 1013.37 L3980.78 1013.37 L3980.78 1013.37  Z\n  \" fill=\"#009af9\" fill-rule=\"evenodd\" fill-opacity=\"1\"/>\n<polyline clip-path=\"url(#clip782)\" style=\"stroke:#000000; stroke-width:4; stroke-opacity:1; fill:none\" points=\"\n  3980.78,1013.37 3980.78,1384.24 4006.13,1384.24 4006.13,1013.37 3980.78,1013.37 \n  \"/>\n<path clip-path=\"url(#clip782)\" d=\"\nM4006.13 827.93 L4006.13 1384.24 L4031.49 1384.24 L4031.49 827.93 L4006.13 827.93 L4006.13 827.93  Z\n  \" fill=\"#009af9\" fill-rule=\"evenodd\" fill-opacity=\"1\"/>\n<polyline clip-path=\"url(#clip782)\" style=\"stroke:#000000; stroke-width:4; stroke-opacity:1; fill:none\" points=\"\n  4006.13,827.93 4006.13,1384.24 4031.49,1384.24 4031.49,827.93 4006.13,827.93 \n  \"/>\n<path clip-path=\"url(#clip782)\" d=\"\nM4031.49 827.93 L4031.49 1384.24 L4056.85 1384.24 L4056.85 827.93 L4031.49 827.93 L4031.49 827.93  Z\n  \" fill=\"#009af9\" fill-rule=\"evenodd\" fill-opacity=\"1\"/>\n<polyline clip-path=\"url(#clip782)\" style=\"stroke:#000000; stroke-width:4; stroke-opacity:1; fill:none\" points=\"\n  4031.49,827.93 4031.49,1384.24 4056.85,1384.24 4056.85,827.93 4031.49,827.93 \n  \"/>\n<path clip-path=\"url(#clip782)\" d=\"\nM4056.85 1384.24 L4056.85 1384.24 L4082.2 1384.24 L4082.2 1384.24 L4056.85 1384.24 L4056.85 1384.24  Z\n  \" fill=\"#009af9\" fill-rule=\"evenodd\" fill-opacity=\"1\"/>\n<polyline clip-path=\"url(#clip782)\" style=\"stroke:#000000; stroke-width:4; stroke-opacity:1; fill:none\" points=\"\n  4056.85,1384.24 4056.85,1384.24 4082.2,1384.24 4056.85,1384.24 \n  \"/>\n<path clip-path=\"url(#clip782)\" d=\"\nM4082.2 1013.37 L4082.2 1384.24 L4107.56 1384.24 L4107.56 1013.37 L4082.2 1013.37 L4082.2 1013.37  Z\n  \" fill=\"#009af9\" fill-rule=\"evenodd\" fill-opacity=\"1\"/>\n<polyline clip-path=\"url(#clip782)\" style=\"stroke:#000000; stroke-width:4; stroke-opacity:1; fill:none\" points=\"\n  4082.2,1013.37 4082.2,1384.24 4107.56,1384.24 4107.56,1013.37 4082.2,1013.37 \n  \"/>\n<path clip-path=\"url(#clip782)\" d=\"\nM4107.56 1198.8 L4107.56 1384.24 L4132.92 1384.24 L4132.92 1198.8 L4107.56 1198.8 L4107.56 1198.8  Z\n  \" fill=\"#009af9\" fill-rule=\"evenodd\" fill-opacity=\"1\"/>\n<polyline clip-path=\"url(#clip782)\" style=\"stroke:#000000; stroke-width:4; stroke-opacity:1; fill:none\" points=\"\n  4107.56,1198.8 4107.56,1384.24 4132.92,1384.24 4132.92,1198.8 4107.56,1198.8 \n  \"/>\n<path clip-path=\"url(#clip782)\" d=\"\nM4132.92 1013.37 L4132.92 1384.24 L4158.28 1384.24 L4158.28 1013.37 L4132.92 1013.37 L4132.92 1013.37  Z\n  \" fill=\"#009af9\" fill-rule=\"evenodd\" fill-opacity=\"1\"/>\n<polyline clip-path=\"url(#clip782)\" style=\"stroke:#000000; stroke-width:4; stroke-opacity:1; fill:none\" points=\"\n  4132.92,1013.37 4132.92,1384.24 4158.28,1384.24 4158.28,1013.37 4132.92,1013.37 \n  \"/>\n<path clip-path=\"url(#clip782)\" d=\"\nM4158.28 1384.24 L4158.28 1384.24 L4183.63 1384.24 L4183.63 1384.24 L4158.28 1384.24 L4158.28 1384.24  Z\n  \" fill=\"#009af9\" fill-rule=\"evenodd\" fill-opacity=\"1\"/>\n<polyline clip-path=\"url(#clip782)\" style=\"stroke:#000000; stroke-width:4; stroke-opacity:1; fill:none\" points=\"\n  4158.28,1384.24 4158.28,1384.24 4183.63,1384.24 4158.28,1384.24 \n  \"/>\n<path clip-path=\"url(#clip782)\" d=\"\nM4183.63 827.93 L4183.63 1384.24 L4208.99 1384.24 L4208.99 827.93 L4183.63 827.93 L4183.63 827.93  Z\n  \" fill=\"#009af9\" fill-rule=\"evenodd\" fill-opacity=\"1\"/>\n<polyline clip-path=\"url(#clip782)\" style=\"stroke:#000000; stroke-width:4; stroke-opacity:1; fill:none\" points=\"\n  4183.63,827.93 4183.63,1384.24 4208.99,1384.24 4208.99,827.93 4183.63,827.93 \n  \"/>\n<path clip-path=\"url(#clip782)\" d=\"\nM4208.99 1384.24 L4208.99 1384.24 L4234.35 1384.24 L4234.35 1384.24 L4208.99 1384.24 L4208.99 1384.24  Z\n  \" fill=\"#009af9\" fill-rule=\"evenodd\" fill-opacity=\"1\"/>\n<polyline clip-path=\"url(#clip782)\" style=\"stroke:#000000; stroke-width:4; stroke-opacity:1; fill:none\" points=\"\n  4208.99,1384.24 4208.99,1384.24 4234.35,1384.24 4208.99,1384.24 \n  \"/>\n<path clip-path=\"url(#clip782)\" d=\"\nM4234.35 1013.37 L4234.35 1384.24 L4259.71 1384.24 L4259.71 1013.37 L4234.35 1013.37 L4234.35 1013.37  Z\n  \" fill=\"#009af9\" fill-rule=\"evenodd\" fill-opacity=\"1\"/>\n<polyline clip-path=\"url(#clip782)\" style=\"stroke:#000000; stroke-width:4; stroke-opacity:1; fill:none\" points=\"\n  4234.35,1013.37 4234.35,1384.24 4259.71,1384.24 4259.71,1013.37 4234.35,1013.37 \n  \"/>\n<path clip-path=\"url(#clip782)\" d=\"\nM4259.71 1198.8 L4259.71 1384.24 L4285.06 1384.24 L4285.06 1198.8 L4259.71 1198.8 L4259.71 1198.8  Z\n  \" fill=\"#009af9\" fill-rule=\"evenodd\" fill-opacity=\"1\"/>\n<polyline clip-path=\"url(#clip782)\" style=\"stroke:#000000; stroke-width:4; stroke-opacity:1; fill:none\" points=\"\n  4259.71,1198.8 4259.71,1384.24 4285.06,1384.24 4285.06,1198.8 4259.71,1198.8 \n  \"/>\n<path clip-path=\"url(#clip782)\" d=\"\nM4285.06 1013.37 L4285.06 1384.24 L4310.42 1384.24 L4310.42 1013.37 L4285.06 1013.37 L4285.06 1013.37  Z\n  \" fill=\"#009af9\" fill-rule=\"evenodd\" fill-opacity=\"1\"/>\n<polyline clip-path=\"url(#clip782)\" style=\"stroke:#000000; stroke-width:4; stroke-opacity:1; fill:none\" points=\"\n  4285.06,1013.37 4285.06,1384.24 4310.42,1384.24 4310.42,1013.37 4285.06,1013.37 \n  \"/>\n<path clip-path=\"url(#clip782)\" d=\"\nM4310.42 827.93 L4310.42 1384.24 L4335.78 1384.24 L4335.78 827.93 L4310.42 827.93 L4310.42 827.93  Z\n  \" fill=\"#009af9\" fill-rule=\"evenodd\" fill-opacity=\"1\"/>\n<polyline clip-path=\"url(#clip782)\" style=\"stroke:#000000; stroke-width:4; stroke-opacity:1; fill:none\" points=\"\n  4310.42,827.93 4310.42,1384.24 4335.78,1384.24 4335.78,827.93 4310.42,827.93 \n  \"/>\n<path clip-path=\"url(#clip782)\" d=\"\nM4335.78 1198.8 L4335.78 1384.24 L4361.14 1384.24 L4361.14 1198.8 L4335.78 1198.8 L4335.78 1198.8  Z\n  \" fill=\"#009af9\" fill-rule=\"evenodd\" fill-opacity=\"1\"/>\n<polyline clip-path=\"url(#clip782)\" style=\"stroke:#000000; stroke-width:4; stroke-opacity:1; fill:none\" points=\"\n  4335.78,1198.8 4335.78,1384.24 4361.14,1384.24 4361.14,1198.8 4335.78,1198.8 \n  \"/>\n<path clip-path=\"url(#clip782)\" d=\"\nM4361.14 1384.24 L4361.14 1384.24 L4386.49 1384.24 L4386.49 1384.24 L4361.14 1384.24 L4361.14 1384.24  Z\n  \" fill=\"#009af9\" fill-rule=\"evenodd\" fill-opacity=\"1\"/>\n<polyline clip-path=\"url(#clip782)\" style=\"stroke:#000000; stroke-width:4; stroke-opacity:1; fill:none\" points=\"\n  4361.14,1384.24 4361.14,1384.24 4386.49,1384.24 4361.14,1384.24 \n  \"/>\n<path clip-path=\"url(#clip782)\" d=\"\nM4386.49 827.93 L4386.49 1384.24 L4411.85 1384.24 L4411.85 827.93 L4386.49 827.93 L4386.49 827.93  Z\n  \" fill=\"#009af9\" fill-rule=\"evenodd\" fill-opacity=\"1\"/>\n<polyline clip-path=\"url(#clip782)\" style=\"stroke:#000000; stroke-width:4; stroke-opacity:1; fill:none\" points=\"\n  4386.49,827.93 4386.49,1384.24 4411.85,1384.24 4411.85,827.93 4386.49,827.93 \n  \"/>\n<path clip-path=\"url(#clip782)\" d=\"\nM4411.85 1013.37 L4411.85 1384.24 L4437.21 1384.24 L4437.21 1013.37 L4411.85 1013.37 L4411.85 1013.37  Z\n  \" fill=\"#009af9\" fill-rule=\"evenodd\" fill-opacity=\"1\"/>\n<polyline clip-path=\"url(#clip782)\" style=\"stroke:#000000; stroke-width:4; stroke-opacity:1; fill:none\" points=\"\n  4411.85,1013.37 4411.85,1384.24 4437.21,1384.24 4437.21,1013.37 4411.85,1013.37 \n  \"/>\n<path clip-path=\"url(#clip782)\" d=\"\nM4437.21 827.93 L4437.21 1384.24 L4462.57 1384.24 L4462.57 827.93 L4437.21 827.93 L4437.21 827.93  Z\n  \" fill=\"#009af9\" fill-rule=\"evenodd\" fill-opacity=\"1\"/>\n<polyline clip-path=\"url(#clip782)\" style=\"stroke:#000000; stroke-width:4; stroke-opacity:1; fill:none\" points=\"\n  4437.21,827.93 4437.21,1384.24 4462.57,1384.24 4462.57,827.93 4437.21,827.93 \n  \"/>\n<path clip-path=\"url(#clip782)\" d=\"\nM4462.57 1198.8 L4462.57 1384.24 L4487.92 1384.24 L4487.92 1198.8 L4462.57 1198.8 L4462.57 1198.8  Z\n  \" fill=\"#009af9\" fill-rule=\"evenodd\" fill-opacity=\"1\"/>\n<polyline clip-path=\"url(#clip782)\" style=\"stroke:#000000; stroke-width:4; stroke-opacity:1; fill:none\" points=\"\n  4462.57,1198.8 4462.57,1384.24 4487.92,1384.24 4487.92,1198.8 4462.57,1198.8 \n  \"/>\n<path clip-path=\"url(#clip782)\" d=\"\nM4487.92 1384.24 L4487.92 1384.24 L4513.28 1384.24 L4513.28 1384.24 L4487.92 1384.24 L4487.92 1384.24  Z\n  \" fill=\"#009af9\" fill-rule=\"evenodd\" fill-opacity=\"1\"/>\n<polyline clip-path=\"url(#clip782)\" style=\"stroke:#000000; stroke-width:4; stroke-opacity:1; fill:none\" points=\"\n  4487.92,1384.24 4487.92,1384.24 4513.28,1384.24 4487.92,1384.24 \n  \"/>\n<path clip-path=\"url(#clip782)\" d=\"\nM4513.28 1013.37 L4513.28 1384.24 L4538.64 1384.24 L4538.64 1013.37 L4513.28 1013.37 L4513.28 1013.37  Z\n  \" fill=\"#009af9\" fill-rule=\"evenodd\" fill-opacity=\"1\"/>\n<polyline clip-path=\"url(#clip782)\" style=\"stroke:#000000; stroke-width:4; stroke-opacity:1; fill:none\" points=\"\n  4513.28,1013.37 4513.28,1384.24 4538.64,1384.24 4538.64,1013.37 4513.28,1013.37 \n  \"/>\n<path clip-path=\"url(#clip782)\" d=\"\nM4538.64 1198.8 L4538.64 1384.24 L4564 1384.24 L4564 1198.8 L4538.64 1198.8 L4538.64 1198.8  Z\n  \" fill=\"#009af9\" fill-rule=\"evenodd\" fill-opacity=\"1\"/>\n<polyline clip-path=\"url(#clip782)\" style=\"stroke:#000000; stroke-width:4; stroke-opacity:1; fill:none\" points=\"\n  4538.64,1198.8 4538.64,1384.24 4564,1384.24 4564,1198.8 4538.64,1198.8 \n  \"/>\n<path clip-path=\"url(#clip782)\" d=\"\nM4564 1384.24 L4564 1384.24 L4589.35 1384.24 L4589.35 1384.24 L4564 1384.24 L4564 1384.24  Z\n  \" fill=\"#009af9\" fill-rule=\"evenodd\" fill-opacity=\"1\"/>\n<polyline clip-path=\"url(#clip782)\" style=\"stroke:#000000; stroke-width:4; stroke-opacity:1; fill:none\" points=\"\n  4564,1384.24 4564,1384.24 4589.35,1384.24 4564,1384.24 \n  \"/>\n<path clip-path=\"url(#clip782)\" d=\"\nM4589.35 1013.37 L4589.35 1384.24 L4614.71 1384.24 L4614.71 1013.37 L4589.35 1013.37 L4589.35 1013.37  Z\n  \" fill=\"#009af9\" fill-rule=\"evenodd\" fill-opacity=\"1\"/>\n<polyline clip-path=\"url(#clip782)\" style=\"stroke:#000000; stroke-width:4; stroke-opacity:1; fill:none\" points=\"\n  4589.35,1013.37 4589.35,1384.24 4614.71,1384.24 4614.71,1013.37 4589.35,1013.37 \n  \"/>\n<path clip-path=\"url(#clip782)\" d=\"\nM4614.71 1013.37 L4614.71 1384.24 L4640.07 1384.24 L4640.07 1013.37 L4614.71 1013.37 L4614.71 1013.37  Z\n  \" fill=\"#009af9\" fill-rule=\"evenodd\" fill-opacity=\"1\"/>\n<polyline clip-path=\"url(#clip782)\" style=\"stroke:#000000; stroke-width:4; stroke-opacity:1; fill:none\" points=\"\n  4614.71,1013.37 4614.71,1384.24 4640.07,1384.24 4640.07,1013.37 4614.71,1013.37 \n  \"/>\n<path clip-path=\"url(#clip782)\" d=\"\nM4640.07 827.93 L4640.07 1384.24 L4665.43 1384.24 L4665.43 827.93 L4640.07 827.93 L4640.07 827.93  Z\n  \" fill=\"#009af9\" fill-rule=\"evenodd\" fill-opacity=\"1\"/>\n<polyline clip-path=\"url(#clip782)\" style=\"stroke:#000000; stroke-width:4; stroke-opacity:1; fill:none\" points=\"\n  4640.07,827.93 4640.07,1384.24 4665.43,1384.24 4665.43,827.93 4640.07,827.93 \n  \"/>\n<path clip-path=\"url(#clip782)\" d=\"\nM4665.43 1198.8 L4665.43 1384.24 L4690.78 1384.24 L4690.78 1198.8 L4665.43 1198.8 L4665.43 1198.8  Z\n  \" fill=\"#009af9\" fill-rule=\"evenodd\" fill-opacity=\"1\"/>\n<polyline clip-path=\"url(#clip782)\" style=\"stroke:#000000; stroke-width:4; stroke-opacity:1; fill:none\" points=\"\n  4665.43,1198.8 4665.43,1384.24 4690.78,1384.24 4690.78,1198.8 4665.43,1198.8 \n  \"/>\n<path clip-path=\"url(#clip782)\" d=\"\nM4690.78 827.93 L4690.78 1384.24 L4716.14 1384.24 L4716.14 827.93 L4690.78 827.93 L4690.78 827.93  Z\n  \" fill=\"#009af9\" fill-rule=\"evenodd\" fill-opacity=\"1\"/>\n<polyline clip-path=\"url(#clip782)\" style=\"stroke:#000000; stroke-width:4; stroke-opacity:1; fill:none\" points=\"\n  4690.78,827.93 4690.78,1384.24 4716.14,1384.24 4716.14,827.93 4690.78,827.93 \n  \"/>\n<path clip-path=\"url(#clip782)\" d=\"\nM4716.14 1198.8 L4716.14 1384.24 L4741.5 1384.24 L4741.5 1198.8 L4716.14 1198.8 L4716.14 1198.8  Z\n  \" fill=\"#009af9\" fill-rule=\"evenodd\" fill-opacity=\"1\"/>\n<polyline clip-path=\"url(#clip782)\" style=\"stroke:#000000; stroke-width:4; stroke-opacity:1; fill:none\" points=\"\n  4716.14,1198.8 4716.14,1384.24 4741.5,1384.24 4741.5,1198.8 4716.14,1198.8 \n  \"/>\n<path clip-path=\"url(#clip782)\" d=\"\nM4741.5 1198.8 L4741.5 1384.24 L4766.86 1384.24 L4766.86 1198.8 L4741.5 1198.8 L4741.5 1198.8  Z\n  \" fill=\"#009af9\" fill-rule=\"evenodd\" fill-opacity=\"1\"/>\n<polyline clip-path=\"url(#clip782)\" style=\"stroke:#000000; stroke-width:4; stroke-opacity:1; fill:none\" points=\"\n  4741.5,1198.8 4741.5,1384.24 4766.86,1384.24 4766.86,1198.8 4741.5,1198.8 \n  \"/>\n<path clip-path=\"url(#clip782)\" d=\"\nM4766.86 1013.37 L4766.86 1384.24 L4792.21 1384.24 L4792.21 1013.37 L4766.86 1013.37 L4766.86 1013.37  Z\n  \" fill=\"#009af9\" fill-rule=\"evenodd\" fill-opacity=\"1\"/>\n<polyline clip-path=\"url(#clip782)\" style=\"stroke:#000000; stroke-width:4; stroke-opacity:1; fill:none\" points=\"\n  4766.86,1013.37 4766.86,1384.24 4792.21,1384.24 4792.21,1013.37 4766.86,1013.37 \n  \"/>\n<path clip-path=\"url(#clip782)\" d=\"\nM4792.21 1198.8 L4792.21 1384.24 L4817.57 1384.24 L4817.57 1198.8 L4792.21 1198.8 L4792.21 1198.8  Z\n  \" fill=\"#009af9\" fill-rule=\"evenodd\" fill-opacity=\"1\"/>\n<polyline clip-path=\"url(#clip782)\" style=\"stroke:#000000; stroke-width:4; stroke-opacity:1; fill:none\" points=\"\n  4792.21,1198.8 4792.21,1384.24 4817.57,1384.24 4817.57,1198.8 4792.21,1198.8 \n  \"/>\n<path clip-path=\"url(#clip782)\" d=\"\nM4817.57 1384.24 L4817.57 1384.24 L4842.93 1384.24 L4842.93 1384.24 L4817.57 1384.24 L4817.57 1384.24  Z\n  \" fill=\"#009af9\" fill-rule=\"evenodd\" fill-opacity=\"1\"/>\n<polyline clip-path=\"url(#clip782)\" style=\"stroke:#000000; stroke-width:4; stroke-opacity:1; fill:none\" points=\"\n  4817.57,1384.24 4817.57,1384.24 4842.93,1384.24 4817.57,1384.24 \n  \"/>\n<path clip-path=\"url(#clip782)\" d=\"\nM4842.93 1013.37 L4842.93 1384.24 L4868.29 1384.24 L4868.29 1013.37 L4842.93 1013.37 L4842.93 1013.37  Z\n  \" fill=\"#009af9\" fill-rule=\"evenodd\" fill-opacity=\"1\"/>\n<polyline clip-path=\"url(#clip782)\" style=\"stroke:#000000; stroke-width:4; stroke-opacity:1; fill:none\" points=\"\n  4842.93,1013.37 4842.93,1384.24 4868.29,1384.24 4868.29,1013.37 4842.93,1013.37 \n  \"/>\n<path clip-path=\"url(#clip782)\" d=\"\nM4868.29 1013.37 L4868.29 1384.24 L4893.64 1384.24 L4893.64 1013.37 L4868.29 1013.37 L4868.29 1013.37  Z\n  \" fill=\"#009af9\" fill-rule=\"evenodd\" fill-opacity=\"1\"/>\n<polyline clip-path=\"url(#clip782)\" style=\"stroke:#000000; stroke-width:4; stroke-opacity:1; fill:none\" points=\"\n  4868.29,1013.37 4868.29,1384.24 4893.64,1384.24 4893.64,1013.37 4868.29,1013.37 \n  \"/>\n<path clip-path=\"url(#clip782)\" d=\"\nM4893.64 1198.8 L4893.64 1384.24 L4919 1384.24 L4919 1198.8 L4893.64 1198.8 L4893.64 1198.8  Z\n  \" fill=\"#009af9\" fill-rule=\"evenodd\" fill-opacity=\"1\"/>\n<polyline clip-path=\"url(#clip782)\" style=\"stroke:#000000; stroke-width:4; stroke-opacity:1; fill:none\" points=\"\n  4893.64,1198.8 4893.64,1384.24 4919,1384.24 4919,1198.8 4893.64,1198.8 \n  \"/>\n<path clip-path=\"url(#clip782)\" d=\"\nM4919 1384.24 L4919 1384.24 L4944.36 1384.24 L4944.36 1384.24 L4919 1384.24 L4919 1384.24  Z\n  \" fill=\"#009af9\" fill-rule=\"evenodd\" fill-opacity=\"1\"/>\n<polyline clip-path=\"url(#clip782)\" style=\"stroke:#000000; stroke-width:4; stroke-opacity:1; fill:none\" points=\"\n  4919,1384.24 4919,1384.24 4944.36,1384.24 4919,1384.24 \n  \"/>\n<path clip-path=\"url(#clip782)\" d=\"\nM4944.36 1013.37 L4944.36 1384.24 L4969.72 1384.24 L4969.72 1013.37 L4944.36 1013.37 L4944.36 1013.37  Z\n  \" fill=\"#009af9\" fill-rule=\"evenodd\" fill-opacity=\"1\"/>\n<polyline clip-path=\"url(#clip782)\" style=\"stroke:#000000; stroke-width:4; stroke-opacity:1; fill:none\" points=\"\n  4944.36,1013.37 4944.36,1384.24 4969.72,1384.24 4969.72,1013.37 4944.36,1013.37 \n  \"/>\n<path clip-path=\"url(#clip782)\" d=\"\nM4969.72 827.93 L4969.72 1384.24 L4995.07 1384.24 L4995.07 827.93 L4969.72 827.93 L4969.72 827.93  Z\n  \" fill=\"#009af9\" fill-rule=\"evenodd\" fill-opacity=\"1\"/>\n<polyline clip-path=\"url(#clip782)\" style=\"stroke:#000000; stroke-width:4; stroke-opacity:1; fill:none\" points=\"\n  4969.72,827.93 4969.72,1384.24 4995.07,1384.24 4995.07,827.93 4969.72,827.93 \n  \"/>\n<path clip-path=\"url(#clip782)\" d=\"\nM4995.07 827.93 L4995.07 1384.24 L5020.43 1384.24 L5020.43 827.93 L4995.07 827.93 L4995.07 827.93  Z\n  \" fill=\"#009af9\" fill-rule=\"evenodd\" fill-opacity=\"1\"/>\n<polyline clip-path=\"url(#clip782)\" style=\"stroke:#000000; stroke-width:4; stroke-opacity:1; fill:none\" points=\"\n  4995.07,827.93 4995.07,1384.24 5020.43,1384.24 5020.43,827.93 4995.07,827.93 \n  \"/>\n<path clip-path=\"url(#clip782)\" d=\"\nM5020.43 1384.24 L5020.43 1384.24 L5045.79 1384.24 L5045.79 1384.24 L5020.43 1384.24 L5020.43 1384.24  Z\n  \" fill=\"#009af9\" fill-rule=\"evenodd\" fill-opacity=\"1\"/>\n<polyline clip-path=\"url(#clip782)\" style=\"stroke:#000000; stroke-width:4; stroke-opacity:1; fill:none\" points=\"\n  5020.43,1384.24 5020.43,1384.24 5045.79,1384.24 5020.43,1384.24 \n  \"/>\n<path clip-path=\"url(#clip782)\" d=\"\nM5045.79 1013.37 L5045.79 1384.24 L5071.15 1384.24 L5071.15 1013.37 L5045.79 1013.37 L5045.79 1013.37  Z\n  \" fill=\"#009af9\" fill-rule=\"evenodd\" fill-opacity=\"1\"/>\n<polyline clip-path=\"url(#clip782)\" style=\"stroke:#000000; stroke-width:4; stroke-opacity:1; fill:none\" points=\"\n  5045.79,1013.37 5045.79,1384.24 5071.15,1384.24 5071.15,1013.37 5045.79,1013.37 \n  \"/>\n<path clip-path=\"url(#clip782)\" d=\"\nM5071.15 1013.37 L5071.15 1384.24 L5096.5 1384.24 L5096.5 1013.37 L5071.15 1013.37 L5071.15 1013.37  Z\n  \" fill=\"#009af9\" fill-rule=\"evenodd\" fill-opacity=\"1\"/>\n<polyline clip-path=\"url(#clip782)\" style=\"stroke:#000000; stroke-width:4; stroke-opacity:1; fill:none\" points=\"\n  5071.15,1013.37 5071.15,1384.24 5096.5,1384.24 5096.5,1013.37 5071.15,1013.37 \n  \"/>\n<path clip-path=\"url(#clip782)\" d=\"\nM5096.5 1013.37 L5096.5 1384.24 L5121.86 1384.24 L5121.86 1013.37 L5096.5 1013.37 L5096.5 1013.37  Z\n  \" fill=\"#009af9\" fill-rule=\"evenodd\" fill-opacity=\"1\"/>\n<polyline clip-path=\"url(#clip782)\" style=\"stroke:#000000; stroke-width:4; stroke-opacity:1; fill:none\" points=\"\n  5096.5,1013.37 5096.5,1384.24 5121.86,1384.24 5121.86,1013.37 5096.5,1013.37 \n  \"/>\n<path clip-path=\"url(#clip782)\" d=\"\nM5121.86 1198.8 L5121.86 1384.24 L5147.22 1384.24 L5147.22 1198.8 L5121.86 1198.8 L5121.86 1198.8  Z\n  \" fill=\"#009af9\" fill-rule=\"evenodd\" fill-opacity=\"1\"/>\n<polyline clip-path=\"url(#clip782)\" style=\"stroke:#000000; stroke-width:4; stroke-opacity:1; fill:none\" points=\"\n  5121.86,1198.8 5121.86,1384.24 5147.22,1384.24 5147.22,1198.8 5121.86,1198.8 \n  \"/>\n<path clip-path=\"url(#clip782)\" d=\"\nM5147.22 1198.8 L5147.22 1384.24 L5172.58 1384.24 L5172.58 1198.8 L5147.22 1198.8 L5147.22 1198.8  Z\n  \" fill=\"#009af9\" fill-rule=\"evenodd\" fill-opacity=\"1\"/>\n<polyline clip-path=\"url(#clip782)\" style=\"stroke:#000000; stroke-width:4; stroke-opacity:1; fill:none\" points=\"\n  5147.22,1198.8 5147.22,1384.24 5172.58,1384.24 5172.58,1198.8 5147.22,1198.8 \n  \"/>\n<path clip-path=\"url(#clip782)\" d=\"\nM5172.58 1384.24 L5172.58 1384.24 L5197.93 1384.24 L5197.93 1384.24 L5172.58 1384.24 L5172.58 1384.24  Z\n  \" fill=\"#009af9\" fill-rule=\"evenodd\" fill-opacity=\"1\"/>\n<polyline clip-path=\"url(#clip782)\" style=\"stroke:#000000; stroke-width:4; stroke-opacity:1; fill:none\" points=\"\n  5172.58,1384.24 5172.58,1384.24 5197.93,1384.24 5172.58,1384.24 \n  \"/>\n<path clip-path=\"url(#clip782)\" d=\"\nM5197.93 1013.37 L5197.93 1384.24 L5223.29 1384.24 L5223.29 1013.37 L5197.93 1013.37 L5197.93 1013.37  Z\n  \" fill=\"#009af9\" fill-rule=\"evenodd\" fill-opacity=\"1\"/>\n<polyline clip-path=\"url(#clip782)\" style=\"stroke:#000000; stroke-width:4; stroke-opacity:1; fill:none\" points=\"\n  5197.93,1013.37 5197.93,1384.24 5223.29,1384.24 5223.29,1013.37 5197.93,1013.37 \n  \"/>\n<path clip-path=\"url(#clip782)\" d=\"\nM5223.29 1198.8 L5223.29 1384.24 L5248.65 1384.24 L5248.65 1198.8 L5223.29 1198.8 L5223.29 1198.8  Z\n  \" fill=\"#009af9\" fill-rule=\"evenodd\" fill-opacity=\"1\"/>\n<polyline clip-path=\"url(#clip782)\" style=\"stroke:#000000; stroke-width:4; stroke-opacity:1; fill:none\" points=\"\n  5223.29,1198.8 5223.29,1384.24 5248.65,1384.24 5248.65,1198.8 5223.29,1198.8 \n  \"/>\n<path clip-path=\"url(#clip782)\" d=\"\nM5248.65 1198.8 L5248.65 1384.24 L5274.01 1384.24 L5274.01 1198.8 L5248.65 1198.8 L5248.65 1198.8  Z\n  \" fill=\"#009af9\" fill-rule=\"evenodd\" fill-opacity=\"1\"/>\n<polyline clip-path=\"url(#clip782)\" style=\"stroke:#000000; stroke-width:4; stroke-opacity:1; fill:none\" points=\"\n  5248.65,1198.8 5248.65,1384.24 5274.01,1384.24 5274.01,1198.8 5248.65,1198.8 \n  \"/>\n<path clip-path=\"url(#clip782)\" d=\"\nM5274.01 827.93 L5274.01 1384.24 L5299.36 1384.24 L5299.36 827.93 L5274.01 827.93 L5274.01 827.93  Z\n  \" fill=\"#009af9\" fill-rule=\"evenodd\" fill-opacity=\"1\"/>\n<polyline clip-path=\"url(#clip782)\" style=\"stroke:#000000; stroke-width:4; stroke-opacity:1; fill:none\" points=\"\n  5274.01,827.93 5274.01,1384.24 5299.36,1384.24 5299.36,827.93 5274.01,827.93 \n  \"/>\n<path clip-path=\"url(#clip782)\" d=\"\nM5299.36 827.93 L5299.36 1384.24 L5324.72 1384.24 L5324.72 827.93 L5299.36 827.93 L5299.36 827.93  Z\n  \" fill=\"#009af9\" fill-rule=\"evenodd\" fill-opacity=\"1\"/>\n<polyline clip-path=\"url(#clip782)\" style=\"stroke:#000000; stroke-width:4; stroke-opacity:1; fill:none\" points=\"\n  5299.36,827.93 5299.36,1384.24 5324.72,1384.24 5324.72,827.93 5299.36,827.93 \n  \"/>\n<path clip-path=\"url(#clip782)\" d=\"\nM5324.72 1013.37 L5324.72 1384.24 L5350.08 1384.24 L5350.08 1013.37 L5324.72 1013.37 L5324.72 1013.37  Z\n  \" fill=\"#009af9\" fill-rule=\"evenodd\" fill-opacity=\"1\"/>\n<polyline clip-path=\"url(#clip782)\" style=\"stroke:#000000; stroke-width:4; stroke-opacity:1; fill:none\" points=\"\n  5324.72,1013.37 5324.72,1384.24 5350.08,1384.24 5350.08,1013.37 5324.72,1013.37 \n  \"/>\n<path clip-path=\"url(#clip782)\" d=\"\nM5350.08 1384.24 L5350.08 1384.24 L5375.44 1384.24 L5375.44 1384.24 L5350.08 1384.24 L5350.08 1384.24  Z\n  \" fill=\"#009af9\" fill-rule=\"evenodd\" fill-opacity=\"1\"/>\n<polyline clip-path=\"url(#clip782)\" style=\"stroke:#000000; stroke-width:4; stroke-opacity:1; fill:none\" points=\"\n  5350.08,1384.24 5350.08,1384.24 5375.44,1384.24 5350.08,1384.24 \n  \"/>\n<path clip-path=\"url(#clip782)\" d=\"\nM5375.44 1198.8 L5375.44 1384.24 L5400.79 1384.24 L5400.79 1198.8 L5375.44 1198.8 L5375.44 1198.8  Z\n  \" fill=\"#009af9\" fill-rule=\"evenodd\" fill-opacity=\"1\"/>\n<polyline clip-path=\"url(#clip782)\" style=\"stroke:#000000; stroke-width:4; stroke-opacity:1; fill:none\" points=\"\n  5375.44,1198.8 5375.44,1384.24 5400.79,1384.24 5400.79,1198.8 5375.44,1198.8 \n  \"/>\n<path clip-path=\"url(#clip782)\" d=\"\nM5400.79 1013.37 L5400.79 1384.24 L5426.15 1384.24 L5426.15 1013.37 L5400.79 1013.37 L5400.79 1013.37  Z\n  \" fill=\"#009af9\" fill-rule=\"evenodd\" fill-opacity=\"1\"/>\n<polyline clip-path=\"url(#clip782)\" style=\"stroke:#000000; stroke-width:4; stroke-opacity:1; fill:none\" points=\"\n  5400.79,1013.37 5400.79,1384.24 5426.15,1384.24 5426.15,1013.37 5400.79,1013.37 \n  \"/>\n<path clip-path=\"url(#clip782)\" d=\"\nM5426.15 86.1857 L5426.15 1384.24 L5451.51 1384.24 L5451.51 86.1857 L5426.15 86.1857 L5426.15 86.1857  Z\n  \" fill=\"#009af9\" fill-rule=\"evenodd\" fill-opacity=\"1\"/>\n<polyline clip-path=\"url(#clip782)\" style=\"stroke:#000000; stroke-width:4; stroke-opacity:1; fill:none\" points=\"\n  5426.15,86.1857 5426.15,1384.24 5451.51,1384.24 5451.51,86.1857 5426.15,86.1857 \n  \"/>\n<path clip-path=\"url(#clip782)\" d=\"\nM5451.51 1198.8 L5451.51 1384.24 L5476.86 1384.24 L5476.86 1198.8 L5451.51 1198.8 L5451.51 1198.8  Z\n  \" fill=\"#009af9\" fill-rule=\"evenodd\" fill-opacity=\"1\"/>\n<polyline clip-path=\"url(#clip782)\" style=\"stroke:#000000; stroke-width:4; stroke-opacity:1; fill:none\" points=\"\n  5451.51,1198.8 5451.51,1384.24 5476.86,1384.24 5476.86,1198.8 5451.51,1198.8 \n  \"/>\n<path clip-path=\"url(#clip782)\" d=\"\nM5476.86 1198.8 L5476.86 1384.24 L5502.22 1384.24 L5502.22 1198.8 L5476.86 1198.8 L5476.86 1198.8  Z\n  \" fill=\"#009af9\" fill-rule=\"evenodd\" fill-opacity=\"1\"/>\n<polyline clip-path=\"url(#clip782)\" style=\"stroke:#000000; stroke-width:4; stroke-opacity:1; fill:none\" points=\"\n  5476.86,1198.8 5476.86,1384.24 5502.22,1384.24 5502.22,1198.8 5476.86,1198.8 \n  \"/>\n<path clip-path=\"url(#clip782)\" d=\"\nM5502.22 1013.37 L5502.22 1384.24 L5527.58 1384.24 L5527.58 1013.37 L5502.22 1013.37 L5502.22 1013.37  Z\n  \" fill=\"#009af9\" fill-rule=\"evenodd\" fill-opacity=\"1\"/>\n<polyline clip-path=\"url(#clip782)\" style=\"stroke:#000000; stroke-width:4; stroke-opacity:1; fill:none\" points=\"\n  5502.22,1013.37 5502.22,1384.24 5527.58,1384.24 5527.58,1013.37 5502.22,1013.37 \n  \"/>\n<path clip-path=\"url(#clip782)\" d=\"\nM5527.58 1198.8 L5527.58 1384.24 L5552.94 1384.24 L5552.94 1198.8 L5527.58 1198.8 L5527.58 1198.8  Z\n  \" fill=\"#009af9\" fill-rule=\"evenodd\" fill-opacity=\"1\"/>\n<polyline clip-path=\"url(#clip782)\" style=\"stroke:#000000; stroke-width:4; stroke-opacity:1; fill:none\" points=\"\n  5527.58,1198.8 5527.58,1384.24 5552.94,1384.24 5552.94,1198.8 5527.58,1198.8 \n  \"/>\n<path clip-path=\"url(#clip782)\" d=\"\nM5552.94 1198.8 L5552.94 1384.24 L5578.29 1384.24 L5578.29 1198.8 L5552.94 1198.8 L5552.94 1198.8  Z\n  \" fill=\"#009af9\" fill-rule=\"evenodd\" fill-opacity=\"1\"/>\n<polyline clip-path=\"url(#clip782)\" style=\"stroke:#000000; stroke-width:4; stroke-opacity:1; fill:none\" points=\"\n  5552.94,1198.8 5552.94,1384.24 5578.29,1384.24 5578.29,1198.8 5552.94,1198.8 \n  \"/>\n<path clip-path=\"url(#clip782)\" d=\"\nM5578.29 1384.24 L5578.29 1384.24 L5603.65 1384.24 L5603.65 1384.24 L5578.29 1384.24 L5578.29 1384.24  Z\n  \" fill=\"#009af9\" fill-rule=\"evenodd\" fill-opacity=\"1\"/>\n<polyline clip-path=\"url(#clip782)\" style=\"stroke:#000000; stroke-width:4; stroke-opacity:1; fill:none\" points=\"\n  5578.29,1384.24 5578.29,1384.24 5603.65,1384.24 5578.29,1384.24 \n  \"/>\n<path clip-path=\"url(#clip782)\" d=\"\nM5603.65 1013.37 L5603.65 1384.24 L5629.01 1384.24 L5629.01 1013.37 L5603.65 1013.37 L5603.65 1013.37  Z\n  \" fill=\"#009af9\" fill-rule=\"evenodd\" fill-opacity=\"1\"/>\n<polyline clip-path=\"url(#clip782)\" style=\"stroke:#000000; stroke-width:4; stroke-opacity:1; fill:none\" points=\"\n  5603.65,1013.37 5603.65,1384.24 5629.01,1384.24 5629.01,1013.37 5603.65,1013.37 \n  \"/>\n<path clip-path=\"url(#clip782)\" d=\"\nM5629.01 642.494 L5629.01 1384.24 L5654.37 1384.24 L5654.37 642.494 L5629.01 642.494 L5629.01 642.494  Z\n  \" fill=\"#009af9\" fill-rule=\"evenodd\" fill-opacity=\"1\"/>\n<polyline clip-path=\"url(#clip782)\" style=\"stroke:#000000; stroke-width:4; stroke-opacity:1; fill:none\" points=\"\n  5629.01,642.494 5629.01,1384.24 5654.37,1384.24 5654.37,642.494 5629.01,642.494 \n  \"/>\n<path clip-path=\"url(#clip782)\" d=\"\nM5654.37 1013.37 L5654.37 1384.24 L5679.72 1384.24 L5679.72 1013.37 L5654.37 1013.37 L5654.37 1013.37  Z\n  \" fill=\"#009af9\" fill-rule=\"evenodd\" fill-opacity=\"1\"/>\n<polyline clip-path=\"url(#clip782)\" style=\"stroke:#000000; stroke-width:4; stroke-opacity:1; fill:none\" points=\"\n  5654.37,1013.37 5654.37,1384.24 5679.72,1384.24 5679.72,1013.37 5654.37,1013.37 \n  \"/>\n<path clip-path=\"url(#clip782)\" d=\"\nM5679.72 1013.37 L5679.72 1384.24 L5705.08 1384.24 L5705.08 1013.37 L5679.72 1013.37 L5679.72 1013.37  Z\n  \" fill=\"#009af9\" fill-rule=\"evenodd\" fill-opacity=\"1\"/>\n<polyline clip-path=\"url(#clip782)\" style=\"stroke:#000000; stroke-width:4; stroke-opacity:1; fill:none\" points=\"\n  5679.72,1013.37 5679.72,1384.24 5705.08,1384.24 5705.08,1013.37 5679.72,1013.37 \n  \"/>\n<path clip-path=\"url(#clip782)\" d=\"\nM5705.08 1198.8 L5705.08 1384.24 L5730.44 1384.24 L5730.44 1198.8 L5705.08 1198.8 L5705.08 1198.8  Z\n  \" fill=\"#009af9\" fill-rule=\"evenodd\" fill-opacity=\"1\"/>\n<polyline clip-path=\"url(#clip782)\" style=\"stroke:#000000; stroke-width:4; stroke-opacity:1; fill:none\" points=\"\n  5705.08,1198.8 5705.08,1384.24 5730.44,1384.24 5730.44,1198.8 5705.08,1198.8 \n  \"/>\n<path clip-path=\"url(#clip782)\" d=\"\nM5730.44 1198.8 L5730.44 1384.24 L5755.8 1384.24 L5755.8 1198.8 L5730.44 1198.8 L5730.44 1198.8  Z\n  \" fill=\"#009af9\" fill-rule=\"evenodd\" fill-opacity=\"1\"/>\n<polyline clip-path=\"url(#clip782)\" style=\"stroke:#000000; stroke-width:4; stroke-opacity:1; fill:none\" points=\"\n  5730.44,1198.8 5730.44,1384.24 5755.8,1384.24 5755.8,1198.8 5730.44,1198.8 \n  \"/>\n<path clip-path=\"url(#clip782)\" d=\"\nM5755.8 1384.24 L5755.8 1384.24 L5781.15 1384.24 L5781.15 1384.24 L5755.8 1384.24 L5755.8 1384.24  Z\n  \" fill=\"#009af9\" fill-rule=\"evenodd\" fill-opacity=\"1\"/>\n<polyline clip-path=\"url(#clip782)\" style=\"stroke:#000000; stroke-width:4; stroke-opacity:1; fill:none\" points=\"\n  5755.8,1384.24 5755.8,1384.24 5781.15,1384.24 5755.8,1384.24 \n  \"/>\n<path clip-path=\"url(#clip782)\" d=\"\nM5781.15 1384.24 L5781.15 1384.24 L5806.51 1384.24 L5806.51 1384.24 L5781.15 1384.24 L5781.15 1384.24  Z\n  \" fill=\"#009af9\" fill-rule=\"evenodd\" fill-opacity=\"1\"/>\n<polyline clip-path=\"url(#clip782)\" style=\"stroke:#000000; stroke-width:4; stroke-opacity:1; fill:none\" points=\"\n  5781.15,1384.24 5781.15,1384.24 5806.51,1384.24 5781.15,1384.24 \n  \"/>\n<path clip-path=\"url(#clip782)\" d=\"\nM5806.51 1198.8 L5806.51 1384.24 L5831.87 1384.24 L5831.87 1198.8 L5806.51 1198.8 L5806.51 1198.8  Z\n  \" fill=\"#009af9\" fill-rule=\"evenodd\" fill-opacity=\"1\"/>\n<polyline clip-path=\"url(#clip782)\" style=\"stroke:#000000; stroke-width:4; stroke-opacity:1; fill:none\" points=\"\n  5806.51,1198.8 5806.51,1384.24 5831.87,1384.24 5831.87,1198.8 5806.51,1198.8 \n  \"/>\n<path clip-path=\"url(#clip782)\" d=\"\nM5831.87 1013.37 L5831.87 1384.24 L5857.23 1384.24 L5857.23 1013.37 L5831.87 1013.37 L5831.87 1013.37  Z\n  \" fill=\"#009af9\" fill-rule=\"evenodd\" fill-opacity=\"1\"/>\n<polyline clip-path=\"url(#clip782)\" style=\"stroke:#000000; stroke-width:4; stroke-opacity:1; fill:none\" points=\"\n  5831.87,1013.37 5831.87,1384.24 5857.23,1384.24 5857.23,1013.37 5831.87,1013.37 \n  \"/>\n<path clip-path=\"url(#clip782)\" d=\"\nM5857.23 1384.24 L5857.23 1384.24 L5882.58 1384.24 L5882.58 1384.24 L5857.23 1384.24 L5857.23 1384.24  Z\n  \" fill=\"#009af9\" fill-rule=\"evenodd\" fill-opacity=\"1\"/>\n<polyline clip-path=\"url(#clip782)\" style=\"stroke:#000000; stroke-width:4; stroke-opacity:1; fill:none\" points=\"\n  5857.23,1384.24 5857.23,1384.24 5882.58,1384.24 5857.23,1384.24 \n  \"/>\n<path clip-path=\"url(#clip782)\" d=\"\nM5882.58 1198.8 L5882.58 1384.24 L5907.94 1384.24 L5907.94 1198.8 L5882.58 1198.8 L5882.58 1198.8  Z\n  \" fill=\"#009af9\" fill-rule=\"evenodd\" fill-opacity=\"1\"/>\n<polyline clip-path=\"url(#clip782)\" style=\"stroke:#000000; stroke-width:4; stroke-opacity:1; fill:none\" points=\"\n  5882.58,1198.8 5882.58,1384.24 5907.94,1384.24 5907.94,1198.8 5882.58,1198.8 \n  \"/>\n<path clip-path=\"url(#clip782)\" d=\"\nM5907.94 1198.8 L5907.94 1384.24 L5933.3 1384.24 L5933.3 1198.8 L5907.94 1198.8 L5907.94 1198.8  Z\n  \" fill=\"#009af9\" fill-rule=\"evenodd\" fill-opacity=\"1\"/>\n<polyline clip-path=\"url(#clip782)\" style=\"stroke:#000000; stroke-width:4; stroke-opacity:1; fill:none\" points=\"\n  5907.94,1198.8 5907.94,1384.24 5933.3,1384.24 5933.3,1198.8 5907.94,1198.8 \n  \"/>\n<path clip-path=\"url(#clip782)\" d=\"\nM5933.3 1384.24 L5933.3 1384.24 L5958.66 1384.24 L5958.66 1384.24 L5933.3 1384.24 L5933.3 1384.24  Z\n  \" fill=\"#009af9\" fill-rule=\"evenodd\" fill-opacity=\"1\"/>\n<polyline clip-path=\"url(#clip782)\" style=\"stroke:#000000; stroke-width:4; stroke-opacity:1; fill:none\" points=\"\n  5933.3,1384.24 5933.3,1384.24 5958.66,1384.24 5933.3,1384.24 \n  \"/>\n<path clip-path=\"url(#clip782)\" d=\"\nM5958.66 1198.8 L5958.66 1384.24 L5984.01 1384.24 L5984.01 1198.8 L5958.66 1198.8 L5958.66 1198.8  Z\n  \" fill=\"#009af9\" fill-rule=\"evenodd\" fill-opacity=\"1\"/>\n<polyline clip-path=\"url(#clip782)\" style=\"stroke:#000000; stroke-width:4; stroke-opacity:1; fill:none\" points=\"\n  5958.66,1198.8 5958.66,1384.24 5984.01,1384.24 5984.01,1198.8 5958.66,1198.8 \n  \"/>\n<path clip-path=\"url(#clip782)\" d=\"\nM5984.01 1384.24 L5984.01 1384.24 L6009.37 1384.24 L6009.37 1384.24 L5984.01 1384.24 L5984.01 1384.24  Z\n  \" fill=\"#009af9\" fill-rule=\"evenodd\" fill-opacity=\"1\"/>\n<polyline clip-path=\"url(#clip782)\" style=\"stroke:#000000; stroke-width:4; stroke-opacity:1; fill:none\" points=\"\n  5984.01,1384.24 5984.01,1384.24 6009.37,1384.24 5984.01,1384.24 \n  \"/>\n<path clip-path=\"url(#clip782)\" d=\"\nM6009.37 1013.37 L6009.37 1384.24 L6034.73 1384.24 L6034.73 1013.37 L6009.37 1013.37 L6009.37 1013.37  Z\n  \" fill=\"#009af9\" fill-rule=\"evenodd\" fill-opacity=\"1\"/>\n<polyline clip-path=\"url(#clip782)\" style=\"stroke:#000000; stroke-width:4; stroke-opacity:1; fill:none\" points=\"\n  6009.37,1013.37 6009.37,1384.24 6034.73,1384.24 6034.73,1013.37 6009.37,1013.37 \n  \"/>\n<path clip-path=\"url(#clip782)\" d=\"\nM6034.73 1198.8 L6034.73 1384.24 L6060.09 1384.24 L6060.09 1198.8 L6034.73 1198.8 L6034.73 1198.8  Z\n  \" fill=\"#009af9\" fill-rule=\"evenodd\" fill-opacity=\"1\"/>\n<polyline clip-path=\"url(#clip782)\" style=\"stroke:#000000; stroke-width:4; stroke-opacity:1; fill:none\" points=\"\n  6034.73,1198.8 6034.73,1384.24 6060.09,1384.24 6060.09,1198.8 6034.73,1198.8 \n  \"/>\n<path clip-path=\"url(#clip782)\" d=\"\nM6060.09 827.93 L6060.09 1384.24 L6085.44 1384.24 L6085.44 827.93 L6060.09 827.93 L6060.09 827.93  Z\n  \" fill=\"#009af9\" fill-rule=\"evenodd\" fill-opacity=\"1\"/>\n<polyline clip-path=\"url(#clip782)\" style=\"stroke:#000000; stroke-width:4; stroke-opacity:1; fill:none\" points=\"\n  6060.09,827.93 6060.09,1384.24 6085.44,1384.24 6085.44,827.93 6060.09,827.93 \n  \"/>\n<path clip-path=\"url(#clip782)\" d=\"\nM6085.44 827.93 L6085.44 1384.24 L6110.8 1384.24 L6110.8 827.93 L6085.44 827.93 L6085.44 827.93  Z\n  \" fill=\"#009af9\" fill-rule=\"evenodd\" fill-opacity=\"1\"/>\n<polyline clip-path=\"url(#clip782)\" style=\"stroke:#000000; stroke-width:4; stroke-opacity:1; fill:none\" points=\"\n  6085.44,827.93 6085.44,1384.24 6110.8,1384.24 6110.8,827.93 6085.44,827.93 \n  \"/>\n<path clip-path=\"url(#clip782)\" d=\"\nM6110.8 1013.37 L6110.8 1384.24 L6136.16 1384.24 L6136.16 1013.37 L6110.8 1013.37 L6110.8 1013.37  Z\n  \" fill=\"#009af9\" fill-rule=\"evenodd\" fill-opacity=\"1\"/>\n<polyline clip-path=\"url(#clip782)\" style=\"stroke:#000000; stroke-width:4; stroke-opacity:1; fill:none\" points=\"\n  6110.8,1013.37 6110.8,1384.24 6136.16,1384.24 6136.16,1013.37 6110.8,1013.37 \n  \"/>\n<path clip-path=\"url(#clip782)\" d=\"\nM6136.16 1013.37 L6136.16 1384.24 L6161.52 1384.24 L6161.52 1013.37 L6136.16 1013.37 L6136.16 1013.37  Z\n  \" fill=\"#009af9\" fill-rule=\"evenodd\" fill-opacity=\"1\"/>\n<polyline clip-path=\"url(#clip782)\" style=\"stroke:#000000; stroke-width:4; stroke-opacity:1; fill:none\" points=\"\n  6136.16,1013.37 6136.16,1384.24 6161.52,1384.24 6161.52,1013.37 6136.16,1013.37 \n  \"/>\n<path clip-path=\"url(#clip782)\" d=\"\nM6161.52 1384.24 L6161.52 1384.24 L6186.87 1384.24 L6186.87 1384.24 L6161.52 1384.24 L6161.52 1384.24  Z\n  \" fill=\"#009af9\" fill-rule=\"evenodd\" fill-opacity=\"1\"/>\n<polyline clip-path=\"url(#clip782)\" style=\"stroke:#000000; stroke-width:4; stroke-opacity:1; fill:none\" points=\"\n  6161.52,1384.24 6161.52,1384.24 6186.87,1384.24 6161.52,1384.24 \n  \"/>\n<path clip-path=\"url(#clip782)\" d=\"\nM6186.87 1013.37 L6186.87 1384.24 L6212.23 1384.24 L6212.23 1013.37 L6186.87 1013.37 L6186.87 1013.37  Z\n  \" fill=\"#009af9\" fill-rule=\"evenodd\" fill-opacity=\"1\"/>\n<polyline clip-path=\"url(#clip782)\" style=\"stroke:#000000; stroke-width:4; stroke-opacity:1; fill:none\" points=\"\n  6186.87,1013.37 6186.87,1384.24 6212.23,1384.24 6212.23,1013.37 6186.87,1013.37 \n  \"/>\n<path clip-path=\"url(#clip782)\" d=\"\nM6212.23 1384.24 L6212.23 1384.24 L6237.59 1384.24 L6237.59 1384.24 L6212.23 1384.24 L6212.23 1384.24  Z\n  \" fill=\"#009af9\" fill-rule=\"evenodd\" fill-opacity=\"1\"/>\n<polyline clip-path=\"url(#clip782)\" style=\"stroke:#000000; stroke-width:4; stroke-opacity:1; fill:none\" points=\"\n  6212.23,1384.24 6212.23,1384.24 6237.59,1384.24 6212.23,1384.24 \n  \"/>\n<path clip-path=\"url(#clip782)\" d=\"\nM6237.59 1013.37 L6237.59 1384.24 L6262.95 1384.24 L6262.95 1013.37 L6237.59 1013.37 L6237.59 1013.37  Z\n  \" fill=\"#009af9\" fill-rule=\"evenodd\" fill-opacity=\"1\"/>\n<polyline clip-path=\"url(#clip782)\" style=\"stroke:#000000; stroke-width:4; stroke-opacity:1; fill:none\" points=\"\n  6237.59,1013.37 6237.59,1384.24 6262.95,1384.24 6262.95,1013.37 6237.59,1013.37 \n  \"/>\n<path clip-path=\"url(#clip782)\" d=\"\nM6262.95 1384.24 L6262.95 1384.24 L6288.3 1384.24 L6288.3 1384.24 L6262.95 1384.24 L6262.95 1384.24  Z\n  \" fill=\"#009af9\" fill-rule=\"evenodd\" fill-opacity=\"1\"/>\n<polyline clip-path=\"url(#clip782)\" style=\"stroke:#000000; stroke-width:4; stroke-opacity:1; fill:none\" points=\"\n  6262.95,1384.24 6262.95,1384.24 6288.3,1384.24 6262.95,1384.24 \n  \"/>\n<path clip-path=\"url(#clip782)\" d=\"\nM6288.3 1198.8 L6288.3 1384.24 L6313.66 1384.24 L6313.66 1198.8 L6288.3 1198.8 L6288.3 1198.8  Z\n  \" fill=\"#009af9\" fill-rule=\"evenodd\" fill-opacity=\"1\"/>\n<polyline clip-path=\"url(#clip782)\" style=\"stroke:#000000; stroke-width:4; stroke-opacity:1; fill:none\" points=\"\n  6288.3,1198.8 6288.3,1384.24 6313.66,1384.24 6313.66,1198.8 6288.3,1198.8 \n  \"/>\n<path clip-path=\"url(#clip782)\" d=\"\nM6313.66 1198.8 L6313.66 1384.24 L6339.02 1384.24 L6339.02 1198.8 L6313.66 1198.8 L6313.66 1198.8  Z\n  \" fill=\"#009af9\" fill-rule=\"evenodd\" fill-opacity=\"1\"/>\n<polyline clip-path=\"url(#clip782)\" style=\"stroke:#000000; stroke-width:4; stroke-opacity:1; fill:none\" points=\"\n  6313.66,1198.8 6313.66,1384.24 6339.02,1384.24 6339.02,1198.8 6313.66,1198.8 \n  \"/>\n<path clip-path=\"url(#clip782)\" d=\"\nM6339.02 1198.8 L6339.02 1384.24 L6364.38 1384.24 L6364.38 1198.8 L6339.02 1198.8 L6339.02 1198.8  Z\n  \" fill=\"#009af9\" fill-rule=\"evenodd\" fill-opacity=\"1\"/>\n<polyline clip-path=\"url(#clip782)\" style=\"stroke:#000000; stroke-width:4; stroke-opacity:1; fill:none\" points=\"\n  6339.02,1198.8 6339.02,1384.24 6364.38,1384.24 6364.38,1198.8 6339.02,1198.8 \n  \"/>\n<path clip-path=\"url(#clip782)\" d=\"\nM6364.38 1384.24 L6364.38 1384.24 L6389.73 1384.24 L6389.73 1384.24 L6364.38 1384.24 L6364.38 1384.24  Z\n  \" fill=\"#009af9\" fill-rule=\"evenodd\" fill-opacity=\"1\"/>\n<polyline clip-path=\"url(#clip782)\" style=\"stroke:#000000; stroke-width:4; stroke-opacity:1; fill:none\" points=\"\n  6364.38,1384.24 6364.38,1384.24 6389.73,1384.24 6364.38,1384.24 \n  \"/>\n<path clip-path=\"url(#clip782)\" d=\"\nM6389.73 1198.8 L6389.73 1384.24 L6415.09 1384.24 L6415.09 1198.8 L6389.73 1198.8 L6389.73 1198.8  Z\n  \" fill=\"#009af9\" fill-rule=\"evenodd\" fill-opacity=\"1\"/>\n<polyline clip-path=\"url(#clip782)\" style=\"stroke:#000000; stroke-width:4; stroke-opacity:1; fill:none\" points=\"\n  6389.73,1198.8 6389.73,1384.24 6415.09,1384.24 6415.09,1198.8 6389.73,1198.8 \n  \"/>\n<path clip-path=\"url(#clip782)\" d=\"\nM6415.09 1013.37 L6415.09 1384.24 L6440.45 1384.24 L6440.45 1013.37 L6415.09 1013.37 L6415.09 1013.37  Z\n  \" fill=\"#009af9\" fill-rule=\"evenodd\" fill-opacity=\"1\"/>\n<polyline clip-path=\"url(#clip782)\" style=\"stroke:#000000; stroke-width:4; stroke-opacity:1; fill:none\" points=\"\n  6415.09,1013.37 6415.09,1384.24 6440.45,1384.24 6440.45,1013.37 6415.09,1013.37 \n  \"/>\n<path clip-path=\"url(#clip782)\" d=\"\nM6440.45 1198.8 L6440.45 1384.24 L6465.81 1384.24 L6465.81 1198.8 L6440.45 1198.8 L6440.45 1198.8  Z\n  \" fill=\"#009af9\" fill-rule=\"evenodd\" fill-opacity=\"1\"/>\n<polyline clip-path=\"url(#clip782)\" style=\"stroke:#000000; stroke-width:4; stroke-opacity:1; fill:none\" points=\"\n  6440.45,1198.8 6440.45,1384.24 6465.81,1384.24 6465.81,1198.8 6440.45,1198.8 \n  \"/>\n<path clip-path=\"url(#clip782)\" d=\"\nM6465.81 1198.8 L6465.81 1384.24 L6491.16 1384.24 L6491.16 1198.8 L6465.81 1198.8 L6465.81 1198.8  Z\n  \" fill=\"#009af9\" fill-rule=\"evenodd\" fill-opacity=\"1\"/>\n<polyline clip-path=\"url(#clip782)\" style=\"stroke:#000000; stroke-width:4; stroke-opacity:1; fill:none\" points=\"\n  6465.81,1198.8 6465.81,1384.24 6491.16,1384.24 6491.16,1198.8 6465.81,1198.8 \n  \"/>\n<path clip-path=\"url(#clip782)\" d=\"\nM6491.16 1198.8 L6491.16 1384.24 L6516.52 1384.24 L6516.52 1198.8 L6491.16 1198.8 L6491.16 1198.8  Z\n  \" fill=\"#009af9\" fill-rule=\"evenodd\" fill-opacity=\"1\"/>\n<polyline clip-path=\"url(#clip782)\" style=\"stroke:#000000; stroke-width:4; stroke-opacity:1; fill:none\" points=\"\n  6491.16,1198.8 6491.16,1384.24 6516.52,1384.24 6516.52,1198.8 6491.16,1198.8 \n  \"/>\n<path clip-path=\"url(#clip782)\" d=\"\nM6516.52 1198.8 L6516.52 1384.24 L6541.88 1384.24 L6541.88 1198.8 L6516.52 1198.8 L6516.52 1198.8  Z\n  \" fill=\"#009af9\" fill-rule=\"evenodd\" fill-opacity=\"1\"/>\n<polyline clip-path=\"url(#clip782)\" style=\"stroke:#000000; stroke-width:4; stroke-opacity:1; fill:none\" points=\"\n  6516.52,1198.8 6516.52,1384.24 6541.88,1384.24 6541.88,1198.8 6516.52,1198.8 \n  \"/>\n<path clip-path=\"url(#clip782)\" d=\"\nM6541.88 1198.8 L6541.88 1384.24 L6567.24 1384.24 L6567.24 1198.8 L6541.88 1198.8 L6541.88 1198.8  Z\n  \" fill=\"#009af9\" fill-rule=\"evenodd\" fill-opacity=\"1\"/>\n<polyline clip-path=\"url(#clip782)\" style=\"stroke:#000000; stroke-width:4; stroke-opacity:1; fill:none\" points=\"\n  6541.88,1198.8 6541.88,1384.24 6567.24,1384.24 6567.24,1198.8 6541.88,1198.8 \n  \"/>\n<path clip-path=\"url(#clip782)\" d=\"\nM6567.24 1384.24 L6567.24 1384.24 L6592.59 1384.24 L6592.59 1384.24 L6567.24 1384.24 L6567.24 1384.24  Z\n  \" fill=\"#009af9\" fill-rule=\"evenodd\" fill-opacity=\"1\"/>\n<polyline clip-path=\"url(#clip782)\" style=\"stroke:#000000; stroke-width:4; stroke-opacity:1; fill:none\" points=\"\n  6567.24,1384.24 6567.24,1384.24 6592.59,1384.24 6567.24,1384.24 \n  \"/>\n<path clip-path=\"url(#clip782)\" d=\"\nM6592.59 1384.24 L6592.59 1384.24 L6617.95 1384.24 L6617.95 1384.24 L6592.59 1384.24 L6592.59 1384.24  Z\n  \" fill=\"#009af9\" fill-rule=\"evenodd\" fill-opacity=\"1\"/>\n<polyline clip-path=\"url(#clip782)\" style=\"stroke:#000000; stroke-width:4; stroke-opacity:1; fill:none\" points=\"\n  6592.59,1384.24 6592.59,1384.24 6617.95,1384.24 6592.59,1384.24 \n  \"/>\n<path clip-path=\"url(#clip782)\" d=\"\nM6617.95 1013.37 L6617.95 1384.24 L6643.31 1384.24 L6643.31 1013.37 L6617.95 1013.37 L6617.95 1013.37  Z\n  \" fill=\"#009af9\" fill-rule=\"evenodd\" fill-opacity=\"1\"/>\n<polyline clip-path=\"url(#clip782)\" style=\"stroke:#000000; stroke-width:4; stroke-opacity:1; fill:none\" points=\"\n  6617.95,1013.37 6617.95,1384.24 6643.31,1384.24 6643.31,1013.37 6617.95,1013.37 \n  \"/>\n<path clip-path=\"url(#clip782)\" d=\"\nM6643.31 1013.37 L6643.31 1384.24 L6668.67 1384.24 L6668.67 1013.37 L6643.31 1013.37 L6643.31 1013.37  Z\n  \" fill=\"#009af9\" fill-rule=\"evenodd\" fill-opacity=\"1\"/>\n<polyline clip-path=\"url(#clip782)\" style=\"stroke:#000000; stroke-width:4; stroke-opacity:1; fill:none\" points=\"\n  6643.31,1013.37 6643.31,1384.24 6668.67,1384.24 6668.67,1013.37 6643.31,1013.37 \n  \"/>\n<path clip-path=\"url(#clip782)\" d=\"\nM6668.67 1198.8 L6668.67 1384.24 L6694.02 1384.24 L6694.02 1198.8 L6668.67 1198.8 L6668.67 1198.8  Z\n  \" fill=\"#009af9\" fill-rule=\"evenodd\" fill-opacity=\"1\"/>\n<polyline clip-path=\"url(#clip782)\" style=\"stroke:#000000; stroke-width:4; stroke-opacity:1; fill:none\" points=\"\n  6668.67,1198.8 6668.67,1384.24 6694.02,1384.24 6694.02,1198.8 6668.67,1198.8 \n  \"/>\n<path clip-path=\"url(#clip782)\" d=\"\nM6694.02 1198.8 L6694.02 1384.24 L6719.38 1384.24 L6719.38 1198.8 L6694.02 1198.8 L6694.02 1198.8  Z\n  \" fill=\"#009af9\" fill-rule=\"evenodd\" fill-opacity=\"1\"/>\n<polyline clip-path=\"url(#clip782)\" style=\"stroke:#000000; stroke-width:4; stroke-opacity:1; fill:none\" points=\"\n  6694.02,1198.8 6694.02,1384.24 6719.38,1384.24 6719.38,1198.8 6694.02,1198.8 \n  \"/>\n<path clip-path=\"url(#clip782)\" d=\"\nM6719.38 1198.8 L6719.38 1384.24 L6744.74 1384.24 L6744.74 1198.8 L6719.38 1198.8 L6719.38 1198.8  Z\n  \" fill=\"#009af9\" fill-rule=\"evenodd\" fill-opacity=\"1\"/>\n<polyline clip-path=\"url(#clip782)\" style=\"stroke:#000000; stroke-width:4; stroke-opacity:1; fill:none\" points=\"\n  6719.38,1198.8 6719.38,1384.24 6744.74,1384.24 6744.74,1198.8 6719.38,1198.8 \n  \"/>\n<path clip-path=\"url(#clip782)\" d=\"\nM6744.74 1013.37 L6744.74 1384.24 L6770.1 1384.24 L6770.1 1013.37 L6744.74 1013.37 L6744.74 1013.37  Z\n  \" fill=\"#009af9\" fill-rule=\"evenodd\" fill-opacity=\"1\"/>\n<polyline clip-path=\"url(#clip782)\" style=\"stroke:#000000; stroke-width:4; stroke-opacity:1; fill:none\" points=\"\n  6744.74,1013.37 6744.74,1384.24 6770.1,1384.24 6770.1,1013.37 6744.74,1013.37 \n  \"/>\n<path clip-path=\"url(#clip782)\" d=\"\nM6770.1 1198.8 L6770.1 1384.24 L6795.45 1384.24 L6795.45 1198.8 L6770.1 1198.8 L6770.1 1198.8  Z\n  \" fill=\"#009af9\" fill-rule=\"evenodd\" fill-opacity=\"1\"/>\n<polyline clip-path=\"url(#clip782)\" style=\"stroke:#000000; stroke-width:4; stroke-opacity:1; fill:none\" points=\"\n  6770.1,1198.8 6770.1,1384.24 6795.45,1384.24 6795.45,1198.8 6770.1,1198.8 \n  \"/>\n<path clip-path=\"url(#clip782)\" d=\"\nM6795.45 1384.24 L6795.45 1384.24 L6820.81 1384.24 L6820.81 1384.24 L6795.45 1384.24 L6795.45 1384.24  Z\n  \" fill=\"#009af9\" fill-rule=\"evenodd\" fill-opacity=\"1\"/>\n<polyline clip-path=\"url(#clip782)\" style=\"stroke:#000000; stroke-width:4; stroke-opacity:1; fill:none\" points=\"\n  6795.45,1384.24 6795.45,1384.24 6820.81,1384.24 6795.45,1384.24 \n  \"/>\n<path clip-path=\"url(#clip782)\" d=\"\nM6820.81 1013.37 L6820.81 1384.24 L6846.17 1384.24 L6846.17 1013.37 L6820.81 1013.37 L6820.81 1013.37  Z\n  \" fill=\"#009af9\" fill-rule=\"evenodd\" fill-opacity=\"1\"/>\n<polyline clip-path=\"url(#clip782)\" style=\"stroke:#000000; stroke-width:4; stroke-opacity:1; fill:none\" points=\"\n  6820.81,1013.37 6820.81,1384.24 6846.17,1384.24 6846.17,1013.37 6820.81,1013.37 \n  \"/>\n<path clip-path=\"url(#clip782)\" d=\"\nM6846.17 1013.37 L6846.17 1384.24 L6871.52 1384.24 L6871.52 1013.37 L6846.17 1013.37 L6846.17 1013.37  Z\n  \" fill=\"#009af9\" fill-rule=\"evenodd\" fill-opacity=\"1\"/>\n<polyline clip-path=\"url(#clip782)\" style=\"stroke:#000000; stroke-width:4; stroke-opacity:1; fill:none\" points=\"\n  6846.17,1013.37 6846.17,1384.24 6871.52,1384.24 6871.52,1013.37 6846.17,1013.37 \n  \"/>\n<path clip-path=\"url(#clip782)\" d=\"\nM6871.52 1198.8 L6871.52 1384.24 L6896.88 1384.24 L6896.88 1198.8 L6871.52 1198.8 L6871.52 1198.8  Z\n  \" fill=\"#009af9\" fill-rule=\"evenodd\" fill-opacity=\"1\"/>\n<polyline clip-path=\"url(#clip782)\" style=\"stroke:#000000; stroke-width:4; stroke-opacity:1; fill:none\" points=\"\n  6871.52,1198.8 6871.52,1384.24 6896.88,1384.24 6896.88,1198.8 6871.52,1198.8 \n  \"/>\n<path clip-path=\"url(#clip782)\" d=\"\nM6896.88 1198.8 L6896.88 1384.24 L6922.24 1384.24 L6922.24 1198.8 L6896.88 1198.8 L6896.88 1198.8  Z\n  \" fill=\"#009af9\" fill-rule=\"evenodd\" fill-opacity=\"1\"/>\n<polyline clip-path=\"url(#clip782)\" style=\"stroke:#000000; stroke-width:4; stroke-opacity:1; fill:none\" points=\"\n  6896.88,1198.8 6896.88,1384.24 6922.24,1384.24 6922.24,1198.8 6896.88,1198.8 \n  \"/>\n<path clip-path=\"url(#clip782)\" d=\"\nM6922.24 1198.8 L6922.24 1384.24 L6947.6 1384.24 L6947.6 1198.8 L6922.24 1198.8 L6922.24 1198.8  Z\n  \" fill=\"#009af9\" fill-rule=\"evenodd\" fill-opacity=\"1\"/>\n<polyline clip-path=\"url(#clip782)\" style=\"stroke:#000000; stroke-width:4; stroke-opacity:1; fill:none\" points=\"\n  6922.24,1198.8 6922.24,1384.24 6947.6,1384.24 6947.6,1198.8 6922.24,1198.8 \n  \"/>\n<path clip-path=\"url(#clip782)\" d=\"\nM6947.6 1198.8 L6947.6 1384.24 L6972.95 1384.24 L6972.95 1198.8 L6947.6 1198.8 L6947.6 1198.8  Z\n  \" fill=\"#009af9\" fill-rule=\"evenodd\" fill-opacity=\"1\"/>\n<polyline clip-path=\"url(#clip782)\" style=\"stroke:#000000; stroke-width:4; stroke-opacity:1; fill:none\" points=\"\n  6947.6,1198.8 6947.6,1384.24 6972.95,1384.24 6972.95,1198.8 6947.6,1198.8 \n  \"/>\n<path clip-path=\"url(#clip782)\" d=\"\nM6972.95 1198.8 L6972.95 1384.24 L6998.31 1384.24 L6998.31 1198.8 L6972.95 1198.8 L6972.95 1198.8  Z\n  \" fill=\"#009af9\" fill-rule=\"evenodd\" fill-opacity=\"1\"/>\n<polyline clip-path=\"url(#clip782)\" style=\"stroke:#000000; stroke-width:4; stroke-opacity:1; fill:none\" points=\"\n  6972.95,1198.8 6972.95,1384.24 6998.31,1384.24 6998.31,1198.8 6972.95,1198.8 \n  \"/>\n<path clip-path=\"url(#clip782)\" d=\"\nM6998.31 1384.24 L6998.31 1384.24 L7023.67 1384.24 L7023.67 1384.24 L6998.31 1384.24 L6998.31 1384.24  Z\n  \" fill=\"#009af9\" fill-rule=\"evenodd\" fill-opacity=\"1\"/>\n<polyline clip-path=\"url(#clip782)\" style=\"stroke:#000000; stroke-width:4; stroke-opacity:1; fill:none\" points=\"\n  6998.31,1384.24 6998.31,1384.24 7023.67,1384.24 6998.31,1384.24 \n  \"/>\n<path clip-path=\"url(#clip782)\" d=\"\nM7023.67 1384.24 L7023.67 1384.24 L7049.03 1384.24 L7049.03 1384.24 L7023.67 1384.24 L7023.67 1384.24  Z\n  \" fill=\"#009af9\" fill-rule=\"evenodd\" fill-opacity=\"1\"/>\n<polyline clip-path=\"url(#clip782)\" style=\"stroke:#000000; stroke-width:4; stroke-opacity:1; fill:none\" points=\"\n  7023.67,1384.24 7023.67,1384.24 7049.03,1384.24 7023.67,1384.24 \n  \"/>\n<path clip-path=\"url(#clip782)\" d=\"\nM7049.03 1198.8 L7049.03 1384.24 L7074.38 1384.24 L7074.38 1198.8 L7049.03 1198.8 L7049.03 1198.8  Z\n  \" fill=\"#009af9\" fill-rule=\"evenodd\" fill-opacity=\"1\"/>\n<polyline clip-path=\"url(#clip782)\" style=\"stroke:#000000; stroke-width:4; stroke-opacity:1; fill:none\" points=\"\n  7049.03,1198.8 7049.03,1384.24 7074.38,1384.24 7074.38,1198.8 7049.03,1198.8 \n  \"/>\n<path clip-path=\"url(#clip782)\" d=\"\nM7074.38 1198.8 L7074.38 1384.24 L7099.74 1384.24 L7099.74 1198.8 L7074.38 1198.8 L7074.38 1198.8  Z\n  \" fill=\"#009af9\" fill-rule=\"evenodd\" fill-opacity=\"1\"/>\n<polyline clip-path=\"url(#clip782)\" style=\"stroke:#000000; stroke-width:4; stroke-opacity:1; fill:none\" points=\"\n  7074.38,1198.8 7074.38,1384.24 7099.74,1384.24 7099.74,1198.8 7074.38,1198.8 \n  \"/>\n<path clip-path=\"url(#clip782)\" d=\"\nM7099.74 1384.24 L7099.74 1384.24 L7125.1 1384.24 L7125.1 1384.24 L7099.74 1384.24 L7099.74 1384.24  Z\n  \" fill=\"#009af9\" fill-rule=\"evenodd\" fill-opacity=\"1\"/>\n<polyline clip-path=\"url(#clip782)\" style=\"stroke:#000000; stroke-width:4; stroke-opacity:1; fill:none\" points=\"\n  7099.74,1384.24 7099.74,1384.24 7125.1,1384.24 7099.74,1384.24 \n  \"/>\n<path clip-path=\"url(#clip782)\" d=\"\nM7125.1 1384.24 L7125.1 1384.24 L7150.46 1384.24 L7150.46 1384.24 L7125.1 1384.24 L7125.1 1384.24  Z\n  \" fill=\"#009af9\" fill-rule=\"evenodd\" fill-opacity=\"1\"/>\n<polyline clip-path=\"url(#clip782)\" style=\"stroke:#000000; stroke-width:4; stroke-opacity:1; fill:none\" points=\"\n  7125.1,1384.24 7125.1,1384.24 7150.46,1384.24 7125.1,1384.24 \n  \"/>\n<path clip-path=\"url(#clip782)\" d=\"\nM7150.46 1198.8 L7150.46 1384.24 L7175.81 1384.24 L7175.81 1198.8 L7150.46 1198.8 L7150.46 1198.8  Z\n  \" fill=\"#009af9\" fill-rule=\"evenodd\" fill-opacity=\"1\"/>\n<polyline clip-path=\"url(#clip782)\" style=\"stroke:#000000; stroke-width:4; stroke-opacity:1; fill:none\" points=\"\n  7150.46,1198.8 7150.46,1384.24 7175.81,1384.24 7175.81,1198.8 7150.46,1198.8 \n  \"/>\n<path clip-path=\"url(#clip782)\" d=\"\nM7175.81 1198.8 L7175.81 1384.24 L7201.17 1384.24 L7201.17 1198.8 L7175.81 1198.8 L7175.81 1198.8  Z\n  \" fill=\"#009af9\" fill-rule=\"evenodd\" fill-opacity=\"1\"/>\n<polyline clip-path=\"url(#clip782)\" style=\"stroke:#000000; stroke-width:4; stroke-opacity:1; fill:none\" points=\"\n  7175.81,1198.8 7175.81,1384.24 7201.17,1384.24 7201.17,1198.8 7175.81,1198.8 \n  \"/>\n<path clip-path=\"url(#clip782)\" d=\"\nM7201.17 1198.8 L7201.17 1384.24 L7226.53 1384.24 L7226.53 1198.8 L7201.17 1198.8 L7201.17 1198.8  Z\n  \" fill=\"#009af9\" fill-rule=\"evenodd\" fill-opacity=\"1\"/>\n<polyline clip-path=\"url(#clip782)\" style=\"stroke:#000000; stroke-width:4; stroke-opacity:1; fill:none\" points=\"\n  7201.17,1198.8 7201.17,1384.24 7226.53,1384.24 7226.53,1198.8 7201.17,1198.8 \n  \"/>\n<path clip-path=\"url(#clip782)\" d=\"\nM7226.53 1198.8 L7226.53 1384.24 L7251.89 1384.24 L7251.89 1198.8 L7226.53 1198.8 L7226.53 1198.8  Z\n  \" fill=\"#009af9\" fill-rule=\"evenodd\" fill-opacity=\"1\"/>\n<polyline clip-path=\"url(#clip782)\" style=\"stroke:#000000; stroke-width:4; stroke-opacity:1; fill:none\" points=\"\n  7226.53,1198.8 7226.53,1384.24 7251.89,1384.24 7251.89,1198.8 7226.53,1198.8 \n  \"/>\n<path clip-path=\"url(#clip782)\" d=\"\nM7251.89 1384.24 L7251.89 1384.24 L7277.24 1384.24 L7277.24 1384.24 L7251.89 1384.24 L7251.89 1384.24  Z\n  \" fill=\"#009af9\" fill-rule=\"evenodd\" fill-opacity=\"1\"/>\n<polyline clip-path=\"url(#clip782)\" style=\"stroke:#000000; stroke-width:4; stroke-opacity:1; fill:none\" points=\"\n  7251.89,1384.24 7251.89,1384.24 7277.24,1384.24 7251.89,1384.24 \n  \"/>\n<path clip-path=\"url(#clip782)\" d=\"\nM7277.24 1384.24 L7277.24 1384.24 L7302.6 1384.24 L7302.6 1384.24 L7277.24 1384.24 L7277.24 1384.24  Z\n  \" fill=\"#009af9\" fill-rule=\"evenodd\" fill-opacity=\"1\"/>\n<polyline clip-path=\"url(#clip782)\" style=\"stroke:#000000; stroke-width:4; stroke-opacity:1; fill:none\" points=\"\n  7277.24,1384.24 7277.24,1384.24 7302.6,1384.24 7277.24,1384.24 \n  \"/>\n<path clip-path=\"url(#clip782)\" d=\"\nM7302.6 1384.24 L7302.6 1384.24 L7327.96 1384.24 L7327.96 1384.24 L7302.6 1384.24 L7302.6 1384.24  Z\n  \" fill=\"#009af9\" fill-rule=\"evenodd\" fill-opacity=\"1\"/>\n<polyline clip-path=\"url(#clip782)\" style=\"stroke:#000000; stroke-width:4; stroke-opacity:1; fill:none\" points=\"\n  7302.6,1384.24 7302.6,1384.24 7327.96,1384.24 7302.6,1384.24 \n  \"/>\n<path clip-path=\"url(#clip782)\" d=\"\nM7327.96 1198.8 L7327.96 1384.24 L7353.32 1384.24 L7353.32 1198.8 L7327.96 1198.8 L7327.96 1198.8  Z\n  \" fill=\"#009af9\" fill-rule=\"evenodd\" fill-opacity=\"1\"/>\n<polyline clip-path=\"url(#clip782)\" style=\"stroke:#000000; stroke-width:4; stroke-opacity:1; fill:none\" points=\"\n  7327.96,1198.8 7327.96,1384.24 7353.32,1384.24 7353.32,1198.8 7327.96,1198.8 \n  \"/>\n<path clip-path=\"url(#clip782)\" d=\"\nM7353.32 1198.8 L7353.32 1384.24 L7378.67 1384.24 L7378.67 1198.8 L7353.32 1198.8 L7353.32 1198.8  Z\n  \" fill=\"#009af9\" fill-rule=\"evenodd\" fill-opacity=\"1\"/>\n<polyline clip-path=\"url(#clip782)\" style=\"stroke:#000000; stroke-width:4; stroke-opacity:1; fill:none\" points=\"\n  7353.32,1198.8 7353.32,1384.24 7378.67,1384.24 7378.67,1198.8 7353.32,1198.8 \n  \"/>\n<path clip-path=\"url(#clip782)\" d=\"\nM7378.67 1384.24 L7378.67 1384.24 L7404.03 1384.24 L7404.03 1384.24 L7378.67 1384.24 L7378.67 1384.24  Z\n  \" fill=\"#009af9\" fill-rule=\"evenodd\" fill-opacity=\"1\"/>\n<polyline clip-path=\"url(#clip782)\" style=\"stroke:#000000; stroke-width:4; stroke-opacity:1; fill:none\" points=\"\n  7378.67,1384.24 7378.67,1384.24 7404.03,1384.24 7378.67,1384.24 \n  \"/>\n<path clip-path=\"url(#clip782)\" d=\"\nM7404.03 1384.24 L7404.03 1384.24 L7429.39 1384.24 L7429.39 1384.24 L7404.03 1384.24 L7404.03 1384.24  Z\n  \" fill=\"#009af9\" fill-rule=\"evenodd\" fill-opacity=\"1\"/>\n<polyline clip-path=\"url(#clip782)\" style=\"stroke:#000000; stroke-width:4; stroke-opacity:1; fill:none\" points=\"\n  7404.03,1384.24 7404.03,1384.24 7429.39,1384.24 7404.03,1384.24 \n  \"/>\n<path clip-path=\"url(#clip782)\" d=\"\nM7429.39 1384.24 L7429.39 1384.24 L7454.75 1384.24 L7454.75 1384.24 L7429.39 1384.24 L7429.39 1384.24  Z\n  \" fill=\"#009af9\" fill-rule=\"evenodd\" fill-opacity=\"1\"/>\n<polyline clip-path=\"url(#clip782)\" style=\"stroke:#000000; stroke-width:4; stroke-opacity:1; fill:none\" points=\"\n  7429.39,1384.24 7429.39,1384.24 7454.75,1384.24 7429.39,1384.24 \n  \"/>\n<path clip-path=\"url(#clip782)\" d=\"\nM7454.75 1384.24 L7454.75 1384.24 L7480.1 1384.24 L7480.1 1384.24 L7454.75 1384.24 L7454.75 1384.24  Z\n  \" fill=\"#009af9\" fill-rule=\"evenodd\" fill-opacity=\"1\"/>\n<polyline clip-path=\"url(#clip782)\" style=\"stroke:#000000; stroke-width:4; stroke-opacity:1; fill:none\" points=\"\n  7454.75,1384.24 7454.75,1384.24 7480.1,1384.24 7454.75,1384.24 \n  \"/>\n<path clip-path=\"url(#clip782)\" d=\"\nM7480.1 1384.24 L7480.1 1384.24 L7505.46 1384.24 L7505.46 1384.24 L7480.1 1384.24 L7480.1 1384.24  Z\n  \" fill=\"#009af9\" fill-rule=\"evenodd\" fill-opacity=\"1\"/>\n<polyline clip-path=\"url(#clip782)\" style=\"stroke:#000000; stroke-width:4; stroke-opacity:1; fill:none\" points=\"\n  7480.1,1384.24 7480.1,1384.24 7505.46,1384.24 7480.1,1384.24 \n  \"/>\n<path clip-path=\"url(#clip782)\" d=\"\nM7505.46 1384.24 L7505.46 1384.24 L7530.82 1384.24 L7530.82 1384.24 L7505.46 1384.24 L7505.46 1384.24  Z\n  \" fill=\"#009af9\" fill-rule=\"evenodd\" fill-opacity=\"1\"/>\n<polyline clip-path=\"url(#clip782)\" style=\"stroke:#000000; stroke-width:4; stroke-opacity:1; fill:none\" points=\"\n  7505.46,1384.24 7505.46,1384.24 7530.82,1384.24 7505.46,1384.24 \n  \"/>\n<path clip-path=\"url(#clip782)\" d=\"\nM7530.82 1384.24 L7530.82 1384.24 L7556.18 1384.24 L7556.18 1384.24 L7530.82 1384.24 L7530.82 1384.24  Z\n  \" fill=\"#009af9\" fill-rule=\"evenodd\" fill-opacity=\"1\"/>\n<polyline clip-path=\"url(#clip782)\" style=\"stroke:#000000; stroke-width:4; stroke-opacity:1; fill:none\" points=\"\n  7530.82,1384.24 7530.82,1384.24 7556.18,1384.24 7530.82,1384.24 \n  \"/>\n<path clip-path=\"url(#clip782)\" d=\"\nM7556.18 1013.37 L7556.18 1384.24 L7581.53 1384.24 L7581.53 1013.37 L7556.18 1013.37 L7556.18 1013.37  Z\n  \" fill=\"#009af9\" fill-rule=\"evenodd\" fill-opacity=\"1\"/>\n<polyline clip-path=\"url(#clip782)\" style=\"stroke:#000000; stroke-width:4; stroke-opacity:1; fill:none\" points=\"\n  7556.18,1013.37 7556.18,1384.24 7581.53,1384.24 7581.53,1013.37 7556.18,1013.37 \n  \"/>\n<path clip-path=\"url(#clip782)\" d=\"\nM7581.53 1384.24 L7581.53 1384.24 L7606.89 1384.24 L7606.89 1384.24 L7581.53 1384.24 L7581.53 1384.24  Z\n  \" fill=\"#009af9\" fill-rule=\"evenodd\" fill-opacity=\"1\"/>\n<polyline clip-path=\"url(#clip782)\" style=\"stroke:#000000; stroke-width:4; stroke-opacity:1; fill:none\" points=\"\n  7581.53,1384.24 7581.53,1384.24 7606.89,1384.24 7581.53,1384.24 \n  \"/>\n<path clip-path=\"url(#clip782)\" d=\"\nM7606.89 1198.8 L7606.89 1384.24 L7632.25 1384.24 L7632.25 1198.8 L7606.89 1198.8 L7606.89 1198.8  Z\n  \" fill=\"#009af9\" fill-rule=\"evenodd\" fill-opacity=\"1\"/>\n<polyline clip-path=\"url(#clip782)\" style=\"stroke:#000000; stroke-width:4; stroke-opacity:1; fill:none\" points=\"\n  7606.89,1198.8 7606.89,1384.24 7632.25,1384.24 7632.25,1198.8 7606.89,1198.8 \n  \"/>\n<path clip-path=\"url(#clip782)\" d=\"\nM7632.25 1198.8 L7632.25 1384.24 L7657.61 1384.24 L7657.61 1198.8 L7632.25 1198.8 L7632.25 1198.8  Z\n  \" fill=\"#009af9\" fill-rule=\"evenodd\" fill-opacity=\"1\"/>\n<polyline clip-path=\"url(#clip782)\" style=\"stroke:#000000; stroke-width:4; stroke-opacity:1; fill:none\" points=\"\n  7632.25,1198.8 7632.25,1384.24 7657.61,1384.24 7657.61,1198.8 7632.25,1198.8 \n  \"/>\n<path clip-path=\"url(#clip782)\" d=\"\nM7657.61 1384.24 L7657.61 1384.24 L7682.96 1384.24 L7682.96 1384.24 L7657.61 1384.24 L7657.61 1384.24  Z\n  \" fill=\"#009af9\" fill-rule=\"evenodd\" fill-opacity=\"1\"/>\n<polyline clip-path=\"url(#clip782)\" style=\"stroke:#000000; stroke-width:4; stroke-opacity:1; fill:none\" points=\"\n  7657.61,1384.24 7657.61,1384.24 7682.96,1384.24 7657.61,1384.24 \n  \"/>\n<path clip-path=\"url(#clip782)\" d=\"\nM7682.96 1198.8 L7682.96 1384.24 L7708.32 1384.24 L7708.32 1198.8 L7682.96 1198.8 L7682.96 1198.8  Z\n  \" fill=\"#009af9\" fill-rule=\"evenodd\" fill-opacity=\"1\"/>\n<polyline clip-path=\"url(#clip782)\" style=\"stroke:#000000; stroke-width:4; stroke-opacity:1; fill:none\" points=\"\n  7682.96,1198.8 7682.96,1384.24 7708.32,1384.24 7708.32,1198.8 7682.96,1198.8 \n  \"/>\n<path clip-path=\"url(#clip782)\" d=\"\nM7708.32 1384.24 L7708.32 1384.24 L7733.68 1384.24 L7733.68 1384.24 L7708.32 1384.24 L7708.32 1384.24  Z\n  \" fill=\"#009af9\" fill-rule=\"evenodd\" fill-opacity=\"1\"/>\n<polyline clip-path=\"url(#clip782)\" style=\"stroke:#000000; stroke-width:4; stroke-opacity:1; fill:none\" points=\"\n  7708.32,1384.24 7708.32,1384.24 7733.68,1384.24 7708.32,1384.24 \n  \"/>\n<path clip-path=\"url(#clip782)\" d=\"\nM7733.68 1384.24 L7733.68 1384.24 L7759.04 1384.24 L7759.04 1384.24 L7733.68 1384.24 L7733.68 1384.24  Z\n  \" fill=\"#009af9\" fill-rule=\"evenodd\" fill-opacity=\"1\"/>\n<polyline clip-path=\"url(#clip782)\" style=\"stroke:#000000; stroke-width:4; stroke-opacity:1; fill:none\" points=\"\n  7733.68,1384.24 7733.68,1384.24 7759.04,1384.24 7733.68,1384.24 \n  \"/>\n<path clip-path=\"url(#clip782)\" d=\"\nM7759.04 1384.24 L7759.04 1384.24 L7784.39 1384.24 L7784.39 1384.24 L7759.04 1384.24 L7759.04 1384.24  Z\n  \" fill=\"#009af9\" fill-rule=\"evenodd\" fill-opacity=\"1\"/>\n<polyline clip-path=\"url(#clip782)\" style=\"stroke:#000000; stroke-width:4; stroke-opacity:1; fill:none\" points=\"\n  7759.04,1384.24 7759.04,1384.24 7784.39,1384.24 7759.04,1384.24 \n  \"/>\n<path clip-path=\"url(#clip782)\" d=\"\nM7784.39 1384.24 L7784.39 1384.24 L7809.75 1384.24 L7809.75 1384.24 L7784.39 1384.24 L7784.39 1384.24  Z\n  \" fill=\"#009af9\" fill-rule=\"evenodd\" fill-opacity=\"1\"/>\n<polyline clip-path=\"url(#clip782)\" style=\"stroke:#000000; stroke-width:4; stroke-opacity:1; fill:none\" points=\"\n  7784.39,1384.24 7784.39,1384.24 7809.75,1384.24 7784.39,1384.24 \n  \"/>\n<path clip-path=\"url(#clip782)\" d=\"\nM7809.75 1384.24 L7809.75 1384.24 L7835.11 1384.24 L7835.11 1384.24 L7809.75 1384.24 L7809.75 1384.24  Z\n  \" fill=\"#009af9\" fill-rule=\"evenodd\" fill-opacity=\"1\"/>\n<polyline clip-path=\"url(#clip782)\" style=\"stroke:#000000; stroke-width:4; stroke-opacity:1; fill:none\" points=\"\n  7809.75,1384.24 7809.75,1384.24 7835.11,1384.24 7809.75,1384.24 \n  \"/>\n<path clip-path=\"url(#clip782)\" d=\"\nM7835.11 1384.24 L7835.11 1384.24 L7860.47 1384.24 L7860.47 1384.24 L7835.11 1384.24 L7835.11 1384.24  Z\n  \" fill=\"#009af9\" fill-rule=\"evenodd\" fill-opacity=\"1\"/>\n<polyline clip-path=\"url(#clip782)\" style=\"stroke:#000000; stroke-width:4; stroke-opacity:1; fill:none\" points=\"\n  7835.11,1384.24 7835.11,1384.24 7860.47,1384.24 7835.11,1384.24 \n  \"/>\n<path clip-path=\"url(#clip782)\" d=\"\nM7860.47 1384.24 L7860.47 1384.24 L7885.82 1384.24 L7885.82 1384.24 L7860.47 1384.24 L7860.47 1384.24  Z\n  \" fill=\"#009af9\" fill-rule=\"evenodd\" fill-opacity=\"1\"/>\n<polyline clip-path=\"url(#clip782)\" style=\"stroke:#000000; stroke-width:4; stroke-opacity:1; fill:none\" points=\"\n  7860.47,1384.24 7860.47,1384.24 7885.82,1384.24 7860.47,1384.24 \n  \"/>\n<path clip-path=\"url(#clip782)\" d=\"\nM7885.82 1384.24 L7885.82 1384.24 L7911.18 1384.24 L7911.18 1384.24 L7885.82 1384.24 L7885.82 1384.24  Z\n  \" fill=\"#009af9\" fill-rule=\"evenodd\" fill-opacity=\"1\"/>\n<polyline clip-path=\"url(#clip782)\" style=\"stroke:#000000; stroke-width:4; stroke-opacity:1; fill:none\" points=\"\n  7885.82,1384.24 7885.82,1384.24 7911.18,1384.24 7885.82,1384.24 \n  \"/>\n<path clip-path=\"url(#clip782)\" d=\"\nM7911.18 1384.24 L7911.18 1384.24 L7936.54 1384.24 L7936.54 1384.24 L7911.18 1384.24 L7911.18 1384.24  Z\n  \" fill=\"#009af9\" fill-rule=\"evenodd\" fill-opacity=\"1\"/>\n<polyline clip-path=\"url(#clip782)\" style=\"stroke:#000000; stroke-width:4; stroke-opacity:1; fill:none\" points=\"\n  7911.18,1384.24 7911.18,1384.24 7936.54,1384.24 7911.18,1384.24 \n  \"/>\n<path clip-path=\"url(#clip782)\" d=\"\nM7936.54 1384.24 L7936.54 1384.24 L7961.9 1384.24 L7961.9 1384.24 L7936.54 1384.24 L7936.54 1384.24  Z\n  \" fill=\"#009af9\" fill-rule=\"evenodd\" fill-opacity=\"1\"/>\n<polyline clip-path=\"url(#clip782)\" style=\"stroke:#000000; stroke-width:4; stroke-opacity:1; fill:none\" points=\"\n  7936.54,1384.24 7936.54,1384.24 7961.9,1384.24 7936.54,1384.24 \n  \"/>\n<path clip-path=\"url(#clip782)\" d=\"\nM7961.9 1198.8 L7961.9 1384.24 L7987.25 1384.24 L7987.25 1198.8 L7961.9 1198.8 L7961.9 1198.8  Z\n  \" fill=\"#009af9\" fill-rule=\"evenodd\" fill-opacity=\"1\"/>\n<polyline clip-path=\"url(#clip782)\" style=\"stroke:#000000; stroke-width:4; stroke-opacity:1; fill:none\" points=\"\n  7961.9,1198.8 7961.9,1384.24 7987.25,1384.24 7987.25,1198.8 7961.9,1198.8 \n  \"/>\n<path clip-path=\"url(#clip782)\" d=\"\nM7987.25 1384.24 L7987.25 1384.24 L8012.61 1384.24 L8012.61 1384.24 L7987.25 1384.24 L7987.25 1384.24  Z\n  \" fill=\"#009af9\" fill-rule=\"evenodd\" fill-opacity=\"1\"/>\n<polyline clip-path=\"url(#clip782)\" style=\"stroke:#000000; stroke-width:4; stroke-opacity:1; fill:none\" points=\"\n  7987.25,1384.24 7987.25,1384.24 8012.61,1384.24 7987.25,1384.24 \n  \"/>\n<path clip-path=\"url(#clip782)\" d=\"\nM8012.61 1384.24 L8012.61 1384.24 L8037.97 1384.24 L8037.97 1384.24 L8012.61 1384.24 L8012.61 1384.24  Z\n  \" fill=\"#009af9\" fill-rule=\"evenodd\" fill-opacity=\"1\"/>\n<polyline clip-path=\"url(#clip782)\" style=\"stroke:#000000; stroke-width:4; stroke-opacity:1; fill:none\" points=\"\n  8012.61,1384.24 8012.61,1384.24 8037.97,1384.24 8012.61,1384.24 \n  \"/>\n<path clip-path=\"url(#clip782)\" d=\"\nM8037.97 1198.8 L8037.97 1384.24 L8063.33 1384.24 L8063.33 1198.8 L8037.97 1198.8 L8037.97 1198.8  Z\n  \" fill=\"#009af9\" fill-rule=\"evenodd\" fill-opacity=\"1\"/>\n<polyline clip-path=\"url(#clip782)\" style=\"stroke:#000000; stroke-width:4; stroke-opacity:1; fill:none\" points=\"\n  8037.97,1198.8 8037.97,1384.24 8063.33,1384.24 8063.33,1198.8 8037.97,1198.8 \n  \"/>\n<path clip-path=\"url(#clip782)\" d=\"\nM8063.33 1384.24 L8063.33 1384.24 L8088.68 1384.24 L8088.68 1384.24 L8063.33 1384.24 L8063.33 1384.24  Z\n  \" fill=\"#009af9\" fill-rule=\"evenodd\" fill-opacity=\"1\"/>\n<polyline clip-path=\"url(#clip782)\" style=\"stroke:#000000; stroke-width:4; stroke-opacity:1; fill:none\" points=\"\n  8063.33,1384.24 8063.33,1384.24 8088.68,1384.24 8063.33,1384.24 \n  \"/>\n<path clip-path=\"url(#clip782)\" d=\"\nM8088.68 1384.24 L8088.68 1384.24 L8114.04 1384.24 L8114.04 1384.24 L8088.68 1384.24 L8088.68 1384.24  Z\n  \" fill=\"#009af9\" fill-rule=\"evenodd\" fill-opacity=\"1\"/>\n<polyline clip-path=\"url(#clip782)\" style=\"stroke:#000000; stroke-width:4; stroke-opacity:1; fill:none\" points=\"\n  8088.68,1384.24 8088.68,1384.24 8114.04,1384.24 8088.68,1384.24 \n  \"/>\n<path clip-path=\"url(#clip782)\" d=\"\nM8114.04 1198.8 L8114.04 1384.24 L8139.4 1384.24 L8139.4 1198.8 L8114.04 1198.8 L8114.04 1198.8  Z\n  \" fill=\"#009af9\" fill-rule=\"evenodd\" fill-opacity=\"1\"/>\n<polyline clip-path=\"url(#clip782)\" style=\"stroke:#000000; stroke-width:4; stroke-opacity:1; fill:none\" points=\"\n  8114.04,1198.8 8114.04,1384.24 8139.4,1384.24 8139.4,1198.8 8114.04,1198.8 \n  \"/>\n<path clip-path=\"url(#clip782)\" d=\"\nM8139.4 1384.24 L8139.4 1384.24 L8164.76 1384.24 L8164.76 1384.24 L8139.4 1384.24 L8139.4 1384.24  Z\n  \" fill=\"#009af9\" fill-rule=\"evenodd\" fill-opacity=\"1\"/>\n<polyline clip-path=\"url(#clip782)\" style=\"stroke:#000000; stroke-width:4; stroke-opacity:1; fill:none\" points=\"\n  8139.4,1384.24 8139.4,1384.24 8164.76,1384.24 8139.4,1384.24 \n  \"/>\n<path clip-path=\"url(#clip782)\" d=\"\nM8164.76 1384.24 L8164.76 1384.24 L8190.11 1384.24 L8190.11 1384.24 L8164.76 1384.24 L8164.76 1384.24  Z\n  \" fill=\"#009af9\" fill-rule=\"evenodd\" fill-opacity=\"1\"/>\n<polyline clip-path=\"url(#clip782)\" style=\"stroke:#000000; stroke-width:4; stroke-opacity:1; fill:none\" points=\"\n  8164.76,1384.24 8164.76,1384.24 8190.11,1384.24 8164.76,1384.24 \n  \"/>\n<path clip-path=\"url(#clip782)\" d=\"\nM8190.11 1384.24 L8190.11 1384.24 L8215.47 1384.24 L8215.47 1384.24 L8190.11 1384.24 L8190.11 1384.24  Z\n  \" fill=\"#009af9\" fill-rule=\"evenodd\" fill-opacity=\"1\"/>\n<polyline clip-path=\"url(#clip782)\" style=\"stroke:#000000; stroke-width:4; stroke-opacity:1; fill:none\" points=\"\n  8190.11,1384.24 8190.11,1384.24 8215.47,1384.24 8190.11,1384.24 \n  \"/>\n<path clip-path=\"url(#clip782)\" d=\"\nM8215.47 1198.8 L8215.47 1384.24 L8240.83 1384.24 L8240.83 1198.8 L8215.47 1198.8 L8215.47 1198.8  Z\n  \" fill=\"#009af9\" fill-rule=\"evenodd\" fill-opacity=\"1\"/>\n<polyline clip-path=\"url(#clip782)\" style=\"stroke:#000000; stroke-width:4; stroke-opacity:1; fill:none\" points=\"\n  8215.47,1198.8 8215.47,1384.24 8240.83,1384.24 8240.83,1198.8 8215.47,1198.8 \n  \"/>\n<path clip-path=\"url(#clip782)\" d=\"\nM8240.83 1384.24 L8240.83 1384.24 L8266.18 1384.24 L8266.18 1384.24 L8240.83 1384.24 L8240.83 1384.24  Z\n  \" fill=\"#009af9\" fill-rule=\"evenodd\" fill-opacity=\"1\"/>\n<polyline clip-path=\"url(#clip782)\" style=\"stroke:#000000; stroke-width:4; stroke-opacity:1; fill:none\" points=\"\n  8240.83,1384.24 8240.83,1384.24 8266.18,1384.24 8240.83,1384.24 \n  \"/>\n<path clip-path=\"url(#clip782)\" d=\"\nM8266.18 1384.24 L8266.18 1384.24 L8291.54 1384.24 L8291.54 1384.24 L8266.18 1384.24 L8266.18 1384.24  Z\n  \" fill=\"#009af9\" fill-rule=\"evenodd\" fill-opacity=\"1\"/>\n<polyline clip-path=\"url(#clip782)\" style=\"stroke:#000000; stroke-width:4; stroke-opacity:1; fill:none\" points=\"\n  8266.18,1384.24 8266.18,1384.24 8291.54,1384.24 8266.18,1384.24 \n  \"/>\n<path clip-path=\"url(#clip782)\" d=\"\nM8291.54 1198.8 L8291.54 1384.24 L8316.9 1384.24 L8316.9 1198.8 L8291.54 1198.8 L8291.54 1198.8  Z\n  \" fill=\"#009af9\" fill-rule=\"evenodd\" fill-opacity=\"1\"/>\n<polyline clip-path=\"url(#clip782)\" style=\"stroke:#000000; stroke-width:4; stroke-opacity:1; fill:none\" points=\"\n  8291.54,1198.8 8291.54,1384.24 8316.9,1384.24 8316.9,1198.8 8291.54,1198.8 \n  \"/>\n<path clip-path=\"url(#clip782)\" d=\"\nM8316.9 1384.24 L8316.9 1384.24 L8342.26 1384.24 L8342.26 1384.24 L8316.9 1384.24 L8316.9 1384.24  Z\n  \" fill=\"#009af9\" fill-rule=\"evenodd\" fill-opacity=\"1\"/>\n<polyline clip-path=\"url(#clip782)\" style=\"stroke:#000000; stroke-width:4; stroke-opacity:1; fill:none\" points=\"\n  8316.9,1384.24 8316.9,1384.24 8342.26,1384.24 8316.9,1384.24 \n  \"/>\n<path clip-path=\"url(#clip782)\" d=\"\nM8342.26 1384.24 L8342.26 1384.24 L8367.61 1384.24 L8367.61 1384.24 L8342.26 1384.24 L8342.26 1384.24  Z\n  \" fill=\"#009af9\" fill-rule=\"evenodd\" fill-opacity=\"1\"/>\n<polyline clip-path=\"url(#clip782)\" style=\"stroke:#000000; stroke-width:4; stroke-opacity:1; fill:none\" points=\"\n  8342.26,1384.24 8342.26,1384.24 8367.61,1384.24 8342.26,1384.24 \n  \"/>\n<path clip-path=\"url(#clip782)\" d=\"\nM8367.61 1198.8 L8367.61 1384.24 L8392.97 1384.24 L8392.97 1198.8 L8367.61 1198.8 L8367.61 1198.8  Z\n  \" fill=\"#009af9\" fill-rule=\"evenodd\" fill-opacity=\"1\"/>\n<polyline clip-path=\"url(#clip782)\" style=\"stroke:#000000; stroke-width:4; stroke-opacity:1; fill:none\" points=\"\n  8367.61,1198.8 8367.61,1384.24 8392.97,1384.24 8392.97,1198.8 8367.61,1198.8 \n  \"/>\n<path clip-path=\"url(#clip782)\" d=\"\nM8392.97 1384.24 L8392.97 1384.24 L8418.33 1384.24 L8418.33 1384.24 L8392.97 1384.24 L8392.97 1384.24  Z\n  \" fill=\"#009af9\" fill-rule=\"evenodd\" fill-opacity=\"1\"/>\n<polyline clip-path=\"url(#clip782)\" style=\"stroke:#000000; stroke-width:4; stroke-opacity:1; fill:none\" points=\"\n  8392.97,1384.24 8392.97,1384.24 8418.33,1384.24 8392.97,1384.24 \n  \"/>\n<path clip-path=\"url(#clip782)\" d=\"\nM8418.33 1384.24 L8418.33 1384.24 L8443.69 1384.24 L8443.69 1384.24 L8418.33 1384.24 L8418.33 1384.24  Z\n  \" fill=\"#009af9\" fill-rule=\"evenodd\" fill-opacity=\"1\"/>\n<polyline clip-path=\"url(#clip782)\" style=\"stroke:#000000; stroke-width:4; stroke-opacity:1; fill:none\" points=\"\n  8418.33,1384.24 8418.33,1384.24 8443.69,1384.24 8418.33,1384.24 \n  \"/>\n<path clip-path=\"url(#clip782)\" d=\"\nM8443.69 1198.8 L8443.69 1384.24 L8469.04 1384.24 L8469.04 1198.8 L8443.69 1198.8 L8443.69 1198.8  Z\n  \" fill=\"#009af9\" fill-rule=\"evenodd\" fill-opacity=\"1\"/>\n<polyline clip-path=\"url(#clip782)\" style=\"stroke:#000000; stroke-width:4; stroke-opacity:1; fill:none\" points=\"\n  8443.69,1198.8 8443.69,1384.24 8469.04,1384.24 8469.04,1198.8 8443.69,1198.8 \n  \"/>\n<path clip-path=\"url(#clip782)\" d=\"\nM8469.04 1198.8 L8469.04 1384.24 L8494.4 1384.24 L8494.4 1198.8 L8469.04 1198.8 L8469.04 1198.8  Z\n  \" fill=\"#009af9\" fill-rule=\"evenodd\" fill-opacity=\"1\"/>\n<polyline clip-path=\"url(#clip782)\" style=\"stroke:#000000; stroke-width:4; stroke-opacity:1; fill:none\" points=\"\n  8469.04,1198.8 8469.04,1384.24 8494.4,1384.24 8494.4,1198.8 8469.04,1198.8 \n  \"/>\n<path clip-path=\"url(#clip782)\" d=\"\nM8494.4 1384.24 L8494.4 1384.24 L8519.76 1384.24 L8519.76 1384.24 L8494.4 1384.24 L8494.4 1384.24  Z\n  \" fill=\"#009af9\" fill-rule=\"evenodd\" fill-opacity=\"1\"/>\n<polyline clip-path=\"url(#clip782)\" style=\"stroke:#000000; stroke-width:4; stroke-opacity:1; fill:none\" points=\"\n  8494.4,1384.24 8494.4,1384.24 8519.76,1384.24 8494.4,1384.24 \n  \"/>\n<path clip-path=\"url(#clip782)\" d=\"\nM8519.76 1384.24 L8519.76 1384.24 L8545.12 1384.24 L8545.12 1384.24 L8519.76 1384.24 L8519.76 1384.24  Z\n  \" fill=\"#009af9\" fill-rule=\"evenodd\" fill-opacity=\"1\"/>\n<polyline clip-path=\"url(#clip782)\" style=\"stroke:#000000; stroke-width:4; stroke-opacity:1; fill:none\" points=\"\n  8519.76,1384.24 8519.76,1384.24 8545.12,1384.24 8519.76,1384.24 \n  \"/>\n<path clip-path=\"url(#clip782)\" d=\"\nM8545.12 1198.8 L8545.12 1384.24 L8570.47 1384.24 L8570.47 1198.8 L8545.12 1198.8 L8545.12 1198.8  Z\n  \" fill=\"#009af9\" fill-rule=\"evenodd\" fill-opacity=\"1\"/>\n<polyline clip-path=\"url(#clip782)\" style=\"stroke:#000000; stroke-width:4; stroke-opacity:1; fill:none\" points=\"\n  8545.12,1198.8 8545.12,1384.24 8570.47,1384.24 8570.47,1198.8 8545.12,1198.8 \n  \"/>\n<path clip-path=\"url(#clip782)\" d=\"\nM8570.47 1384.24 L8570.47 1384.24 L8595.83 1384.24 L8595.83 1384.24 L8570.47 1384.24 L8570.47 1384.24  Z\n  \" fill=\"#009af9\" fill-rule=\"evenodd\" fill-opacity=\"1\"/>\n<polyline clip-path=\"url(#clip782)\" style=\"stroke:#000000; stroke-width:4; stroke-opacity:1; fill:none\" points=\"\n  8570.47,1384.24 8570.47,1384.24 8595.83,1384.24 8570.47,1384.24 \n  \"/>\n<path clip-path=\"url(#clip782)\" d=\"\nM8595.83 1384.24 L8595.83 1384.24 L8621.19 1384.24 L8621.19 1384.24 L8595.83 1384.24 L8595.83 1384.24  Z\n  \" fill=\"#009af9\" fill-rule=\"evenodd\" fill-opacity=\"1\"/>\n<polyline clip-path=\"url(#clip782)\" style=\"stroke:#000000; stroke-width:4; stroke-opacity:1; fill:none\" points=\"\n  8595.83,1384.24 8595.83,1384.24 8621.19,1384.24 8595.83,1384.24 \n  \"/>\n<path clip-path=\"url(#clip782)\" d=\"\nM8621.19 1384.24 L8621.19 1384.24 L8646.55 1384.24 L8646.55 1384.24 L8621.19 1384.24 L8621.19 1384.24  Z\n  \" fill=\"#009af9\" fill-rule=\"evenodd\" fill-opacity=\"1\"/>\n<polyline clip-path=\"url(#clip782)\" style=\"stroke:#000000; stroke-width:4; stroke-opacity:1; fill:none\" points=\"\n  8621.19,1384.24 8621.19,1384.24 8646.55,1384.24 8621.19,1384.24 \n  \"/>\n<path clip-path=\"url(#clip782)\" d=\"\nM8646.55 1384.24 L8646.55 1384.24 L8671.9 1384.24 L8671.9 1384.24 L8646.55 1384.24 L8646.55 1384.24  Z\n  \" fill=\"#009af9\" fill-rule=\"evenodd\" fill-opacity=\"1\"/>\n<polyline clip-path=\"url(#clip782)\" style=\"stroke:#000000; stroke-width:4; stroke-opacity:1; fill:none\" points=\"\n  8646.55,1384.24 8646.55,1384.24 8671.9,1384.24 8646.55,1384.24 \n  \"/>\n<path clip-path=\"url(#clip782)\" d=\"\nM8671.9 1384.24 L8671.9 1384.24 L8697.26 1384.24 L8697.26 1384.24 L8671.9 1384.24 L8671.9 1384.24  Z\n  \" fill=\"#009af9\" fill-rule=\"evenodd\" fill-opacity=\"1\"/>\n<polyline clip-path=\"url(#clip782)\" style=\"stroke:#000000; stroke-width:4; stroke-opacity:1; fill:none\" points=\"\n  8671.9,1384.24 8671.9,1384.24 8697.26,1384.24 8671.9,1384.24 \n  \"/>\n<path clip-path=\"url(#clip782)\" d=\"\nM8697.26 1384.24 L8697.26 1384.24 L8722.62 1384.24 L8722.62 1384.24 L8697.26 1384.24 L8697.26 1384.24  Z\n  \" fill=\"#009af9\" fill-rule=\"evenodd\" fill-opacity=\"1\"/>\n<polyline clip-path=\"url(#clip782)\" style=\"stroke:#000000; stroke-width:4; stroke-opacity:1; fill:none\" points=\"\n  8697.26,1384.24 8697.26,1384.24 8722.62,1384.24 8697.26,1384.24 \n  \"/>\n<path clip-path=\"url(#clip782)\" d=\"\nM8722.62 1384.24 L8722.62 1384.24 L8747.98 1384.24 L8747.98 1384.24 L8722.62 1384.24 L8722.62 1384.24  Z\n  \" fill=\"#009af9\" fill-rule=\"evenodd\" fill-opacity=\"1\"/>\n<polyline clip-path=\"url(#clip782)\" style=\"stroke:#000000; stroke-width:4; stroke-opacity:1; fill:none\" points=\"\n  8722.62,1384.24 8722.62,1384.24 8747.98,1384.24 8722.62,1384.24 \n  \"/>\n<path clip-path=\"url(#clip782)\" d=\"\nM8747.98 1384.24 L8747.98 1384.24 L8773.33 1384.24 L8773.33 1384.24 L8747.98 1384.24 L8747.98 1384.24  Z\n  \" fill=\"#009af9\" fill-rule=\"evenodd\" fill-opacity=\"1\"/>\n<polyline clip-path=\"url(#clip782)\" style=\"stroke:#000000; stroke-width:4; stroke-opacity:1; fill:none\" points=\"\n  8747.98,1384.24 8747.98,1384.24 8773.33,1384.24 8747.98,1384.24 \n  \"/>\n<path clip-path=\"url(#clip782)\" d=\"\nM8773.33 1198.8 L8773.33 1384.24 L8798.69 1384.24 L8798.69 1198.8 L8773.33 1198.8 L8773.33 1198.8  Z\n  \" fill=\"#009af9\" fill-rule=\"evenodd\" fill-opacity=\"1\"/>\n<polyline clip-path=\"url(#clip782)\" style=\"stroke:#000000; stroke-width:4; stroke-opacity:1; fill:none\" points=\"\n  8773.33,1198.8 8773.33,1384.24 8798.69,1384.24 8798.69,1198.8 8773.33,1198.8 \n  \"/>\n<path clip-path=\"url(#clip782)\" d=\"\nM8798.69 1198.8 L8798.69 1384.24 L8824.05 1384.24 L8824.05 1198.8 L8798.69 1198.8 L8798.69 1198.8  Z\n  \" fill=\"#009af9\" fill-rule=\"evenodd\" fill-opacity=\"1\"/>\n<polyline clip-path=\"url(#clip782)\" style=\"stroke:#000000; stroke-width:4; stroke-opacity:1; fill:none\" points=\"\n  8798.69,1198.8 8798.69,1384.24 8824.05,1384.24 8824.05,1198.8 8798.69,1198.8 \n  \"/>\n<path clip-path=\"url(#clip782)\" d=\"\nM8824.05 1198.8 L8824.05 1384.24 L8849.41 1384.24 L8849.41 1198.8 L8824.05 1198.8 L8824.05 1198.8  Z\n  \" fill=\"#009af9\" fill-rule=\"evenodd\" fill-opacity=\"1\"/>\n<polyline clip-path=\"url(#clip782)\" style=\"stroke:#000000; stroke-width:4; stroke-opacity:1; fill:none\" points=\"\n  8824.05,1198.8 8824.05,1384.24 8849.41,1384.24 8849.41,1198.8 8824.05,1198.8 \n  \"/>\n<path clip-path=\"url(#clip782)\" d=\"\nM8849.41 1384.24 L8849.41 1384.24 L8874.76 1384.24 L8874.76 1384.24 L8849.41 1384.24 L8849.41 1384.24  Z\n  \" fill=\"#009af9\" fill-rule=\"evenodd\" fill-opacity=\"1\"/>\n<polyline clip-path=\"url(#clip782)\" style=\"stroke:#000000; stroke-width:4; stroke-opacity:1; fill:none\" points=\"\n  8849.41,1384.24 8849.41,1384.24 8874.76,1384.24 8849.41,1384.24 \n  \"/>\n<path clip-path=\"url(#clip782)\" d=\"\nM8874.76 1198.8 L8874.76 1384.24 L8900.12 1384.24 L8900.12 1198.8 L8874.76 1198.8 L8874.76 1198.8  Z\n  \" fill=\"#009af9\" fill-rule=\"evenodd\" fill-opacity=\"1\"/>\n<polyline clip-path=\"url(#clip782)\" style=\"stroke:#000000; stroke-width:4; stroke-opacity:1; fill:none\" points=\"\n  8874.76,1198.8 8874.76,1384.24 8900.12,1384.24 8900.12,1198.8 8874.76,1198.8 \n  \"/>\n<path clip-path=\"url(#clip782)\" d=\"\nM8900.12 1384.24 L8900.12 1384.24 L8925.48 1384.24 L8925.48 1384.24 L8900.12 1384.24 L8900.12 1384.24  Z\n  \" fill=\"#009af9\" fill-rule=\"evenodd\" fill-opacity=\"1\"/>\n<polyline clip-path=\"url(#clip782)\" style=\"stroke:#000000; stroke-width:4; stroke-opacity:1; fill:none\" points=\"\n  8900.12,1384.24 8900.12,1384.24 8925.48,1384.24 8900.12,1384.24 \n  \"/>\n<path clip-path=\"url(#clip782)\" d=\"\nM8925.48 1384.24 L8925.48 1384.24 L8950.84 1384.24 L8950.84 1384.24 L8925.48 1384.24 L8925.48 1384.24  Z\n  \" fill=\"#009af9\" fill-rule=\"evenodd\" fill-opacity=\"1\"/>\n<polyline clip-path=\"url(#clip782)\" style=\"stroke:#000000; stroke-width:4; stroke-opacity:1; fill:none\" points=\"\n  8925.48,1384.24 8925.48,1384.24 8950.84,1384.24 8925.48,1384.24 \n  \"/>\n<path clip-path=\"url(#clip782)\" d=\"\nM8950.84 1384.24 L8950.84 1384.24 L8976.19 1384.24 L8976.19 1384.24 L8950.84 1384.24 L8950.84 1384.24  Z\n  \" fill=\"#009af9\" fill-rule=\"evenodd\" fill-opacity=\"1\"/>\n<polyline clip-path=\"url(#clip782)\" style=\"stroke:#000000; stroke-width:4; stroke-opacity:1; fill:none\" points=\"\n  8950.84,1384.24 8950.84,1384.24 8976.19,1384.24 8950.84,1384.24 \n  \"/>\n<path clip-path=\"url(#clip782)\" d=\"\nM8976.19 1198.8 L8976.19 1384.24 L9001.55 1384.24 L9001.55 1198.8 L8976.19 1198.8 L8976.19 1198.8  Z\n  \" fill=\"#009af9\" fill-rule=\"evenodd\" fill-opacity=\"1\"/>\n<polyline clip-path=\"url(#clip782)\" style=\"stroke:#000000; stroke-width:4; stroke-opacity:1; fill:none\" points=\"\n  8976.19,1198.8 8976.19,1384.24 9001.55,1384.24 9001.55,1198.8 8976.19,1198.8 \n  \"/>\n<path clip-path=\"url(#clip782)\" d=\"\nM9001.55 1384.24 L9001.55 1384.24 L9026.91 1384.24 L9026.91 1384.24 L9001.55 1384.24 L9001.55 1384.24  Z\n  \" fill=\"#009af9\" fill-rule=\"evenodd\" fill-opacity=\"1\"/>\n<polyline clip-path=\"url(#clip782)\" style=\"stroke:#000000; stroke-width:4; stroke-opacity:1; fill:none\" points=\"\n  9001.55,1384.24 9001.55,1384.24 9026.91,1384.24 9001.55,1384.24 \n  \"/>\n<path clip-path=\"url(#clip782)\" d=\"\nM9026.91 1384.24 L9026.91 1384.24 L9052.27 1384.24 L9052.27 1384.24 L9026.91 1384.24 L9026.91 1384.24  Z\n  \" fill=\"#009af9\" fill-rule=\"evenodd\" fill-opacity=\"1\"/>\n<polyline clip-path=\"url(#clip782)\" style=\"stroke:#000000; stroke-width:4; stroke-opacity:1; fill:none\" points=\"\n  9026.91,1384.24 9026.91,1384.24 9052.27,1384.24 9026.91,1384.24 \n  \"/>\n<path clip-path=\"url(#clip782)\" d=\"\nM9052.27 1384.24 L9052.27 1384.24 L9077.62 1384.24 L9077.62 1384.24 L9052.27 1384.24 L9052.27 1384.24  Z\n  \" fill=\"#009af9\" fill-rule=\"evenodd\" fill-opacity=\"1\"/>\n<polyline clip-path=\"url(#clip782)\" style=\"stroke:#000000; stroke-width:4; stroke-opacity:1; fill:none\" points=\"\n  9052.27,1384.24 9052.27,1384.24 9077.62,1384.24 9052.27,1384.24 \n  \"/>\n<path clip-path=\"url(#clip782)\" d=\"\nM9077.62 1384.24 L9077.62 1384.24 L9102.98 1384.24 L9102.98 1384.24 L9077.62 1384.24 L9077.62 1384.24  Z\n  \" fill=\"#009af9\" fill-rule=\"evenodd\" fill-opacity=\"1\"/>\n<polyline clip-path=\"url(#clip782)\" style=\"stroke:#000000; stroke-width:4; stroke-opacity:1; fill:none\" points=\"\n  9077.62,1384.24 9077.62,1384.24 9102.98,1384.24 9077.62,1384.24 \n  \"/>\n<path clip-path=\"url(#clip782)\" d=\"\nM9102.98 1384.24 L9102.98 1384.24 L9128.34 1384.24 L9128.34 1384.24 L9102.98 1384.24 L9102.98 1384.24  Z\n  \" fill=\"#009af9\" fill-rule=\"evenodd\" fill-opacity=\"1\"/>\n<polyline clip-path=\"url(#clip782)\" style=\"stroke:#000000; stroke-width:4; stroke-opacity:1; fill:none\" points=\"\n  9102.98,1384.24 9102.98,1384.24 9128.34,1384.24 9102.98,1384.24 \n  \"/>\n<path clip-path=\"url(#clip782)\" d=\"\nM9128.34 1384.24 L9128.34 1384.24 L9153.7 1384.24 L9153.7 1384.24 L9128.34 1384.24 L9128.34 1384.24  Z\n  \" fill=\"#009af9\" fill-rule=\"evenodd\" fill-opacity=\"1\"/>\n<polyline clip-path=\"url(#clip782)\" style=\"stroke:#000000; stroke-width:4; stroke-opacity:1; fill:none\" points=\"\n  9128.34,1384.24 9128.34,1384.24 9153.7,1384.24 9128.34,1384.24 \n  \"/>\n<path clip-path=\"url(#clip782)\" d=\"\nM9153.7 1384.24 L9153.7 1384.24 L9179.05 1384.24 L9179.05 1384.24 L9153.7 1384.24 L9153.7 1384.24  Z\n  \" fill=\"#009af9\" fill-rule=\"evenodd\" fill-opacity=\"1\"/>\n<polyline clip-path=\"url(#clip782)\" style=\"stroke:#000000; stroke-width:4; stroke-opacity:1; fill:none\" points=\"\n  9153.7,1384.24 9153.7,1384.24 9179.05,1384.24 9153.7,1384.24 \n  \"/>\n<path clip-path=\"url(#clip782)\" d=\"\nM9179.05 1384.24 L9179.05 1384.24 L9204.41 1384.24 L9204.41 1384.24 L9179.05 1384.24 L9179.05 1384.24  Z\n  \" fill=\"#009af9\" fill-rule=\"evenodd\" fill-opacity=\"1\"/>\n<polyline clip-path=\"url(#clip782)\" style=\"stroke:#000000; stroke-width:4; stroke-opacity:1; fill:none\" points=\"\n  9179.05,1384.24 9179.05,1384.24 9204.41,1384.24 9179.05,1384.24 \n  \"/>\n<path clip-path=\"url(#clip782)\" d=\"\nM9204.41 1384.24 L9204.41 1384.24 L9229.77 1384.24 L9229.77 1384.24 L9204.41 1384.24 L9204.41 1384.24  Z\n  \" fill=\"#009af9\" fill-rule=\"evenodd\" fill-opacity=\"1\"/>\n<polyline clip-path=\"url(#clip782)\" style=\"stroke:#000000; stroke-width:4; stroke-opacity:1; fill:none\" points=\"\n  9204.41,1384.24 9204.41,1384.24 9229.77,1384.24 9204.41,1384.24 \n  \"/>\n<path clip-path=\"url(#clip782)\" d=\"\nM9229.77 1384.24 L9229.77 1384.24 L9255.13 1384.24 L9255.13 1384.24 L9229.77 1384.24 L9229.77 1384.24  Z\n  \" fill=\"#009af9\" fill-rule=\"evenodd\" fill-opacity=\"1\"/>\n<polyline clip-path=\"url(#clip782)\" style=\"stroke:#000000; stroke-width:4; stroke-opacity:1; fill:none\" points=\"\n  9229.77,1384.24 9229.77,1384.24 9255.13,1384.24 9229.77,1384.24 \n  \"/>\n<path clip-path=\"url(#clip782)\" d=\"\nM9255.13 1198.8 L9255.13 1384.24 L9280.48 1384.24 L9280.48 1198.8 L9255.13 1198.8 L9255.13 1198.8  Z\n  \" fill=\"#009af9\" fill-rule=\"evenodd\" fill-opacity=\"1\"/>\n<polyline clip-path=\"url(#clip782)\" style=\"stroke:#000000; stroke-width:4; stroke-opacity:1; fill:none\" points=\"\n  9255.13,1198.8 9255.13,1384.24 9280.48,1384.24 9280.48,1198.8 9255.13,1198.8 \n  \"/>\n<path clip-path=\"url(#clip782)\" d=\"\nM9280.48 1384.24 L9280.48 1384.24 L9305.84 1384.24 L9305.84 1384.24 L9280.48 1384.24 L9280.48 1384.24  Z\n  \" fill=\"#009af9\" fill-rule=\"evenodd\" fill-opacity=\"1\"/>\n<polyline clip-path=\"url(#clip782)\" style=\"stroke:#000000; stroke-width:4; stroke-opacity:1; fill:none\" points=\"\n  9280.48,1384.24 9280.48,1384.24 9305.84,1384.24 9280.48,1384.24 \n  \"/>\n<path clip-path=\"url(#clip782)\" d=\"\nM9305.84 1384.24 L9305.84 1384.24 L9331.2 1384.24 L9331.2 1384.24 L9305.84 1384.24 L9305.84 1384.24  Z\n  \" fill=\"#009af9\" fill-rule=\"evenodd\" fill-opacity=\"1\"/>\n<polyline clip-path=\"url(#clip782)\" style=\"stroke:#000000; stroke-width:4; stroke-opacity:1; fill:none\" points=\"\n  9305.84,1384.24 9305.84,1384.24 9331.2,1384.24 9305.84,1384.24 \n  \"/>\n<path clip-path=\"url(#clip782)\" d=\"\nM9331.2 1384.24 L9331.2 1384.24 L9356.56 1384.24 L9356.56 1384.24 L9331.2 1384.24 L9331.2 1384.24  Z\n  \" fill=\"#009af9\" fill-rule=\"evenodd\" fill-opacity=\"1\"/>\n<polyline clip-path=\"url(#clip782)\" style=\"stroke:#000000; stroke-width:4; stroke-opacity:1; fill:none\" points=\"\n  9331.2,1384.24 9331.2,1384.24 9356.56,1384.24 9331.2,1384.24 \n  \"/>\n<path clip-path=\"url(#clip782)\" d=\"\nM9356.56 1384.24 L9356.56 1384.24 L9381.91 1384.24 L9381.91 1384.24 L9356.56 1384.24 L9356.56 1384.24  Z\n  \" fill=\"#009af9\" fill-rule=\"evenodd\" fill-opacity=\"1\"/>\n<polyline clip-path=\"url(#clip782)\" style=\"stroke:#000000; stroke-width:4; stroke-opacity:1; fill:none\" points=\"\n  9356.56,1384.24 9356.56,1384.24 9381.91,1384.24 9356.56,1384.24 \n  \"/>\n<path clip-path=\"url(#clip782)\" d=\"\nM9381.91 1384.24 L9381.91 1384.24 L9407.27 1384.24 L9407.27 1384.24 L9381.91 1384.24 L9381.91 1384.24  Z\n  \" fill=\"#009af9\" fill-rule=\"evenodd\" fill-opacity=\"1\"/>\n<polyline clip-path=\"url(#clip782)\" style=\"stroke:#000000; stroke-width:4; stroke-opacity:1; fill:none\" points=\"\n  9381.91,1384.24 9381.91,1384.24 9407.27,1384.24 9381.91,1384.24 \n  \"/>\n<path clip-path=\"url(#clip782)\" d=\"\nM9407.27 1384.24 L9407.27 1384.24 L9432.63 1384.24 L9432.63 1384.24 L9407.27 1384.24 L9407.27 1384.24  Z\n  \" fill=\"#009af9\" fill-rule=\"evenodd\" fill-opacity=\"1\"/>\n<polyline clip-path=\"url(#clip782)\" style=\"stroke:#000000; stroke-width:4; stroke-opacity:1; fill:none\" points=\"\n  9407.27,1384.24 9407.27,1384.24 9432.63,1384.24 9407.27,1384.24 \n  \"/>\n<path clip-path=\"url(#clip782)\" d=\"\nM9432.63 1384.24 L9432.63 1384.24 L9457.99 1384.24 L9457.99 1384.24 L9432.63 1384.24 L9432.63 1384.24  Z\n  \" fill=\"#009af9\" fill-rule=\"evenodd\" fill-opacity=\"1\"/>\n<polyline clip-path=\"url(#clip782)\" style=\"stroke:#000000; stroke-width:4; stroke-opacity:1; fill:none\" points=\"\n  9432.63,1384.24 9432.63,1384.24 9457.99,1384.24 9432.63,1384.24 \n  \"/>\n<path clip-path=\"url(#clip782)\" d=\"\nM9457.99 1384.24 L9457.99 1384.24 L9483.34 1384.24 L9483.34 1384.24 L9457.99 1384.24 L9457.99 1384.24  Z\n  \" fill=\"#009af9\" fill-rule=\"evenodd\" fill-opacity=\"1\"/>\n<polyline clip-path=\"url(#clip782)\" style=\"stroke:#000000; stroke-width:4; stroke-opacity:1; fill:none\" points=\"\n  9457.99,1384.24 9457.99,1384.24 9483.34,1384.24 9457.99,1384.24 \n  \"/>\n<path clip-path=\"url(#clip782)\" d=\"\nM9483.34 1198.8 L9483.34 1384.24 L9508.7 1384.24 L9508.7 1198.8 L9483.34 1198.8 L9483.34 1198.8  Z\n  \" fill=\"#009af9\" fill-rule=\"evenodd\" fill-opacity=\"1\"/>\n<polyline clip-path=\"url(#clip782)\" style=\"stroke:#000000; stroke-width:4; stroke-opacity:1; fill:none\" points=\"\n  9483.34,1198.8 9483.34,1384.24 9508.7,1384.24 9508.7,1198.8 9483.34,1198.8 \n  \"/>\n<path clip-path=\"url(#clip782)\" d=\"\nM9508.7 1384.24 L9508.7 1384.24 L9534.06 1384.24 L9534.06 1384.24 L9508.7 1384.24 L9508.7 1384.24  Z\n  \" fill=\"#009af9\" fill-rule=\"evenodd\" fill-opacity=\"1\"/>\n<polyline clip-path=\"url(#clip782)\" style=\"stroke:#000000; stroke-width:4; stroke-opacity:1; fill:none\" points=\"\n  9508.7,1384.24 9508.7,1384.24 9534.06,1384.24 9508.7,1384.24 \n  \"/>\n<path clip-path=\"url(#clip782)\" d=\"\nM9534.06 1384.24 L9534.06 1384.24 L9559.42 1384.24 L9559.42 1384.24 L9534.06 1384.24 L9534.06 1384.24  Z\n  \" fill=\"#009af9\" fill-rule=\"evenodd\" fill-opacity=\"1\"/>\n<polyline clip-path=\"url(#clip782)\" style=\"stroke:#000000; stroke-width:4; stroke-opacity:1; fill:none\" points=\"\n  9534.06,1384.24 9534.06,1384.24 9559.42,1384.24 9534.06,1384.24 \n  \"/>\n<path clip-path=\"url(#clip782)\" d=\"\nM9559.42 1198.8 L9559.42 1384.24 L9584.77 1384.24 L9584.77 1198.8 L9559.42 1198.8 L9559.42 1198.8  Z\n  \" fill=\"#009af9\" fill-rule=\"evenodd\" fill-opacity=\"1\"/>\n<polyline clip-path=\"url(#clip782)\" style=\"stroke:#000000; stroke-width:4; stroke-opacity:1; fill:none\" points=\"\n  9559.42,1198.8 9559.42,1384.24 9584.77,1384.24 9584.77,1198.8 9559.42,1198.8 \n  \"/>\n<path clip-path=\"url(#clip782)\" d=\"\nM9584.77 1384.24 L9584.77 1384.24 L9610.13 1384.24 L9610.13 1384.24 L9584.77 1384.24 L9584.77 1384.24  Z\n  \" fill=\"#009af9\" fill-rule=\"evenodd\" fill-opacity=\"1\"/>\n<polyline clip-path=\"url(#clip782)\" style=\"stroke:#000000; stroke-width:4; stroke-opacity:1; fill:none\" points=\"\n  9584.77,1384.24 9584.77,1384.24 9610.13,1384.24 9584.77,1384.24 \n  \"/>\n<path clip-path=\"url(#clip782)\" d=\"\nM9610.13 1198.8 L9610.13 1384.24 L9635.49 1384.24 L9635.49 1198.8 L9610.13 1198.8 L9610.13 1198.8  Z\n  \" fill=\"#009af9\" fill-rule=\"evenodd\" fill-opacity=\"1\"/>\n<polyline clip-path=\"url(#clip782)\" style=\"stroke:#000000; stroke-width:4; stroke-opacity:1; fill:none\" points=\"\n  9610.13,1198.8 9610.13,1384.24 9635.49,1384.24 9635.49,1198.8 9610.13,1198.8 \n  \"/>\n<path clip-path=\"url(#clip782)\" d=\"\nM9635.49 1384.24 L9635.49 1384.24 L9660.84 1384.24 L9660.84 1384.24 L9635.49 1384.24 L9635.49 1384.24  Z\n  \" fill=\"#009af9\" fill-rule=\"evenodd\" fill-opacity=\"1\"/>\n<polyline clip-path=\"url(#clip782)\" style=\"stroke:#000000; stroke-width:4; stroke-opacity:1; fill:none\" points=\"\n  9635.49,1384.24 9635.49,1384.24 9660.84,1384.24 9635.49,1384.24 \n  \"/>\n<path clip-path=\"url(#clip782)\" d=\"\nM9660.84 1384.24 L9660.84 1384.24 L9686.2 1384.24 L9686.2 1384.24 L9660.84 1384.24 L9660.84 1384.24  Z\n  \" fill=\"#009af9\" fill-rule=\"evenodd\" fill-opacity=\"1\"/>\n<polyline clip-path=\"url(#clip782)\" style=\"stroke:#000000; stroke-width:4; stroke-opacity:1; fill:none\" points=\"\n  9660.84,1384.24 9660.84,1384.24 9686.2,1384.24 9660.84,1384.24 \n  \"/>\n<path clip-path=\"url(#clip782)\" d=\"\nM9686.2 1384.24 L9686.2 1384.24 L9711.56 1384.24 L9711.56 1384.24 L9686.2 1384.24 L9686.2 1384.24  Z\n  \" fill=\"#009af9\" fill-rule=\"evenodd\" fill-opacity=\"1\"/>\n<polyline clip-path=\"url(#clip782)\" style=\"stroke:#000000; stroke-width:4; stroke-opacity:1; fill:none\" points=\"\n  9686.2,1384.24 9686.2,1384.24 9711.56,1384.24 9686.2,1384.24 \n  \"/>\n<path clip-path=\"url(#clip782)\" d=\"\nM9711.56 1384.24 L9711.56 1384.24 L9736.92 1384.24 L9736.92 1384.24 L9711.56 1384.24 L9711.56 1384.24  Z\n  \" fill=\"#009af9\" fill-rule=\"evenodd\" fill-opacity=\"1\"/>\n<polyline clip-path=\"url(#clip782)\" style=\"stroke:#000000; stroke-width:4; stroke-opacity:1; fill:none\" points=\"\n  9711.56,1384.24 9711.56,1384.24 9736.92,1384.24 9711.56,1384.24 \n  \"/>\n<path clip-path=\"url(#clip782)\" d=\"\nM9736.92 1384.24 L9736.92 1384.24 L9762.27 1384.24 L9762.27 1384.24 L9736.92 1384.24 L9736.92 1384.24  Z\n  \" fill=\"#009af9\" fill-rule=\"evenodd\" fill-opacity=\"1\"/>\n<polyline clip-path=\"url(#clip782)\" style=\"stroke:#000000; stroke-width:4; stroke-opacity:1; fill:none\" points=\"\n  9736.92,1384.24 9736.92,1384.24 9762.27,1384.24 9736.92,1384.24 \n  \"/>\n<path clip-path=\"url(#clip782)\" d=\"\nM9762.27 1384.24 L9762.27 1384.24 L9787.63 1384.24 L9787.63 1384.24 L9762.27 1384.24 L9762.27 1384.24  Z\n  \" fill=\"#009af9\" fill-rule=\"evenodd\" fill-opacity=\"1\"/>\n<polyline clip-path=\"url(#clip782)\" style=\"stroke:#000000; stroke-width:4; stroke-opacity:1; fill:none\" points=\"\n  9762.27,1384.24 9762.27,1384.24 9787.63,1384.24 9762.27,1384.24 \n  \"/>\n<path clip-path=\"url(#clip782)\" d=\"\nM9787.63 1384.24 L9787.63 1384.24 L9812.99 1384.24 L9812.99 1384.24 L9787.63 1384.24 L9787.63 1384.24  Z\n  \" fill=\"#009af9\" fill-rule=\"evenodd\" fill-opacity=\"1\"/>\n<polyline clip-path=\"url(#clip782)\" style=\"stroke:#000000; stroke-width:4; stroke-opacity:1; fill:none\" points=\"\n  9787.63,1384.24 9787.63,1384.24 9812.99,1384.24 9787.63,1384.24 \n  \"/>\n<path clip-path=\"url(#clip782)\" d=\"\nM9812.99 1384.24 L9812.99 1384.24 L9838.35 1384.24 L9838.35 1384.24 L9812.99 1384.24 L9812.99 1384.24  Z\n  \" fill=\"#009af9\" fill-rule=\"evenodd\" fill-opacity=\"1\"/>\n<polyline clip-path=\"url(#clip782)\" style=\"stroke:#000000; stroke-width:4; stroke-opacity:1; fill:none\" points=\"\n  9812.99,1384.24 9812.99,1384.24 9838.35,1384.24 9812.99,1384.24 \n  \"/>\n<path clip-path=\"url(#clip782)\" d=\"\nM9838.35 1384.24 L9838.35 1384.24 L9863.7 1384.24 L9863.7 1384.24 L9838.35 1384.24 L9838.35 1384.24  Z\n  \" fill=\"#009af9\" fill-rule=\"evenodd\" fill-opacity=\"1\"/>\n<polyline clip-path=\"url(#clip782)\" style=\"stroke:#000000; stroke-width:4; stroke-opacity:1; fill:none\" points=\"\n  9838.35,1384.24 9838.35,1384.24 9863.7,1384.24 9838.35,1384.24 \n  \"/>\n<path clip-path=\"url(#clip782)\" d=\"\nM9863.7 1198.8 L9863.7 1384.24 L9889.06 1384.24 L9889.06 1198.8 L9863.7 1198.8 L9863.7 1198.8  Z\n  \" fill=\"#009af9\" fill-rule=\"evenodd\" fill-opacity=\"1\"/>\n<polyline clip-path=\"url(#clip782)\" style=\"stroke:#000000; stroke-width:4; stroke-opacity:1; fill:none\" points=\"\n  9863.7,1198.8 9863.7,1384.24 9889.06,1384.24 9889.06,1198.8 9863.7,1198.8 \n  \"/>\n<path clip-path=\"url(#clip782)\" d=\"\nM9889.06 1384.24 L9889.06 1384.24 L9914.42 1384.24 L9914.42 1384.24 L9889.06 1384.24 L9889.06 1384.24  Z\n  \" fill=\"#009af9\" fill-rule=\"evenodd\" fill-opacity=\"1\"/>\n<polyline clip-path=\"url(#clip782)\" style=\"stroke:#000000; stroke-width:4; stroke-opacity:1; fill:none\" points=\"\n  9889.06,1384.24 9889.06,1384.24 9914.42,1384.24 9889.06,1384.24 \n  \"/>\n<path clip-path=\"url(#clip782)\" d=\"\nM9914.42 1384.24 L9914.42 1384.24 L9939.78 1384.24 L9939.78 1384.24 L9914.42 1384.24 L9914.42 1384.24  Z\n  \" fill=\"#009af9\" fill-rule=\"evenodd\" fill-opacity=\"1\"/>\n<polyline clip-path=\"url(#clip782)\" style=\"stroke:#000000; stroke-width:4; stroke-opacity:1; fill:none\" points=\"\n  9914.42,1384.24 9914.42,1384.24 9939.78,1384.24 9914.42,1384.24 \n  \"/>\n<path clip-path=\"url(#clip782)\" d=\"\nM9939.78 1384.24 L9939.78 1384.24 L9965.13 1384.24 L9965.13 1384.24 L9939.78 1384.24 L9939.78 1384.24  Z\n  \" fill=\"#009af9\" fill-rule=\"evenodd\" fill-opacity=\"1\"/>\n<polyline clip-path=\"url(#clip782)\" style=\"stroke:#000000; stroke-width:4; stroke-opacity:1; fill:none\" points=\"\n  9939.78,1384.24 9939.78,1384.24 9965.13,1384.24 9939.78,1384.24 \n  \"/>\n<path clip-path=\"url(#clip782)\" d=\"\nM9965.13 1384.24 L9965.13 1384.24 L9990.49 1384.24 L9990.49 1384.24 L9965.13 1384.24 L9965.13 1384.24  Z\n  \" fill=\"#009af9\" fill-rule=\"evenodd\" fill-opacity=\"1\"/>\n<polyline clip-path=\"url(#clip782)\" style=\"stroke:#000000; stroke-width:4; stroke-opacity:1; fill:none\" points=\"\n  9965.13,1384.24 9965.13,1384.24 9990.49,1384.24 9965.13,1384.24 \n  \"/>\n<path clip-path=\"url(#clip782)\" d=\"\nM9990.49 1384.24 L9990.49 1384.24 L10015.8 1384.24 L10015.8 1384.24 L9990.49 1384.24 L9990.49 1384.24  Z\n  \" fill=\"#009af9\" fill-rule=\"evenodd\" fill-opacity=\"1\"/>\n<polyline clip-path=\"url(#clip782)\" style=\"stroke:#000000; stroke-width:4; stroke-opacity:1; fill:none\" points=\"\n  9990.49,1384.24 9990.49,1384.24 10015.8,1384.24 9990.49,1384.24 \n  \"/>\n<path clip-path=\"url(#clip782)\" d=\"\nM10015.8 1384.24 L10015.8 1384.24 L10041.2 1384.24 L10041.2 1384.24 L10015.8 1384.24 L10015.8 1384.24  Z\n  \" fill=\"#009af9\" fill-rule=\"evenodd\" fill-opacity=\"1\"/>\n<polyline clip-path=\"url(#clip782)\" style=\"stroke:#000000; stroke-width:4; stroke-opacity:1; fill:none\" points=\"\n  10015.8,1384.24 10015.8,1384.24 10041.2,1384.24 10015.8,1384.24 \n  \"/>\n<path clip-path=\"url(#clip782)\" d=\"\nM10041.2 1198.8 L10041.2 1384.24 L10066.6 1384.24 L10066.6 1198.8 L10041.2 1198.8 L10041.2 1198.8  Z\n  \" fill=\"#009af9\" fill-rule=\"evenodd\" fill-opacity=\"1\"/>\n<polyline clip-path=\"url(#clip782)\" style=\"stroke:#000000; stroke-width:4; stroke-opacity:1; fill:none\" points=\"\n  10041.2,1198.8 10041.2,1384.24 10066.6,1384.24 10066.6,1198.8 10041.2,1198.8 \n  \"/>\n</svg>\n"
     },
     "metadata": {},
     "execution_count": 18
    }
   ],
   "cell_type": "code",
   "source": [
    "using Statistics # bring in statistical support for standard deviations\n",
    "t = c_bench.times / 1e6 # times in milliseconds\n",
    "m, σ = minimum(t), std(t)\n",
    "\n",
    "histogram(t, bins=500,\n",
    "    xlim=(m - 0.01, m + σ),\n",
    "    xlabel=\"milliseconds\", ylabel=\"count\", label=\"\")\n",
    "# # 2. C with -ffast-math"
   ],
   "metadata": {},
   "execution_count": 18
  },
  {
   "outputs": [
    {
     "output_type": "execute_result",
     "data": {
      "text/plain": [
       "c_sum_fastmath (generic function with 1 method)"
      ]
     },
     "metadata": {},
     "execution_count": 19
    }
   ],
   "cell_type": "code",
   "source": [
    "# If we allow C to re-arrange the floating point operations, then it'll vectorize with SIMD (single instruction, multiple data) instructions.\n",
    "const Clib_fastmath = tempname()   # make a temporary file\n",
    "\n",
    "# The same as above but with a -ffast-math flag added\n",
    "open(`gcc -fPIC -O3 -msse3 -xc -shared -ffast-math -o $(Clib_fastmath * \".\" * Libdl.dlext) -`, \"w\") do f\n",
    "    print(f, C_code)\n",
    "end\n",
    "\n",
    "# define a Julia function that calls the C function:\n",
    "c_sum_fastmath(X::Array{Float64}) = ccall((\"c_sum\", Clib_fastmath), Float64, (Csize_t, Ptr{Float64}), length(X), X)"
   ],
   "metadata": {},
   "execution_count": 19
  },
  {
   "outputs": [
    {
     "output_type": "execute_result",
     "data": {
      "text/plain": [
       "BenchmarkTools.Trial: \n",
       "  memory estimate:  0 bytes\n",
       "  allocs estimate:  0\n",
       "  --------------\n",
       "  minimum time:     5.757 ms (0.00% GC)\n",
       "  median time:      6.397 ms (0.00% GC)\n",
       "  mean time:        6.602 ms (0.00% GC)\n",
       "  maximum time:     9.545 ms (0.00% GC)\n",
       "  --------------\n",
       "  samples:          758\n",
       "  evals/sample:     1"
      ]
     },
     "metadata": {},
     "execution_count": 20
    }
   ],
   "cell_type": "code",
   "source": [
    "c_fastmath_bench = @benchmark $c_sum_fastmath($a)"
   ],
   "metadata": {},
   "execution_count": 20
  },
  {
   "outputs": [
    {
     "output_type": "execute_result",
     "data": {
      "text/plain": [
       "5.756601"
      ]
     },
     "metadata": {},
     "execution_count": 21
    }
   ],
   "cell_type": "code",
   "source": [
    "d[\"C -ffast-math\"] = minimum(c_fastmath_bench.times) / 1e6  # in milliseconds"
   ],
   "metadata": {},
   "execution_count": 21
  },
  {
   "cell_type": "markdown",
   "source": [
    "# 3. Python's built in `sum`"
   ],
   "metadata": {}
  },
  {
   "cell_type": "markdown",
   "source": [
    "The `PyCall` package provides a Julia interface to Python:"
   ],
   "metadata": {}
  },
  {
   "outputs": [
    {
     "output_type": "stream",
     "name": "stderr",
     "text": [
      "\u001b[32m\u001b[1m   Updating\u001b[22m\u001b[39m registry at `~/.julia/registries/General`\n",
      "######################################################################### 100.0%\n",
      "\u001b[32m\u001b[1m   Updating\u001b[22m\u001b[39m registry at `~/.julia/registries/JuliaComputingRegistry`\n",
      "\u001b[32m\u001b[1m  Resolving\u001b[22m\u001b[39m package versions...\n",
      "\u001b[32m\u001b[1m  Installed\u001b[22m\u001b[39m PyCall ─ v1.92.1\n",
      "\u001b[32m\u001b[1mUpdating\u001b[22m\u001b[39m `~/.julia/environments/JuliaPro_v1.5.2-1/Project.toml`\n",
      " \u001b[90m [438e738f] \u001b[39m\u001b[92m+ PyCall v1.92.1\u001b[39m\n",
      "\u001b[32m\u001b[1mUpdating\u001b[22m\u001b[39m `~/.julia/environments/JuliaPro_v1.5.2-1/Manifest.toml`\n",
      " \u001b[90m [438e738f] \u001b[39m\u001b[92m+ PyCall v1.92.1\u001b[39m\n",
      "\u001b[32m\u001b[1m   Building\u001b[22m\u001b[39m PyCall → `~/.julia/packages/PyCall/BcTLp/deps/build.log`\n",
      "┌ Info: Precompiling PyCall [438e738f-606a-5dbb-bf0a-cddfbfd45ab0]\n",
      "└ @ Base loading.jl:1278\n"
     ]
    }
   ],
   "cell_type": "code",
   "source": [
    "# using Pkg; Pkg.add(\"PyCall\")\n",
    "using PyCall"
   ],
   "metadata": {},
   "execution_count": 23
  },
  {
   "outputs": [
    {
     "output_type": "execute_result",
     "data": {
      "text/plain": [
       "PyObject <built-in function sum>"
      ]
     },
     "metadata": {},
     "execution_count": 24
    }
   ],
   "cell_type": "code",
   "source": [
    "# get the Python built-in \"sum\" function:\n",
    "pysum = pybuiltin(\"sum\")"
   ],
   "metadata": {},
   "execution_count": 24
  },
  {
   "outputs": [
    {
     "output_type": "execute_result",
     "data": {
      "text/plain": [
       "5.000528563285782e6"
      ]
     },
     "metadata": {},
     "execution_count": 25
    }
   ],
   "cell_type": "code",
   "source": [
    "pysum(a)"
   ],
   "metadata": {},
   "execution_count": 25
  },
  {
   "outputs": [
    {
     "output_type": "execute_result",
     "data": {
      "text/plain": [
       "true"
      ]
     },
     "metadata": {},
     "execution_count": 26
    }
   ],
   "cell_type": "code",
   "source": [
    "pysum(a) ≈ sum(a)"
   ],
   "metadata": {},
   "execution_count": 26
  },
  {
   "outputs": [
    {
     "output_type": "execute_result",
     "data": {
      "text/plain": [
       "BenchmarkTools.Trial: \n",
       "  memory estimate:  336 bytes\n",
       "  allocs estimate:  6\n",
       "  --------------\n",
       "  minimum time:     1.365 s (0.00% GC)\n",
       "  median time:      1.378 s (0.00% GC)\n",
       "  mean time:        1.391 s (0.00% GC)\n",
       "  maximum time:     1.443 s (0.00% GC)\n",
       "  --------------\n",
       "  samples:          4\n",
       "  evals/sample:     1"
      ]
     },
     "metadata": {},
     "execution_count": 27
    }
   ],
   "cell_type": "code",
   "source": [
    "py_list_bench = @benchmark $pysum($a)"
   ],
   "metadata": {},
   "execution_count": 27
  },
  {
   "outputs": [
    {
     "output_type": "execute_result",
     "data": {
      "text/plain": [
       "Dict{Any,Any} with 3 entries:\n",
       "  \"C\"               => 10.5293\n",
       "  \"Python built-in\" => 1364.82\n",
       "  \"C -ffast-math\"   => 5.7566"
      ]
     },
     "metadata": {},
     "execution_count": 28
    }
   ],
   "cell_type": "code",
   "source": [
    "d[\"Python built-in\"] = minimum(py_list_bench.times) / 1e6\n",
    "d"
   ],
   "metadata": {},
   "execution_count": 28
  },
  {
   "cell_type": "markdown",
   "source": [
    "# 4. Python: `numpy`\n",
    "\n",
    "## Takes advantage of hardware \"SIMD\", but only works when it works.\n",
    "\n",
    "`numpy` is an optimized C library, callable from Python.\n",
    "It may be installed within Julia as follows:"
   ],
   "metadata": {}
  },
  {
   "outputs": [
    {
     "output_type": "stream",
     "name": "stderr",
     "text": [
      "\u001b[32m\u001b[1m  Resolving\u001b[22m\u001b[39m package versions...\n",
      "\u001b[32m\u001b[1mUpdating\u001b[22m\u001b[39m `~/.julia/environments/JuliaPro_v1.5.2-1/Project.toml`\n",
      " \u001b[90m [8f4d0f93] \u001b[39m\u001b[92m+ Conda v1.5.0\u001b[39m\n",
      "\u001b[32m\u001b[1mNo Changes\u001b[22m\u001b[39m to `~/.julia/environments/JuliaPro_v1.5.2-1/Manifest.toml`\n"
     ]
    }
   ],
   "cell_type": "code",
   "source": [
    "# using Pkg; Pkg.add(\"Conda\")\n",
    "using Conda"
   ],
   "metadata": {},
   "execution_count": 29
  },
  {
   "outputs": [
    {
     "output_type": "stream",
     "name": "stderr",
     "text": [
      "┌ Info: Downloading miniconda installer ...\n",
      "└ @ Conda /home/jake/.julia/packages/Conda/x5ml4/src/Conda.jl:158\n",
      "┌ Info: Installing miniconda ...\n",
      "└ @ Conda /home/jake/.julia/packages/Conda/x5ml4/src/Conda.jl:168\n",
      "PREFIX=/home/jake/.julia/conda/3\n",
      "Unpacking payload ...\n",
      "Collecting package metadata (current_repodata.json): ...working... done\n",
      "Solving environment: ...working... done\n",
      "\n",
      "## Package Plan ##\n",
      "\n",
      "  environment location: /home/jake/.julia/conda/3\n",
      "\n",
      "  added / updated specs:\n",
      "    - _libgcc_mutex==0.1=main\n",
      "    - brotlipy==0.7.0=py38h27cfd23_1003\n",
      "    - ca-certificates==2020.10.14=0\n",
      "    - certifi==2020.6.20=pyhd3eb1b0_3\n",
      "    - cffi==1.14.3=py38h261ae71_2\n",
      "    - chardet==3.0.4=py38h06a4308_1003\n",
      "    - conda-package-handling==1.7.2=py38h03888b9_0\n",
      "    - conda==4.9.2=py38h06a4308_0\n",
      "    - cryptography==3.2.1=py38h3c74f83_1\n",
      "    - idna==2.10=py_0\n",
      "    - ld_impl_linux-64==2.33.1=h53a641e_7\n",
      "    - libedit==3.1.20191231=h14c3975_1\n",
      "    - libffi==3.3=he6710b0_2\n",
      "    - libgcc-ng==9.1.0=hdf63c60_0\n",
      "    - libstdcxx-ng==9.1.0=hdf63c60_0\n",
      "    - ncurses==6.2=he6710b0_1\n",
      "    - openssl==1.1.1h=h7b6447c_0\n",
      "    - pip==20.2.4=py38h06a4308_0\n",
      "    - pycosat==0.6.3=py38h7b6447c_1\n",
      "    - pycparser==2.20=py_2\n",
      "    - pyopenssl==19.1.0=pyhd3eb1b0_1\n",
      "    - pysocks==1.7.1=py38h06a4308_0\n",
      "    - python==3.8.5=h7579374_1\n",
      "    - readline==8.0=h7b6447c_0\n",
      "    - requests==2.24.0=py_0\n",
      "    - ruamel_yaml==0.15.87=py38h7b6447c_1\n",
      "    - setuptools==50.3.1=py38h06a4308_1\n",
      "    - six==1.15.0=py38h06a4308_0\n",
      "    - sqlite==3.33.0=h62c20be_0\n",
      "    - tk==8.6.10=hbc83047_0\n",
      "    - tqdm==4.51.0=pyhd3eb1b0_0\n",
      "    - urllib3==1.25.11=py_0\n",
      "    - wheel==0.35.1=pyhd3eb1b0_0\n",
      "    - xz==5.2.5=h7b6447c_0\n",
      "    - yaml==0.2.5=h7b6447c_0\n",
      "    - zlib==1.2.11=h7b6447c_3\n",
      "\n",
      "\n",
      "The following NEW packages will be INSTALLED:\n",
      "\n",
      "  _libgcc_mutex      pkgs/main/linux-64::_libgcc_mutex-0.1-main\n",
      "  brotlipy           pkgs/main/linux-64::brotlipy-0.7.0-py38h27cfd23_1003\n",
      "  ca-certificates    pkgs/main/linux-64::ca-certificates-2020.10.14-0\n",
      "  certifi            pkgs/main/noarch::certifi-2020.6.20-pyhd3eb1b0_3\n",
      "  cffi               pkgs/main/linux-64::cffi-1.14.3-py38h261ae71_2\n",
      "  chardet            pkgs/main/linux-64::chardet-3.0.4-py38h06a4308_1003\n",
      "  conda              pkgs/main/linux-64::conda-4.9.2-py38h06a4308_0\n",
      "  conda-package-han~ pkgs/main/linux-64::conda-package-handling-1.7.2-py38h03888b9_0\n",
      "  cryptography       pkgs/main/linux-64::cryptography-3.2.1-py38h3c74f83_1\n",
      "  idna               pkgs/main/noarch::idna-2.10-py_0\n",
      "  ld_impl_linux-64   pkgs/main/linux-64::ld_impl_linux-64-2.33.1-h53a641e_7\n",
      "  libedit            pkgs/main/linux-64::libedit-3.1.20191231-h14c3975_1\n",
      "  libffi             pkgs/main/linux-64::libffi-3.3-he6710b0_2\n",
      "  libgcc-ng          pkgs/main/linux-64::libgcc-ng-9.1.0-hdf63c60_0\n",
      "  libstdcxx-ng       pkgs/main/linux-64::libstdcxx-ng-9.1.0-hdf63c60_0\n",
      "  ncurses            pkgs/main/linux-64::ncurses-6.2-he6710b0_1\n",
      "  openssl            pkgs/main/linux-64::openssl-1.1.1h-h7b6447c_0\n",
      "  pip                pkgs/main/linux-64::pip-20.2.4-py38h06a4308_0\n",
      "  pycosat            pkgs/main/linux-64::pycosat-0.6.3-py38h7b6447c_1\n",
      "  pycparser          pkgs/main/noarch::pycparser-2.20-py_2\n",
      "  pyopenssl          pkgs/main/noarch::pyopenssl-19.1.0-pyhd3eb1b0_1\n",
      "  pysocks            pkgs/main/linux-64::pysocks-1.7.1-py38h06a4308_0\n",
      "  python             pkgs/main/linux-64::python-3.8.5-h7579374_1\n",
      "  readline           pkgs/main/linux-64::readline-8.0-h7b6447c_0\n",
      "  requests           pkgs/main/noarch::requests-2.24.0-py_0\n",
      "  ruamel_yaml        pkgs/main/linux-64::ruamel_yaml-0.15.87-py38h7b6447c_1\n",
      "  setuptools         pkgs/main/linux-64::setuptools-50.3.1-py38h06a4308_1\n",
      "  six                pkgs/main/linux-64::six-1.15.0-py38h06a4308_0\n",
      "  sqlite             pkgs/main/linux-64::sqlite-3.33.0-h62c20be_0\n",
      "  tk                 pkgs/main/linux-64::tk-8.6.10-hbc83047_0\n",
      "  tqdm               pkgs/main/noarch::tqdm-4.51.0-pyhd3eb1b0_0\n",
      "  urllib3            pkgs/main/noarch::urllib3-1.25.11-py_0\n",
      "  wheel              pkgs/main/noarch::wheel-0.35.1-pyhd3eb1b0_0\n",
      "  xz                 pkgs/main/linux-64::xz-5.2.5-h7b6447c_0\n",
      "  yaml               pkgs/main/linux-64::yaml-0.2.5-h7b6447c_0\n",
      "  zlib               pkgs/main/linux-64::zlib-1.2.11-h7b6447c_3\n",
      "\n",
      "\n",
      "Preparing transaction: ...working... done\n",
      "Executing transaction: ...working... done\n",
      "installation finished.\n",
      "WARNING:\n",
      "    You currently have a PYTHONPATH environment variable set. This may cause\n",
      "    unexpected behavior when running the Python interpreter in Miniconda3.\n",
      "    For best results, please verify that your PYTHONPATH only points to\n",
      "    directories of packages that are compatible with the Python interpreter\n",
      "    in Miniconda3: /home/jake/.julia/conda/3\n",
      "┌ Info: Running `conda config --add channels defaults --file /home/jake/.julia/conda/3/condarc-julia.yml --force` in root environment\n",
      "└ @ Conda /home/jake/.julia/packages/Conda/x5ml4/src/Conda.jl:115\n",
      "Warning: 'defaults' already in 'channels' list, moving to the top\n",
      "┌ Info: Running `conda update -y conda` in root environment\n",
      "└ @ Conda /home/jake/.julia/packages/Conda/x5ml4/src/Conda.jl:115\n",
      "Collecting package metadata (current_repodata.json): ...working... done\n",
      "Solving environment: ...working... done\n",
      "\n",
      "## Package Plan ##\n",
      "\n",
      "  environment location: /home/jake/.julia/conda/3\n",
      "\n",
      "  added / updated specs:\n",
      "    - conda\n",
      "\n",
      "\n",
      "The following packages will be downloaded:\n",
      "\n",
      "    package                    |            build\n",
      "    ---------------------------|-----------------\n",
      "    certifi-2020.11.8          |   py38h06a4308_0         147 KB\n",
      "    cffi-1.14.4                |   py38h261ae71_0         226 KB\n",
      "    pip-20.3                   |   py38h06a4308_0         1.8 MB\n",
      "    pyopenssl-20.0.0           |     pyhd3eb1b0_1          49 KB\n",
      "    requests-2.25.0            |     pyhd3eb1b0_0          52 KB\n",
      "    setuptools-50.3.2          |   py38h06a4308_2         714 KB\n",
      "    tqdm-4.54.0                |     pyhd3eb1b0_0          55 KB\n",
      "    wheel-0.36.0               |     pyhd3eb1b0_0          32 KB\n",
      "    ------------------------------------------------------------\n",
      "                                           Total:         3.0 MB\n",
      "\n",
      "The following packages will be UPDATED:\n",
      "\n",
      "  certifi            pkgs/main/noarch::certifi-2020.6.20-p~ --> pkgs/main/linux-64::certifi-2020.11.8-py38h06a4308_0\n",
      "  cffi                                1.14.3-py38h261ae71_2 --> 1.14.4-py38h261ae71_0\n",
      "  pip                                 20.2.4-py38h06a4308_0 --> 20.3-py38h06a4308_0\n",
      "  pyopenssl                             19.1.0-pyhd3eb1b0_1 --> 20.0.0-pyhd3eb1b0_1\n",
      "  requests                                      2.24.0-py_0 --> 2.25.0-pyhd3eb1b0_0\n",
      "  setuptools                          50.3.1-py38h06a4308_1 --> 50.3.2-py38h06a4308_2\n",
      "  tqdm                                  4.51.0-pyhd3eb1b0_0 --> 4.54.0-pyhd3eb1b0_0\n",
      "  wheel                                 0.35.1-pyhd3eb1b0_0 --> 0.36.0-pyhd3eb1b0_0\n",
      "\n",
      "\n",
      "\n",
      "Downloading and Extracting Packages\n",
      "pyopenssl-20.0.0     | 49 KB     | #################################### | 100% \n",
      "tqdm-4.54.0          | 55 KB     | #################################### | 100% \n",
      "wheel-0.36.0         | 32 KB     | #################################### | 100% \n",
      "cffi-1.14.4          | 226 KB    | #################################### | 100% \n",
      "certifi-2020.11.8    | 147 KB    | #################################### | 100% \n",
      "requests-2.25.0      | 52 KB     | #################################### | 100% \n",
      "pip-20.3             | 1.8 MB    | #################################### | 100% \n",
      "setuptools-50.3.2    | 714 KB    | #################################### | 100% \n",
      "Preparing transaction: ...working... done\n",
      "Verifying transaction: ...working... done\n",
      "Executing transaction: ...working... done\n",
      "┌ Info: Running `conda install -y numpy` in root environment\n",
      "└ @ Conda /home/jake/.julia/packages/Conda/x5ml4/src/Conda.jl:115\n",
      "Collecting package metadata (current_repodata.json): ...working... done\n",
      "Solving environment: ...working... done\n",
      "\n",
      "## Package Plan ##\n",
      "\n",
      "  environment location: /home/jake/.julia/conda/3\n",
      "\n",
      "  added / updated specs:\n",
      "    - numpy\n",
      "\n",
      "\n",
      "The following packages will be downloaded:\n",
      "\n",
      "    package                    |            build\n",
      "    ---------------------------|-----------------\n",
      "    blas-1.0                   |              mkl           6 KB\n",
      "    intel-openmp-2020.2        |              254         786 KB\n",
      "    mkl-2020.2                 |              256       138.3 MB\n",
      "    mkl-service-2.3.0          |   py38he904b0f_0          62 KB\n",
      "    mkl_fft-1.2.0              |   py38h23d657b_0         157 KB\n",
      "    mkl_random-1.1.1           |   py38h0573a6f_0         341 KB\n",
      "    numpy-1.19.2               |   py38h54aff64_0          22 KB\n",
      "    numpy-base-1.19.2          |   py38hfa32c7d_0         4.2 MB\n",
      "    ------------------------------------------------------------\n",
      "                                           Total:       143.8 MB\n",
      "\n",
      "The following NEW packages will be INSTALLED:\n",
      "\n",
      "  blas               pkgs/main/linux-64::blas-1.0-mkl\n",
      "  intel-openmp       pkgs/main/linux-64::intel-openmp-2020.2-254\n",
      "  mkl                pkgs/main/linux-64::mkl-2020.2-256\n",
      "  mkl-service        pkgs/main/linux-64::mkl-service-2.3.0-py38he904b0f_0\n",
      "  mkl_fft            pkgs/main/linux-64::mkl_fft-1.2.0-py38h23d657b_0\n",
      "  mkl_random         pkgs/main/linux-64::mkl_random-1.1.1-py38h0573a6f_0\n",
      "  numpy              pkgs/main/linux-64::numpy-1.19.2-py38h54aff64_0\n",
      "  numpy-base         pkgs/main/linux-64::numpy-base-1.19.2-py38hfa32c7d_0\n",
      "\n",
      "\n",
      "\n",
      "Downloading and Extracting Packages\n",
      "blas-1.0             | 6 KB      | #################################### | 100% \n",
      "mkl_random-1.1.1     | 341 KB    | #################################### | 100% \n",
      "numpy-1.19.2         | 22 KB     | #################################### | 100% \n",
      "mkl-service-2.3.0    | 62 KB     | #################################### | 100% \n",
      "mkl_fft-1.2.0        | 157 KB    | #################################### | 100% \n",
      "mkl-2020.2           | 138.3 MB  | #################################### | 100% \n",
      "intel-openmp-2020.2  | 786 KB    | #################################### | 100% \n",
      "numpy-base-1.19.2    | 4.2 MB    | #################################### | 100% \n",
      "Preparing transaction: ...working... done\n",
      "Verifying transaction: ...working... done\n",
      "Executing transaction: ...working... done\n"
     ]
    }
   ],
   "cell_type": "code",
   "source": [
    "# Conda.add(\"numpy\")"
   ],
   "metadata": {},
   "execution_count": 30
  },
  {
   "outputs": [
    {
     "output_type": "execute_result",
     "data": {
      "text/plain": [
       "BenchmarkTools.Trial: \n",
       "  memory estimate:  336 bytes\n",
       "  allocs estimate:  6\n",
       "  --------------\n",
       "  minimum time:     4.014 ms (0.00% GC)\n",
       "  median time:      4.571 ms (0.00% GC)\n",
       "  mean time:        4.927 ms (0.00% GC)\n",
       "  maximum time:     8.697 ms (0.00% GC)\n",
       "  --------------\n",
       "  samples:          1015\n",
       "  evals/sample:     1"
      ]
     },
     "metadata": {},
     "execution_count": 31
    }
   ],
   "cell_type": "code",
   "source": [
    "numpy_sum = pyimport(\"numpy\")[\"sum\"]\n",
    "\n",
    "py_numpy_bench = @benchmark $numpy_sum($a)"
   ],
   "metadata": {},
   "execution_count": 31
  },
  {
   "outputs": [
    {
     "output_type": "execute_result",
     "data": {
      "text/plain": [
       "5.000528563285109e6"
      ]
     },
     "metadata": {},
     "execution_count": 32
    }
   ],
   "cell_type": "code",
   "source": [
    "numpy_sum(a)"
   ],
   "metadata": {},
   "execution_count": 32
  },
  {
   "outputs": [
    {
     "output_type": "execute_result",
     "data": {
      "text/plain": [
       "true"
      ]
     },
     "metadata": {},
     "execution_count": 33
    }
   ],
   "cell_type": "code",
   "source": [
    "numpy_sum(a) ≈ sum(a)"
   ],
   "metadata": {},
   "execution_count": 33
  },
  {
   "outputs": [
    {
     "output_type": "execute_result",
     "data": {
      "text/plain": [
       "Dict{Any,Any} with 4 entries:\n",
       "  \"C\"               => 10.5293\n",
       "  \"Python numpy\"    => 4.01366\n",
       "  \"Python built-in\" => 1364.82\n",
       "  \"C -ffast-math\"   => 5.7566"
      ]
     },
     "metadata": {},
     "execution_count": 34
    }
   ],
   "cell_type": "code",
   "source": [
    "d[\"Python numpy\"] = minimum(py_numpy_bench.times) / 1e6\n",
    "d"
   ],
   "metadata": {},
   "execution_count": 34
  },
  {
   "cell_type": "markdown",
   "source": [
    "# 5. Python, hand-written"
   ],
   "metadata": {}
  },
  {
   "outputs": [
    {
     "output_type": "execute_result",
     "data": {
      "text/plain": [
       "PyObject <function py_sum at 0x7f7b1744f9e0>"
      ]
     },
     "metadata": {},
     "execution_count": 35
    }
   ],
   "cell_type": "code",
   "source": [
    "py\"\"\"\n",
    "def py_sum(A):\n",
    "    s = 0.0\n",
    "    for a in A:\n",
    "        s += a\n",
    "    return s\n",
    "\"\"\"\n",
    "\n",
    "sum_py = py\"py_sum\""
   ],
   "metadata": {},
   "execution_count": 35
  },
  {
   "outputs": [
    {
     "output_type": "execute_result",
     "data": {
      "text/plain": [
       "BenchmarkTools.Trial: \n",
       "  memory estimate:  336 bytes\n",
       "  allocs estimate:  6\n",
       "  --------------\n",
       "  minimum time:     1.685 s (0.00% GC)\n",
       "  median time:      1.742 s (0.00% GC)\n",
       "  mean time:        1.737 s (0.00% GC)\n",
       "  maximum time:     1.785 s (0.00% GC)\n",
       "  --------------\n",
       "  samples:          3\n",
       "  evals/sample:     1"
      ]
     },
     "metadata": {},
     "execution_count": 36
    }
   ],
   "cell_type": "code",
   "source": [
    "py_hand = @benchmark $sum_py($a)"
   ],
   "metadata": {},
   "execution_count": 36
  },
  {
   "outputs": [
    {
     "output_type": "execute_result",
     "data": {
      "text/plain": [
       "5.000528563285782e6"
      ]
     },
     "metadata": {},
     "execution_count": 37
    }
   ],
   "cell_type": "code",
   "source": [
    "sum_py(a)"
   ],
   "metadata": {},
   "execution_count": 37
  },
  {
   "outputs": [
    {
     "output_type": "execute_result",
     "data": {
      "text/plain": [
       "true"
      ]
     },
     "metadata": {},
     "execution_count": 38
    }
   ],
   "cell_type": "code",
   "source": [
    "sum_py(a) ≈ sum(a)"
   ],
   "metadata": {},
   "execution_count": 38
  },
  {
   "outputs": [
    {
     "output_type": "execute_result",
     "data": {
      "text/plain": [
       "Dict{Any,Any} with 5 entries:\n",
       "  \"C\"                   => 10.5293\n",
       "  \"Python numpy\"        => 4.01366\n",
       "  \"Python hand-written\" => 1685.23\n",
       "  \"Python built-in\"     => 1364.82\n",
       "  \"C -ffast-math\"       => 5.7566"
      ]
     },
     "metadata": {},
     "execution_count": 39
    }
   ],
   "cell_type": "code",
   "source": [
    "d[\"Python hand-written\"] = minimum(py_hand.times) / 1e6\n",
    "d"
   ],
   "metadata": {},
   "execution_count": 39
  },
  {
   "cell_type": "markdown",
   "source": [
    "# 6. Julia (built-in)\n",
    "\n",
    "## Written directly in Julia, not in C!"
   ],
   "metadata": {}
  },
  {
   "outputs": [
    {
     "output_type": "execute_result",
     "data": {
      "text/plain": [
       "sum(a::AbstractArray; dims) in Base at reducedim.jl:722"
      ],
      "text/html": "sum(a::<b>AbstractArray</b>; <i>dims</i>) in Base at <a href=\"https://github.com/JuliaLang/julia/tree/539f3ce943f59dec8aff3f2238b083f1b27f41e5/base/reducedim.jl#L722\" target=\"_blank\">reducedim.jl:722</a>"
     },
     "metadata": {},
     "execution_count": 40
    }
   ],
   "cell_type": "code",
   "source": [
    "@which sum(a)"
   ],
   "metadata": {},
   "execution_count": 40
  },
  {
   "outputs": [
    {
     "output_type": "execute_result",
     "data": {
      "text/plain": [
       "BenchmarkTools.Trial: \n",
       "  memory estimate:  0 bytes\n",
       "  allocs estimate:  0\n",
       "  --------------\n",
       "  minimum time:     3.517 ms (0.00% GC)\n",
       "  median time:      4.177 ms (0.00% GC)\n",
       "  mean time:        4.395 ms (0.00% GC)\n",
       "  maximum time:     7.521 ms (0.00% GC)\n",
       "  --------------\n",
       "  samples:          1138\n",
       "  evals/sample:     1"
      ]
     },
     "metadata": {},
     "execution_count": 41
    }
   ],
   "cell_type": "code",
   "source": [
    "j_bench = @benchmark sum($a)"
   ],
   "metadata": {},
   "execution_count": 41
  },
  {
   "outputs": [
    {
     "output_type": "execute_result",
     "data": {
      "text/plain": [
       "Dict{Any,Any} with 6 entries:\n",
       "  \"C\"                   => 10.5293\n",
       "  \"Python numpy\"        => 4.01366\n",
       "  \"Python hand-written\" => 1685.23\n",
       "  \"Python built-in\"     => 1364.82\n",
       "  \"Julia built-in\"      => 3.51654\n",
       "  \"C -ffast-math\"       => 5.7566"
      ]
     },
     "metadata": {},
     "execution_count": 42
    }
   ],
   "cell_type": "code",
   "source": [
    "d[\"Julia built-in\"] = minimum(j_bench.times) / 1e6\n",
    "d"
   ],
   "metadata": {},
   "execution_count": 42
  },
  {
   "cell_type": "markdown",
   "source": [
    "# 7. Julia (hand-written)"
   ],
   "metadata": {}
  },
  {
   "outputs": [
    {
     "output_type": "execute_result",
     "data": {
      "text/plain": [
       "mysum (generic function with 1 method)"
      ]
     },
     "metadata": {},
     "execution_count": 43
    }
   ],
   "cell_type": "code",
   "source": [
    "function mysum(A)\n",
    "    s = 0.0 # s = zero(eltype(a))\n",
    "    for a in A\n",
    "        s += a\n",
    "    end\n",
    "    s\n",
    "end"
   ],
   "metadata": {},
   "execution_count": 43
  },
  {
   "outputs": [
    {
     "output_type": "execute_result",
     "data": {
      "text/plain": [
       "BenchmarkTools.Trial: \n",
       "  memory estimate:  0 bytes\n",
       "  allocs estimate:  0\n",
       "  --------------\n",
       "  minimum time:     10.861 ms (0.00% GC)\n",
       "  median time:      12.240 ms (0.00% GC)\n",
       "  mean time:        12.293 ms (0.00% GC)\n",
       "  maximum time:     19.050 ms (0.00% GC)\n",
       "  --------------\n",
       "  samples:          407\n",
       "  evals/sample:     1"
      ]
     },
     "metadata": {},
     "execution_count": 44
    }
   ],
   "cell_type": "code",
   "source": [
    "j_bench_hand = @benchmark mysum($a)"
   ],
   "metadata": {},
   "execution_count": 44
  },
  {
   "outputs": [
    {
     "output_type": "execute_result",
     "data": {
      "text/plain": [
       "Dict{Any,Any} with 7 entries:\n",
       "  \"C\"                   => 10.5293\n",
       "  \"Python numpy\"        => 4.01366\n",
       "  \"Julia hand-written\"  => 10.861\n",
       "  \"Python hand-written\" => 1685.23\n",
       "  \"Python built-in\"     => 1364.82\n",
       "  \"Julia built-in\"      => 3.51654\n",
       "  \"C -ffast-math\"       => 5.7566"
      ]
     },
     "metadata": {},
     "execution_count": 45
    }
   ],
   "cell_type": "code",
   "source": [
    "d[\"Julia hand-written\"] = minimum(j_bench_hand.times) / 1e6\n",
    "d"
   ],
   "metadata": {},
   "execution_count": 45
  },
  {
   "cell_type": "markdown",
   "source": [
    "# 8. Julia (hand-written w. simd)"
   ],
   "metadata": {}
  },
  {
   "outputs": [
    {
     "output_type": "execute_result",
     "data": {
      "text/plain": [
       "mysum_simd (generic function with 1 method)"
      ]
     },
     "metadata": {},
     "execution_count": 46
    }
   ],
   "cell_type": "code",
   "source": [
    "function mysum_simd(A)\n",
    "    s = 0.0 # s = zero(eltype(A))\n",
    "    @simd for a in A\n",
    "        s += a\n",
    "    end\n",
    "    s\n",
    "end"
   ],
   "metadata": {},
   "execution_count": 46
  },
  {
   "outputs": [
    {
     "output_type": "execute_result",
     "data": {
      "text/plain": [
       "BenchmarkTools.Trial: \n",
       "  memory estimate:  0 bytes\n",
       "  allocs estimate:  0\n",
       "  --------------\n",
       "  minimum time:     3.479 ms (0.00% GC)\n",
       "  median time:      4.134 ms (0.00% GC)\n",
       "  mean time:        4.295 ms (0.00% GC)\n",
       "  maximum time:     7.363 ms (0.00% GC)\n",
       "  --------------\n",
       "  samples:          1164\n",
       "  evals/sample:     1"
      ]
     },
     "metadata": {},
     "execution_count": 47
    }
   ],
   "cell_type": "code",
   "source": [
    "j_bench_hand_simd = @benchmark mysum_simd($a)"
   ],
   "metadata": {},
   "execution_count": 47
  },
  {
   "outputs": [
    {
     "output_type": "execute_result",
     "data": {
      "text/plain": [
       "5.000528563285159e6"
      ]
     },
     "metadata": {},
     "execution_count": 48
    }
   ],
   "cell_type": "code",
   "source": [
    "mysum_simd(a)"
   ],
   "metadata": {},
   "execution_count": 48
  },
  {
   "outputs": [
    {
     "output_type": "execute_result",
     "data": {
      "text/plain": [
       "Dict{Any,Any} with 8 entries:\n",
       "  \"Julia hand-written simd\" => 3.47905\n",
       "  \"C\"                       => 10.5293\n",
       "  \"Python numpy\"            => 4.01366\n",
       "  \"Julia hand-written\"      => 10.861\n",
       "  \"Python hand-written\"     => 1685.23\n",
       "  \"Python built-in\"         => 1364.82\n",
       "  \"Julia built-in\"          => 3.51654\n",
       "  \"C -ffast-math\"           => 5.7566"
      ]
     },
     "metadata": {},
     "execution_count": 49
    }
   ],
   "cell_type": "code",
   "source": [
    "d[\"Julia hand-written simd\"] = minimum(j_bench_hand_simd.times) / 1e6\n",
    "d"
   ],
   "metadata": {},
   "execution_count": 49
  },
  {
   "cell_type": "markdown",
   "source": [
    "# Summary"
   ],
   "metadata": {}
  },
  {
   "outputs": [
    {
     "output_type": "stream",
     "name": "stdout",
     "text": [
      "Julia hand-written simd.....3.5\nJulia built-in..............3.5\nPython numpy................4.0\nC -ffast-math...............5.8\nC..........................10.5\nJulia hand-written.........10.9\nPython built-in..........1364.8\nPython hand-written......1685.2\n"
     ]
    }
   ],
   "cell_type": "code",
   "source": [
    "for (key, value) in sort(collect(d), by=last)\n",
    "    println(rpad(key, 25, \".\"), lpad(round(value; digits=1), 6, \".\"))\n",
    "end"
   ],
   "metadata": {},
   "execution_count": 50
  }
 ],
 "nbformat_minor": 3,
 "metadata": {
  "language_info": {
   "file_extension": ".jl",
   "mimetype": "application/julia",
   "name": "julia",
   "version": "1.0.3"
  },
  "kernelspec": {
   "name": "julia-1.5",
   "display_name": "Julia 1.5.2",
   "language": "julia"
  }
 },
 "nbformat": 4
}